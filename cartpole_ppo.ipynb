{
 "cells": [
  {
   "cell_type": "code",
   "execution_count": null,
   "metadata": {},
   "outputs": [],
   "source": [
    "!pip install matplotlib\n",
    "!pip install pyglet==1.2.4"
   ]
  },
  {
   "attachments": {},
   "cell_type": "markdown",
   "metadata": {},
   "source": [
    "## outline & summary\n",
    "\n",
    "当谈到PPO（Proximal Policy Optimization）算法时，有几个不同的公式描述。下面是其中一种常见的形式：\n",
    "\n",
    "首先，我们定义一些符号：\n",
    "\n",
    "- $\\theta$ 表示策略函数的参数。\n",
    "- $s$ 表示环境的状态。\n",
    "- $a$ 表示在状态 $s$ 下采取的动作。\n",
    "- $r$ 表示从环境中获得的奖励。\n",
    "- $s'$ 表示转移到的下一个状态。\n",
    "- $A(s, a)$ 表示状态动作对 $(s, a)$ 的优势估计。\n",
    "\n",
    "PPO算法的目标是最大化一个被称为“修剪的目标函数”的表达式。修剪的目标函数的公式如下：\n",
    "\n",
    "$$\n",
    "L^{CLIP}(\\theta) = \\hat{\\mathbb{E}}_t\\left[\\min\\left(\\frac{\\pi_\\theta(a_t|s_t)}{\\pi_{\\theta_{\\text{old}}}(a_t|s_t)} A(s_t, a_t), \\text{clip}\\left(\\frac{\\pi_\\theta(a_t|s_t)}{\\pi_{\\theta_{\\text{old}}}(a_t|s_t)}, 1 - \\epsilon, 1 + \\epsilon\\right) A(s_t, a_t)\\right)\\right]\n",
    "$$\n",
    "\n",
    "其中 $\\pi_\\theta(a_t|s_t)$ 表示在参数为 $\\theta$ 的策略下，在状态 $s_t$ 时选择动作 $a_t$ 的概率。$\\pi_{\\theta_{\\text{old}}}(a_t|s_t)$ 表示旧的策略在相同的状态 $s_t$ 时选择动作 $a_t$ 的概率。$\\epsilon$ 是一个超参数，用于控制修剪的程度。\n",
    "\n",
    "在每次更新步骤中，我们使用梯度上升方法来优化目标函数。具体而言，我们最小化负的修剪的目标函数，如下所示：\n",
    "\n",
    "$$\n",
    "\\theta_{\\text{new}} = \\arg\\min_\\theta -L^{CLIP}(\\theta)\n",
    "$$\n",
    "\n",
    "\n",
    "在实际的算法中，通常还会使用价值函数的近似和一些正则化项，以增强算法的稳定性和收敛性。此外，PPO算法还使用多个采样轨迹进行训练，并在每次更新步骤中重复执行这些轨迹。\n",
    "\n",
    "需要注意的是，这只是PPO算法的一个公式表示，并不包括所有的细节和实现的变体。在实际应用中，可能会使用其他改进和调整来适应具体问题的需求。"
   ]
  },
  {
   "attachments": {},
   "cell_type": "markdown",
   "metadata": {},
   "source": [
    "## 2 policy network"
   ]
  },
  {
   "cell_type": "code",
   "execution_count": 119,
   "metadata": {},
   "outputs": [],
   "source": [
    "import torch\n",
    "from torch import nn\n",
    "from torch import optim\n",
    "from torch import autograd\n",
    "import torch.nn.functional as F\n",
    "import numpy as np\n",
    "from torch.distributions import Categorical\n",
    "\n"
   ]
  },
  {
   "cell_type": "code",
   "execution_count": 120,
   "metadata": {},
   "outputs": [],
   "source": [
    "class PolicyNetwork(nn.Module):\n",
    "    def __init__(self, num_states, num_actions, hidden_size, learning_rate=3e-4):\n",
    "        # super(PolicyNetwork, self).__init__()\n",
    "        # self.num_actions = num_actions\n",
    "        # self.fc1 = nn.Linear(num_states, hidden_size)\n",
    "        # self.fc2 = nn.Linear(hidden_size, hidden_size)\n",
    "        # self.fc_pi = nn.Linear(hidden_size, num_actions)\n",
    "        # self.fc_v = nn.Linear(hidden_size, 1)\n",
    "        super(PolicyNetwork, self).__init__()\n",
    "        self.data = []\n",
    "\n",
    "        self.fc1 = nn.Linear(num_states, hidden_size)\n",
    "        self.fc_pi = nn.Linear(hidden_size, num_actions)\n",
    "        self.fc_v = nn.Linear(hidden_size, 1)\n",
    "        self.optimizer = optim.Adam(self.parameters(), lr=learning_rate)\n",
    "\n",
    "    def pi(self, x, softmax_dim=0):\n",
    "        x = F.relu(self.fc1(x))\n",
    "        x = self.fc_pi(x)\n",
    "        prob = F.softmax(x, dim=softmax_dim)\n",
    "        return prob\n",
    "    \n",
    "    def v(self, x):\n",
    "        x = F.relu(self.fc1(x))\n",
    "        v = self.fc_v(x)\n",
    "        return v\n"
   ]
  },
  {
   "attachments": {},
   "cell_type": "markdown",
   "metadata": {},
   "source": [
    "## 3. update policy\n",
    "\n",
    "- $L^{CLIP}(\\theta) = \\hat{\\mathbb{E}}_t\\left[\\min\\left(\\frac{\\pi_\\theta(a_t|s_t)}{\\pi_{\\theta_{\\text{old}}}(a_t|s_t)} A(s_t, a_t), \\text{clip}\\left(\\frac{\\pi_\\theta(a_t|s_t)}{\\pi_{\\theta_{\\text{old}}}(a_t|s_t)}, 1 - \\epsilon, 1 + \\epsilon\\right) A(s_t, a_t)\\right)\\right]$\n",
    "- new_log_probs= $\\pi_\\theta\\left(a_t|s_t\\right) $\n",
    "- ratio = $\\frac{\\pi_\\theta\\left(a_t|s_t\\right)}{\\pi_{\\theta_{old}}\\left(a_t|s_t\\right)} $\n",
    "- cliped_ratio = $\\text{clip}\\left(\\frac{\\pi_\\theta(a_t|s_t)}{\\pi_{\\theta_{old}}(a_t|s_t)},1-\\epsilon,1+\\epsilon\\right)$"
   ]
  },
  {
   "cell_type": "code",
   "execution_count": 167,
   "metadata": {},
   "outputs": [],
   "source": [
    "from torch.distributions import Categorical\n",
    "\n",
    "epsilon = 0.1\n",
    "ppo_epochs = 3\n",
    "value_loss_coeff = 0.5  # 值函数损失系数\n",
    "entropy_coeff = 0.01  # 策略熵惩罚系数\n",
    "GAMMA = 0.98  # 折扣因子\n",
    "lmbda = 0.95  # GAE参数\n",
    "\n",
    "\n",
    "\n",
    "def update_ppo(policy_network, optimizer, states, actions, rewards, next_states, log_probs, done):\n",
    "    # for i in range(ppo_epochs):\n",
    "    #     td_target = rewards + GAMMA * policy_network.v(next_states) * done\n",
    "    #     delta = td_target - policy_network.v(states)\n",
    "    #     delta = delta.detach().numpy()\n",
    "\n",
    "    #     advantage_lst = []\n",
    "    #     advantage = 0.0\n",
    "    #     for delta_t in delta[::-1]:\n",
    "    #         advantage = GAMMA * lmbda * advantage + delta_t[0]\n",
    "    #         advantage_lst.append([advantage])\n",
    "    #     advantage_lst.reverse()\n",
    "    #     advantage = torch.tensor(advantage_lst, dtype=torch.float)\n",
    "\n",
    "    #     pi = policy_network.pi(states, softmax_dim=1)\n",
    "    #     pi_a = pi.gather(1, actions)\n",
    "    #     ratio = torch.exp(torch.log(pi_a) - torch.log(log_probs))\n",
    "\n",
    "    #     surr1 = ratio * advantage\n",
    "    #     surr2 = torch.clamp(ratio, 1-epsilon, 1+epsilon) * advantage\n",
    "    #     loss = -torch.min(surr1, surr2) + \\\n",
    "    #         F.smooth_l1_loss(policy_network.v(states), td_target.detach())\n",
    "\n",
    "    #     optimizer.zero_grad()\n",
    "    #     loss.mean().backward()\n",
    "    #     optimizer.step()\n",
    "    for i in range(ppo_epochs):\n",
    "        # (1,2)\n",
    "        td_target = rewards + GAMMA * policy_network.v(next_states) * done\n",
    "        delta = td_target - policy_network.v(states)\n",
    "        delta = delta.detach().numpy()\n",
    "\n",
    "        advantages = []\n",
    "        advantage = 0.0\n",
    "        for delta_t in delta[::-1]:\n",
    "            advantage = GAMMA * lmbda * advantage + delta_t[0]\n",
    "            advantages.append([advantage])\n",
    "        advantages.reverse()\n",
    "        advantages_tensor = torch.tensor(advantages).float()\n",
    "\n",
    "        pi = policy_network.pi(states, softmax_dim=1)\n",
    "        pi_a = pi.gather(1, actions)\n",
    "\n",
    "        # 计算策略熵的惩罚项\n",
    "        entropy = Categorical(pi).entropy().mean()\n",
    "\n",
    "\n",
    "        # ratio = $\\frac{\\pi_\\theta(a_t|s_t)}{\\pi_{\\theta_{old}}(a_t|s_t)}$\n",
    "        ratios = torch.exp(torch.log(pi_a)-torch.log(log_probs))\n",
    "        cliped_ratios = torch.clamp(ratios, 1-epsilon, 1+epsilon)\n",
    "\n",
    "        # surrogate loss\n",
    "        surrogate_loss = - \\\n",
    "            torch.min(ratios*advantages_tensor,\n",
    "                      cliped_ratios*advantages_tensor).mean()\n",
    "        # value loss\n",
    "        # (1,1) -> (1,1)\n",
    "        value_loss = F.smooth_l1_loss(policy_network.v(states), td_target.detach())\n",
    "\n",
    "        # total loss\n",
    "        loss = (surrogate_loss + value_loss_coeff*value_loss)\n",
    "\n",
    "        # update\n",
    "        optimizer.zero_grad()\n",
    "        loss.backward()\n",
    "        optimizer.step()"
   ]
  },
  {
   "attachments": {},
   "cell_type": "markdown",
   "metadata": {},
   "source": [
    "## 4. 创建环境"
   ]
  },
  {
   "cell_type": "code",
   "execution_count": 164,
   "metadata": {},
   "outputs": [
    {
     "name": "stderr",
     "output_type": "stream",
     "text": [
      "/Users/tangyun/opt/miniconda3/envs/rl/lib/python3.10/site-packages/gym/envs/registration.py:555: UserWarning: \u001b[33mWARN: The environment CartPole-v0 is out of date. You should consider upgrading to version `v1`.\u001b[0m\n",
      "  logger.warn(\n"
     ]
    },
    {
     "data": {
      "text/plain": [
       "4"
      ]
     },
     "execution_count": 164,
     "metadata": {},
     "output_type": "execute_result"
    }
   ],
   "source": [
    "import gym\n",
    "env = gym.make('CartPole-v0')\n",
    "env.observation_space,env.action_space\n",
    "env.observation_space.shape[0]"
   ]
  },
  {
   "cell_type": "code",
   "execution_count": 165,
   "metadata": {},
   "outputs": [],
   "source": [
    "def make_batch(data):\n",
    "    s_lst, a_lst, r_lst, s_prime_lst, prob_a_lst, done_lst = [], [], [], [], [], []\n",
    "    for transition in data:\n",
    "        s, a, r, s_prime, prob_a, done = transition\n",
    "\n",
    "        s_lst.append(s)\n",
    "        a_lst.append([a])\n",
    "        r_lst.append([r])\n",
    "        s_prime_lst.append(s_prime)\n",
    "        prob_a_lst.append([prob_a])\n",
    "        done_mask = 0 if done else 1\n",
    "        done_lst.append([done_mask])\n",
    "\n",
    "    s, a, r, s_prime, prob_a, done_mask = torch.tensor(s_lst, dtype=torch.float), torch.tensor(a_lst), \\\n",
    "        torch.tensor(r_lst), torch.tensor(s_prime_lst, dtype=torch.float), \\\n",
    "        torch.tensor(prob_a_lst, dtype=torch.float), torch.tensor(\n",
    "            done_lst, dtype=torch.float)\n",
    "    return s, a, r, s_prime, prob_a, done_mask"
   ]
  },
  {
   "cell_type": "code",
   "execution_count": 168,
   "metadata": {},
   "outputs": [
    {
     "name": "stdout",
     "output_type": "stream",
     "text": [
      "episode: 0, total reward: 19.0, average_reward: 19.0, length: 19\n",
      "episode: 40, total reward: 19.0, average_reward: 17.48780487804878, length: 19\n",
      "episode: 80, total reward: 12.0, average_reward: 17.679012345679013, length: 12\n",
      "episode: 120, total reward: 10.0, average_reward: 17.710743801652892, length: 10\n",
      "episode: 160, total reward: 45.0, average_reward: 22.53416149068323, length: 45\n",
      "episode: 200, total reward: 104.0, average_reward: 32.86069651741293, length: 104\n",
      "episode: 240, total reward: 27.0, average_reward: 42.83817427385892, length: 27\n",
      "episode: 280, total reward: 169.0, average_reward: 57.0355871886121, length: 169\n",
      "episode: 320, total reward: 80.0, average_reward: 81.18068535825545, length: 80\n",
      "episode: 360, total reward: 492.0, average_reward: 101.22714681440443, length: 492\n",
      "episode: 400, total reward: 401.0, average_reward: 108.38154613466334, length: 401\n",
      "episode: 440, total reward: 165.0, average_reward: 231.14512471655328, length: 165\n",
      "episode: 480, total reward: 122.0, average_reward: 232.12474012474013, length: 122\n",
      "episode: 520, total reward: 209.0, average_reward: 229.98080614203454, length: 209\n",
      "episode: 560, total reward: 32.0, average_reward: 221.41532976827094, length: 32\n",
      "episode: 600, total reward: 300.0, average_reward: 228.6539101497504, length: 300\n",
      "episode: 640, total reward: 106.0, average_reward: 230.41965678627145, length: 106\n",
      "episode: 680, total reward: 162.0, average_reward: 224.96182085168869, length: 162\n",
      "episode: 720, total reward: 147.0, average_reward: 219.9889042995839, length: 147\n",
      "episode: 760, total reward: 123.0, average_reward: 215.23521681997372, length: 123\n",
      "episode: 800, total reward: 193.0, average_reward: 210.28339575530586, length: 193\n",
      "episode: 840, total reward: 126.0, average_reward: 210.00951248513675, length: 126\n",
      "episode: 880, total reward: 127.0, average_reward: 206.6912599318956, length: 127\n",
      "episode: 920, total reward: 169.0, average_reward: 204.11292073832792, length: 169\n",
      "episode: 960, total reward: 306.0, average_reward: 204.6420395421436, length: 306\n",
      "episode: 1000, total reward: 408.0, average_reward: 207.63936063936063, length: 408\n",
      "episode: 1040, total reward: 178.0, average_reward: 212.0566762728146, length: 178\n",
      "episode: 1080, total reward: 136.0, average_reward: 210.17021276595744, length: 136\n",
      "episode: 1120, total reward: 147.0, average_reward: 207.04103479036576, length: 147\n",
      "episode: 1160, total reward: 133.0, average_reward: 210.85615848406547, length: 133\n",
      "episode: 1200, total reward: 140.0, average_reward: 212.72189841798502, length: 140\n",
      "episode: 1240, total reward: 156.0, average_reward: 211.90491539081387, length: 156\n",
      "episode: 1280, total reward: 123.0, average_reward: 209.71194379391102, length: 123\n",
      "episode: 1320, total reward: 137.0, average_reward: 207.4557153671461, length: 137\n",
      "episode: 1360, total reward: 151.0, average_reward: 204.78692138133727, length: 151\n",
      "episode: 1400, total reward: 218.0, average_reward: 203.05638829407567, length: 218\n",
      "episode: 1440, total reward: 130.0, average_reward: 203.35947258848023, length: 130\n",
      "episode: 1480, total reward: 147.0, average_reward: 202.8960162052667, length: 147\n",
      "episode: 1520, total reward: 223.0, average_reward: 201.3714661406969, length: 223\n",
      "episode: 1560, total reward: 287.0, average_reward: 202.32030749519538, length: 287\n",
      "episode: 1600, total reward: 365.0, average_reward: 203.94316052467207, length: 365\n",
      "episode: 1640, total reward: 160.0, average_reward: 207.36745886654478, length: 160\n",
      "episode: 1680, total reward: 288.0, average_reward: 209.31766805472932, length: 288\n",
      "episode: 1720, total reward: 370.0, average_reward: 210.5072632190587, length: 370\n",
      "episode: 1760, total reward: 170.0, average_reward: 215.6961953435548, length: 170\n",
      "episode: 1800, total reward: 144.0, average_reward: 216.635202665186, length: 144\n",
      "episode: 1840, total reward: 129.0, average_reward: 214.86854970124932, length: 129\n",
      "episode: 1880, total reward: 215.0, average_reward: 213.53269537480062, length: 215\n",
      "episode: 1920, total reward: 160.0, average_reward: 212.7084851639771, length: 160\n",
      "episode: 1960, total reward: 531.0, average_reward: 212.3110657827639, length: 531\n"
     ]
    }
   ],
   "source": [
    "policy_network = PolicyNetwork(\n",
    "    env.observation_space.shape[0], env.action_space.n, 128)\n",
    "optimizer = optim.Adam(policy_network.parameters(), lr=0.0005)\n",
    "\n",
    "max_episode_num = 2000\n",
    "max_steps = 500\n",
    "train_batch = 50\n",
    "\n",
    "num_steps = []\n",
    "avg_num_steps = []\n",
    "all_rewards = []\n",
    "\n",
    "for episode in range(max_episode_num):\n",
    "    state, _ = env.reset()\n",
    "    done = False\n",
    "    step = 0\n",
    "    rewards = []\n",
    "    while not done:\n",
    "        data = []\n",
    "        for batch in range(train_batch):\n",
    "            step += 1\n",
    "            # for step in range(max_steps):\n",
    "            prob = policy_network.pi(torch.from_numpy(state).float())\n",
    "            m = Categorical(prob)\n",
    "            a = m.sample().item()\n",
    "            # log_prob = policy_network.pi(torch.from_numpy(state).float())\n",
    "            # action = Categorical(log_prob).sample().item()\n",
    "            next_state, reward, done, _, _ = env.step(a)\n",
    "\n",
    "            # print(prob.shape, prob, a,prob[a].item())\n",
    "\n",
    "            # 收集样本\n",
    "            rewards.append(reward)\n",
    "            data.append((state, a, reward, next_state, prob[a].item(), done))\n",
    "            state = next_state\n",
    "            if done:\n",
    "                break\n",
    "\n",
    "        # train\n",
    "        update_ppo(policy_network, optimizer, *make_batch(data))\n",
    "\n",
    "    num_steps.append(step)\n",
    "    avg_num_steps.append(np.mean(num_steps[:]))\n",
    "    total_reward = np.sum(rewards)\n",
    "    all_rewards.append(total_reward)\n",
    "    if episode % 40 == 0:\n",
    "        print(\n",
    "            f'episode: {episode}, total reward: {total_reward}, average_reward: {np.mean(all_rewards)}, length: {step}')"
   ]
  },
  {
   "cell_type": "code",
   "execution_count": 169,
   "metadata": {},
   "outputs": [
    {
     "data": {
      "image/png": "[encoded data removed]",
      "text/plain": [
       "<Figure size 640x480 with 1 Axes>"
      ]
     },
     "metadata": {},
     "output_type": "display_data"
    }
   ],
   "source": [
    "from matplotlib import pyplot as plt\n",
    "\n",
    "plt.plot(num_steps)\n",
    "plt.plot(avg_num_steps)\n",
    "plt.xlabel('Episode')\n",
    "plt.show()"
   ]
  },
  {
   "cell_type": "code",
   "execution_count": null,
   "metadata": {},
   "outputs": [],
   "source": [
    "import matplotlib.pyplot as plt\n",
    "from matplotlib import animation\n",
    "from IPython.display import HTML\n",
    "\n",
    "\n",
    "# def display_frames_to_video(frames, name):\n",
    "plt.figure(figsize=(frames[0].shape[0]/72, frames[0].shape[1]/72), dpi=72)\n",
    "patch = plt.imshow(frames[0])\n",
    "\n",
    "def animate(i):\n",
    "    patch.set_data(frames[i])\n",
    "anim = animation.FuncAnimation(\n",
    "    plt.gcf(), animate, frames=range(len(frames)), interval=50)\n",
    "anim.save(f\"xx.gif\")\n",
    "# HTML(anim.to_jshtml())\n",
    "\n",
    "# display_frames_to_video(frames=frames, name=\"xx\")"
   ]
  },
  {
   "attachments": {},
   "cell_type": "markdown",
   "metadata": {},
   "source": []
  },
  {
   "cell_type": "code",
   "execution_count": null,
   "metadata": {},
   "outputs": [],
   "source": []
  },
  {
   "cell_type": "code",
   "execution_count": null,
   "metadata": {},
   "outputs": [],
   "source": []
  },
  {
   "cell_type": "code",
   "execution_count": null,
   "metadata": {},
   "outputs": [],
   "source": []
  }
 ],
 "metadata": {
  "kernelspec": {
   "display_name": "rl",
   "language": "python",
   "name": "python3"
  },
  "language_info": {
   "codemirror_mode": {
    "name": "ipython",
    "version": 3
   },
   "file_extension": ".py",
   "mimetype": "text/x-python",
   "name": "python",
   "nbconvert_exporter": "python",
   "pygments_lexer": "ipython3",
   "version": "3.10.11"
  },
  "orig_nbformat": 4
 },
 "nbformat": 4,
 "nbformat_minor": 2
}
