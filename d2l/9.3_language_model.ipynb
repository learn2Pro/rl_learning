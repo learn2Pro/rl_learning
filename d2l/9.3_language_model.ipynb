{
 "cells": [
  {
   "cell_type": "code",
   "execution_count": 1,
   "metadata": {},
   "outputs": [],
   "source": [
    "import torch\n",
    "from torch import nn\n",
    "import collections,random,re"
   ]
  },
  {
   "cell_type": "code",
   "execution_count": 2,
   "metadata": {},
   "outputs": [],
   "source": [
    "class Vocab:\n",
    "    \"\"\"\n",
    "    Vocabulary for text.\n",
    "    \"\"\"\n",
    "\n",
    "    def __init__(self, tokens=[], min_freq=0, reserved_tokens=[]) -> None:\n",
    "        if tokens and isinstance(tokens[0], list):\n",
    "            tokens = [token for line in tokens for token in line]\n",
    "        counter = collections.Counter(tokens)\n",
    "        self.token_freqs = sorted(\n",
    "            counter.items(), key=lambda x: x[1], reverse=True)\n",
    "        self.idx_to_token = list(sorted(set(\n",
    "            ['<unk>']+reserved_tokens + [token for token, freq in self.token_freqs if freq >= min_freq])))\n",
    "        self.token_to_idx = {token: idx for idx,\n",
    "                             token in enumerate(self.idx_to_token)}\n",
    "\n",
    "    def __len__(self):\n",
    "        return len(self.idx_to_token)\n",
    "\n",
    "    def __getitem__(self, tokens):\n",
    "        if not isinstance(tokens, (list, tuple)):\n",
    "            return self.token_to_idx.get(tokens, self.unk)\n",
    "        return [self.__getitem__(token) for token in tokens]\n",
    "    \n",
    "    def to_tokens(self, indices):\n",
    "        if hasattr(indices,'__len__') and len(indices)>1:\n",
    "            return [self.idx_to_token[idx] for idx in indices]\n",
    "        return self.idx_to_token[indices]\n",
    "    \n",
    "    \n",
    "    @property\n",
    "    def unk(self):\n",
    "        return self.token_to_idx['<unk>']"
   ]
  },
  {
   "cell_type": "code",
   "execution_count": 12,
   "metadata": {},
   "outputs": [],
   "source": [
    "from d2l_common import DataModule\n",
    "\n",
    "\n",
    "class TimeMachine(DataModule):\n",
    "    def __init__(self, batch_size, num_steps, num_train=10000, num_val=5000, fname='timemachine.txt', root='../data'):\n",
    "        self.fname = fname\n",
    "        self.root = root\n",
    "        self.batch_size = batch_size\n",
    "        self.num_steps = num_steps\n",
    "        self.num_train = num_train\n",
    "        self.num_val = num_val\n",
    "        corups, vocab = self.build(self._download())\n",
    "        array = torch.tensor([corups[i:i+num_steps+1]\n",
    "                             for i in range(len(corups)-num_steps)])\n",
    "        self.array = array\n",
    "        self.X, self.Y = array[:, :-1], array[:, 1:]\n",
    "\n",
    "    def get_dataloader(self, train):\n",
    "        idx = slice(0, self.num_train) if train else slice(\n",
    "            self.num_train, self.num_train+self.num_val)\n",
    "        return self.get_tensorloader([self.X, self.Y], idx)\n",
    "\n",
    "    def _download(self):\n",
    "        with open(self.root+'/'+self.fname) as f:\n",
    "            return f.read()\n",
    "\n",
    "    def _preprocess(self, text):\n",
    "        return re.sub('[^A-Za-z]+', ' ', text).lower()\n",
    "\n",
    "    def _tokenize(self, text):\n",
    "        return list(text)\n",
    "\n",
    "    def build(self, raw_txt, vocab=None):\n",
    "        tokens = self._tokenize(self._preprocess(raw_txt))\n",
    "        if vocab is None:\n",
    "            vocab = Vocab(tokens)\n",
    "        corups = [vocab[token] for token in tokens]\n",
    "        return corups, vocab\n",
    "\n",
    "\n",
    "# data = TimeMachine('timemachine.txt')\n",
    "# raw_txt = data._download()\n",
    "# raw_txt[:60]"
   ]
  },
  {
   "cell_type": "code",
   "execution_count": 21,
   "metadata": {},
   "outputs": [
    {
     "name": "stdout",
     "output_type": "stream",
     "text": [
      "tensor([[ 0, 21,  9,  6,  0, 17, 19, 16, 11,  6,  4],\n",
      "        [21,  9,  6,  0, 17, 19, 16, 11,  6,  4, 21],\n",
      "        [ 9,  6,  0, 17, 19, 16, 11,  6,  4, 21,  0],\n",
      "        [ 6,  0, 17, 19, 16, 11,  6,  4, 21,  0,  8],\n",
      "        [ 0, 17, 19, 16, 11,  6,  4, 21,  0,  8, 22],\n",
      "        [17, 19, 16, 11,  6,  4, 21,  0,  8, 22, 21],\n",
      "        [19, 16, 11,  6,  4, 21,  0,  8, 22, 21,  6],\n",
      "        [16, 11,  6,  4, 21,  0,  8, 22, 21,  6, 15],\n",
      "        [11,  6,  4, 21,  0,  8, 22, 21,  6, 15,  3],\n",
      "        [ 6,  4, 21,  0,  8, 22, 21,  6, 15,  3,  6]])\n",
      "torch.Size([192747, 11])\n",
      "torch.Size([192747, 10])\n",
      "torch.Size([192747, 10])\n",
      "X: torch.Size([1, 10]) \n",
      "Y: torch.Size([1, 10])\n"
     ]
    }
   ],
   "source": [
    "data = TimeMachine(batch_size=2, num_steps=10)\n",
    "print(data.array[:10])\n",
    "print(data.array.shape)\n",
    "print(data.X.shape)\n",
    "print(data.Y.shape)\n",
    "for X, Y in data.train_dataloader():\n",
    "    print('X:', X.shape, '\\nY:', Y.shape)\n",
    "    break"
   ]
  },
  {
   "cell_type": "code",
   "execution_count": null,
   "metadata": {},
   "outputs": [],
   "source": []
  }
 ],
 "metadata": {
  "kernelspec": {
   "display_name": "rl",
   "language": "python",
   "name": "python3"
  },
  "language_info": {
   "codemirror_mode": {
    "name": "ipython",
    "version": 3
   },
   "file_extension": ".py",
   "mimetype": "text/x-python",
   "name": "python",
   "nbconvert_exporter": "python",
   "pygments_lexer": "ipython3",
   "version": "3.10.11"
  },
  "orig_nbformat": 4
 },
 "nbformat": 4,
 "nbformat_minor": 2
}
