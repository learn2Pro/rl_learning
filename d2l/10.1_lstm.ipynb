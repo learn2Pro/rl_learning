{
 "cells": [
  {
   "cell_type": "code",
   "execution_count": 1,
   "metadata": {},
   "outputs": [
    {
     "name": "stdout",
     "output_type": "stream",
     "text": [
      "True\n",
      "True\n"
     ]
    }
   ],
   "source": [
    "import torch\n",
    "import math\n",
    "\n",
    "print(torch.backends.mps.is_available()) #the MacOS is higher than 12.3+\n",
    "print(torch.backends.mps.is_built()) #MPS is activated"
   ]
  },
  {
   "cell_type": "code",
   "execution_count": 2,
   "metadata": {},
   "outputs": [
    {
     "data": {
      "text/plain": [
       "device(type='mps')"
      ]
     },
     "execution_count": 2,
     "metadata": {},
     "output_type": "execute_result"
    }
   ],
   "source": [
    "torch.device('mps')"
   ]
  },
  {
   "cell_type": "code",
   "execution_count": 3,
   "metadata": {},
   "outputs": [
    {
     "data": {
      "text/plain": [
       "tensor([1, 2, 3, 4, 5, 6, 7, 8, 9], device='mps:0')"
      ]
     },
     "execution_count": 3,
     "metadata": {},
     "output_type": "execute_result"
    }
   ],
   "source": [
    "# device = 'mps' if torch.cuda.is_available() else 'cpu'\n",
    "# device\n",
    "torch.arange(1,10, device='mps')"
   ]
  },
  {
   "cell_type": "code",
   "execution_count": 4,
   "metadata": {},
   "outputs": [],
   "source": [
    "from torch import nn"
   ]
  },
  {
   "cell_type": "code",
   "execution_count": 5,
   "metadata": {},
   "outputs": [],
   "source": [
    "from d2l_common import Module\n",
    "\n",
    "\n",
    "class LSTMScratch(Module):\n",
    "    def __init__(self, num_inputs, num_hiddens, sigma=0.01):\n",
    "        super().__init__()\n",
    "        self.num_inputs = num_inputs\n",
    "        self.num_hiddens = num_hiddens\n",
    "        self.sigma = sigma\n",
    "        init_weight = lambda *shape: nn.Parameter(torch.randn(*shape) * sigma)\n",
    "\n",
    "        def triple(): return (init_weight(num_inputs, num_hiddens), init_weight(\n",
    "            num_hiddens, num_hiddens), nn.Parameter(torch.zeros(num_hiddens)))\n",
    "\n",
    "        self.W_xi, self.W_hi, self.b_i = triple()  # input gate\n",
    "        self.W_xf, self.W_hf, self.b_f = triple()  # forget gate\n",
    "        self.W_xo, self.W_ho, self.b_o = triple()  # output gate\n",
    "        self.W_xc, self.W_hc, self.b_c = triple()  # Input gate\n",
    "\n",
    "    def forward(self, inputs, H_C=None):\n",
    "        if H_C is None:\n",
    "            # Initial state with shape: (batch_size, num_hiddens)\n",
    "            H = torch.zeros((inputs.shape[1], self.num_hiddens),device=inputs.device)\n",
    "            C = torch.zeros((inputs.shape[1], self.num_hiddens),device=inputs.device)\n",
    "        else:\n",
    "            H,C = H_C\n",
    "        outputs = []\n",
    "        for X in inputs:\n",
    "            I = torch.sigmoid(X@self.W_xi+H@self.W_hi+self.b_i)\n",
    "            F = torch.sigmoid(X@self.W_xf+H@self.W_hf+self.b_f)\n",
    "            O = torch.sigmoid(X@self.W_xo+H@self.W_ho+self.b_o)\n",
    "            C_tilde = torch.tanh(X@self.W_xc+H@self.W_hc+self.b_c)\n",
    "            C = F*C + I*C_tilde\n",
    "            H = O*torch.tanh(C)\n",
    "            outputs.append(H)\n",
    "        return outputs, (H, C)\n",
    "        \n"
   ]
  },
  {
   "cell_type": "code",
   "execution_count": 11,
   "metadata": {},
   "outputs": [
    {
     "name": "stdout",
     "output_type": "stream",
     "text": [
      "complete 0 epoch train_loss=3.96087908744812 validate_loss=3.960878849029541\n",
      "complete 1 epoch train_loss=3.960878849029541 validate_loss=3.960878849029541\n",
      "complete 2 epoch train_loss=3.960878849029541 validate_loss=3.960878610610962\n",
      "complete 3 epoch train_loss=3.960878610610962 validate_loss=3.960878610610962\n",
      "complete 4 epoch train_loss=3.960878610610962 validate_loss=3.960878610610962\n",
      "complete 5 epoch train_loss=3.960878610610962 validate_loss=3.960878372192383\n",
      "complete 6 epoch train_loss=3.960878372192383 validate_loss=3.9608781337738037\n",
      "complete 7 epoch train_loss=3.9608781337738037 validate_loss=3.9608781337738037\n",
      "complete 8 epoch train_loss=3.9608781337738037 validate_loss=3.9608781337738037\n",
      "complete 9 epoch train_loss=3.9608781337738037 validate_loss=3.9608778953552246\n",
      "complete 10 epoch train_loss=3.9608778953552246 validate_loss=3.9608778953552246\n",
      "complete 11 epoch train_loss=3.9608778953552246 validate_loss=3.9608776569366455\n",
      "complete 12 epoch train_loss=3.9608776569366455 validate_loss=3.960876941680908\n",
      "complete 13 epoch train_loss=3.960876941680908 validate_loss=3.960876941680908\n",
      "complete 14 epoch train_loss=3.960876941680908 validate_loss=3.960876941680908\n",
      "complete 15 epoch train_loss=3.960876941680908 validate_loss=3.960876941680908\n",
      "complete 16 epoch train_loss=3.960876941680908 validate_loss=3.96087646484375\n",
      "complete 17 epoch train_loss=3.96087646484375 validate_loss=3.96087646484375\n",
      "complete 18 epoch train_loss=3.96087646484375 validate_loss=3.96087646484375\n",
      "complete 19 epoch train_loss=3.96087646484375 validate_loss=3.96087646484375\n",
      "complete 20 epoch train_loss=3.96087646484375 validate_loss=3.960875988006592\n",
      "complete 21 epoch train_loss=3.960875988006592 validate_loss=3.960875988006592\n",
      "complete 22 epoch train_loss=3.960875988006592 validate_loss=3.960875988006592\n",
      "complete 23 epoch train_loss=3.960875988006592 validate_loss=3.9608752727508545\n",
      "complete 24 epoch train_loss=3.9608752727508545 validate_loss=3.9608752727508545\n",
      "complete 25 epoch train_loss=3.9608752727508545 validate_loss=3.9608750343322754\n",
      "complete 26 epoch train_loss=3.9608750343322754 validate_loss=3.9608750343322754\n",
      "complete 27 epoch train_loss=3.9608750343322754 validate_loss=3.9608750343322754\n",
      "complete 28 epoch train_loss=3.9608750343322754 validate_loss=3.9608750343322754\n",
      "complete 29 epoch train_loss=3.9608750343322754 validate_loss=3.9608747959136963\n",
      "complete 30 epoch train_loss=3.9608747959136963 validate_loss=3.9608747959136963\n",
      "complete 31 epoch train_loss=3.9608747959136963 validate_loss=3.960874557495117\n",
      "complete 32 epoch train_loss=3.960874557495117 validate_loss=3.960874080657959\n",
      "complete 33 epoch train_loss=3.960874080657959 validate_loss=3.960874080657959\n",
      "complete 34 epoch train_loss=3.960874080657959 validate_loss=3.960874080657959\n",
      "complete 35 epoch train_loss=3.960874080657959 validate_loss=3.960874080657959\n",
      "complete 36 epoch train_loss=3.960874080657959 validate_loss=3.96087384223938\n",
      "complete 37 epoch train_loss=3.96087384223938 validate_loss=3.9608733654022217\n",
      "complete 38 epoch train_loss=3.9608733654022217 validate_loss=3.9608733654022217\n",
      "complete 39 epoch train_loss=3.9608733654022217 validate_loss=3.9608731269836426\n",
      "complete 40 epoch train_loss=3.9608731269836426 validate_loss=3.9608731269836426\n",
      "complete 41 epoch train_loss=3.9608731269836426 validate_loss=3.9608726501464844\n",
      "complete 42 epoch train_loss=3.9608726501464844 validate_loss=3.9608726501464844\n",
      "complete 43 epoch train_loss=3.9608726501464844 validate_loss=3.9608726501464844\n",
      "complete 44 epoch train_loss=3.9608726501464844 validate_loss=3.9608726501464844\n",
      "complete 45 epoch train_loss=3.9608726501464844 validate_loss=3.9608726501464844\n",
      "complete 46 epoch train_loss=3.9608726501464844 validate_loss=3.9608724117279053\n",
      "complete 47 epoch train_loss=3.9608724117279053 validate_loss=3.960872173309326\n",
      "complete 48 epoch train_loss=3.960872173309326 validate_loss=3.960872173309326\n",
      "complete 49 epoch train_loss=3.960872173309326 validate_loss=3.960871934890747\n"
     ]
    }
   ],
   "source": [
    "from d2l_common import TimeMachine, RNNLMScratch, Trainer\n",
    "\n",
    "data = TimeMachine(batch_size=1024, num_steps=32, device='mps')\n",
    "lstm = LSTMScratch(num_inputs=len(data.vocab), num_hiddens=32)\n",
    "model = RNNLMScratch(lstm, len(data.vocab)).to('mps')\n",
    "trainer = Trainer(max_epochs=50, gradient_clip_val=1)\n",
    "trainer.fit(model, data)"
   ]
  },
  {
   "cell_type": "code",
   "execution_count": 8,
   "metadata": {},
   "outputs": [
    {
     "data": {
      "image/png": "[encoded data removed]",
      "text/plain": [
       "<Figure size 1000x500 with 1 Axes>"
      ]
     },
     "metadata": {},
     "output_type": "display_data"
    }
   ],
   "source": [
    "trainer.plot()"
   ]
  },
  {
   "cell_type": "code",
   "execution_count": 10,
   "metadata": {},
   "outputs": [
    {
     "data": {
      "text/plain": [
       "'it hasaaaaaaaaaaaaaaaaaaaa'"
      ]
     },
     "execution_count": 10,
     "metadata": {},
     "output_type": "execute_result"
    }
   ],
   "source": [
    "model.predict('it has', 20, data.vocab, device='mps')"
   ]
  },
  {
   "cell_type": "code",
   "execution_count": null,
   "metadata": {},
   "outputs": [],
   "source": []
  }
 ],
 "metadata": {
  "kernelspec": {
   "display_name": "m2",
   "language": "python",
   "name": "python3"
  },
  "language_info": {
   "codemirror_mode": {
    "name": "ipython",
    "version": 3
   },
   "file_extension": ".py",
   "mimetype": "text/x-python",
   "name": "python",
   "nbconvert_exporter": "python",
   "pygments_lexer": "ipython3",
   "version": "3.10.13"
  },
  "orig_nbformat": 4
 },
 "nbformat": 4,
 "nbformat_minor": 2
}
