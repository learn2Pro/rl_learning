{
 "cells": [
  {
   "cell_type": "code",
   "execution_count": 38,
   "metadata": {},
   "outputs": [],
   "source": [
    "import math\n",
    "import pandas as pd\n",
    "import torch\n",
    "from torch import nn"
   ]
  },
  {
   "cell_type": "code",
   "execution_count": 39,
   "metadata": {},
   "outputs": [],
   "source": [
    "class PositionWiseFFN(nn.Module):\n",
    "    def __init__(self, ffn_num_hiddens, ffn_num_outputs) -> None:\n",
    "        super().__init__()\n",
    "        self.dense1 = nn.LazyLinear(ffn_num_hiddens)\n",
    "        self.relu = nn.ReLU()\n",
    "        self.dense2 = nn.LazyLinear(ffn_num_outputs)\n",
    "    \n",
    "    def forward(self, X):\n",
    "        return self.dense2(self.relu(self.dense1(X)))"
   ]
  },
  {
   "cell_type": "code",
   "execution_count": 40,
   "metadata": {},
   "outputs": [
    {
     "data": {
      "text/plain": [
       "(torch.Size([2, 3, 8]), torch.Size([3, 8]))"
      ]
     },
     "execution_count": 40,
     "metadata": {},
     "output_type": "execute_result"
    }
   ],
   "source": [
    "ffn = PositionWiseFFN(4, 8)\n",
    "ffn(torch.ones(2,3,4)).shape,ffn(torch.ones(2,3,4))[0].shape"
   ]
  },
  {
   "cell_type": "code",
   "execution_count": 41,
   "metadata": {},
   "outputs": [
    {
     "name": "stdout",
     "output_type": "stream",
     "text": [
      "layer norm: tensor([[-1.0000,  1.0000],\n",
      "        [-1.0000,  1.0000]], grad_fn=<NativeLayerNormBackward0>) \n",
      "batch norm:tensor([[-1.0000, -1.0000],\n",
      "        [ 1.0000,  1.0000]], grad_fn=<NativeBatchNormBackward0>)\n"
     ]
    }
   ],
   "source": [
    "ln = nn.LayerNorm(2)\n",
    "bn = nn.LazyBatchNorm1d()\n",
    "\n",
    "X = torch.tensor([[1,2],[2,3]],dtype=torch.float32)\n",
    "print(f'layer norm: {ln(X)} \\nbatch norm:{bn(X)}')"
   ]
  },
  {
   "cell_type": "code",
   "execution_count": 42,
   "metadata": {},
   "outputs": [],
   "source": [
    "class AddNorm(nn.Module):\n",
    "    \n",
    "    def __init__(self, norm_shape, dropout) -> None:\n",
    "        super().__init__()\n",
    "        self.dropout = nn.Dropout(dropout)\n",
    "        self.ln = nn.LayerNorm(norm_shape)\n",
    "        \n",
    "    def forward(self, X, Y):\n",
    "        return self.ln(self.dropout(Y)+X)\n",
    "    "
   ]
  },
  {
   "cell_type": "code",
   "execution_count": 43,
   "metadata": {},
   "outputs": [
    {
     "data": {
      "text/plain": [
       "torch.Size([2, 3, 4])"
      ]
     },
     "execution_count": 43,
     "metadata": {},
     "output_type": "execute_result"
    }
   ],
   "source": [
    "add_norm = AddNorm(4, 0.5)\n",
    "shape = (2, 3, 4)\n",
    "add_norm(torch.ones(shape), torch.ones(shape)).shape"
   ]
  },
  {
   "cell_type": "code",
   "execution_count": 44,
   "metadata": {},
   "outputs": [],
   "source": [
    "from d2l_common import MultiHeadAttention, PositionEncoding \n",
    "\n",
    "class TransformerEncoderBlock(nn.Module):\n",
    "    def __init__(self, num_hiddens, ffn_num_hiddens, num_heads, dropout, use_bias=False):\n",
    "        super().__init__()\n",
    "        self.attention = MultiHeadAttention(num_hiddens, num_heads, dropout, use_bias)\n",
    "        self.addnorm1 = AddNorm(num_hiddens, dropout)\n",
    "        self.ffn = PositionWiseFFN(ffn_num_hiddens, num_hiddens)\n",
    "        self.addnorm2 = AddNorm(num_hiddens, dropout)\n",
    "    \n",
    "    def forward(self, X, valid_lens):\n",
    "        Y = self.addnorm1(X, self.attention(X, X, X, valid_lens))\n",
    "        #(batch_size, n , num_hiddens)\n",
    "        return self.addnorm2(Y, self.ffn(Y))"
   ]
  },
  {
   "cell_type": "code",
   "execution_count": 45,
   "metadata": {},
   "outputs": [],
   "source": [
    "X = torch.ones(2,100,24)\n",
    "valid_lens = torch.tensor([3,2])\n",
    "\n",
    "encoder_blk = TransformerEncoderBlock(24, 48, 8, 0.5)\n",
    "encoder_blk.eval()\n",
    "\n",
    "assert encoder_blk(X, valid_lens).shape == X.shape"
   ]
  },
  {
   "cell_type": "code",
   "execution_count": 46,
   "metadata": {},
   "outputs": [],
   "source": [
    "from d2l_common import Encoder\n",
    "from collections import OrderedDict\n",
    "\n",
    "\n",
    "class TransformerEncoder(Encoder):\n",
    "    def __init__(self, vocab_size, num_hiddens, ffn_num_hiddens, num_heads, num_blks, dropout, use_bias=False):\n",
    "        super().__init__()\n",
    "        self.vocab_size = vocab_size\n",
    "        self.num_hiddens = num_hiddens\n",
    "        self.num_blks = num_blks\n",
    "        self.embedding = nn.Embedding(vocab_size, num_hiddens)\n",
    "        self.pos_encoding = PositionEncoding(num_hiddens, dropout)\n",
    "        self.blks = nn.Sequential(\n",
    "            OrderedDict(\n",
    "                [(f'block-{i}', TransformerEncoderBlock(\n",
    "                    num_hiddens, ffn_num_hiddens, num_heads, dropout, use_bias)) for i in range(num_blks)]\n",
    "            )\n",
    "        )\n",
    "\n",
    "    def forward(self, X, valid_lens):\n",
    "        X = self.pos_encoding(self.embedding(X) * math.sqrt(self.num_hiddens))\n",
    "        self.attention_weights = [None] * len(self.blks)\n",
    "        for i, blk in enumerate(self.blks):\n",
    "            X = blk(X, valid_lens)\n",
    "            self.attention_weights[i] = blk.attention.attention.attn_weights\n",
    "        return X"
   ]
  },
  {
   "cell_type": "code",
   "execution_count": 47,
   "metadata": {},
   "outputs": [
    {
     "data": {
      "text/plain": [
       "torch.Size([2, 100, 24])"
      ]
     },
     "execution_count": 47,
     "metadata": {},
     "output_type": "execute_result"
    }
   ],
   "source": [
    "encoder = TransformerEncoder(200, 24, 48, 8, 2, 0.5)\n",
    "encoder(torch.ones(2, 100,dtype=torch.long), valid_lens).shape"
   ]
  },
  {
   "cell_type": "code",
   "execution_count": 55,
   "metadata": {},
   "outputs": [],
   "source": [
    "class TransformerDecoderBlock(nn.Module):\n",
    "    def __init__(self, num_hiddens, ffn_num_hiddens, num_heads, dropout, i) -> None:\n",
    "        super().__init__()\n",
    "        self.i = i\n",
    "        self.attention1 = MultiHeadAttention(num_hiddens, num_heads, dropout)\n",
    "        self.addnorm1 = AddNorm(num_hiddens, dropout)\n",
    "        self.attention2 = MultiHeadAttention(num_hiddens, num_heads, dropout)\n",
    "        self.addnorm2 = AddNorm(num_hiddens, dropout)\n",
    "        self.ffn = PositionWiseFFN(ffn_num_hiddens, num_hiddens)\n",
    "        self.addnorm3 = AddNorm(num_hiddens, dropout)\n",
    "        \n",
    "    def forward(self, X, state):\n",
    "        enc_outputs, enc_valid_lens = state[0], state[1]\n",
    "        if state[2][self.i] is None:\n",
    "            key_values = X\n",
    "        else:\n",
    "            key_values = torch.cat((state[2][self.i], X), dim=1)\n",
    "        state[2][self.i] = key_values\n",
    "        if self.training:\n",
    "            batch_size, num_steps, _ = X.shape\n",
    "            dec_valid_lens = torch.arange(1, num_steps+1, device=X.device).repeat(batch_size, 1)\n",
    "        else:\n",
    "            dec_valid_lens = None\n",
    "        X2 = self.attention1(X, key_values, key_values, dec_valid_lens)\n",
    "        Y = self.addnorm1(X, X2)\n",
    "        Y2 = self.attention2(Y, enc_outputs, enc_outputs, enc_valid_lens)\n",
    "        Z = self.addnorm2(Y, Y2)\n",
    "        return self.addnorm3(Z, self.ffn(Z)), state"
   ]
  },
  {
   "cell_type": "code",
   "execution_count": 56,
   "metadata": {},
   "outputs": [
    {
     "name": "stderr",
     "output_type": "stream",
     "text": [
      "/Users/tangyun/opt/miniconda3/envs/rl/lib/python3.10/site-packages/torch/nn/modules/lazy.py:180: UserWarning: Lazy modules are a new feature under heavy development so changes to the API or functionality can happen at any moment.\n",
      "  warnings.warn('Lazy modules are a new feature under heavy development '\n"
     ]
    },
    {
     "data": {
      "text/plain": [
       "torch.Size([2, 100, 24])"
      ]
     },
     "execution_count": 56,
     "metadata": {},
     "output_type": "execute_result"
    }
   ],
   "source": [
    "decoder_blk = TransformerDecoderBlock(24, 48, 8, 0.5, 0)\n",
    "X = torch.ones(2, 100, 24)\n",
    "\n",
    "state = [encoder_blk(X, valid_lens), valid_lens, [None]]\n",
    "\n",
    "decoder_blk(X, state)[0].shape"
   ]
  },
  {
   "cell_type": "code",
   "execution_count": 57,
   "metadata": {},
   "outputs": [],
   "source": [
    "from d2l_common import AttentionDecoder\n",
    "\n",
    "\n",
    "class TransformerDecoder(AttentionDecoder):\n",
    "    def __init__(self, vocab_size, num_hiddens, ffn_num_hiddens, num_heads, num_blks, dropout):\n",
    "        super().__init__()\n",
    "        self.vocab_size = vocab_size\n",
    "        self.num_hiddens = num_hiddens\n",
    "        self.num_blks = num_blks\n",
    "        self.embedding = nn.Embedding(vocab_size, num_hiddens)\n",
    "        self.pos_encoding = PositionEncoding(num_hiddens, dropout)\n",
    "        self.blks = nn.Sequential(\n",
    "            OrderedDict(\n",
    "                [(f'block-{i}', TransformerDecoderBlock(num_hiddens,\n",
    "                  ffn_num_hiddens, num_heads, dropout, i)) for i in range(num_blks)]\n",
    "            )\n",
    "        )\n",
    "        self.dense = nn.LazyLinear(vocab_size)\n",
    "\n",
    "    def init_state(self, enc_outputs, enc_valid_lens):\n",
    "        return [enc_outputs, enc_valid_lens, [None] * self.num_blks]\n",
    "    \n",
    "    def forward(self, X, state):\n",
    "        X = self.pos_encoding(self.embedding(X)*math.sqrt(self.num_hiddens))\n",
    "        self._attention_weights = [[None]*len(self.blks) for _ in range(2)]\n",
    "        for i, blk in enumerate(self.blks):\n",
    "            X, state = blk(X, state)\n",
    "            self._attention_weights[0][i] = blk.attention1.attention.attn_weights\n",
    "            self._attention_weights[1][i] = blk.attention2.attention.attn_weights\n",
    "        return self.dense(X), state\n",
    "    \n",
    "    @property\n",
    "    def attention_weights(self):\n",
    "        return self._attention_weights"
   ]
  },
  {
   "cell_type": "code",
   "execution_count": 58,
   "metadata": {},
   "outputs": [
    {
     "name": "stdout",
     "output_type": "stream",
     "text": [
      "complete 0 epoch train_loss=1.3797824382781982 validate_loss=1.368479609489441\n",
      "complete 1 epoch train_loss=0.36522477865219116 validate_loss=0.2251977175474167\n",
      "complete 2 epoch train_loss=0.09114791452884674 validate_loss=0.05547548830509186\n",
      "complete 3 epoch train_loss=0.03345978260040283 validate_loss=0.02296326495707035\n",
      "complete 4 epoch train_loss=0.019325820729136467 validate_loss=0.01486694160848856\n",
      "complete 5 epoch train_loss=0.019415024667978287 validate_loss=0.012298517860472202\n",
      "complete 6 epoch train_loss=0.012692450545728207 validate_loss=1.9874660968780518\n",
      "complete 7 epoch train_loss=0.016891952604055405 validate_loss=0.2088676393032074\n",
      "complete 8 epoch train_loss=0.011205638758838177 validate_loss=0.018977459520101547\n",
      "complete 9 epoch train_loss=0.01096110139042139 validate_loss=0.011598179116845131\n",
      "complete 10 epoch train_loss=0.010795717127621174 validate_loss=0.010741611942648888\n",
      "complete 11 epoch train_loss=0.010676061734557152 validate_loss=0.010466942563652992\n",
      "complete 12 epoch train_loss=0.010520498268306255 validate_loss=0.010135643184185028\n",
      "complete 13 epoch train_loss=0.026684166863560677 validate_loss=0.7106778025627136\n",
      "complete 14 epoch train_loss=0.0239239651709795 validate_loss=0.010167616419494152\n",
      "complete 15 epoch train_loss=0.010428084060549736 validate_loss=2.1629791259765625\n",
      "complete 16 epoch train_loss=0.024940676987171173 validate_loss=2.142212152481079\n",
      "complete 17 epoch train_loss=0.01050416100770235 validate_loss=2.046684503555298\n",
      "complete 18 epoch train_loss=0.010518969967961311 validate_loss=2.156141996383667\n",
      "complete 19 epoch train_loss=0.010444908402860165 validate_loss=2.1733970642089844\n",
      "complete 20 epoch train_loss=0.01014685072004795 validate_loss=2.1689462661743164\n",
      "complete 21 epoch train_loss=0.009616329334676266 validate_loss=2.176536798477173\n",
      "complete 22 epoch train_loss=0.008319631218910217 validate_loss=2.26814866065979\n",
      "complete 23 epoch train_loss=0.006622448563575745 validate_loss=2.2324209213256836\n",
      "complete 24 epoch train_loss=0.0059797074645757675 validate_loss=2.13692307472229\n",
      "complete 25 epoch train_loss=0.005447677802294493 validate_loss=2.310835599899292\n",
      "complete 26 epoch train_loss=0.004718178417533636 validate_loss=2.1922783851623535\n",
      "complete 27 epoch train_loss=0.00383954425342381 validate_loss=2.1245739459991455\n",
      "complete 28 epoch train_loss=0.004056569188833237 validate_loss=2.139599084854126\n",
      "complete 29 epoch train_loss=0.003170039039105177 validate_loss=2.1379661560058594\n"
     ]
    }
   ],
   "source": [
    "from d2l_common import MTFraEng, Trainer, Seq2Seq\n",
    "\n",
    "data = MTFraEng(batch_size=128)\n",
    "\n",
    "num_hiddens, num_blks, dropout = 256, 2, 0.2\n",
    "ffn_num_hiddens, num_heads = 64, 4\n",
    "encoder = TransformerEncoder(\n",
    "    len(data.src_vocab), num_hiddens, ffn_num_hiddens, num_heads, num_blks, dropout)\n",
    "decoder = TransformerDecoder(\n",
    "    len(data.tgt_vocab), num_hiddens, ffn_num_hiddens, num_heads, num_blks, dropout)\n",
    "\n",
    "model = Seq2Seq(encoder, decoder, tgt_pad=data.tgt_vocab['<pad>'],lr=0.001)\n",
    "trainer = Trainer(max_epochs=30, gradient_clip_val=1)\n",
    "trainer.fit(model, data)\n"
   ]
  },
  {
   "cell_type": "code",
   "execution_count": 59,
   "metadata": {},
   "outputs": [
    {
     "data": {
      "image/png": "[encoded data removed]",
      "text/plain": [
       "<Figure size 1000x500 with 1 Axes>"
      ]
     },
     "metadata": {},
     "output_type": "display_data"
    }
   ],
   "source": [
    "trainer.plot()"
   ]
  },
  {
   "cell_type": "code",
   "execution_count": 60,
   "metadata": {},
   "outputs": [
    {
     "name": "stdout",
     "output_type": "stream",
     "text": [
      "go . => ['détendue', '<pad>', '<pad>', '<pad>', '<pad>', '<pad>', '<pad>', '<pad>', '<pad>'], bleu,0.000\n",
      "i lost . => ['nous', '<pad>', '<pad>', '<pad>', '<pad>', '<pad>', '<pad>', '<pad>', '<pad>'], bleu,0.000\n",
      "he's calm . => ['nous', '<pad>', '<pad>', '<pad>', '<pad>', '<pad>', '<pad>', '<pad>', '<pad>'], bleu,0.000\n",
      "i'm home . => ['détendue', '<pad>', '<pad>', '<pad>', '<pad>', '<pad>', '<pad>', '<pad>', '<pad>'], bleu,0.000\n"
     ]
    }
   ],
   "source": [
    "from d2l_common import bleu\n",
    "\n",
    "engs = ['go .', 'i lost .', 'he\\'s calm .', 'i\\'m home .']\n",
    "fras = ['va !', 'j\\'ai perdu .', 'il est calme .', 'je suis chez moi .']\n",
    "preds, _ = model.predict_step(\n",
    "    data.build(engs, fras), 'cpu', data.num_steps)\n",
    "for en, fr, p in zip(engs, fras, preds):\n",
    "    translation = []\n",
    "    for token in data.tgt_vocab.to_tokens(p):\n",
    "        if token == '<eos>':\n",
    "            break\n",
    "        translation.append(token)\n",
    "    print(f'{en} => {translation}, bleu,'\n",
    "          f'{bleu(\" \".join(translation), fr, k=2):.3f}')"
   ]
  },
  {
   "cell_type": "code",
   "execution_count": 61,
   "metadata": {},
   "outputs": [
    {
     "ename": "NameError",
     "evalue": "name 'd2l' is not defined",
     "output_type": "error",
     "traceback": [
      "\u001b[0;31m---------------------------------------------------------------------------\u001b[0m",
      "\u001b[0;31mNameError\u001b[0m                                 Traceback (most recent call last)",
      "Cell \u001b[0;32mIn[61], line 2\u001b[0m\n\u001b[1;32m      1\u001b[0m _, dec_attention_weights \u001b[39m=\u001b[39m model\u001b[39m.\u001b[39mpredict_step(\n\u001b[0;32m----> 2\u001b[0m     data\u001b[39m.\u001b[39mbuild([engs[\u001b[39m-\u001b[39m\u001b[39m1\u001b[39m]], [fras[\u001b[39m-\u001b[39m\u001b[39m1\u001b[39m]]), d2l\u001b[39m.\u001b[39mtry_gpu(), data\u001b[39m.\u001b[39mnum_steps, \u001b[39mTrue\u001b[39;00m)\n\u001b[1;32m      3\u001b[0m enc_attention_weights \u001b[39m=\u001b[39m torch\u001b[39m.\u001b[39mcat(model\u001b[39m.\u001b[39mencoder\u001b[39m.\u001b[39mattention_weights, \u001b[39m0\u001b[39m)\n\u001b[1;32m      4\u001b[0m shape \u001b[39m=\u001b[39m (num_blks, num_heads, \u001b[39m-\u001b[39m\u001b[39m1\u001b[39m, data\u001b[39m.\u001b[39mnum_steps)\n",
      "\u001b[0;31mNameError\u001b[0m: name 'd2l' is not defined"
     ]
    }
   ],
   "source": [
    "_, dec_attention_weights = model.predict_step(\n",
    "    data.build([engs[-1]], [fras[-1]]), 'cpu', data.num_steps, True)\n",
    "enc_attention_weights = torch.cat(model.encoder.attention_weights, 0)\n",
    "shape = (num_blks, num_heads, -1, data.num_steps)\n",
    "enc_attention_weights = enc_attention_weights.reshape(shape)\n",
    "enc_attention_weights.shape"
   ]
  },
  {
   "cell_type": "code",
   "execution_count": null,
   "metadata": {},
   "outputs": [],
   "source": []
  }
 ],
 "metadata": {
  "kernelspec": {
   "display_name": "rl",
   "language": "python",
   "name": "python3"
  },
  "language_info": {
   "codemirror_mode": {
    "name": "ipython",
    "version": 3
   },
   "file_extension": ".py",
   "mimetype": "text/x-python",
   "name": "python",
   "nbconvert_exporter": "python",
   "pygments_lexer": "ipython3",
   "version": "3.10.11"
  },
  "orig_nbformat": 4
 },
 "nbformat": 4,
 "nbformat_minor": 2
}
