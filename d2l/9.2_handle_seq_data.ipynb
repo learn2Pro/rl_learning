{
 "cells": [
  {
   "cell_type": "code",
   "execution_count": 1,
   "metadata": {},
   "outputs": [],
   "source": [
    "import collections\n",
    "import random,re\n",
    "import torch\n",
    "from torch import nn"
   ]
  },
  {
   "cell_type": "code",
   "execution_count": 19,
   "metadata": {},
   "outputs": [
    {
     "data": {
      "text/plain": [
       "'\\ufeffThe Project Gutenberg eBook of The Time Machine, by H. G. W'"
      ]
     },
     "execution_count": 19,
     "metadata": {},
     "output_type": "execute_result"
    }
   ],
   "source": [
    "from d2l_common import DataModule\n",
    "\n",
    "\n",
    "class TimeMachine(DataModule):\n",
    "    def __init__(self, fname, root='../data'):\n",
    "        self.fname = fname\n",
    "        self.root = root\n",
    "\n",
    "    def _download(self):\n",
    "        with open(self.root+'/'+self.fname) as f:\n",
    "            return f.read()\n",
    "\n",
    "    def _preprocess(self, text):\n",
    "        return re.sub('[^A-Za-z]+', ' ', text).lower()\n",
    "\n",
    "    def _tokenize(self, text):\n",
    "        return list(text)\n",
    "\n",
    "    def build(self, raw_txt, vocab=None):\n",
    "        tokens = self._tokenize(self._preprocess(raw_txt))\n",
    "        if vocab is None:\n",
    "            vocab = Vocab(tokens)\n",
    "        corups = [vocab[token] for token in tokens]\n",
    "        return corups, vocab\n",
    "\n",
    "\n",
    "data = TimeMachine('timemachine.txt')\n",
    "raw_txt = data._download()\n",
    "raw_txt[:60]"
   ]
  },
  {
   "cell_type": "code",
   "execution_count": 20,
   "metadata": {},
   "outputs": [
    {
     "data": {
      "text/plain": [
       "' the project gutenberg ebook of the time machine by h g well'"
      ]
     },
     "execution_count": 20,
     "metadata": {},
     "output_type": "execute_result"
    }
   ],
   "source": [
    "text = data._preprocess(raw_txt)\n",
    "text[:60]"
   ]
  },
  {
   "cell_type": "code",
   "execution_count": 21,
   "metadata": {},
   "outputs": [
    {
     "data": {
      "text/plain": [
       "' ,t,h,e, ,p,r,o,j,e,c,t, ,g,u,t,e,n,b,e,r,g, ,e,b,o,o,k, ,o,f, ,t,h,e, ,t,i,m,e, ,m,a,c,h,i,n,e, ,b,y, ,h, ,g, ,w,e,l,l'"
      ]
     },
     "execution_count": 21,
     "metadata": {},
     "output_type": "execute_result"
    }
   ],
   "source": [
    "tokens = data._tokenize(text)\n",
    "\n",
    "','.join(tokens[:60])"
   ]
  },
  {
   "cell_type": "code",
   "execution_count": 22,
   "metadata": {},
   "outputs": [],
   "source": [
    "class Vocab:\n",
    "    \"\"\"\n",
    "    Vocabulary for text.\n",
    "    \"\"\"\n",
    "\n",
    "    def __init__(self, tokens=[], min_freq=0, reserved_tokens=[]) -> None:\n",
    "        if tokens and isinstance(tokens[0], list):\n",
    "            tokens = [token for line in tokens for token in line]\n",
    "        counter = collections.Counter(tokens)\n",
    "        self.token_freqs = sorted(\n",
    "            counter.items(), key=lambda x: x[1], reverse=True)\n",
    "        self.idx_to_token = list(sorted(set(\n",
    "            ['<unk>']+reserved_tokens + [token for token, freq in self.token_freqs if freq >= min_freq])))\n",
    "        self.token_to_idx = {token: idx for idx,\n",
    "                             token in enumerate(self.idx_to_token)}\n",
    "\n",
    "    def __len__(self):\n",
    "        return len(self.idx_to_token)\n",
    "\n",
    "    def __getitem__(self, tokens):\n",
    "        if not isinstance(tokens, (list, tuple)):\n",
    "            return self.token_to_idx.get(tokens, self.unk)\n",
    "        return [self.__getitem__(token) for token in tokens]\n",
    "    \n",
    "    def to_tokens(self, indices):\n",
    "        if hasattr(indices,'__len__') and len(indices)>1:\n",
    "            return [self.idx_to_token[idx] for idx in indices]\n",
    "        return self.idx_to_token[indices]\n",
    "    \n",
    "    \n",
    "    @property\n",
    "    def unk(self):\n",
    "        return self.token_to_idx['<unk>']"
   ]
  },
  {
   "cell_type": "code",
   "execution_count": 23,
   "metadata": {},
   "outputs": [
    {
     "name": "stdout",
     "output_type": "stream",
     "text": [
      "indices: [0, 21, 9, 6, 0, 17, 19, 16, 11, 6]\n",
      "words: [' ', 't', 'h', 'e', ' ', 'p', 'r', 'o', 'j', 'e']\n"
     ]
    }
   ],
   "source": [
    "vocab = Vocab(tokens)\n",
    "indices = vocab[tokens[:10]]\n",
    "print('indices:', indices)\n",
    "print('words:', vocab.to_tokens(indices))"
   ]
  },
  {
   "cell_type": "code",
   "execution_count": 25,
   "metadata": {},
   "outputs": [
    {
     "data": {
      "text/plain": [
       "[('the', 2477),\n",
       " ('and', 1312),\n",
       " ('of', 1286),\n",
       " ('i', 1268),\n",
       " ('a', 877),\n",
       " ('to', 766),\n",
       " ('in', 606),\n",
       " ('was', 554),\n",
       " ('that', 458),\n",
       " ('it', 452),\n",
       " ('my', 441),\n",
       " ('had', 354),\n",
       " ('as', 281),\n",
       " ('me', 281),\n",
       " ('with', 264),\n",
       " ('at', 257),\n",
       " ('for', 247),\n",
       " ('you', 212),\n",
       " ('time', 211),\n",
       " ('but', 209),\n",
       " ('this', 199),\n",
       " ('or', 162),\n",
       " ('were', 158),\n",
       " ('on', 148),\n",
       " ('not', 142),\n",
       " ('from', 137),\n",
       " ('all', 136),\n",
       " ('then', 134),\n",
       " ('is', 129),\n",
       " ('have', 129)]"
      ]
     },
     "execution_count": 25,
     "metadata": {},
     "output_type": "execute_result"
    }
   ],
   "source": [
    "words = text.split()\n",
    "vocab = Vocab(words)\n",
    "vocab.token_freqs[:30]"
   ]
  },
  {
   "cell_type": "code",
   "execution_count": 41,
   "metadata": {},
   "outputs": [
    {
     "data": {
      "image/png": "[encoded data removed]",
      "text/plain": [
       "<Figure size 640x480 with 1 Axes>"
      ]
     },
     "metadata": {},
     "output_type": "display_data"
    }
   ],
   "source": [
    "import matplotlib.pyplot as plt\n",
    "\n",
    "# plt.xscale('log')\n",
    "# plt.yscale('log')\n",
    "plt.plot([freq for token, freq in vocab.token_freqs], linestyle=':')\n",
    "\n",
    "# plt.xscale('log')\n",
    "# plt.yscale('log')\n",
    "plt.show()"
   ]
  },
  {
   "cell_type": "code",
   "execution_count": 42,
   "metadata": {},
   "outputs": [
    {
     "data": {
      "text/plain": [
       "[('of--the', 344),\n",
       " ('in--the', 192),\n",
       " ('i--had', 130),\n",
       " ('and--the', 112),\n",
       " ('i--was', 112),\n",
       " ('the--time', 110),\n",
       " ('to--the', 101),\n",
       " ('it--was', 99),\n",
       " ('project--gutenberg', 88),\n",
       " ('as--i', 78)]"
      ]
     },
     "execution_count": 42,
     "metadata": {},
     "output_type": "execute_result"
    }
   ],
   "source": [
    "bigram_tokens = ['--'.join(pair) for pair in zip(words[:-1],words[1:])]\n",
    "bigram_vocab = Vocab(bigram_tokens)\n",
    "bigram_vocab.token_freqs[:10]"
   ]
  },
  {
   "cell_type": "code",
   "execution_count": 43,
   "metadata": {},
   "outputs": [
    {
     "data": {
      "text/plain": [
       "[('the--time--traveller', 63),\n",
       " ('project--gutenberg--tm', 57),\n",
       " ('the--time--machine', 34),\n",
       " ('the--project--gutenberg', 33),\n",
       " ('the--medical--man', 24),\n",
       " ('gutenberg--tm--electronic', 18),\n",
       " ('it--seemed--to', 16),\n",
       " ('it--was--a', 15),\n",
       " ('here--and--there', 15),\n",
       " ('the--united--states', 14)]"
      ]
     },
     "execution_count": 43,
     "metadata": {},
     "output_type": "execute_result"
    }
   ],
   "source": [
    "trigram_tokens = ['--'.join(triple) for triple in zip(\n",
    "    words[:-2], words[1:-1], words[2:])]\n",
    "trigram_vocab = Vocab(trigram_tokens)\n",
    "trigram_vocab.token_freqs[:10]"
   ]
  },
  {
   "cell_type": "code",
   "execution_count": 46,
   "metadata": {},
   "outputs": [
    {
     "data": {
      "image/png": "[encoded data removed]",
      "text/plain": [
       "<Figure size 640x480 with 1 Axes>"
      ]
     },
     "metadata": {},
     "output_type": "display_data"
    }
   ],
   "source": [
    "freqs = [torch.log(torch.tensor(freq)) for token, freq in vocab.token_freqs]\n",
    "bigram_freqs = [torch.log(torch.tensor(freq))  for token, freq in bigram_vocab.token_freqs]\n",
    "trigram_freqs = [torch.log(torch.tensor(freq))  for token, freq in trigram_vocab.token_freqs]\n",
    "\n",
    "plt.plot(freqs)\n",
    "plt.plot(bigram_freqs)\n",
    "plt.plot(trigram_freqs)\n",
    "plt.legend(['unigram','bigram','trigram'])\n",
    "plt.show()"
   ]
  },
  {
   "cell_type": "code",
   "execution_count": null,
   "metadata": {},
   "outputs": [],
   "source": []
  }
 ],
 "metadata": {
  "kernelspec": {
   "display_name": "rl",
   "language": "python",
   "name": "python3"
  },
  "language_info": {
   "codemirror_mode": {
    "name": "ipython",
    "version": 3
   },
   "file_extension": ".py",
   "mimetype": "text/x-python",
   "name": "python",
   "nbconvert_exporter": "python",
   "pygments_lexer": "ipython3",
   "version": "3.10.11"
  },
  "orig_nbformat": 4
 },
 "nbformat": 4,
 "nbformat_minor": 2
}
