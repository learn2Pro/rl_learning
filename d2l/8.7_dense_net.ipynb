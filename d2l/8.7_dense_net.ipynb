{
 "cells": [
  {
   "cell_type": "code",
   "execution_count": 1,
   "metadata": {},
   "outputs": [],
   "source": [
    "import torch\n",
    "from torch import nn"
   ]
  },
  {
   "cell_type": "code",
   "execution_count": 2,
   "metadata": {},
   "outputs": [],
   "source": [
    "def conv_block(num_channels):\n",
    "    return nn.Sequential(\n",
    "        nn.LazyBatchNorm2d(),nn.ReLU(),\n",
    "        nn.LazyConv2d(num_channels, kernel_size=3, padding=1)\n",
    "    )"
   ]
  },
  {
   "cell_type": "code",
   "execution_count": 7,
   "metadata": {},
   "outputs": [],
   "source": [
    "class DenseBlock(nn.Module):\n",
    "    def __init__(self, num_convs, num_channels):\n",
    "        super().__init__()\n",
    "        layer = []\n",
    "        for i in range(num_convs):\n",
    "            layer.append(conv_block(num_channels))\n",
    "        self.net = nn.Sequential(*layer)\n",
    "    \n",
    "    def forward(self, x):\n",
    "        for blk in self.net:\n",
    "            Y = blk(x)\n",
    "            x = torch.cat((x,Y),dim=1)\n",
    "            print(x.shape)\n",
    "        return x"
   ]
  },
  {
   "cell_type": "code",
   "execution_count": 11,
   "metadata": {},
   "outputs": [
    {
     "name": "stdout",
     "output_type": "stream",
     "text": [
      "torch.Size([4, 13, 8, 8])\n",
      "torch.Size([4, 23, 8, 8])\n"
     ]
    },
    {
     "name": "stderr",
     "output_type": "stream",
     "text": [
      "/Users/tangyun/opt/miniconda3/envs/rl/lib/python3.10/site-packages/torch/nn/modules/lazy.py:180: UserWarning: Lazy modules are a new feature under heavy development so changes to the API or functionality can happen at any moment.\n",
      "  warnings.warn('Lazy modules are a new feature under heavy development '\n"
     ]
    },
    {
     "data": {
      "text/plain": [
       "torch.Size([4, 23, 8, 8])"
      ]
     },
     "execution_count": 11,
     "metadata": {},
     "output_type": "execute_result"
    }
   ],
   "source": [
    "blk = DenseBlock(2, 10)\n",
    "x = torch.randn(4,3,8,8)\n",
    "Y = blk(x)\n",
    "Y.shape"
   ]
  },
  {
   "cell_type": "code",
   "execution_count": 12,
   "metadata": {},
   "outputs": [],
   "source": [
    "def transition_block(num_channels):\n",
    "    return nn.Sequential(\n",
    "        nn.LazyBatchNorm2d(),nn.ReLU(),\n",
    "        nn.LazyConv2d(num_channels, kernel_size=1),\n",
    "        nn.AvgPool2d(kernel_size=2, stride=2)\n",
    "    )"
   ]
  },
  {
   "cell_type": "code",
   "execution_count": 13,
   "metadata": {},
   "outputs": [
    {
     "data": {
      "text/plain": [
       "torch.Size([4, 10, 4, 4])"
      ]
     },
     "execution_count": 13,
     "metadata": {},
     "output_type": "execute_result"
    }
   ],
   "source": [
    "blk = transition_block(10)\n",
    "blk(Y).shape"
   ]
  },
  {
   "cell_type": "code",
   "execution_count": 14,
   "metadata": {},
   "outputs": [],
   "source": [
    "from d2l_common import Classifier\n",
    "\n",
    "\n",
    "class DenseNet(Classifier):\n",
    "    def b1(self):\n",
    "        return nn.Sequential(\n",
    "            nn.LazyConv2d(64, kernel_size=7, stride=2, padding=3),\n",
    "            nn.LazyBatchNorm2d(), nn.ReLU(),\n",
    "            nn.MaxPool2d(kernel_size=3, stride=2, padding=1)\n",
    "        )\n",
    "\n",
    "    def __init__(self, num_channels=64, growth_rate=32, arch=(4, 4, 4, 4), lr=0.1, num_classes=10):\n",
    "        super().__init__()\n",
    "        self.net = self.b1()\n",
    "        for i, num_convs in enumerate(arch):\n",
    "            self.net.add_module(\n",
    "                f'dense_blk{i+1}', DenseBlock(num_convs, growth_rate))\n",
    "            num_channels+=num_convs*growth_rate\n",
    "            if i!=len(arch)-1:\n",
    "                num_channels//=2\n",
    "                self.net.add_module(f'trans_blk{i+1}',transition_block(num_channels))\n",
    "        self.net.add_module('last',nn.Sequential(\n",
    "            nn.LazyBatchNorm2d(),nn.ReLU(),\n",
    "            nn.AdaptiveAvgPool2d((1,1)),nn.Flatten(),\n",
    "            nn.LazyLinear(num_classes) \n",
    "        ))"
   ]
  },
  {
   "cell_type": "code",
   "execution_count": 17,
   "metadata": {},
   "outputs": [
    {
     "name": "stdout",
     "output_type": "stream",
     "text": [
      "Conv2d output shape:\t torch.Size([1, 64, 112, 112])\n",
      "BatchNorm2d output shape:\t torch.Size([1, 64, 112, 112])\n",
      "ReLU output shape:\t torch.Size([1, 64, 112, 112])\n",
      "MaxPool2d output shape:\t torch.Size([1, 64, 56, 56])\n",
      "torch.Size([1, 96, 56, 56])\n",
      "torch.Size([1, 128, 56, 56])\n",
      "torch.Size([1, 160, 56, 56])\n",
      "torch.Size([1, 192, 56, 56])\n",
      "DenseBlock output shape:\t torch.Size([1, 192, 56, 56])\n",
      "Sequential output shape:\t torch.Size([1, 96, 28, 28])\n",
      "torch.Size([1, 128, 28, 28])\n",
      "torch.Size([1, 160, 28, 28])\n",
      "torch.Size([1, 192, 28, 28])\n",
      "torch.Size([1, 224, 28, 28])\n",
      "DenseBlock output shape:\t torch.Size([1, 224, 28, 28])\n",
      "Sequential output shape:\t torch.Size([1, 112, 14, 14])\n",
      "torch.Size([1, 144, 14, 14])\n",
      "torch.Size([1, 176, 14, 14])\n",
      "torch.Size([1, 208, 14, 14])\n",
      "torch.Size([1, 240, 14, 14])\n",
      "DenseBlock output shape:\t torch.Size([1, 240, 14, 14])\n",
      "Sequential output shape:\t torch.Size([1, 120, 7, 7])\n",
      "torch.Size([1, 152, 7, 7])\n",
      "torch.Size([1, 184, 7, 7])\n",
      "torch.Size([1, 216, 7, 7])\n",
      "torch.Size([1, 248, 7, 7])\n",
      "DenseBlock output shape:\t torch.Size([1, 248, 7, 7])\n",
      "Sequential output shape:\t torch.Size([1, 10])\n"
     ]
    }
   ],
   "source": [
    "model = DenseNet()\n",
    "# x = torch.randn(1,1,224,224)\n",
    "model.layer_summary((1,1,224,224))"
   ]
  },
  {
   "cell_type": "code",
   "execution_count": null,
   "metadata": {},
   "outputs": [],
   "source": [
    "from d2l_common import Trainer,FasionMNIST\n",
    "trainer = Trainer(max_epochs=10)\n",
    "data = FasionMNIST(batch_size=128)\n",
    "trainer.fit(model, data)"
   ]
  }
 ],
 "metadata": {
  "kernelspec": {
   "display_name": "rl",
   "language": "python",
   "name": "python3"
  },
  "language_info": {
   "codemirror_mode": {
    "name": "ipython",
    "version": 3
   },
   "file_extension": ".py",
   "mimetype": "text/x-python",
   "name": "python",
   "nbconvert_exporter": "python",
   "pygments_lexer": "ipython3",
   "version": "3.10.11"
  },
  "orig_nbformat": 4
 },
 "nbformat": 4,
 "nbformat_minor": 2
}
