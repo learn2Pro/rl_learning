{
 "cells": [
  {
   "cell_type": "code",
   "execution_count": 1,
   "metadata": {},
   "outputs": [],
   "source": [
    "import torch\n",
    "from torch import nn"
   ]
  },
  {
   "cell_type": "code",
   "execution_count": 2,
   "metadata": {},
   "outputs": [],
   "source": [
    "import torch.nn.functional as F\n",
    "import math"
   ]
  },
  {
   "cell_type": "code",
   "execution_count": 3,
   "metadata": {},
   "outputs": [],
   "source": [
    "from d2l_common import Module\n",
    "\n",
    "\n",
    "class RNNScratch(Module):\n",
    "    def __init__(self, num_inputs, num_hiddens, sigma=0.01):\n",
    "        super().__init__()\n",
    "        self.num_inputs = num_inputs\n",
    "        self.num_hiddens = num_hiddens\n",
    "        self.sigma = sigma\n",
    "        self.W_xh = nn.Parameter(torch.randn(num_inputs, num_hiddens)*sigma)\n",
    "        self.W_hh = nn.Parameter(torch.randn(num_hiddens, num_hiddens)*sigma)\n",
    "        self.b_h = nn.Parameter(torch.zeros(num_hiddens))\n",
    "\n",
    "    def forward(self, x, state=None):\n",
    "        if state is None:\n",
    "            state = torch.zeros(\n",
    "                (x.shape[1], self.num_hiddens), device=x.device)\n",
    "        else:\n",
    "            state, = state\n",
    "        outputs = []\n",
    "        for X in x:\n",
    "            # [batch_size, num_inputs]\n",
    "            state = torch.tanh(X@self.W_xh+state@self.W_hh+self.b_h)\n",
    "            outputs.append(state)\n",
    "        return outputs, state\n",
    "    \n",
    "    \n",
    "    "
   ]
  },
  {
   "cell_type": "code",
   "execution_count": 4,
   "metadata": {},
   "outputs": [],
   "source": [
    "batch_size, num_inputs, num_hiddens, num_steps = 2, 16, 32, 100\n",
    "rnn = RNNScratch(num_inputs, num_hiddens)\n",
    "inputs = torch.ones((num_steps, batch_size, num_inputs))\n",
    "inputs.shape\n",
    "\n",
    "outputs, state = rnn.forward(inputs)"
   ]
  },
  {
   "cell_type": "code",
   "execution_count": 5,
   "metadata": {},
   "outputs": [],
   "source": [
    "def check_len(a, n):  #@save\n",
    "    \"\"\"Check the length of a list.\"\"\"\n",
    "    assert len(a) == n, f'list\\'s length {len(a)} != expected length {n}'\n",
    "\n",
    "def check_shape(a, shape):  #@save\n",
    "    \"\"\"Check the shape of a tensor.\"\"\"\n",
    "    assert a.shape == shape, \\\n",
    "            f'tensor\\'s shape {a.shape} != expected shape {shape}'\n",
    "            \n",
    "check_len(outputs, num_steps)\n",
    "check_shape(outputs[0], (batch_size, num_hiddens))\n",
    "check_shape(state, (batch_size, num_hiddens))"
   ]
  },
  {
   "cell_type": "code",
   "execution_count": 12,
   "metadata": {},
   "outputs": [],
   "source": [
    "from d2l_common import Classifier\n",
    "import matplotlib.pyplot as plt\n",
    "\n",
    "\n",
    "class RNNLMScratch(Classifier):\n",
    "    def __init__(self, rnn, vocab_size, lr=0.01):\n",
    "        super().__init__()\n",
    "        self.rnn = rnn\n",
    "        self.lr = lr\n",
    "        self.vocab_size = vocab_size\n",
    "        self.init_params()\n",
    "\n",
    "    def init_params(self):\n",
    "        self.W_hq = nn.Parameter(torch.randn(\n",
    "            self.rnn.num_hiddens, self.vocab_size)*self.rnn.sigma)\n",
    "        self.b_q = nn.Parameter(torch.zeros(self.vocab_size))\n",
    "\n",
    "    def train_step(self, batch):\n",
    "        y_hat, y = self(*batch[:-1]), F.one_hot(batch[-1],\n",
    "                                                self.vocab_size).type(torch.float32)\n",
    "        l = self.loss(y_hat, y)\n",
    "        return l\n",
    "\n",
    "    def validate_step(self, batch):\n",
    "        y_hat, y = self(*batch[:-1]), F.one_hot(batch[-1],\n",
    "                                                self.vocab_size).type(torch.float32)\n",
    "        l = self.loss(y_hat, y)\n",
    "        return y_hat, l\n",
    "\n",
    "    def accuracy(self, y_hat, y, averaged=True):\n",
    "        cmp = (y_hat == F.one_hot(y, self.vocab_size).type(\n",
    "            torch.float32)).type(torch.float32)\n",
    "        return cmp.mean() if averaged else cmp\n",
    "\n",
    "    def one_hot(self, x):\n",
    "        return F.one_hot(x.T, self.vocab_size).type(torch.float32)\n",
    "\n",
    "    def output_layer(self, rnn_outputs):\n",
    "        outputs = [H@self.W_hq for H in rnn_outputs]\n",
    "        return torch.stack(outputs, dim=1)\n",
    "\n",
    "    def forward(self, X, state=None):\n",
    "        embs = self.one_hot(X)  # [num_steps, batch_size, vocab_size]\n",
    "        rnn_outputs, _ = self.rnn(embs, state)\n",
    "        return self.output_layer(rnn_outputs)\n",
    "\n",
    "    def predict(self, prefix, num_preds, vocab, device=None):\n",
    "        state, outputs = None, [vocab[prefix[0]]]\n",
    "        for i in range(len(prefix)+num_preds-1):\n",
    "            X = torch.tensor([[outputs[-1]]], device=device)\n",
    "            embs = self.one_hot(X)\n",
    "            rnn_outputs, state = self.rnn(embs, state)\n",
    "            if i < len(prefix)-1:\n",
    "                outputs.append(vocab[prefix[i+1]])\n",
    "            else:\n",
    "                Y = self.output_layer(rnn_outputs)\n",
    "                outputs.append(int(Y.argmax(dim=2).reshape(1)))\n",
    "        return ''.join([vocab.idx_to_token[i] for i in outputs])"
   ]
  },
  {
   "cell_type": "code",
   "execution_count": 13,
   "metadata": {},
   "outputs": [
    {
     "data": {
      "text/plain": [
       "tensor([[1, 0, 0, 0, 0],\n",
       "        [0, 0, 1, 0, 0]])"
      ]
     },
     "execution_count": 13,
     "metadata": {},
     "output_type": "execute_result"
    }
   ],
   "source": [
    "F.one_hot(torch.tensor([0, 2]), 5)"
   ]
  },
  {
   "cell_type": "code",
   "execution_count": 14,
   "metadata": {},
   "outputs": [
    {
     "data": {
      "text/plain": [
       "torch.Size([3, 2, 1])"
      ]
     },
     "execution_count": 14,
     "metadata": {},
     "output_type": "execute_result"
    }
   ],
   "source": [
    "torch.stack([torch.ones(3,1),torch.ones(3,1)],dim=1).shape"
   ]
  },
  {
   "cell_type": "code",
   "execution_count": 15,
   "metadata": {},
   "outputs": [
    {
     "name": "stdout",
     "output_type": "stream",
     "text": [
      "2 16 32 100\n"
     ]
    },
    {
     "ename": "RuntimeError",
     "evalue": "mat1 and mat2 shapes cannot be multiplied (2x16 and 28x32)",
     "output_type": "error",
     "traceback": [
      "\u001b[0;31m---------------------------------------------------------------------------\u001b[0m",
      "\u001b[0;31mRuntimeError\u001b[0m                              Traceback (most recent call last)",
      "Cell \u001b[0;32mIn[15], line 3\u001b[0m\n\u001b[1;32m      1\u001b[0m \u001b[39mprint\u001b[39m(batch_size, num_inputs, num_hiddens,num_steps)\n\u001b[1;32m      2\u001b[0m model \u001b[39m=\u001b[39m RNNLMScratch(rnn, num_inputs)\n\u001b[0;32m----> 3\u001b[0m outputs \u001b[39m=\u001b[39m model(torch\u001b[39m.\u001b[39;49mones((batch_size, num_steps), dtype\u001b[39m=\u001b[39;49mtorch\u001b[39m.\u001b[39;49mint64))\n\u001b[1;32m      4\u001b[0m \u001b[39mprint\u001b[39m(outputs\u001b[39m.\u001b[39mshape)\n\u001b[1;32m      5\u001b[0m check_shape(outputs, (batch_size, num_steps, num_inputs))\n",
      "File \u001b[0;32m~/opt/miniconda3/envs/rl/lib/python3.10/site-packages/torch/nn/modules/module.py:1501\u001b[0m, in \u001b[0;36mModule._call_impl\u001b[0;34m(self, *args, **kwargs)\u001b[0m\n\u001b[1;32m   1496\u001b[0m \u001b[39m# If we don't have any hooks, we want to skip the rest of the logic in\u001b[39;00m\n\u001b[1;32m   1497\u001b[0m \u001b[39m# this function, and just call forward.\u001b[39;00m\n\u001b[1;32m   1498\u001b[0m \u001b[39mif\u001b[39;00m \u001b[39mnot\u001b[39;00m (\u001b[39mself\u001b[39m\u001b[39m.\u001b[39m_backward_hooks \u001b[39mor\u001b[39;00m \u001b[39mself\u001b[39m\u001b[39m.\u001b[39m_backward_pre_hooks \u001b[39mor\u001b[39;00m \u001b[39mself\u001b[39m\u001b[39m.\u001b[39m_forward_hooks \u001b[39mor\u001b[39;00m \u001b[39mself\u001b[39m\u001b[39m.\u001b[39m_forward_pre_hooks\n\u001b[1;32m   1499\u001b[0m         \u001b[39mor\u001b[39;00m _global_backward_pre_hooks \u001b[39mor\u001b[39;00m _global_backward_hooks\n\u001b[1;32m   1500\u001b[0m         \u001b[39mor\u001b[39;00m _global_forward_hooks \u001b[39mor\u001b[39;00m _global_forward_pre_hooks):\n\u001b[0;32m-> 1501\u001b[0m     \u001b[39mreturn\u001b[39;00m forward_call(\u001b[39m*\u001b[39;49margs, \u001b[39m*\u001b[39;49m\u001b[39m*\u001b[39;49mkwargs)\n\u001b[1;32m   1502\u001b[0m \u001b[39m# Do not call functions when jit is used\u001b[39;00m\n\u001b[1;32m   1503\u001b[0m full_backward_hooks, non_full_backward_hooks \u001b[39m=\u001b[39m [], []\n",
      "Cell \u001b[0;32mIn[12], line 44\u001b[0m, in \u001b[0;36mRNNLMScratch.forward\u001b[0;34m(self, X, state)\u001b[0m\n\u001b[1;32m     42\u001b[0m \u001b[39mdef\u001b[39;00m \u001b[39mforward\u001b[39m(\u001b[39mself\u001b[39m, X, state\u001b[39m=\u001b[39m\u001b[39mNone\u001b[39;00m):\n\u001b[1;32m     43\u001b[0m     embs \u001b[39m=\u001b[39m \u001b[39mself\u001b[39m\u001b[39m.\u001b[39mone_hot(X)  \u001b[39m# [num_steps, batch_size, vocab_size]\u001b[39;00m\n\u001b[0;32m---> 44\u001b[0m     rnn_outputs, _ \u001b[39m=\u001b[39m \u001b[39mself\u001b[39;49m\u001b[39m.\u001b[39;49mrnn(embs, state)\n\u001b[1;32m     45\u001b[0m     \u001b[39mreturn\u001b[39;00m \u001b[39mself\u001b[39m\u001b[39m.\u001b[39moutput_layer(rnn_outputs)\n",
      "File \u001b[0;32m~/opt/miniconda3/envs/rl/lib/python3.10/site-packages/torch/nn/modules/module.py:1501\u001b[0m, in \u001b[0;36mModule._call_impl\u001b[0;34m(self, *args, **kwargs)\u001b[0m\n\u001b[1;32m   1496\u001b[0m \u001b[39m# If we don't have any hooks, we want to skip the rest of the logic in\u001b[39;00m\n\u001b[1;32m   1497\u001b[0m \u001b[39m# this function, and just call forward.\u001b[39;00m\n\u001b[1;32m   1498\u001b[0m \u001b[39mif\u001b[39;00m \u001b[39mnot\u001b[39;00m (\u001b[39mself\u001b[39m\u001b[39m.\u001b[39m_backward_hooks \u001b[39mor\u001b[39;00m \u001b[39mself\u001b[39m\u001b[39m.\u001b[39m_backward_pre_hooks \u001b[39mor\u001b[39;00m \u001b[39mself\u001b[39m\u001b[39m.\u001b[39m_forward_hooks \u001b[39mor\u001b[39;00m \u001b[39mself\u001b[39m\u001b[39m.\u001b[39m_forward_pre_hooks\n\u001b[1;32m   1499\u001b[0m         \u001b[39mor\u001b[39;00m _global_backward_pre_hooks \u001b[39mor\u001b[39;00m _global_backward_hooks\n\u001b[1;32m   1500\u001b[0m         \u001b[39mor\u001b[39;00m _global_forward_hooks \u001b[39mor\u001b[39;00m _global_forward_pre_hooks):\n\u001b[0;32m-> 1501\u001b[0m     \u001b[39mreturn\u001b[39;00m forward_call(\u001b[39m*\u001b[39;49margs, \u001b[39m*\u001b[39;49m\u001b[39m*\u001b[39;49mkwargs)\n\u001b[1;32m   1502\u001b[0m \u001b[39m# Do not call functions when jit is used\u001b[39;00m\n\u001b[1;32m   1503\u001b[0m full_backward_hooks, non_full_backward_hooks \u001b[39m=\u001b[39m [], []\n",
      "Cell \u001b[0;32mIn[3], line 23\u001b[0m, in \u001b[0;36mRNNScratch.forward\u001b[0;34m(self, x, state)\u001b[0m\n\u001b[1;32m     20\u001b[0m outputs \u001b[39m=\u001b[39m []\n\u001b[1;32m     21\u001b[0m \u001b[39mfor\u001b[39;00m X \u001b[39min\u001b[39;00m x:\n\u001b[1;32m     22\u001b[0m     \u001b[39m# [batch_size, num_inputs]\u001b[39;00m\n\u001b[0;32m---> 23\u001b[0m     state \u001b[39m=\u001b[39m torch\u001b[39m.\u001b[39mtanh(X\u001b[39m@self\u001b[39;49m\u001b[39m.\u001b[39;49mW_xh\u001b[39m+\u001b[39mstate\u001b[39m@self\u001b[39m\u001b[39m.\u001b[39mW_hh\u001b[39m+\u001b[39m\u001b[39mself\u001b[39m\u001b[39m.\u001b[39mb_h)\n\u001b[1;32m     24\u001b[0m     outputs\u001b[39m.\u001b[39mappend(state)\n\u001b[1;32m     25\u001b[0m \u001b[39mreturn\u001b[39;00m outputs, state\n",
      "\u001b[0;31mRuntimeError\u001b[0m: mat1 and mat2 shapes cannot be multiplied (2x16 and 28x32)"
     ]
    }
   ],
   "source": [
    "print(batch_size, num_inputs, num_hiddens,num_steps)\n",
    "model = RNNLMScratch(rnn, num_inputs)\n",
    "outputs = model(torch.ones((batch_size, num_steps), dtype=torch.int64))\n",
    "print(outputs.shape)\n",
    "check_shape(outputs, (batch_size, num_steps, num_inputs))"
   ]
  },
  {
   "cell_type": "code",
   "execution_count": 16,
   "metadata": {},
   "outputs": [
    {
     "name": "stdout",
     "output_type": "stream",
     "text": [
      "complete 0 epoch train_loss=3.9608867168426514 validate_loss=3.960679292678833\n",
      "complete 1 epoch train_loss=3.960679292678833 validate_loss=3.9604716300964355\n",
      "complete 2 epoch train_loss=3.9604716300964355 validate_loss=3.9602580070495605\n",
      "complete 3 epoch train_loss=3.9602580070495605 validate_loss=3.9600329399108887\n",
      "complete 4 epoch train_loss=3.9600329399108887 validate_loss=3.9597907066345215\n",
      "complete 5 epoch train_loss=3.9597907066345215 validate_loss=3.959524393081665\n",
      "complete 6 epoch train_loss=3.959524393081665 validate_loss=3.9592268466949463\n",
      "complete 7 epoch train_loss=3.9592268466949463 validate_loss=3.9588894844055176\n",
      "complete 8 epoch train_loss=3.9588894844055176 validate_loss=3.9585037231445312\n",
      "complete 9 epoch train_loss=3.9585037231445312 validate_loss=3.9580578804016113\n",
      "complete 10 epoch train_loss=3.9580578804016113 validate_loss=3.9575388431549072\n",
      "complete 11 epoch train_loss=3.9575388431549072 validate_loss=3.9569320678710938\n",
      "complete 12 epoch train_loss=3.9569320678710938 validate_loss=3.9562182426452637\n",
      "complete 13 epoch train_loss=3.9562182426452637 validate_loss=3.955375909805298\n",
      "complete 14 epoch train_loss=3.955375909805298 validate_loss=3.954378843307495\n",
      "complete 15 epoch train_loss=3.954378843307495 validate_loss=3.953195095062256\n",
      "complete 16 epoch train_loss=3.953195095062256 validate_loss=3.951786756515503\n",
      "complete 17 epoch train_loss=3.951786756515503 validate_loss=3.9501073360443115\n",
      "complete 18 epoch train_loss=3.9501073360443115 validate_loss=3.9481008052825928\n",
      "complete 19 epoch train_loss=3.9481008052825928 validate_loss=3.945699453353882\n",
      "complete 20 epoch train_loss=3.945699453353882 validate_loss=3.9428203105926514\n",
      "complete 21 epoch train_loss=3.9428203105926514 validate_loss=3.9393632411956787\n",
      "complete 22 epoch train_loss=3.9393632411956787 validate_loss=3.9352033138275146\n",
      "complete 23 epoch train_loss=3.9352033138275146 validate_loss=3.9301869869232178\n",
      "complete 24 epoch train_loss=3.9301869869232178 validate_loss=3.9241244792938232\n",
      "complete 25 epoch train_loss=3.9241244792938232 validate_loss=3.916776657104492\n",
      "complete 26 epoch train_loss=3.916776657104492 validate_loss=3.907841205596924\n",
      "complete 27 epoch train_loss=3.907841205596924 validate_loss=3.896928548812866\n",
      "complete 28 epoch train_loss=3.896928548812866 validate_loss=3.883525848388672\n",
      "complete 29 epoch train_loss=3.883525848388672 validate_loss=3.8669488430023193\n",
      "complete 30 epoch train_loss=3.8669488430023193 validate_loss=3.8462536334991455\n",
      "complete 31 epoch train_loss=3.8462536334991455 validate_loss=3.8201069831848145\n",
      "complete 32 epoch train_loss=3.8201069831848145 validate_loss=3.786574125289917\n",
      "complete 33 epoch train_loss=3.786574125289917 validate_loss=3.742830514907837\n",
      "complete 34 epoch train_loss=3.742830514907837 validate_loss=3.6856656074523926\n",
      "complete 35 epoch train_loss=3.6856656074523926 validate_loss=3.6254889965057373\n",
      "complete 36 epoch train_loss=3.6254889965057373 validate_loss=3.5886285305023193\n",
      "complete 37 epoch train_loss=3.5886285305023193 validate_loss=3.5539212226867676\n",
      "complete 38 epoch train_loss=3.5539212226867676 validate_loss=3.5218124389648438\n",
      "complete 39 epoch train_loss=3.5218124389648438 validate_loss=3.5008347034454346\n",
      "complete 40 epoch train_loss=3.5008347034454346 validate_loss=3.4698901176452637\n",
      "complete 41 epoch train_loss=3.4698901176452637 validate_loss=3.4782917499542236\n",
      "complete 42 epoch train_loss=3.4782917499542236 validate_loss=3.3837597370147705\n",
      "complete 43 epoch train_loss=3.3837597370147705 validate_loss=3.3464033603668213\n",
      "complete 44 epoch train_loss=3.3464033603668213 validate_loss=3.307356595993042\n",
      "complete 45 epoch train_loss=3.307356595993042 validate_loss=3.2692010402679443\n",
      "complete 46 epoch train_loss=3.2692010402679443 validate_loss=3.247007369995117\n",
      "complete 47 epoch train_loss=3.247007369995117 validate_loss=3.296626567840576\n",
      "complete 48 epoch train_loss=3.296626567840576 validate_loss=3.1393017768859863\n",
      "complete 49 epoch train_loss=3.1393017768859863 validate_loss=3.092292547225952\n",
      "complete 50 epoch train_loss=3.092292547225952 validate_loss=3.08180832862854\n",
      "complete 51 epoch train_loss=3.08180832862854 validate_loss=3.1856231689453125\n",
      "complete 52 epoch train_loss=3.1856231689453125 validate_loss=2.969590902328491\n",
      "complete 53 epoch train_loss=2.969590902328491 validate_loss=2.926906108856201\n",
      "complete 54 epoch train_loss=2.926906108856201 validate_loss=2.9072983264923096\n",
      "complete 55 epoch train_loss=2.9072983264923096 validate_loss=2.9302992820739746\n",
      "complete 56 epoch train_loss=2.9302992820739746 validate_loss=2.8289027214050293\n",
      "complete 57 epoch train_loss=2.8289027214050293 validate_loss=2.7419607639312744\n",
      "complete 58 epoch train_loss=2.7419607639312744 validate_loss=2.6733696460723877\n",
      "complete 59 epoch train_loss=2.6733696460723877 validate_loss=2.616914749145508\n",
      "complete 60 epoch train_loss=2.616914749145508 validate_loss=2.580543041229248\n",
      "complete 61 epoch train_loss=2.580543041229248 validate_loss=2.542374849319458\n",
      "complete 62 epoch train_loss=2.542374849319458 validate_loss=2.5556399822235107\n",
      "complete 63 epoch train_loss=2.5556399822235107 validate_loss=2.4411022663116455\n",
      "complete 64 epoch train_loss=2.4411022663116455 validate_loss=2.507140636444092\n",
      "complete 65 epoch train_loss=2.507140636444092 validate_loss=2.4364864826202393\n",
      "complete 66 epoch train_loss=2.4364864826202393 validate_loss=2.384213924407959\n",
      "complete 67 epoch train_loss=2.384213924407959 validate_loss=2.267082452774048\n",
      "complete 68 epoch train_loss=2.267082452774048 validate_loss=2.2700297832489014\n",
      "complete 69 epoch train_loss=2.2700297832489014 validate_loss=2.408867597579956\n",
      "complete 70 epoch train_loss=2.408867597579956 validate_loss=2.299616575241089\n",
      "complete 71 epoch train_loss=2.299616575241089 validate_loss=2.358530282974243\n",
      "complete 72 epoch train_loss=2.358530282974243 validate_loss=2.1910789012908936\n",
      "complete 73 epoch train_loss=2.1910789012908936 validate_loss=2.0250017642974854\n",
      "complete 74 epoch train_loss=2.0250017642974854 validate_loss=1.9685689210891724\n",
      "complete 75 epoch train_loss=1.9685689210891724 validate_loss=1.9355653524398804\n",
      "complete 76 epoch train_loss=1.9355653524398804 validate_loss=1.9574458599090576\n",
      "complete 77 epoch train_loss=1.9574458599090576 validate_loss=2.0086007118225098\n",
      "complete 78 epoch train_loss=2.0086007118225098 validate_loss=2.105821132659912\n",
      "complete 79 epoch train_loss=2.105821132659912 validate_loss=1.8871757984161377\n",
      "complete 80 epoch train_loss=1.8871757984161377 validate_loss=1.8226852416992188\n",
      "complete 81 epoch train_loss=1.8226852416992188 validate_loss=1.741942048072815\n",
      "complete 82 epoch train_loss=1.741942048072815 validate_loss=1.7263866662979126\n",
      "complete 83 epoch train_loss=1.7263866662979126 validate_loss=1.758654236793518\n",
      "complete 84 epoch train_loss=1.758654236793518 validate_loss=1.840269684791565\n",
      "complete 85 epoch train_loss=1.840269684791565 validate_loss=1.820278286933899\n",
      "complete 86 epoch train_loss=1.820278286933899 validate_loss=1.6569633483886719\n",
      "complete 87 epoch train_loss=1.6569633483886719 validate_loss=1.6283323764801025\n",
      "complete 88 epoch train_loss=1.6283323764801025 validate_loss=1.5726836919784546\n",
      "complete 89 epoch train_loss=1.5726836919784546 validate_loss=1.5362781286239624\n",
      "complete 90 epoch train_loss=1.5362781286239624 validate_loss=1.5896166563034058\n",
      "complete 91 epoch train_loss=1.5896166563034058 validate_loss=1.840469241142273\n",
      "complete 92 epoch train_loss=1.840469241142273 validate_loss=1.6026420593261719\n",
      "complete 93 epoch train_loss=1.6026420593261719 validate_loss=1.5748628377914429\n",
      "complete 94 epoch train_loss=1.5748628377914429 validate_loss=1.5763691663742065\n",
      "complete 95 epoch train_loss=1.5763691663742065 validate_loss=1.6480690240859985\n",
      "complete 96 epoch train_loss=1.6480690240859985 validate_loss=1.5844385623931885\n",
      "complete 97 epoch train_loss=1.5844385623931885 validate_loss=1.493292212486267\n",
      "complete 98 epoch train_loss=1.493292212486267 validate_loss=1.4551314115524292\n",
      "complete 99 epoch train_loss=1.4551314115524292 validate_loss=1.469238042831421\n"
     ]
    }
   ],
   "source": [
    "from d2l_common import TimeMachine, Trainer\n",
    "\n",
    "data = TimeMachine(batch_size=1024, num_steps=32)\n",
    "# for x in data.get_dataloader(train=True):\n",
    "#     print(x[0].shape,x[1].shape)\n",
    "#     print(*x[0])\n",
    "#     print(*x[1])\n",
    "#     print(*x[:-1])\n",
    "rnn = RNNScratch(num_inputs=len(data.vocab), num_hiddens=32)\n",
    "model = RNNLMScratch(rnn, vocab_size=len(data.vocab), lr=1)\n",
    "trainer = Trainer(max_epochs=100, gradient_clip_val=1)\n",
    "trainer.fit(model, data)"
   ]
  },
  {
   "cell_type": "code",
   "execution_count": 17,
   "metadata": {},
   "outputs": [
    {
     "data": {
      "image/png": "[encoded data removed]",
      "text/plain": [
       "<Figure size 1000x500 with 1 Axes>"
      ]
     },
     "metadata": {},
     "output_type": "display_data"
    }
   ],
   "source": [
    "trainer.plot()"
   ]
  },
  {
   "cell_type": "code",
   "execution_count": 18,
   "metadata": {},
   "outputs": [
    {
     "data": {
      "text/plain": [
       "'it hasenbergject gutenberg'"
      ]
     },
     "execution_count": 18,
     "metadata": {},
     "output_type": "execute_result"
    }
   ],
   "source": [
    "model.predict('it has', 20, data.vocab)"
   ]
  },
  {
   "cell_type": "code",
   "execution_count": null,
   "metadata": {},
   "outputs": [],
   "source": []
  }
 ],
 "metadata": {
  "kernelspec": {
   "display_name": "rl",
   "language": "python",
   "name": "python3"
  },
  "language_info": {
   "codemirror_mode": {
    "name": "ipython",
    "version": 3
   },
   "file_extension": ".py",
   "mimetype": "text/x-python",
   "name": "python",
   "nbconvert_exporter": "python",
   "pygments_lexer": "ipython3",
   "version": "3.10.11"
  },
  "orig_nbformat": 4
 },
 "nbformat": 4,
 "nbformat_minor": 2
}
