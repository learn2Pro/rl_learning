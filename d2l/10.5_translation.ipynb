{
 "cells": [
  {
   "cell_type": "code",
   "execution_count": 1,
   "metadata": {},
   "outputs": [],
   "source": [
    "import torch\n",
    "from torch import nn"
   ]
  },
  {
   "cell_type": "code",
   "execution_count": 21,
   "metadata": {},
   "outputs": [
    {
     "data": {
      "text/plain": [
       "(tensor([1]), tensor([1.]))"
      ]
     },
     "execution_count": 21,
     "metadata": {},
     "output_type": "execute_result"
    }
   ],
   "source": [
    "torch.tensor([1]),torch.Tensor([1])"
   ]
  },
  {
   "cell_type": "code",
   "execution_count": 44,
   "metadata": {},
   "outputs": [],
   "source": [
    "from d2l_common import DataModule, Vocab\n",
    "\n",
    "\n",
    "class MTFraEng(DataModule):\n",
    "    \"\"\"The English-French dataset.\"\"\"\n",
    "\n",
    "    def __init__(self, batch_size, num_steps=9, num_train=512, num_val=128):\n",
    "        super().__init__()\n",
    "        self.batch_size = batch_size\n",
    "        self.num_steps = num_steps\n",
    "        self.num_train = num_train\n",
    "        self.num_val = num_val\n",
    "        self.arrays, self.src_vocab, self.tgt_vocab = self._build_arrays(\n",
    "            self._download())\n",
    "\n",
    "    def get_dataloader(self, train):\n",
    "        idx = slice(0, self.num_train) if train else (self.num_train, None)\n",
    "        return self.get_tensorloader(self.arrays, train, idx)\n",
    "\n",
    "    def build(self, src_sentences, tgt_sentences):\n",
    "        raw_txt = '\\n'.join([src+'\\t'+tgt for src,tgt in zip(src_sentences,tgt_sentences)])\n",
    "        arrays,_,_ = self._build_arrays(raw_txt, self.src_vocab,self.tgt_vocab)\n",
    "        return arrays\n",
    "\n",
    "    def _build_arrays(self, raw_text, src_vocab=None, tgt_vocab=None):\n",
    "        def _build_array(sentences, vocab, is_tgt=False):\n",
    "            def pad_or_trim(seq, t): return (seq[:t] if len(seq) > t else seq+['<pad>']*(t-len(seq)))\n",
    "            sentences = [pad_or_trim(s, self.num_steps) for s in sentences]\n",
    "            if is_tgt:\n",
    "                sentences = [['<bos>']+s for s in sentences]\n",
    "            if vocab is None:\n",
    "                vocab = Vocab(sentences, min_freq=2)\n",
    "            array = torch.tensor([vocab[s] for s in sentences])\n",
    "            valid_len = (array != vocab['<pad>']).type(torch.int32).sum(1)\n",
    "            return array, vocab, valid_len\n",
    "        src, tgt = self._tokenize(self._preprocess(\n",
    "            raw_text), self.num_train+self.num_val)\n",
    "        src_array, src_vocab, src_valid_len = _build_array(src, src_vocab)\n",
    "        tgt_array, tgt_vocab, _ = _build_array(tgt, tgt_vocab, True)\n",
    "        return ((src_array, tgt_array[:, :-1], src_valid_len, tgt_array[:, 1:]), src_vocab, tgt_vocab)\n",
    "\n",
    "    def _download(self):\n",
    "        with open('../data/fra.txt', encoding='utf-8') as f:\n",
    "            return f.read()\n",
    "\n",
    "    def _preprocess(self, text: str):\n",
    "        # Replace non-breaking space with space\n",
    "        text = text.replace('\\u202f', ' ').replace('\\xa0', ' ')\n",
    "        # Insert space between words and punctuation marks\n",
    "        def no_space(\n",
    "            char, prev_char): return char in ',.!?' and prev_char != ' '\n",
    "        out = [' '+char if i > 0 and no_space(char, text[i-1])\n",
    "               else char for i, char in enumerate(text.lower())]\n",
    "        return ''.join(out)\n",
    "\n",
    "    def _tokenize(self, text: str, max_examples=None):\n",
    "        src, tgt = [], []\n",
    "        for i, line in enumerate(text.split('\\n')):\n",
    "            if max_examples and i > max_examples:\n",
    "                break\n",
    "            parts = line.split('\\t')\n",
    "            if len(parts) == 2:\n",
    "                src.append([t for t in parts[0].split(' ') if t]+['<eos>'])\n",
    "                tgt.append([t for t in parts[1].split(' ') if t]+['<eos>'])\n",
    "        return src, tgt"
   ]
  },
  {
   "cell_type": "code",
   "execution_count": 45,
   "metadata": {},
   "outputs": [
    {
     "data": {
      "text/plain": [
       "([['<bos>', 'a'], ['<bos>', 'b']], ['<bos>', ['a'], ['b']])"
      ]
     },
     "execution_count": 45,
     "metadata": {},
     "output_type": "execute_result"
    }
   ],
   "source": [
    "[['<bos>'] +s for s in [['a'],['b']]],['<bos>'] +[s for s in [['a'],['b']]]\n"
   ]
  },
  {
   "cell_type": "code",
   "execution_count": 46,
   "metadata": {},
   "outputs": [
    {
     "name": "stdout",
     "output_type": "stream",
     "text": [
      "source: tensor([[117, 182,   0,   3,   4,   4,   4,   4,   4],\n",
      "        [ 95, 124,   2,   3,   4,   4,   4,   4,   4],\n",
      "        [ 29, 119,   0,   3,   4,   4,   4,   4,   4]], dtype=torch.int32)\n",
      "decoder input: tensor([[  3, 100,  58, 160,   0,   4,   5,   5,   5],\n",
      "        [  3,   6, 146,   2,   4,   5,   5,   5,   5],\n",
      "        [  3,   6,   0,   4,   5,   5,   5,   5,   5]], dtype=torch.int32)\n",
      "source len excluding pad: tensor([4, 4, 4], dtype=torch.int32)\n",
      "label: tensor([[100,  58, 160,   0,   4,   5,   5,   5,   5],\n",
      "        [  6, 146,   2,   4,   5,   5,   5,   5,   5],\n",
      "        [  6,   0,   4,   5,   5,   5,   5,   5,   5]], dtype=torch.int32)\n"
     ]
    }
   ],
   "source": [
    "data = MTFraEng(batch_size=3)\n",
    "src, tgt, src_valid_len, label = next(iter(data.train_dataloader()))\n",
    "print('source:', src.type(torch.int32))\n",
    "print('decoder input:', tgt.type(torch.int32))\n",
    "print('source len excluding pad:', src_valid_len.type(torch.int32))\n",
    "print('label:', label.type(torch.int32))"
   ]
  },
  {
   "cell_type": "code",
   "execution_count": 47,
   "metadata": {},
   "outputs": [
    {
     "name": "stdout",
     "output_type": "stream",
     "text": [
      "source: ['hi', '.', '<eos>', '<pad>', '<pad>', '<pad>', '<pad>', '<pad>', '<pad>']\n",
      "target: ['<bos>', 'salut', '.', '<eos>', '<pad>', '<pad>', '<pad>', '<pad>', '<pad>']\n"
     ]
    }
   ],
   "source": [
    "src, tgt, _, _ = data.build(['hi .'],['salut .'])\n",
    "print('source:', data.src_vocab.to_tokens(src[0].type(torch.int32)))\n",
    "print('target:', data.tgt_vocab.to_tokens(tgt[0].type(torch.int32)))"
   ]
  },
  {
   "cell_type": "code",
   "execution_count": 40,
   "metadata": {},
   "outputs": [
    {
     "ename": "TypeError",
     "evalue": "MTFraEng.__init__() missing 1 required positional argument: 'batch_size'",
     "output_type": "error",
     "traceback": [
      "\u001b[0;31m---------------------------------------------------------------------------\u001b[0m",
      "\u001b[0;31mTypeError\u001b[0m                                 Traceback (most recent call last)",
      "Cell \u001b[0;32mIn[40], line 1\u001b[0m\n\u001b[0;32m----> 1\u001b[0m data \u001b[39m=\u001b[39m MTFraEng()\n\u001b[1;32m      2\u001b[0m raw_txt \u001b[39m=\u001b[39m data\u001b[39m.\u001b[39m_download()\n\u001b[1;32m      3\u001b[0m \u001b[39mprint\u001b[39m(raw_txt[:\u001b[39m100\u001b[39m])\n",
      "\u001b[0;31mTypeError\u001b[0m: MTFraEng.__init__() missing 1 required positional argument: 'batch_size'"
     ]
    }
   ],
   "source": [
    "data = MTFraEng()\n",
    "raw_txt = data._download()\n",
    "print(raw_txt[:100])"
   ]
  },
  {
   "cell_type": "code",
   "execution_count": 10,
   "metadata": {},
   "outputs": [
    {
     "name": "stdout",
     "output_type": "stream",
     "text": [
      "go .\tva !\n",
      "hi .\tsalut !\n",
      "run !\tcours !\n",
      "run !\tcourez !\n",
      "who ?\tqui ?\n",
      "wow !\tça alors !\n",
      "fire !\tau feu !\n",
      "hel\n"
     ]
    }
   ],
   "source": [
    "text = data._preprocess(raw_txt)\n",
    "print(text[:100])"
   ]
  },
  {
   "cell_type": "code",
   "execution_count": 14,
   "metadata": {},
   "outputs": [
    {
     "data": {
      "text/plain": [
       "([['go', '.', '<eos>'],\n",
       "  ['hi', '.', '<eos>'],\n",
       "  ['run', '!', '<eos>'],\n",
       "  ['run', '!', '<eos>'],\n",
       "  ['who', '?', '<eos>'],\n",
       "  ['wow', '!', '<eos>'],\n",
       "  ['fire', '!', '<eos>'],\n",
       "  ['help', '!', '<eos>'],\n",
       "  ['jump', '.', '<eos>'],\n",
       "  ['stop', '!', '<eos>']],\n",
       " [['va', '!', '<eos>'],\n",
       "  ['salut', '!', '<eos>'],\n",
       "  ['cours', '!', '<eos>'],\n",
       "  ['courez', '!', '<eos>'],\n",
       "  ['qui', '?', '<eos>'],\n",
       "  ['ça', 'alors', '!', '<eos>'],\n",
       "  ['au', 'feu', '!', '<eos>'],\n",
       "  ['à', \"l'aide\", '!', '<eos>'],\n",
       "  ['saute', '.', '<eos>'],\n",
       "  ['ça', 'suffit', '!', '<eos>']])"
      ]
     },
     "execution_count": 14,
     "metadata": {},
     "output_type": "execute_result"
    }
   ],
   "source": [
    "src,tgt = data._tokenize(text)\n",
    "src[:10],tgt[:10]"
   ]
  },
  {
   "cell_type": "code",
   "execution_count": 15,
   "metadata": {},
   "outputs": [],
   "source": [
    "import matplotlib.pyplot as plt\n",
    "\n",
    "\n",
    "def show_list_len_pair_hist(legend, xlabel, ylabel, xlist, ylist):\n",
    "    plt.figure(figsize=(6, 3))\n",
    "    _, _, patches = plt.hist([[len(l) for l in xlist],[len(l) for l in ylist]])\n",
    "    plt.xlabel(xlabel)\n",
    "    plt.ylabel(ylabel)\n",
    "    for patch in patches[1].patches:\n",
    "        patch.set_hatch('/')\n",
    "    plt.legend(legend)"
   ]
  },
  {
   "cell_type": "code",
   "execution_count": 16,
   "metadata": {},
   "outputs": [
    {
     "data": {
      "image/png": "[encoded data removed]",
      "text/plain": [
       "<Figure size 600x300 with 1 Axes>"
      ]
     },
     "metadata": {},
     "output_type": "display_data"
    }
   ],
   "source": [
    "show_list_len_pair_hist(['source', 'target'], '# tokens per sequence',\n",
    "                        'count', src, tgt);"
   ]
  },
  {
   "cell_type": "code",
   "execution_count": null,
   "metadata": {},
   "outputs": [],
   "source": []
  }
 ],
 "metadata": {
  "kernelspec": {
   "display_name": "m2",
   "language": "python",
   "name": "python3"
  },
  "language_info": {
   "codemirror_mode": {
    "name": "ipython",
    "version": 3
   },
   "file_extension": ".py",
   "mimetype": "text/x-python",
   "name": "python",
   "nbconvert_exporter": "python",
   "pygments_lexer": "ipython3",
   "version": "3.10.13"
  },
  "orig_nbformat": 4
 },
 "nbformat": 4,
 "nbformat_minor": 2
}
