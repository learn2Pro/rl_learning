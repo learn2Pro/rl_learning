{
 "cells": [
  {
   "cell_type": "code",
   "execution_count": 1,
   "metadata": {},
   "outputs": [],
   "source": [
    "import torch\n",
    "from torch import nn"
   ]
  },
  {
   "cell_type": "code",
   "execution_count": 2,
   "metadata": {},
   "outputs": [
    {
     "name": "stdout",
     "output_type": "stream",
     "text": [
      "torch.Size([1, 2, 3])\n",
      "torch.Size([1, 2])\n",
      "torch.Size([1, 2])\n",
      "torch.Size([1, 2])\n"
     ]
    }
   ],
   "source": [
    "t = torch.randn(1,2,3)\n",
    "print(t.shape)\n",
    "t, t.permute(2,0,1)\n",
    "for x in t.permute(2,0,1):\n",
    "    print(x.shape)"
   ]
  },
  {
   "cell_type": "code",
   "execution_count": 3,
   "metadata": {},
   "outputs": [],
   "source": [
    "from d2l_common import AttentionDecoder, AdditiveAttention, init_seq2seq\n",
    "\n",
    "\n",
    "class Seq2SeqAttentionDecoder(AttentionDecoder):\n",
    "    \n",
    "    \n",
    "    def __init__(self, vocab_size, embed_size, num_hiddens, num_layers, dropout=0):\n",
    "        super().__init__()\n",
    "        self.vocab_size = vocab_size\n",
    "        self.embed_size = embed_size\n",
    "        self.num_hiddens = num_hiddens\n",
    "        self.num_layers = num_layers\n",
    "        self.dropout = dropout\n",
    "        self.attention = AdditiveAttention(num_hiddens, dropout)\n",
    "        self.embedding = nn.Embedding(vocab_size, embed_size)\n",
    "        self.rnn = nn.GRU(embed_size+num_hiddens, num_hiddens, num_layers, dropout=dropout)\n",
    "        self.dense = nn.LazyLinear(vocab_size)\n",
    "        self.apply(init_seq2seq)\n",
    "\n",
    "    def init_state(self, enc_outputs, enc_valid_lens):\n",
    "        # shape of outputs: (num_steps, batch_size, num_hiddens)\n",
    "        # shape of hidden_state: (num_layers, batch_size, num_hiddens)\n",
    "        outputs, hidden_state = enc_outputs\n",
    "        return (outputs.permute(1, 0, 2), hidden_state, enc_valid_lens)\n",
    "\n",
    "    def forward(self, X, state):\n",
    "        # shape of outputs: (num_steps, batch_size, num_hiddens)\n",
    "        # shape of hidden_state: (num_layers, batch_size, num_hiddens)\n",
    "        enc_outputs, hidden_state, enc_valid_lens = state\n",
    "        # shape of X: (num_steps, batch_size, embed_size)\n",
    "        X = self.embedding(X).permute(1,0,2)\n",
    "        outputs, self._attention_weights = [], []\n",
    "        for x in X:\n",
    "            # shape of query: (batch_size, 1, num_hiddens)\n",
    "            query = hidden_state[-1].unsqueeze(1)\n",
    "            context = self.attention(query, enc_outputs, enc_outputs, enc_valid_lens)\n",
    "            x = torch.cat((context, x.unsqueeze(1)), dim=-1)\n",
    "            out, hidden_state = self.rnn(x.permute(1, 0, 2), hidden_state)\n",
    "            # shape of out: (1, batch_size, embed_size + num_hiddens)\n",
    "            outputs.append(out)\n",
    "            self._attention_weights.append(self.attention.attn_weights)\n",
    "        outputs = self.dense(torch.cat(outputs, dim=0))\n",
    "        # shape of outputs: (num_steps, batch_size, vocab_size)\n",
    "        return outputs.permute(1, 0, 2), [enc_outputs, hidden_state, enc_valid_lens]\n",
    "    \n",
    "    @property\n",
    "    def attention_weights(self):\n",
    "        return self._attention_weights\n",
    "        "
   ]
  },
  {
   "cell_type": "code",
   "execution_count": 4,
   "metadata": {},
   "outputs": [
    {
     "name": "stdout",
     "output_type": "stream",
     "text": [
      "torch.Size([4, 7, 10])\n",
      "torch.Size([4, 7, 16])\n",
      "torch.Size([2, 4, 16])\n"
     ]
    },
    {
     "name": "stderr",
     "output_type": "stream",
     "text": [
      "/Users/tangyun/opt/miniconda3/envs/rl/lib/python3.10/site-packages/torch/nn/modules/lazy.py:180: UserWarning: Lazy modules are a new feature under heavy development so changes to the API or functionality can happen at any moment.\n",
      "  warnings.warn('Lazy modules are a new feature under heavy development '\n"
     ]
    }
   ],
   "source": [
    "from d2l_common import Encoder, Decoder, Seq2SeqEncoder\n",
    "\n",
    "vocab_size, embed_size, num_hiddens, num_layers = 10, 8, 16, 2\n",
    "batch_size, num_steps = 4, 7\n",
    "\n",
    "encoder = Seq2SeqEncoder(vocab_size, embed_size, num_hiddens, num_layers)\n",
    "decoder = Seq2SeqAttentionDecoder(vocab_size, embed_size, num_hiddens, num_layers)\n",
    "\n",
    "X = torch.zeros((batch_size, num_steps), dtype=torch.long)\n",
    "state = decoder.init_state(encoder(X), None)\n",
    "\n",
    "output, state = decoder(X, state)\n",
    "print(output.shape)\n",
    "print(state[0].shape)\n",
    "print(state[1].shape)\n",
    "assert output.shape == (batch_size, num_steps, vocab_size)\n",
    "assert state[0].shape == (batch_size, num_steps, num_hiddens)\n",
    "assert state[1].shape == (num_layers, batch_size, num_hiddens)"
   ]
  },
  {
   "cell_type": "code",
   "execution_count": 5,
   "metadata": {},
   "outputs": [
    {
     "name": "stdout",
     "output_type": "stream",
     "text": [
      "complete 0 epoch train_loss=0.30055803060531616 validate_loss=0.05756046995520592\n",
      "complete 1 epoch train_loss=0.006916724145412445 validate_loss=0.00464285584166646\n",
      "complete 2 epoch train_loss=0.0016251601045951247 validate_loss=0.0010228720493614674\n",
      "complete 3 epoch train_loss=0.0004075857868883759 validate_loss=0.000259631808148697\n",
      "complete 4 epoch train_loss=0.0001241763966390863 validate_loss=8.813948079477996e-05\n",
      "complete 5 epoch train_loss=5.2343639254104346e-05 validate_loss=4.0776423702482134e-05\n",
      "complete 6 epoch train_loss=2.815144216583576e-05 validate_loss=2.340382525289897e-05\n",
      "complete 7 epoch train_loss=1.8128021110896952e-05 validate_loss=1.55939760588808e-05\n",
      "complete 8 epoch train_loss=1.2964647794433404e-05 validate_loss=1.156357757281512e-05\n",
      "complete 9 epoch train_loss=1.014115878206212e-05 validate_loss=9.279693585995119e-06\n",
      "complete 10 epoch train_loss=8.54008067108225e-06 validate_loss=7.880139492044691e-06\n",
      "complete 11 epoch train_loss=7.477910457964754e-06 validate_loss=6.968567959120264e-06\n",
      "complete 12 epoch train_loss=6.765418220311403e-06 validate_loss=6.3394277276529465e-06\n",
      "complete 13 epoch train_loss=6.25714073976269e-06 validate_loss=5.889360636501806e-06\n",
      "complete 14 epoch train_loss=5.825492735311855e-06 validate_loss=5.5494147090939805e-06\n",
      "complete 15 epoch train_loss=5.552813036047155e-06 validate_loss=5.280111508909613e-06\n",
      "complete 16 epoch train_loss=5.383031748351641e-06 validate_loss=5.061988758825464e-06\n",
      "complete 17 epoch train_loss=5.093555500934599e-06 validate_loss=4.876131242781412e-06\n",
      "complete 18 epoch train_loss=4.959678335580975e-06 validate_loss=4.713080670626368e-06\n",
      "complete 19 epoch train_loss=4.786255431099562e-06 validate_loss=4.566164079733426e-06\n",
      "complete 20 epoch train_loss=4.65139964944683e-06 validate_loss=4.432044079294428e-06\n",
      "complete 21 epoch train_loss=4.509648533712607e-06 validate_loss=4.306824394006981e-06\n",
      "complete 22 epoch train_loss=4.412730049807578e-06 validate_loss=4.188835646345979e-06\n",
      "complete 23 epoch train_loss=4.260790319676744e-06 validate_loss=4.076410277775722e-06\n",
      "complete 24 epoch train_loss=4.190795607428299e-06 validate_loss=3.969547833548859e-06\n",
      "complete 25 epoch train_loss=4.068620000907686e-06 validate_loss=3.8660232348775025e-06\n",
      "complete 26 epoch train_loss=3.985817329521524e-06 validate_loss=3.7669487937819213e-06\n",
      "complete 27 epoch train_loss=3.855747763736872e-06 validate_loss=3.670655360110686e-06\n",
      "complete 28 epoch train_loss=3.7500940379686654e-06 validate_loss=3.5788123113889014e-06\n",
      "complete 29 epoch train_loss=3.6638446090364596e-06 validate_loss=3.4891945688286796e-06\n"
     ]
    }
   ],
   "source": [
    "from d2l_common import MTFraEng, Seq2Seq, Trainer\n",
    "\n",
    "data = MTFraEng(batch_size=128)\n",
    "embed_size, num_hiddens, num_layers, dropout = 256, 256, 2, 0.2\n",
    "encoder = Seq2SeqEncoder(len(data.src_vocab), embed_size, num_hiddens, num_layers, dropout)\n",
    "decoder = Seq2SeqAttentionDecoder(len(data.tgt_vocab), embed_size, num_hiddens, num_layers, dropout)\n",
    "\n",
    "model = Seq2Seq(encoder, decoder, tgt_pad = data.tgt_vocab['<pad>'], lr=0.005)\n",
    "trainer = Trainer(max_epochs=30, gradient_clip_val=1)\n",
    "trainer.fit(model, data)"
   ]
  },
  {
   "cell_type": "code",
   "execution_count": 6,
   "metadata": {},
   "outputs": [
    {
     "data": {
      "image/png": "[encoded data removed]",
      "text/plain": [
       "<Figure size 1000x500 with 1 Axes>"
      ]
     },
     "metadata": {},
     "output_type": "display_data"
    }
   ],
   "source": [
    "trainer.plot()"
   ]
  },
  {
   "cell_type": "code",
   "execution_count": 7,
   "metadata": {},
   "outputs": [
    {
     "name": "stdout",
     "output_type": "stream",
     "text": [
      "go . => ['défaits', '<pad>', '<pad>', '<pad>', '<pad>', '<pad>', '<pad>', '<pad>', '<pad>'], bleu,0.000\n",
      "i lost . => ['défaits', '<pad>', '<pad>', '<pad>', '<pad>', '<pad>', '<pad>', '<pad>', '<pad>'], bleu,0.000\n",
      "he's calm . => ['défaits', '<pad>', '<pad>', '<pad>', '<pad>', '<pad>', '<pad>', '<pad>', '<pad>'], bleu,0.000\n",
      "i'm home . => ['défaits', '<pad>', '<pad>', '<pad>', '<pad>', '<pad>', '<pad>', '<pad>', '<pad>'], bleu,0.000\n"
     ]
    }
   ],
   "source": [
    "from d2l_common import bleu\n",
    "\n",
    "engs = ['go .', 'i lost .', 'he\\'s calm .', 'i\\'m home .']\n",
    "fras = ['va !', 'j\\'ai perdu .', 'il est calme .', 'je suis chez moi .']\n",
    "preds, _ = model.predict_step(\n",
    "    data.build(engs, fras), 'cpu', data.num_steps)\n",
    "for en, fr, p in zip(engs, fras, preds):\n",
    "    translation = []\n",
    "    for token in data.tgt_vocab.to_tokens(p):\n",
    "        if token == '<eos>':\n",
    "            break\n",
    "        translation.append(token)\n",
    "    print(f'{en} => {translation}, bleu,'\n",
    "          f'{bleu(\" \".join(translation), fr, k=2):.3f}')"
   ]
  },
  {
   "cell_type": "code",
   "execution_count": 8,
   "metadata": {},
   "outputs": [
    {
     "data": {
      "image/png": "[encoded data removed]",
      "text/plain": [
       "<Figure size 250x250 with 2 Axes>"
      ]
     },
     "metadata": {},
     "output_type": "display_data"
    }
   ],
   "source": [
    "from d2l_common import show_heatmaps\n",
    "\n",
    "_, dec_attention_weights = model.predict_step(data.build(engs[-1],[fras[-1]]), 'cpu', data.num_steps, True)\n",
    "attention_weights = torch.cat([step[0][0][0] for step in dec_attention_weights],dim=0)\n",
    "attention_weights = attention_weights.view((1,1,-1,data.num_steps))\n",
    "\n",
    "show_heatmaps(attention_weights[:,:,:,:len(engs[-1].split())+1].cpu(), xlabel='Key positions', ylabel='Query positions')\n",
    "\n"
   ]
  },
  {
   "cell_type": "code",
   "execution_count": null,
   "metadata": {},
   "outputs": [],
   "source": []
  }
 ],
 "metadata": {
  "kernelspec": {
   "display_name": "rl",
   "language": "python",
   "name": "python3"
  },
  "language_info": {
   "codemirror_mode": {
    "name": "ipython",
    "version": 3
   },
   "file_extension": ".py",
   "mimetype": "text/x-python",
   "name": "python",
   "nbconvert_exporter": "python",
   "pygments_lexer": "ipython3",
   "version": "3.10.11"
  },
  "orig_nbformat": 4
 },
 "nbformat": 4,
 "nbformat_minor": 2
}
