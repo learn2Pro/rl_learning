{
 "cells": [
  {
   "cell_type": "code",
   "execution_count": 1,
   "metadata": {},
   "outputs": [],
   "source": [
    "import torch\n",
    "from torch import nn\n",
    "import torch.nn.functional as F"
   ]
  },
  {
   "cell_type": "code",
   "execution_count": 2,
   "metadata": {},
   "outputs": [
    {
     "name": "stdout",
     "output_type": "stream",
     "text": [
      "torch.Size([2])\n",
      "tensor([[2],\n",
      "        [3]])\n"
     ]
    },
    {
     "data": {
      "text/plain": [
       "tensor([[ True,  True, False, False, False, False, False, False, False, False],\n",
       "        [ True,  True,  True, False, False, False, False, False, False, False]])"
      ]
     },
     "execution_count": 2,
     "metadata": {},
     "output_type": "execute_result"
    }
   ],
   "source": [
    "valid_len = torch.tensor([2, 3])\n",
    "print(valid_len.shape)\n",
    "print(valid_len[:, None])\n",
    "torch.arange((10), dtype=torch.float32)[None, :] < valid_len[:,None]"
   ]
  },
  {
   "cell_type": "code",
   "execution_count": 3,
   "metadata": {},
   "outputs": [],
   "source": [
    "def masked_softmax(X, valid_lens):\n",
    "    def _sequence_mask(X, valid_len, value=0):\n",
    "        mask = torch.arange(X.shape[-1]) < valid_len.view(-1, 1)\n",
    "        X[~mask] = value\n",
    "        return X\n",
    "\n",
    "    if valid_lens is None:\n",
    "        return F.softmax(X, dim=-1)\n",
    "    else:\n",
    "        shape = X.shape\n",
    "        if valid_lens.dim() == 1:\n",
    "            valid_lens = torch.repeat_interleave(valid_lens, shape[1])\n",
    "        else:\n",
    "            valid_lens = valid_lens.view(-1)\n",
    "        X = _sequence_mask(X.view(-1, shape[-1]), valid_lens, value=-1e6)\n",
    "        return F.softmax(X.view(shape), dim=-1)\n",
    "\n",
    "\n",
    "# torch.randn(2, 3).size(2)\n",
    "# _sequence_mask(torch.randn(2, 3), torch.tensor([1, 2]))"
   ]
  },
  {
   "cell_type": "code",
   "execution_count": 4,
   "metadata": {},
   "outputs": [
    {
     "data": {
      "text/plain": [
       "tensor([[[0.4637, 0.5363, 0.0000, 0.0000],\n",
       "         [0.3495, 0.6505, 0.0000, 0.0000]],\n",
       "\n",
       "        [[0.3481, 0.4502, 0.2017, 0.0000],\n",
       "         [0.6580, 0.0763, 0.2656, 0.0000]]])"
      ]
     },
     "execution_count": 4,
     "metadata": {},
     "output_type": "execute_result"
    }
   ],
   "source": [
    "masked_softmax(torch.randn(2,2,4), torch.tensor([2,3]))"
   ]
  },
  {
   "cell_type": "code",
   "execution_count": 5,
   "metadata": {},
   "outputs": [
    {
     "data": {
      "text/plain": [
       "torch.Size([2, 3, 6])"
      ]
     },
     "execution_count": 5,
     "metadata": {},
     "output_type": "execute_result"
    }
   ],
   "source": [
    "Q = torch.ones(2,3,4)\n",
    "K = torch.ones(2,4,6)\n",
    "(Q@K).shape"
   ]
  },
  {
   "cell_type": "markdown",
   "metadata": {},
   "source": [
    "$\\mathcal{Attention} = \\mathcal{softmax}(\\frac{QK^T}{\\sqrt{d}})V$"
   ]
  },
  {
   "cell_type": "code",
   "execution_count": 6,
   "metadata": {},
   "outputs": [],
   "source": [
    "class DotProductAttention(nn.Module):\n",
    "    def __init__(self, dropout=0.0) -> None:\n",
    "        super().__init__()\n",
    "        self.dropout = dropout\n",
    "\n",
    "    def forward(self, queries, keys, values, valid_len=None):\n",
    "        d = queries.shape[-1]\n",
    "        scores = queries@keys.transpose(1,2) / d**0.5\n",
    "        self.attn_weights = masked_softmax(scores, valid_len)\n",
    "        print(self.attn_weights)\n",
    "        return self.attn_weights@values\n"
   ]
  },
  {
   "cell_type": "code",
   "execution_count": 7,
   "metadata": {},
   "outputs": [
    {
     "name": "stdout",
     "output_type": "stream",
     "text": [
      "tensor([[[0.4955, 0.5045, 0.0000, 0.0000, 0.0000, 0.0000, 0.0000, 0.0000,\n",
      "          0.0000, 0.0000]],\n",
      "\n",
      "        [[0.0122, 0.0962, 0.0108, 0.0518, 0.3716, 0.4575, 0.0000, 0.0000,\n",
      "          0.0000, 0.0000]]])\n"
     ]
    },
    {
     "data": {
      "text/plain": [
       "tensor([[[ 0.6478,  0.9547, -0.3898,  0.5970]],\n",
       "\n",
       "        [[-0.7484,  1.3935,  1.1431, -0.5494]]])"
      ]
     },
     "execution_count": 7,
     "metadata": {},
     "output_type": "execute_result"
    }
   ],
   "source": [
    "queries = torch.normal(0, 1, (2, 1, 2))\n",
    "keys = torch.normal(0, 1, (2, 10, 2))\n",
    "values = torch.normal(0, 1, (2, 10, 4))\n",
    "valid_lens = torch.tensor([2, 6])\n",
    "\n",
    "attn = DotProductAttention(dropout=0.5)\n",
    "attn.eval()\n",
    "attn(queries, keys, values, valid_lens)"
   ]
  },
  {
   "cell_type": "code",
   "execution_count": 9,
   "metadata": {},
   "outputs": [
    {
     "data": {
<<<<<<< HEAD
      "image/png": "iVBORw0KGgoAAAANSUhEUgAAAQQAAACQCAYAAADuiBXrAAAAOXRFWHRTb2Z0d2FyZQBNYXRwbG90bGliIHZlcnNpb24zLjcuMiwgaHR0cHM6Ly9tYXRwbG90bGliLm9yZy8pXeV/AAAACXBIWXMAAA9hAAAPYQGoP6dpAAAWSklEQVR4nO3dfVRUdf4H8Pe9d5gZSR5UUEIIVDTFpzQW0qRtVxNzV6XfdipjFVlX+7Xa9jv82ozUBtxKoUiO+EBayLr7K8q2xU6bHB/22KpHjm4uZULq4uCAMCSrAgPxIPP9/THLdR5A5t6ZcbjD53XO9xzv5c6dDyN8+N7vI8cYYyCEEAC8twMghAwclBAIISJKCIQQESUEQoiIEgIhREQJgRAiooRACBFRQiCEiFTeDoAQX9Pe3o7Ozk6H82q1Glqt1gsROY8SAiFu1N7ejhFD/NEGxwHAYWFh0Ov1AzopUEIgxI06OzvRBoY0DIUa3O3zYNhrNKKzs5MSAiGDzRCOg4a7nRAEBvRSaRhwKCEQ4gEqjoPKKiF0A5QQCBmsVJyl9Oj2XiiSUEIgxAP8eA5+VjUEM4MisgIlBEI8QLB7ZLjlxVikoIRAiAfYPzIo5RdNKXESoigqcFBZdTsq5RdNKXESoihqHlBb1RDMCuhhACghEOIRAgebNgRBCX2OoIRAiEdQGwIhRGQ/MMm6PWEgo4RAiAcInKWIx94LRRJKCIR4gB/HQW0zDoFqCIQMWgLHQbBpVKSEQMigxcN2OTKlLE1GCYEQD+A5DrxVDYGnGgIhgxd1OxJCRDw4m1oB1RAIGcQE2HU7KmOgIiUEQjyBs6shcFRDIGTw4jlLsT5WAkoIhHiAw9BlThkZgRICIR5AjYqEEJHDXAZl5ANKCIR4AtUQCCEiqiEQQkS83eQmnhoVCRm8HOYyUEIgZPASBA6C1eADgRICIYMXz1uKeOy9UCShhECIBwgCD8EqIyilUVFW4jp79izOnTsnHh84cADJycl49dVX0dnZ6bbgCFEqgeccilQ7duxAdHQ0tFotEhIScPr0aadeV1xcDI7jkJycLPk9ZSWE5557DhcvXgQAXL58Gc888wz8/f2xf/9+vPzyy3JuSYhP4TkOPG9VJLYhfPTRR0hPT4dOp8PZs2cxffp0JCUl4fvvv7/j66qrq/HSSy8hMTFRXtxyXnTx4kU88MADAID9+/fjkUcewQcffICioiL8+c9/lhUIIb6EEzjwVoWT+MzwzjvvYNWqVUhLS0NsbCwKCgrg7++PwsLCPl/T3d2NlJQUZGVlYezYsbLilpUQGGMwm80AgCNHjmDhwoUAgMjISDQ2NsoKhBBfYmlUtK4lOP/azs5OfPXVV5g3b57V/XjMmzcPp06d6vN1mzZtwsiRI7Fy5UrZcctqVIyLi8Prr7+OefPm4csvv8SuXbsAAHq9HqNGjZIdDCG+QiVwUFnVCno2amlubra5TqPRQKPR2JxrbGxEd3e3w+/SqFGj8N133/X6fidOnMD777+P8vJyl+KWVUPIy8vD2bNnsXbtWqxfvx4xMTEAgE8++QSzZ892KSBCfIFt7cBSAEstOigoSCybN292+b1aWlqwbNky7NmzByEhIS7dS1YNYdq0aTa9DD3eeustCIJS9qghxHN62g7E4//UEGpqahAYGCiet68dAEBISAgEQUBDQ4PN+YaGBoSFhTlcX1VVherqaixatEg81/NIr1KpcOHCBYwbN865uJ26qhc3b97Ee++9h4yMDFy/fh0AUFFR0W8rKCGDQV/djoGBgTalt4SgVqvx4IMP4ujRo+I5s9mMo0ePYtasWQ7XT5w4EefOnUN5eblYFi9ejJ/85CcoLy9HZGSk03HLqiF88803mDt3LoKDg1FdXY1Vq1Zh+PDh+PTTT2EwGLBv3z45t5XMbDajrq4OAQEB4BQyNJQoE2MMLS0tCA8PB+9EC6H1YwIA8Ezaz2d6ejpSU1MRFxeH+Ph45OXlobW1FWlpaQCA5cuXY/To0di8eTO0Wi2mTJli8/rg4GAAcDjfH1kJIT09HWlpacjJyUFAQIB4fuHChXj22Wfl3FKWuro6SdmPEFfV1NQgIiKi3+t4noMgyE8ITz/9NK5du4bXXnsNRqMRDzzwAEpLS8WGRoPB4FRikopjjEleIDooKAhnz57FuHHjEBAQgK+//hpjx47FlStXcP/996O9vd3tgfamqakJwcHBOBkTjaGC9A8n70JD/xfd6fX1lS69nihHc0sLIidMxs2bNxEUFNT3dc3NCAoKwpWHJiFQdbs9rflWN6LKKtHU1GTThjDQyKohaDQah+4TwDJgKTQ01OWgnNXzmDBU4BEgozFT7eIqNgP5P5Z4hrOPppzAg7P6I8VJ/7vrFbLqHIsXL8amTZvQ1dUFwPIhGQwGrFu3Dr/4xS/cGiAhSsTxvENRAllR5ubmwmQyYeTIkfjhhx/w4x//GDExMQgICMAbb7wh+X5yJ3EQMlBxfoJDUQJZjwxBQUE4fPgwTpw4gW+++QYmkwkzZ860GWrprJ5JHAUFBUhISEBeXh6SkpJw4cIFjBw5Uk54hHgdx9s9MpiV8cjg0noIc+bMwZw5c1wKwHoSBwAUFBTgr3/9KwoLC/HKK6+4dG9CvEbgAOuG7v8MFBronE4I27Ztw+rVq6HVarFt27Y7Xvvb3/7WqXv2TOLIyMgQz91pEkdHRwc6OjrE494aNgkZCBwaFc3KaENwOiFs3boVKSkp0Gq12Lp1a5/XcRzndEKQOolj8+bNyMrKcjZkQryGs5vyzJmVMXDO6YSg1+t7/ffdlJGRgfT0dPG4ubmZBiaRAYlTCeCsxiH4bLdjV1cXxo0bh8pK1wflSJ3EodFoHMaCEzIQ9TwyWBclkByln5+f20YiSp3EQYhi8LylUbGn+PI4hDVr1iA7Oxu3bt1yOYD09HTs2bMHf/jDH1BZWYnnn3/eZhIHIUqk1BqCrG7HM2fO4OjRozh06BCmTp2Ke+65x+brn376qdP36m8SByFK5NCG4MvjEIKDg906RHnt2rVYu3at2+5HiLc5dDv6cg1h79697o7DJfft24nAoff0f6GdnZ0d/V90B+3//V+yX6saNdyl9+aWPCP7tXzkBNfeO/Q+l14/GFi6HXmbYyWQnbZu3bqFI0eO4N1330VLSwsAy/oEJpPJbcERolgC71gUQFYN4cqVK1iwYAEMBgM6Ojrw2GOPISAgANnZ2ejo6EBBQYG74yREWTi7ngVOGQlBVpQvvvgi4uLicOPGDQwZMkQ8/8QTT9h0IRIyaKlUjkUBZCWE48ePY8OGDVCr1Tbno6OjcfXqVafv8/e//x2LFi1CeHg4OI5DSUmJnHAIGXgEwbEogKyEYDab0d3d7XC+trbWZo3F/rS2tmL69OnYsWOHnDAIGbh69oO3Lgogqx4zf/585OXlYffu3QAsE5pMJhN0Op24rZszHn/8cTz++ONyQiBkYLOvFQg+Nv3ZWm5uLpKSkhAbG4v29nY8++yzuHTpEkJCQvDhhx+6O0ZClIfnbGsFMraD9wZZCSEiIgJff/01iouLxRWTVq5ciZSUFJtGRnej9RCIUnCCCpxVQyJ3y4drCIBli6hf/vKX7oylX7QeAlEM+3YDX25D6G9npuXLl8sKpj+0HgJRDIc2BGX0MshKCC+++KLNcVdXF9ra2qBWq+Hv7++xhNDb1tmEDEiDqYZw48YNh3OXLl3C888/j9/97ndO38dkMuFf//qXeKzX61FeXo7hw4fjvvtovDxRMPvBSCpltCG4LW2NHz8eW7Zscag93Mk//vEPzJgxAzNmzABgWRthxowZeO2119wVFiHeIfB2A5N8uIbQ581UKtTV1Tl9/aOPPgoZW0sSMvANpkeGzz77zOaYMYb6+nps374dDz/8sFsCc0ZPMmk2tcq7gYvTnzs75a8Yperocum9udY22a/lW1ybkcppBl93b/N/ZvQ6/QeMt2tU5KU3Ku7YsQNvvfUWjEYjpk+fjvz8fMTHx/d67Z49e7Bv3z58++23AIAHH3wQb775Zp/X90VWQkhOTrY55jgOoaGh+OlPf4rc3Fw5t5SlZ9p11NxBuJ9k/gFvRzAotbS03HH3ZxEv2CYBiQlB6o5mx44dw9KlSzF79mxotVpkZ2dj/vz5OH/+PEaPHu30+8raDr7HtWvXoFarnfuAPMBsNqOurg4BAQG97srb0y1ZU1NDKzQ7iT6z3jHG0NLSgvDwcPB3qP73bAd/Pe9/ETjkdo9Y8w8dGP4/uU5vB5+QkIAf/ehH2L59OwDLz3pkZCReeOEFp3Y06+7uxrBhw7B9+3ZJvX6Sawg3b97E+vXr8dFHH4m9DaGhoUhLS8PGjRvh7+8v9Zay8TyPiIiIfq+jJdulo8/MkaQ/fC6MQ5C6o1lv2tra0NXVheHDpa3MJSkhXL9+HbNmzcLVq1eRkpKCSZMmAQAqKiqQn59vswFsWVmZ0zs4EeJzeN7ukcFSq7Afbt/b2BqpO5r1Zt26dQgPD5e8AbOkhLBp0yao1WpUVVU5BLtp0ybMnz8fy5Ytw6FDh/rd/5EQn9ZHDcF+ZK1Op0NmZqZb33rLli0oLi7GsWPHoNVqJb1WUkIoKSnBu+++2+sS6WFhYcjJycHChQuh0+mQmpoqKRBP0Gg00Ol0NLpRAvrM3KSPXgb7tpnePmepO5pZe/vtt7FlyxYcOXIE06ZNkx62lIvr6+sxefLkPr8+ZcoU8DwPnU4nORBP0Gg0yMzMpB9uCegzcxPBz7EADlsR9vY5y93RLCcnB7///e9RWlqKuLg4WWFLSgghISGorq7u8+t6vb7XLhFCBh0XV13ub0ez5cuX2zQ6ZmdnY+PGjSgsLER0dDSMRiOMRqPkVdAlPTIkJSVh/fr1OHz4sMN6ih0dHdi4cSMWLFggKQBCfJKLsx3729HMYDDYdH/u2rULnZ2dePLJJ23uI7WNQtI4hNraWsTFxUGj0WDNmjWYOHEiGGOorKzEzp070dHRgTNnztDEJDJoieMQ/i8Hgf63FwtqbvsBw1NednocgrdIqiFERETg1KlT+M1vfoOMjAxxGCfHcXjsscewfft2SgaEAIDKz1LEY9c3Rr4bJM+4GDNmDA4ePIjGxkaUlZWhrKwM165dQ2lpKWJiYjwRoyw7duxAdHQ0tFotEhIScPr0aW+HNKBlZmaC4zibMnHiRG+HpVwKXYZd9mzHYcOGSZ44cbdIHQdOLCZPnowjR46IxyqFbC4yIHF2cxk4ZSQEZczJlOidd97BqlWrkJaWhtjYWBQUFMDf3x+FhYXeDm1AU6lUCAsLE0tISIi3Q1IuhdYQfC4h9IwDtx6yKXUc+GB16dIlhIeHY+zYsUhJSYHBYPB2SMrVM3RZLMr4VVNGlBLcaRy40Wj0UlQDX0JCAoqKilBaWopdu3ZBr9cjMTFRnGJOJFLo3o7KiJJ4nPUOWtOmTUNCQgKioqLw8ccfY+XKlV6MTKFcXA/BW3wuIbgyDpzcFhwcjAkTJtgsgkucx/ECOKskwCkkIfjcI4PcceDElslkQlVVFe69915vh6JMvMqxKIAyopQoPT0dqampiIuLQ3x8PPLy8mzGgRNHL730EhYtWoSoqCjU1dVBp9NBEAQsXbrU26Epk2DXbiAo41dNGVFK1N84cOKotrYWS5cuxb///W+EhoZizpw5KCsrQ2hoqLdDU6Y+FkgZ6FxaU5EQYqtnLsONEwcQOPSe2+dNrRg2Z4lvzWUghDiJehkIISJKCISQHpzKD5zVbEfrfw9klBAI8QSFNipSQiDEExQ625ESAiGe4OISat5CCYEQT6BGRUKIiBICIUTE8ZZifawAyoiS9GrFihVITk62OffJJ59Aq9UiNzfXO0ERC45zLApANQQf8t5772HNmjUoKCigiVzexnO2XY28MhIC1RB8RE5ODl544QUUFxeLyeDAgQOYOXMmtFotxo4di6ysLNy6ZVkO/Fe/+hV+/vOf29yjq6sLI0eOxPvvvw/AUtuYOnUqhgwZghEjRmDevHlobW29u9+YUnGCY1EAqiH4gHXr1mHnzp34/PPPMXfuXADA8ePHsXz5cmzbtg2JiYmoqqrC6tWrAVh28/n1r3+NRx55BPX19eKaB59//jna2trw9NNPo76+HkuXLkVOTg6eeOIJtLS04Pjx46C5cE7iebsagkL+9jKiWKmpqUytVjMA7OjRozZfmzt3LnvzzTdtzv3xj39k9957r3gcGxvLsrOzxeNFixaxFStWMMYY++qrrxgAVl1d7cHvwPc0NTUxAKzp8nnGrhnE0nT5vOV8U5O3Q7wjmv6sYCtWrMD58+fR2NiIiIgIHDx4EEOHDgUAhIaGwmQyQbAaENPd3Y329na0trbC398fW7duxe7du1FZWYmGhgZERETgb3/7GxITE9Hd3Y2kpCScPn0aSUlJmD9/Pp588kkMGzbMW9+uIvRMf27SVyIwIOD2+ZYWBI2ZNOCnPyukHkP6Mnr0aBw7dgxXr17FggULxFWSTSYTsrKyUF5eLpZz587h0qVL0Gq1ACw7CF++fBmnTp3Cn/70J4wZMwaJiYkAAEEQcPjwYRw8eBCxsbHIz8/H/fffD71e77XvVVE4/vZjA89TtyO5e6KiovDll1/CaDSKSWHmzJm4cOECYmJiHErPrsEjRoxAcnIy9u7di6KiIoeeCY7j8PDDDyMrKwv//Oc/oVar8Ze//MUb36Ly8LxjkUjqdoT79+/HxIkTodVqMXXqVHzxxRfS4/b2MwuRLzU1lS1ZskQ8rqmpYTExMWzWrFmspKSEqVQqlpmZyb799ltWUVHBPvzwQ7Z+/Xqbexw6dIip1WomCAK7evWqeL6srIy98cYb7MyZM+zKlSvs448/Zmq1mn3xxRd369tTJLENoaaKsabvxdJUUyWpDaG4uJip1WpWWFjIzp8/z1atWsWCg4NZQ0NDr9efPHmSCYLAcnJyWEVFBduwYQPz8/Nj586dkxQ/JQQFs08IjDFWW1vLxo8fzx566CFWUlLCZs+ezYYMGcICAwNZfHw82717t831ZrOZRUVFsYULF9qcr6ioYElJSSw0NJRpNBo2YcIElp+f7+lvSfHEhFCrZ6y5USxNtXpJCSE+Pp6tWbNGPO7u7mbh4eFs8+bNvV7/1FNPsZ/97Gc25xISEthzzz0nKX7qdlSwoqIih3OjR4/GxYsXxeMlS5bc8R6tra24ceOGw2YskyZNQmlpqVviHJRcGJjUsx1hRkbG7Zf3sx3hqVOnkJ6ebnMuKSkJJSUlksKmhDBImc1mNDY2Ijc3F8HBwVi8eLG3Q/IpzaZWm4bEZpNlQFdzc7PNdRqNBhqNxubcnbYj/O6773p9P6PR6JbtCykhDFIGgwFjxoxBREQEioqKaOt3N1Gr1QgLC0PkhMkOXxs6dCgiIyNtzul0OmRmZt6l6PpHPwWDVHR0NI069ACtVgu9Xo/Ozk6HrzHGwNlNcrKvHQDytiMMCwtzy/aF1O1IiJtptVoEBgY6lKCgIIdzvSUEOdsRzpo1y+Z6ADh8+LD07QslNUESQu6K4uJiptFoWFFREauoqGCrV69mwcHBzGg0MsYYW7ZsGXvllVfE60+ePMlUKhV7++23WWVlJdPpdLK6HemRgZABqL/tCA0GgzjADABmz56NDz74ABs2bMCrr76K8ePHo6SkBFOmTJH0vjSXgRAiojYEQoiIEgIhREQJgRAiooRACBFRQiCEiCghEEJElBAIISJKCIQQESUEQoiIEgIhREQJgRAiooRACBH9P2jpBJbZua3NAAAAAElFTkSuQmCC",
=======
      "image/png": "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",
>>>>>>> 87041acea61d555cb6265a161f9a9763322e0b3e
      "text/plain": [
       "<Figure size 250x250 with 2 Axes>"
      ]
     },
     "metadata": {},
     "output_type": "display_data"
    }
   ],
   "source": [
    "from d2l_common import show_heatmaps\n",
    "\n",
    "show_heatmaps(attn.attn_weights.reshape((1, 1, 2, 10)), xlabel='Keys', ylabel='Queries')"
   ]
  },
  {
   "cell_type": "code",
   "execution_count": 9,
   "metadata": {},
   "outputs": [],
   "source": [
    "class AdditiveAttention(nn.Module):\n",
    "    \"\"\"Additive attention.\"\"\"\n",
    "    def __init__(self, num_hiddens, dropout, **kwargs):\n",
    "        super().__init__()\n",
    "        self.W_k = nn.LazyLinear(num_hiddens, bias=False)\n",
    "        self.W_q = nn.LazyLinear(num_hiddens, bias=False)\n",
    "        self.W_v = nn.LazyLinear(1, bias=False)\n",
    "        self.dropout = nn.Dropout(dropout)\n",
    "    def forward(self, queries, keys, values, valid_lens):\n",
    "        queries, keys = self.W_q(queries), self.W_k(keys)\n",
    "        # queries=(batch_size, no. of queries, 1, num_hiddens)\n",
    "        # keys=(batch_size, 1, no. of key-value pair, num_hiddens)\n",
    "        features = queries.unsqueeze(2) + keys.unsqueeze(1)\n",
    "        features = F.tanh(features)\n",
    "        # scores = (batch_size, no. of queries, no. of key-value pair)\n",
    "        scores = self.W_v(features).squeeze(-1)\n",
    "        self.attn_weights = masked_softmax(scores, valid_lens)\n",
    "        return self.dropout(self.attn_weights) @ values"
   ]
  },
  {
   "cell_type": "code",
   "execution_count": 11,
   "metadata": {},
   "outputs": [
    {
     "name": "stdout",
     "output_type": "stream",
     "text": [
      "torch.Size([2, 1, 20])\n"
     ]
    },
    {
     "name": "stderr",
     "output_type": "stream",
     "text": [
      "/Users/tangyun/opt/miniconda3/envs/rl/lib/python3.10/site-packages/torch/nn/modules/lazy.py:180: UserWarning: Lazy modules are a new feature under heavy development so changes to the API or functionality can happen at any moment.\n",
      "  warnings.warn('Lazy modules are a new feature under heavy development '\n"
     ]
    },
    {
     "data": {
      "text/plain": [
       "torch.Size([2, 1, 4])"
      ]
     },
     "execution_count": 11,
     "metadata": {},
     "output_type": "execute_result"
    }
   ],
   "source": [
    "queries = torch.normal(0, 1, (2, 1, 20))\n",
    "print(queries.shape)\n",
    "\n",
    "attention = AdditiveAttention(num_hiddens=8, dropout=0.1)\n",
    "attention.eval()\n",
    "\n",
    "# keys = (2,10,2)\n",
    "# values = (2,10,4) \n",
    "# (2,1,20)->(2,1,1)\n",
    "# (2,10,2)->(2,1,10)\n",
    "# ->(2,1,10) @ (2,10,4) -> (2,1,4)\n",
    "attention(queries, keys, values, valid_len).shape"
   ]
  },
  {
   "cell_type": "code",
   "execution_count": 12,
   "metadata": {},
   "outputs": [
    {
     "data": {
      "image/png": "iVBORw0KGgoAAAANSUhEUgAAAQQAAACQCAYAAADuiBXrAAAAOXRFWHRTb2Z0d2FyZQBNYXRwbG90bGliIHZlcnNpb24zLjUuMSwgaHR0cHM6Ly9tYXRwbG90bGliLm9yZy/YYfK9AAAACXBIWXMAAA9hAAAPYQGoP6dpAAAVy0lEQVR4nO3dfVBU1/kH8O+9d9ldkXdFkZf4bgxGE6yRYCBNq5XEBF/aTK3aoJRo/lCTCTExGiuSxiI0voyahryopOkYEo1iJ02sL62pOmRio0QjRixCFhSI5GdZFuTF3fP7Y7OXfUHZe9l198DzmTkz3MPdu88y8HDuOeeeIzDGGAghBIDo6wAIIf6DEgIhREYJgRAio4RACJFRQiCEyCghEEJklBAIITJKCIQQmcbXARDS27S2tqK9vd2lXqvVQq/X+yAi91FCIMSDWltbMaBfIFrgOgE4KioKlZWVfp0UKCEQ4kHt7e1oAUMGgqCF0FkPhl11dWhvb6eEQEhf008QoBM6E4LEgC4aDX6HEgIhXqARBGjsEoIZoIRASF+lEazFxuy7UBShhECIFwSIAgLsWggWBi6yAiUEQrxAcrpluOnDWJSghECIFzjfMvDyh8ZLnIRwRQMBGrthR17+0HiJkxCuaEVAa9dCsHAwwgBQQiDEKyQBDn0IEg9jjqCEQIhXUB8CIUTmPDHJvj/Bn1FCIMQLJMFa5GPfhaIIJQRCvCBAEKB1mIdALQRC+ixJECA5dCpSQiCkzxLhuBwZL0uTUUIgxAtEQYBo10IQqYVASN/F67AjLy0ZQrgiQnApSr3xxhsYNmwY9Ho9EhMT8eWXX7r1uqKiIgiCgNmzZyt+T0oIhHiBhM6hR0lQPuz44YcfIisrC9nZ2Th9+jTuu+8+pKam4vvvv7/t66qqqrBixQqkpKSoipsSAiFeIDi1DgSFLYRNmzZh8eLFyMjIQHx8PAoKChAYGIidO3fe8jVmsxkLFixATk4ORowYoSpuSgiEeIEouBZ3tbe346uvvsK0adM6ryeKmDZtGkpKSm75uldffRWDBg1CZmam6rh56esghCsuU5d//NpoNDqcp9PpoNPpHOoaGhpgNpsxePBgh/rBgwfj22+/7fL9Tpw4gR07dqC0tLRHcVMLgRAvuFWnYlxcHEJDQ+WSm5vb4/dqamrCU089hXfeeQcDBw7s0bWohUCIF7g8y/Dj19XV1QgJCZHrnVsHADBw4EBIkoT6+nqH+vr6ekRFRbmcX1FRgaqqKqSlpcl1FosFAKDRaHDx4kWMHDnSrbiphUCIF9yqhRASEuJQukoIWq0WP/nJT3D06FG5zmKx4OjRo0hKSnI5f+zYsTh37hxKS0vlMnPmTPzsZz9DaWkp4uLi3I6bWgiEeMGtWgjuysrKwsKFCzFp0iRMnjwZW7ZsQXNzMzIyMgAA6enpiImJQW5uLvR6Pe69916H14eFhQGAS313KCEQ4gWi08NN9tOY3TF37lxcu3YNa9euRV1dHe6//34cPHhQ7mg0GAwQRc838AXGGB9rOxHCAaPRiNDQUBwbHIsguz9Yk8WCR+pr0NjY6NCH4G+ohUCIF0iSAMlu8oGksIXgK5QQCPECUbQW+dh3oShCCYEQL5AkEZJdRlDaqegrlBAI8QJJdLpl4GQ9BFUtmdOnT+PcuXPy8YEDBzB79mysXr0a7e3tHguOEF6JggBRtCuc9CGoSgjPPPMMysvLAQCXL1/Gb37zGwQGBmLPnj146aWXPBogITwSJAGiXRE4uWdQlRDKy8tx//33AwD27NmDhx9+GLt370ZhYSE+/vhjT8ZHCJesnYr2rQRfR+QeVX0IjDF5rvSRI0fwxBNPALA+uNHQ0OC56AjhlEYSoLFrFfCyUYuqvDVp0iS89tpreP/99/H555/j8ccfBwBUVla6PLJJSF/k2DqwFh6oSghbtmzB6dOnsWzZMrzyyisYNWoUAGDv3r2YMmWKRwMkhEeiUx+CyEkfgkenLre2tkKSJAQEBHjqkoRwxTZ1+VLCGARLnSspNpnNGH2mvPdOXf7f//6HvXv3oqKiAi+++CIiIiJQVlaGwYMHIyYmxpMx3pLFYsHVq1cRHBwMgZNhHcInxhiampoQHR3t1kNFzrcJIuPj91NVQjh79iymTp2KsLAwVFVVYfHixYiIiMC+fftgMBjwl7/8xdNxdunq1auKnvUmpKeqq6sRGxvb7XmiKECS+khCyMrKQkZGBvLz8xEcHCzXz5gxA/Pnz/dYcN2xvfcCBEKrohe3p7PHNtaW9ej1hB/GpibEjRnn8Pt+O879Br06IZw6dQpvvfWWS31MTAzq6up6HJS7bLcJWgg+SQj+fC9IvMPdW1NBEiFInbcWAierDKhKCDqdzmX1WMA6YSkyMrLHQRHCO0EUIdj1NQgiHwlB1bDjzJkz8eqrr6KjowOANWsaDAasXLkSv/rVrxRfT+2WVYT4KyFAcik8UJUQNm7cCJPJhEGDBuHGjRv46U9/ilGjRiE4OBjr169XdC21W1YR4s8EUZRvGwTJsbXgz1TdMoSGhuLw4cM4ceIEzp49C5PJhIkTJzrsNOMu+y2rAKCgoAB///vfsXPnTrz88stqwiPE9yQBsOtDwI9T/f1dj9ZDSE5ORnJysurX27asWrVqlVx3uy2r2tra0NbWJh931Y9BiD9w6VS09LIWwtatW7FkyRLo9Xps3br1tuc+++yzbl1T6ZZVubm5yMnJcTdkQnxGcHrkWbD0smHHzZs3Y8GCBdDr9di8efMtzxMEwe2EoNSqVauQlZUlHxuNRpqYRPySoJEgaDo7EnvdsGNlZWWXX/eE0i2rutoYkxB/xOstg+IoOzo6MHLkSFy4cKHHb650yypCuCGK1k5FW+mtowwBAQFobW31WADdbVlFCI9cWghSL00IALB06VLk5eXh3XffhUbTs4Wbu9uyihAeufQhWHpZH4K9U6dO4ejRozh06BDGjx+P/v37O3x/3759iq63bNkyLFu2TE0ohPilPtVCCAsLUzVF2Vuev2eww2IU7urfv2cLuRiSJqt+7V0lND27N7MOO4oOxzxQlRB27drl6TgI6V1snYn2xxxQHeXNmzdx5MgRvPXWW2hqagJgXbDEZDJ5LDhCuCWInRs8iqL1mAOqWgjfffcdHn30URgMBrS1teEXv/gFgoODkZeXh7a2NhQUFHg6TkL4otFYi42Zj05FVWnrueeew6RJk3D9+nX069dPrp8zZ47DnILu/Pvf/0ZaWhqio6MhCAKKi4vVhEOI/5Ek18IBVQnh+PHjWLNmDbRarUP9sGHDcOXKFbev09zcjPvuuw9vvPGGmjAI8V+i6Fo4oOqWwWKxwGw2u9TX1NS4veYcADz22GN47LHH1IRAiH9zbhVIfDz+rCptTZ8+HVu2bJGPBUGAyWRCdnY2ZsyY4anYCOGXKDi1EPgYdlS9YtLJkycRHx+P1tZWzJ8/X75dyMvL83SMsra2NhiNRodCiD8SJA0EjV2RlDfGlSwt+M477yAlJQXh4eEIDw/HtGnTVC1FqCohxMbG4uuvv8bq1avx/PPPIyEhARs2bMCZM2cwaNAgNZd0S25uLkJDQ+VCjz4Tv9XDPgSlSwseO3YM8+bNw7/+9S+UlJQgLi4O06dPV9SnB3h4K7eeEAQB+/fvx+zZs295TlcrJsXFxeHsPSN8MlPxxo2bql9LMxX5YjQaETrkrm63YrNt5fZ/v1+IEH1np7uxtR0Rf3jP7a3cEhMT8cADD2D79u0ArP12cXFxWL58uVtLC5rNZoSHh2P79u1IT0934xNaqepU7G5nJiUBKEHrIRBuOLcKFLQQlC4t2JWWlhZ0dHQgIiLC7fcFVCaE5557zuG4o6MDLS0t0Gq1CAwMdDshmEwm/Pe//5WPKysrUVpaioiICNx1111qQiPEPzhPTNJYRxmc+726+iendGnBrqxcuRLR0dGKFz5W1Ydw/fp1h2IymXDx4kUkJyfjgw8+cPs6//nPf5CQkICEhAQA1rUREhISsHbtWjVhEeI/JNFpYpL1Ty0uLs6hHyw3N9fjb71hwwYUFRVh//790Ov1il7bs8UM7IwePRobNmzAb3/7W7ez2COPPAI/6cIgxLNucctQXV3t0IfQ1S2w0qUF7b3++uvYsGEDjhw5ggkTJigO22MJAQA0Gg2uXr3qyUveli2ZmMzqJn1YbvZs9tiNLiZnuYuGTPli/PEBPrf/gYlOE5NE69chISHddiraLy1o62S3LS14u3VD8vPzsX79evzjH//ApEmT3IvTiaqE8Le//c3hmDGG2tpabN++HQ899JCqQNSwPWU5pbzqjr2nxwyhPhIeNTU1ITQ0tPsTRUlOAvKxAt0tLZieno6YmBj5liMvLw9r167F7t27MWzYMHnT5aCgIAQFBbn9vqoSgvPQoCAIiIyMxM9//nNs3LhRzSVViY6ORnV1NYKDg7vcldc2LOncTCO3Rj+zrjHG0NTUhOjoaPde4NKpqKw12d3SggaDAaLdLcmbb76J9vZ2PPnkkw7Xyc7Oxrp169x+X7+Zh+ANtjFhd8d+Cf3Mekqeh7DtJYT06+wfMN5oQ8TyfL//uapqIdhvltKdTZs2qXkLQvgmik63DL34acczZ87g9OnTuHnzJu6++24AQHl5OSRJwsSJE+XzumrGE9InuDztyMd6CKoSQlpaGoKDg/Hee+8hPDwcgHVuQkZGBlJSUvDCCy94NEi1dDodsrOzaXajAvQz85BbjDL4O1V9CDExMTh06BDGjRvnUP/NN99g+vTpd3TokRB/Ivch7PgDQgI7JwUZW1oRkfn73tmHYDQace3aNZf6a9euyUOBhPRpfWnV5Tlz5iAjIwP79u1DTU0Nampq8PHHHyMzMxO//OUvPR0jIfzhdE1FVS2EgoICrFixAvPnz0dHR4f1QhoNMjMz8ac//cmjARLCJU5HGXo0D6G5uRkVFRUAgJEjR7ps6UZIXyP3IXy4GSGBnSuSG1tuIGLu837fh9CjtNW/f39MmDABEyZM8LtkoGT5KQKsW7cOgiA4lLFjx/o6LH5xesvARztGIaXLTxGrcePGoba2Vi4nTpzwdUj8EqTO5xlEyXrMgV6ZEDZt2oTFixcjIyMD8fHxKCgoQGBgIHbu3Onr0PyaRqNBVFSUXAYOHOjrkPhFLQT/YFt+yn6lGKXLT/VVly5dQnR0NEaMGIEFCxbAYDD4OiR+2ToV5cLHnxofUSpwu+WnbI+EEleJiYkoLCzEwYMH8eabb6KyshIpKSk0r0Qt29OO9oUDfERJvM5+B60JEyYgMTERQ4cOxUcffYTMzEwfRsapHq6H4Cu9LiH0ZPkp0iksLAxjxoxxWASXuE8QJQh2SUDgJCH0ulsG++WnbGzLTyUlJfkwMr6YTCZUVFRgyJAhvg6FT6LGtXCAjygV6m75KeJqxYoVSEtLw9ChQ3H16lVkZ2dDkiTMmzfP16HxSXLqN1CxlZsv8BGlQt0tP0Vc1dTUYN68efjhhx8QGRmJ5ORkfPHFF4iMjPR1aHzqi1OXCSGObFOXr584gJCgztm7RlMzwpNn+f3U5V7ZQiDE52iUgRAio4RACLERNAEQNAEOxzyghECIN3DaqUgJgRBvEJxuGTh52pESAiHe0JeWYSeEdIM6FQkhMkoIhBCZIFqL/TEH+IiSdGnRokUuO3Hv3bsXer3+ju7CTbogCK6FA9RC6EXeffddLF26FAUFBfQgl6+JguNQo8hHQqAWQi+Rn5+P5cuXo6ioSE4GBw4cwMSJE6HX6zFixAjk5OTg5s2bAIDf/e53eOKJJxyu0dHRgUGDBmHHjh0ArK2N8ePHo1+/fhgwYACmTZuG5ubmO/vBeCVIroUD1ELoBVauXIk///nP+OSTTzB16lQAwPHjx5Geno6tW7ciJSUFFRUVWLJkCQAgOzsbTz/9NB5++GHU1tbKax588sknaGlpwdy5c1FbW4t58+YhPz8fc+bMQVNTE44fPw56Fs5NoujUQuDkfy8j3Fq4cCHTarUMADt69KjD96ZOncr++Mc/OtS9//77bMiQIfJxfHw8y8vLk4/T0tLYokWLGGOMffXVVwwAq6qq8uIn6H0aGxsZANZ4+Txj1wxyabx83lrf2OjrEG+LHn/m2KJFi3D+/Hk0NDQgNjYWn332GYKCggAAkZGRMJlMkOwmxJjNZrS2tqK5uRmBgYHYvHkz3n77bVy4cAH19fWIjY3FP//5T6SkpMBsNiM1NRVffvklUlNTMX36dDz55JMIDw/31cflgu3x58bKCwgJDu6sb2pC6PB7/P7xZ07aMeRWYmJicOzYMVy5cgWPPvqovEqyyWRCTk4OSktL5XLu3DlcunQJer11m/L09HRcvnwZJSUl+Otf/4rhw4cjJSUFACBJEg4fPozPPvsM8fHx2LZtG+6++25UVlb67LNyRRA7bxtEkYYdyZ0zdOhQfP7556irq5OTwsSJE3Hx4kWMGjXKpYg/3s8OGDAAs2fPxq5du1BYWOgyMiEIAh566CHk5OTgzJkz0Gq12L9/vy8+In9E0bUopHQ7wj179mDs2LHQ6/UYP348Pv30U+Vx+/qehai3cOFCNmvWLPm4urqajRo1iiUlJbHi4mKm0WjYunXr2DfffMPKysrYBx98wF555RWHaxw6dIhptVomSRK7cuWKXP/FF1+w9evXs1OnTrHvvvuOffTRR0yr1bJPP/30Tn08Lsl9CNUVjDV+L5fG6gpFfQhFRUVMq9WynTt3svPnz7PFixezsLAwVl9f3+X5J0+eZJIksfz8fFZWVsbWrFnDAgIC2Llz5xTFTwmBY84JgTHGampq2OjRo9mDDz7IiouL2ZQpU1i/fv1YSEgImzx5Mnv77bcdzrdYLGzo0KFsxowZDvVlZWUsNTWVRUZGMp1Ox8aMGcO2bdvm7Y/EPTkh1FQyZmyQS2NNpaKEMHnyZLZ06VL52Gw2s+joaJabm9vl+b/+9a/Z448/7lCXmJjInnnmGUXx07AjxwoLC13qYmJiUF5eLh/PmjXrttdobm7G9evXXTZjueeee3Dw4EGPxNkn9WBikm07wlWrVnW+vJvtCEtKSpCVleVQl5qaiuLiYkVhU0LooywWCxoaGrBx40aEhYVh5syZvg6pVzGamh06Eo0m64Quo9HocJ5Op4NOp3Oou912hN9++22X71dXV+eR7QspIfRRBoMBw4cPR2xsLAoLC6HhZO9Bf6fVahEVFYW4MeNcvhcUFIS4uDiHuuzsbKxbt+4ORdc9+i3oo4YNG0azDr1Ar9ejsrIS7e3tLt9jjEFwesjJuXUAqNuOMCoqyiPbF9KwIyEeptfrERIS4lJCQ0Nd6rpKCGq2I0xKSnI4HwAOHz6sfPtCRV2QhJA7oqioiOl0OlZYWMjKysrYkiVLWFhYGKurq2OMMfbUU0+xl19+WT7/5MmTTKPRsNdff51duHCBZWdnqxp2pFsGQvxQd9sRGgwGeYIZAEyZMgW7d+/GmjVrsHr1aowePRrFxcW49957Fb0vPctACJFRHwIhREYJgRAio4RACJFRQiCEyCghEEJklBAIITJKCIQQGSUEQoiMEgIhREYJgRAio4RACJFRQiCEyP4f/1cHxhMRIaQAAAAASUVORK5CYII=",
      "text/plain": [
       "<Figure size 250x250 with 2 Axes>"
      ]
     },
     "metadata": {},
     "output_type": "display_data"
    }
   ],
   "source": [
    "show_heatmaps(attention.attn_weights.reshape(1,1,2,10),xlabel='Keys',ylabel='queries')"
   ]
  },
  {
   "cell_type": "code",
   "execution_count": null,
   "metadata": {},
   "outputs": [],
   "source": [
    "class AdaptiveAttention(nn.Module):\n",
    "    "
   ]
  }
 ],
 "metadata": {
  "kernelspec": {
   "display_name": "m2",
   "language": "python",
   "name": "python3"
  },
  "language_info": {
   "codemirror_mode": {
    "name": "ipython",
    "version": 3
   },
   "file_extension": ".py",
   "mimetype": "text/x-python",
   "name": "python",
   "nbconvert_exporter": "python",
   "pygments_lexer": "ipython3",
   "version": "3.10.11"
  },
  "orig_nbformat": 4
 },
 "nbformat": 4,
 "nbformat_minor": 2
}
