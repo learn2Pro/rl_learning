{
 "cells": [
  {
   "cell_type": "code",
   "execution_count": 1,
   "metadata": {},
   "outputs": [],
   "source": [
    "import torch\n",
    "from torch import nn\n",
    "import torch.nn.functional as F"
   ]
  },
  {
   "cell_type": "code",
   "execution_count": 2,
   "metadata": {},
   "outputs": [
    {
     "name": "stdout",
     "output_type": "stream",
     "text": [
      "torch.Size([2])\n",
      "tensor([[2],\n",
      "        [3]])\n"
     ]
    },
    {
     "data": {
      "text/plain": [
       "tensor([[ True,  True, False, False, False, False, False, False, False, False],\n",
       "        [ True,  True,  True, False, False, False, False, False, False, False]])"
      ]
     },
     "execution_count": 2,
     "metadata": {},
     "output_type": "execute_result"
    }
   ],
   "source": [
    "valid_len = torch.tensor([2, 3])\n",
    "print(valid_len.shape)\n",
    "print(valid_len[:, None])\n",
    "torch.arange((10), dtype=torch.float32)[None, :] < valid_len[:,None]"
   ]
  },
  {
   "cell_type": "code",
   "execution_count": 3,
   "metadata": {},
   "outputs": [],
   "source": [
    "def masked_softmax(X, valid_lens):\n",
    "    def _sequence_mask(X, valid_len, value=0):\n",
    "        mask = torch.arange(X.shape[-1]) < valid_len.view(-1, 1)\n",
    "        X[~mask] = value\n",
    "        return X\n",
    "\n",
    "    if valid_lens is None:\n",
    "        return F.softmax(X, dim=-1)\n",
    "    else:\n",
    "        shape = X.shape\n",
    "        if valid_lens.dim() == 1:\n",
    "            valid_lens = torch.repeat_interleave(valid_lens, shape[1])\n",
    "        else:\n",
    "            valid_lens = valid_lens.view(-1)\n",
    "        X = _sequence_mask(X.view(-1, shape[-1]), valid_lens, value=-1e6)\n",
    "        return F.softmax(X.view(shape), dim=-1)\n",
    "\n",
    "\n",
    "# torch.randn(2, 3).size(2)\n",
    "# _sequence_mask(torch.randn(2, 3), torch.tensor([1, 2]))"
   ]
  },
  {
   "cell_type": "code",
   "execution_count": 4,
   "metadata": {},
   "outputs": [
    {
     "data": {
      "text/plain": [
       "tensor([[[0.8649, 0.1351, 0.0000, 0.0000],\n",
       "         [0.7760, 0.2240, 0.0000, 0.0000]],\n",
       "\n",
       "        [[0.0567, 0.7183, 0.2250, 0.0000],\n",
       "         [0.3782, 0.3354, 0.2863, 0.0000]]])"
      ]
     },
     "execution_count": 4,
     "metadata": {},
     "output_type": "execute_result"
    }
   ],
   "source": [
    "masked_softmax(torch.randn(2,2,4), torch.tensor([2,3]))"
   ]
  },
  {
   "cell_type": "code",
   "execution_count": 5,
   "metadata": {},
   "outputs": [
    {
     "data": {
      "text/plain": [
       "torch.Size([2, 3, 6])"
      ]
     },
     "execution_count": 5,
     "metadata": {},
     "output_type": "execute_result"
    }
   ],
   "source": [
    "Q = torch.ones(2,3,4)\n",
    "K = torch.ones(2,4,6)\n",
    "(Q@K).shape"
   ]
  },
  {
   "cell_type": "markdown",
   "metadata": {},
   "source": [
    "$\\mathcal{Attention} = \\mathcal{softmax}(\\frac{QK^T}{\\sqrt{d}})V$"
   ]
  },
  {
   "cell_type": "code",
   "execution_count": 6,
   "metadata": {},
   "outputs": [],
   "source": [
    "class DotProductAttention(nn.Module):\n",
    "    def __init__(self, dropout=0.0) -> None:\n",
    "        super().__init__()\n",
    "        self.dropout = dropout\n",
    "\n",
    "    def forward(self, queries, keys, values, valid_len=None):\n",
    "        d = queries.shape[-1]\n",
    "        scores = queries@keys.transpose(1,2) / d**0.5\n",
    "        self.attn_weights = masked_softmax(scores, valid_len)\n",
    "        print(self.attn_weights)\n",
    "        return self.attn_weights@values\n"
   ]
  },
  {
   "cell_type": "code",
   "execution_count": 7,
   "metadata": {},
   "outputs": [
    {
     "name": "stdout",
     "output_type": "stream",
     "text": [
      "tensor([[[0.4057, 0.5943, 0.0000, 0.0000, 0.0000, 0.0000, 0.0000, 0.0000,\n",
      "          0.0000, 0.0000]],\n",
      "\n",
      "        [[0.0958, 0.1081, 0.3159, 0.2771, 0.1308, 0.0722, 0.0000, 0.0000,\n",
      "          0.0000, 0.0000]]])\n"
     ]
    },
    {
     "data": {
      "text/plain": [
       "tensor([[[ 0.3561, -0.4920,  0.7572,  1.2899]],\n",
       "\n",
       "        [[-0.1992,  0.0247,  0.1734, -0.4909]]])"
      ]
     },
     "execution_count": 7,
     "metadata": {},
     "output_type": "execute_result"
    }
   ],
   "source": [
    "queries = torch.normal(0, 1, (2, 1, 2))\n",
    "keys = torch.normal(0, 1, (2, 10, 2))\n",
    "values = torch.normal(0, 1, (2, 10, 4))\n",
    "valid_lens = torch.tensor([2, 6])\n",
    "\n",
    "attn = DotProductAttention(dropout=0.5)\n",
    "attn.eval()\n",
    "attn(queries, keys, values, valid_lens)"
   ]
  },
  {
   "cell_type": "code",
   "execution_count": 9,
   "metadata": {},
   "outputs": [
    {
     "data": {
      "image/png": "[encoded data removed]",
      "text/plain": [
       "<Figure size 250x250 with 2 Axes>"
      ]
     },
     "metadata": {},
     "output_type": "display_data"
    }
   ],
   "source": [
    "from d2l_common import show_heatmaps\n",
    "\n",
    "show_heatmaps(attn.attn_weights.reshape((1, 1, 2, 10)), xlabel='Keys', ylabel='Queries')"
   ]
  },
  {
   "cell_type": "code",
   "execution_count": null,
   "metadata": {},
   "outputs": [],
   "source": [
    "class AdaptiveAttention(nn.Module):\n",
    "    "
   ]
  }
 ],
 "metadata": {
  "kernelspec": {
   "display_name": "m2",
   "language": "python",
   "name": "python3"
  },
  "language_info": {
   "codemirror_mode": {
    "name": "ipython",
    "version": 3
   },
   "file_extension": ".py",
   "mimetype": "text/x-python",
   "name": "python",
   "nbconvert_exporter": "python",
   "pygments_lexer": "ipython3",
   "version": "3.10.13"
  },
  "orig_nbformat": 4
 },
 "nbformat": 4,
 "nbformat_minor": 2
}
