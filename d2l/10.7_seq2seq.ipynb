{
 "cells": [
  {
   "cell_type": "code",
   "execution_count": 1,
   "metadata": {},
   "outputs": [],
   "source": [
    "import torch\n",
    "from torch import nn\n",
    "import torch.nn.functional as F"
   ]
  },
  {
   "cell_type": "code",
   "execution_count": 2,
   "metadata": {},
   "outputs": [],
   "source": [
    "def init_seq2seq(module):\n",
    "    if type(module) == nn.Linear:\n",
    "        nn.init.xavier_uniform_(module.weight)\n",
    "    elif type(module) == nn.GRU:\n",
    "        for param in module._flat_weights_names:\n",
    "            if 'weight' in param:\n",
    "                nn.init.xavier_uniform_(module._parameters[param])"
   ]
  },
  {
   "cell_type": "code",
   "execution_count": 3,
   "metadata": {},
   "outputs": [
    {
     "name": "stdout",
     "output_type": "stream",
     "text": [
      "torch.Size([2, 4])\n"
     ]
    },
    {
     "data": {
      "text/plain": [
       "torch.Size([2, 4, 3])"
      ]
     },
     "execution_count": 3,
     "metadata": {},
     "output_type": "execute_result"
    }
   ],
   "source": [
    "embedding = nn.Embedding(10, 3)\n",
    "input = torch.LongTensor([[1, 2, 4, 5], [4, 3, 2, 9]])\n",
    "print(input.shape)\n",
    "embedding(input).shape"
   ]
  },
  {
   "cell_type": "code",
   "execution_count": 4,
   "metadata": {},
   "outputs": [],
   "source": [
    "from d2l_common import Encoder, Decoder\n",
    "\n",
    "\n",
    "class Seq2SeqEncoder(Encoder):\n",
    "    \"\"\"The RNN encoder for sequence-to-sequence learning.\"\"\"\n",
    "\n",
    "    def __init__(self, vocab_size, embed_size, num_hiddens, num_layers, dropout=0, device='cpu'):\n",
    "        super().__init__()\n",
    "        self.vocab_size = vocab_size\n",
    "        self.embedding = nn.Embedding(vocab_size, embed_size).to(device)\n",
    "        self.rnn = nn.GRU(embed_size, num_hiddens, num_layers, dropout=dropout).to(device)\n",
    "        self.apply(init_seq2seq)\n",
    "\n",
    "    def forward(self, X, *args):\n",
    "        # X shape: (batch_size, num_steps)\n",
    "        embs = self.embedding(X.T.type(torch.int64))\n",
    "        # embs.shape = (num_steps, batch_size, embed_size)\n",
    "        outputs, state = self.rnn(embs)\n",
    "        # outputs.shape = (num_steps, batch_size, num_hiddens)\n",
    "        # state.shape = (num_layers, batch_size, num_hiddens)\n",
    "        return outputs, state"
   ]
  },
  {
   "cell_type": "code",
   "execution_count": 5,
   "metadata": {},
   "outputs": [
    {
     "data": {
      "text/plain": [
       "(torch.Size([9, 4, 16]), torch.Size([2, 4, 16]))"
      ]
     },
     "execution_count": 5,
     "metadata": {},
     "output_type": "execute_result"
    }
   ],
   "source": [
    "vocab_size, embed_size, num_hiddens, num_layers = 10, 8, 16, 2\n",
    "batch_size, num_steps = 4, 9\n",
    "\n",
    "encoder = Seq2SeqEncoder(vocab_size, embed_size, num_hiddens, num_layers)\n",
    "X = torch.zeros(batch_size, num_steps)\n",
    "outputs, state = encoder(X)\n",
    "outputs.shape,state.shape"
   ]
  },
  {
   "cell_type": "code",
   "execution_count": 6,
   "metadata": {},
   "outputs": [],
   "source": [
    "class Seq2SeqDecoder(Decoder):\n",
    "    def __init__(self, vocab_size, embed_size, num_hiddens, num_layers, dropout=0.0, device='cpu'):\n",
    "        super().__init__()\n",
    "        self.vocab_size = vocab_size\n",
    "        self.embedding = nn.Embedding(vocab_size, embed_size).to(device)\n",
    "        self.rnn = nn.GRU(embed_size+num_hiddens,\n",
    "                          num_hiddens, num_layers=num_layers, dropout=dropout).to(device)\n",
    "        self.dense = nn.LazyLinear(vocab_size).to(device)\n",
    "        self.apply(init_seq2seq)\n",
    "\n",
    "    def init_state(self, enc_all_outputs, *args):\n",
    "        return enc_all_outputs\n",
    "\n",
    "    def forward(self, X, state):\n",
    "        # X.shape = (batch_size, num_steps)\n",
    "        # embs.shape = (num_steps, batch_size, embed_size)\n",
    "        embs = self.embedding(X.T.type(torch.int32))\n",
    "        enc_output, hidden_state = state\n",
    "        # context.shape = (batch_size, num_hiddens)\n",
    "        context = enc_output[-1]\n",
    "        # broadcast context= (num_steps, batch_size, num_hiddens)\n",
    "        context = context.repeat(embs.shape[0], 1, 1)\n",
    "        # cat+emb= (num_steps, batch_size, embed_size+num_hiddens)\n",
    "        # print(context.shape, embs.shape, context.dtype, embs.dtype)\n",
    "        embs_and_context = torch.cat((embs, context), dim=-1)\n",
    "        # embs_and_context = torch.cat((embs, context), -1)\n",
    "        # outputs=(num_steps, batch_size, , num_hiddens)\n",
    "        # hidden_state=(num_layer, batch_size, num_hiddens)\n",
    "        outputs, hidden_state = self.rnn(embs_and_context, hidden_state)\n",
    "        # outputs=(batch_size, num_steps, vocab_size)\n",
    "        outputs = self.dense(outputs).swapaxes(0, 1)\n",
    "        return outputs, (enc_output, hidden_state)"
   ]
  },
  {
   "cell_type": "code",
   "execution_count": 7,
   "metadata": {},
   "outputs": [
    {
     "data": {
      "text/plain": [
       "(tensor([[ 0.6066, -0.3034]]),\n",
       " tensor([[ 0.6066],\n",
       "         [-0.3034]]),\n",
       " tensor([[ 0.6066],\n",
       "         [-0.3034]]))"
      ]
     },
     "execution_count": 7,
     "metadata": {},
     "output_type": "execute_result"
    }
   ],
   "source": [
    "t1,t2 = torch.randn(1,2),torch.randn(9,4,8)\n",
    "t1,t1.swapaxes(0,1),t1.view(2,-1)"
   ]
  },
  {
   "cell_type": "code",
   "execution_count": 8,
   "metadata": {},
   "outputs": [
    {
     "name": "stderr",
     "output_type": "stream",
     "text": [
      "/opt/homebrew/Caskroom/miniconda/base/envs/m2/lib/python3.10/site-packages/torch/nn/modules/lazy.py:180: UserWarning: Lazy modules are a new feature under heavy development so changes to the API or functionality can happen at any moment.\n",
      "  warnings.warn('Lazy modules are a new feature under heavy development '\n"
     ]
    },
    {
     "data": {
      "text/plain": [
       "(torch.Size([4, 9, 10]), torch.Size([2, 4, 16]))"
      ]
     },
     "execution_count": 8,
     "metadata": {},
     "output_type": "execute_result"
    }
   ],
   "source": [
    "decoder = Seq2SeqDecoder(vocab_size, embed_size, num_hiddens, num_layers)\n",
    "state = decoder.init_state(encoder(X))\n",
    "dec_outputs, state = decoder(X, state)\n",
    "dec_outputs.shape, state[1].shape"
   ]
  },
  {
   "cell_type": "code",
   "execution_count": 9,
   "metadata": {},
   "outputs": [
    {
     "data": {
      "text/plain": [
       "(torch.Size([2, 3]),\n",
       " tensor([-1.6796, -0.7774]),\n",
       " tensor([[-1.6796],\n",
       "         [-0.7774]]))"
      ]
     },
     "execution_count": 9,
     "metadata": {},
     "output_type": "execute_result"
    }
   ],
   "source": [
    "x = torch.randn(2,3)\n",
    "x.shape,x[:,0],x[:,0].unsqueeze(1)"
   ]
  },
  {
   "cell_type": "code",
   "execution_count": 10,
   "metadata": {},
   "outputs": [],
   "source": [
    "from d2l_common import EncoderDecoder\n",
    "\n",
    "class Seq2Seq(EncoderDecoder):\n",
    "    \"\"\"The RNN encoder--decoder for sequence to sequence learning.\"\"\"\n",
    "    def __init__(self, encoder, decoder, tgt_pad, lr):\n",
    "        super().__init__(encoder, decoder)\n",
    "        self.tgt_pad = tgt_pad\n",
    "        self.lr = lr\n",
    "    \n",
    "    def configure_optimizers(self):\n",
    "        return torch.optim.Adam(self.parameters(), lr=self.lr)\n",
    "    \n",
    "    def loss(self, y_hat, y):\n",
    "        l = super().loss(y_hat, y)\n",
    "        mask = (y.reshape(-1) != self.tgt_pad).type(torch.float32)\n",
    "        return (l*mask).sum()/mask.sum()\n",
    "    \n",
    "    def accuracy(self, y_hat, y, averaged=True):\n",
    "        return 0.0\n",
    "    \n",
    "    def validate_step(self, batch):\n",
    "        Y_hat = self(*batch[:-1])\n",
    "        Y = self.one_hot(batch[-1])\n",
    "        return Y_hat, self.loss(Y_hat, Y)\n",
    "    \n",
    "    def train_step(self, batch):\n",
    "        Y_hat = self(*batch[:-1])\n",
    "        Y = self.one_hot(batch[-1])\n",
    "        return self.loss(Y_hat, Y)\n",
    "    \n",
    "    def one_hot(self, input):\n",
    "        return F.one_hot(input, self.decoder.vocab_size)[:,-1,:]\n",
    "        "
   ]
  },
  {
   "cell_type": "code",
   "execution_count": 11,
   "metadata": {},
   "outputs": [
    {
     "name": "stdout",
     "output_type": "stream",
     "text": [
      "torch.Size([128, 9]) torch.Size([128, 9]) torch.Size([128]) torch.Size([128, 9, 1])\n",
      "tensor([[108, 112,  72,  ...,   5,   5,   5],\n",
      "        [181,   0,   4,  ...,   5,   5,   5],\n",
      "        [  6, 192,   2,  ...,   5,   5,   5],\n",
      "        ...,\n",
      "        [ 66,   0,   4,  ...,   5,   5,   5],\n",
      "        [  6,   6,   2,  ...,   5,   5,   5],\n",
      "        [108, 183,  80,  ...,   5,   5,   5]])\n",
      "torch.Size([128, 214])\n"
     ]
    }
   ],
   "source": [
    "from d2l_common import MTFraEng\n",
    "\n",
    "data = MTFraEng(batch_size=128, device='cpu')\n",
    "for x in data.train_dataloader():\n",
    "    print(x[0].shape,x[1].shape,x[2].shape,x[3].unsqueeze(2).shape)\n",
    "    print(x[3])\n",
    "    rs = F.one_hot(x[3],214)\n",
    "    print(rs[:,-1,:].shape)\n",
    "    break"
   ]
  },
  {
   "cell_type": "code",
   "execution_count": 12,
   "metadata": {},
   "outputs": [
    {
     "name": "stdout",
     "output_type": "stream",
     "text": [
      "194 214\n",
      "complete 0 epoch train_loss=2.1527934074401855 validate_loss=2.1244122982025146\n",
      "complete 1 epoch train_loss=1.9831464290618896 validate_loss=1.9134615659713745\n",
      "complete 2 epoch train_loss=1.6456849575042725 validate_loss=1.5417174100875854\n",
      "complete 3 epoch train_loss=1.2065155506134033 validate_loss=1.0995460748672485\n",
      "complete 4 epoch train_loss=0.7859155535697937 validate_loss=0.6966934204101562\n",
      "complete 5 epoch train_loss=0.4615216553211212 validate_loss=0.39998772740364075\n",
      "complete 6 epoch train_loss=0.2592773139476776 validate_loss=0.22256363928318024\n",
      "complete 7 epoch train_loss=0.14604149758815765 validate_loss=0.1264890432357788\n",
      "complete 8 epoch train_loss=0.08735720068216324 validate_loss=0.07708380371332169\n",
      "complete 9 epoch train_loss=0.05716370791196823 validate_loss=0.05210494622588158\n",
      "complete 10 epoch train_loss=0.041803959757089615 validate_loss=0.03900882974267006\n",
      "complete 11 epoch train_loss=0.03322711959481239 validate_loss=0.03158283606171608\n",
      "complete 12 epoch train_loss=0.028027385473251343 validate_loss=0.026985153555870056\n",
      "complete 13 epoch train_loss=0.024602090939879417 validate_loss=0.023901235312223434\n",
      "complete 14 epoch train_loss=0.02218647673726082 validate_loss=0.02167646959424019\n",
      "complete 15 epoch train_loss=0.02034671977162361 validate_loss=0.019953545182943344\n",
      "complete 16 epoch train_loss=0.018846839666366577 validate_loss=0.018523069098591805\n",
      "complete 17 epoch train_loss=0.017533453181385994 validate_loss=0.017259735614061356\n",
      "complete 18 epoch train_loss=0.01635056920349598 validate_loss=0.01609428972005844\n",
      "complete 19 epoch train_loss=0.015225321985781193 validate_loss=0.014999077655375004\n",
      "complete 20 epoch train_loss=0.014197081327438354 validate_loss=0.01397433690726757\n",
      "complete 21 epoch train_loss=0.013235884718596935 validate_loss=0.013031975366175175\n",
      "complete 22 epoch train_loss=0.012382597662508488 validate_loss=0.012180572375655174\n",
      "complete 23 epoch train_loss=0.011609270237386227 validate_loss=0.011419960297644138\n",
      "complete 24 epoch train_loss=0.010916500352323055 validate_loss=0.0107425507158041\n",
      "complete 25 epoch train_loss=0.010298694483935833 validate_loss=0.010138005949556828\n",
      "complete 26 epoch train_loss=0.00974122155457735 validate_loss=0.009596182033419609\n",
      "complete 27 epoch train_loss=0.00924562755972147 validate_loss=0.009108000434935093\n",
      "complete 28 epoch train_loss=0.008781790733337402 validate_loss=0.008665826171636581\n",
      "complete 29 epoch train_loss=0.008372873067855835 validate_loss=0.008263244293630123\n"
     ]
    }
   ],
   "source": [
    "from d2l_common import MTFraEng,Trainer\n",
    "\n",
    "data = MTFraEng(batch_size=128, device='cpu')\n",
    "print(len(data.src_vocab),len(data.tgt_vocab))\n",
    "encoder = Seq2SeqEncoder(len(data.src_vocab), embed_size, num_hiddens, num_layers, dropout=0.0,device='cpu')\n",
    "decoder = Seq2SeqDecoder(len(data.tgt_vocab), embed_size, num_hiddens, num_layers, dropout=0.0,device='cpu')\n",
    "model = Seq2Seq(encoder, decoder, tgt_pad=data.tgt_vocab['<pad>'],lr=0.005).to('cpu')\n",
    "trainer = Trainer(max_epochs=30, gradient_clip_val=1)\n",
    "trainer.fit(model, data)"
   ]
  },
  {
   "cell_type": "code",
   "execution_count": 13,
   "metadata": {},
   "outputs": [
    {
     "data": {
      "image/png": "[encoded data removed]",
      "text/plain": [
       "<Figure size 1000x500 with 1 Axes>"
      ]
     },
     "metadata": {},
     "output_type": "display_data"
    }
   ],
   "source": [
    "trainer.plot()"
   ]
  },
  {
   "cell_type": "code",
   "execution_count": 14,
   "metadata": {},
   "outputs": [
    {
     "data": {
      "text/plain": [
       "tensor(1.4076)"
      ]
     },
     "execution_count": 14,
     "metadata": {},
     "output_type": "execute_result"
    }
   ],
   "source": [
    "# Create a tensor of shape (2, 3) representing the predicted log probabilities\n",
    "logits = torch.tensor([[1.0, 2.0, 3.0], [4.0, 5.0, 6.0]])\n",
    "\n",
    "# Create a tensor of shape (2,) representing the target labels\n",
    "labels = torch.tensor([0, 2])\n",
    "F.cross_entropy(logits, labels)"
   ]
  },
  {
   "cell_type": "code",
   "execution_count": 20,
   "metadata": {},
   "outputs": [
    {
     "name": "stdout",
     "output_type": "stream",
     "text": [
      "go .=>['soyez', '<pad>', '<pad>', '<pad>', '<pad>', '<pad>', '<pad>', '<pad>', '<pad>'], bleu,0.000\n",
      "i lost .=>['soyez', '<pad>', '<pad>', '<pad>', '<pad>', '<pad>', '<pad>', '<pad>', '<pad>'], bleu,0.000\n",
      "he's calm .=>['soyez', '<pad>', '<pad>', '<pad>', '<pad>', '<pad>', '<pad>', '<pad>', '<pad>'], bleu,0.000\n",
      "i'm home .=>['soyez', '<pad>', '<pad>', '<pad>', '<pad>', '<pad>', '<pad>', '<pad>', '<pad>'], bleu,0.000\n"
     ]
    }
   ],
   "source": [
    "from d2l_common import bleu\n",
    "engs = ['go .', 'i lost .', 'he\\'s calm .', 'i\\'m home .']\n",
    "fras = ['va !', 'j\\'ai perdu .', 'il est calme .', 'je suis chez moi .']\n",
    "\n",
    "preds, _ = model.predict_step(data.build(engs, fras), 'cpu', data.num_steps)\n",
    "for en, fr, p in zip(engs,fras, preds):\n",
    "    translation = []\n",
    "    for token in data.tgt_vocab.to_tokens(p):\n",
    "        if token == '<eos>':\n",
    "            break\n",
    "        translation.append(token)\n",
    "    print(f'{en}=>{translation}, bleu,{bleu(\" \".join(translation), fr, k=2):.3f}')"
   ]
  },
  {
   "cell_type": "code",
   "execution_count": 16,
   "metadata": {},
   "outputs": [
    {
     "data": {
      "text/plain": [
       "(tensor([[[ 1.1904,  1.4663, -0.4575],\n",
       "          [-0.9166, -0.7879,  1.0736]],\n",
       " \n",
       "         [[-1.0710,  0.5600, -1.3072],\n",
       "          [-1.4198, -0.3539, -1.3268]]]),\n",
       " tensor([[[ 1.1904,  1.4663, -0.4575],\n",
       "          [-1.0710,  0.5600, -1.3072]],\n",
       " \n",
       "         [[-0.9166, -0.7879,  1.0736],\n",
       "          [-1.4198, -0.3539, -1.3268]]]),\n",
       " torch.Size([2, 3, 2]))"
      ]
     },
     "execution_count": 16,
     "metadata": {},
     "output_type": "execute_result"
    }
   ],
   "source": [
    "t0,t1 = torch.randn(2,3),torch.randn(2,3)\n",
    "torch.cat((t0,t1),dim=-1)\n",
    "torch.stack((t0,t1),dim=0), torch.stack((t0,t1),dim=1),torch.stack((t0,t1),dim=2).shape"
   ]
  },
  {
   "cell_type": "code",
   "execution_count": 17,
   "metadata": {},
   "outputs": [
    {
     "data": {
      "text/plain": [
       "(tensor([[ 0.6261, -1.3500, -0.6899],\n",
       "         [-0.6661, -0.1008, -0.6825]]),\n",
       " tensor([[-0.9924, -1.3781, -0.6864],\n",
       "         [-0.8051, -0.6336, -1.8173]]),\n",
       " tensor([[[ 0.6261, -1.3500, -0.6899],\n",
       "          [-0.9924, -1.3781, -0.6864]],\n",
       " \n",
       "         [[-0.6661, -0.1008, -0.6825],\n",
       "          [-0.8051, -0.6336, -1.8173]]]),\n",
       " torch.Size([2, 3, 2]))"
      ]
     },
     "execution_count": 17,
     "metadata": {},
     "output_type": "execute_result"
    }
   ],
   "source": [
    "t0,t1 = torch.randn(2,3),torch.randn(2,3)\n",
    "torch.cat((t0,t1),dim=-1)\n",
    "t0,t1, torch.stack((t0,t1),dim=1),torch.stack((t0,t1),dim=2).shape"
   ]
  },
  {
   "cell_type": "code",
   "execution_count": 18,
   "metadata": {},
   "outputs": [],
   "source": [
    "import collections\n",
    "\n",
    "def bleu(pred_seq, label_seq, k):\n",
    "    \"\"\"Compute the BLEU.\"\"\"\n",
    "    import math\n",
    "    pred_tokens, label_tokens = pred_seq.split(' '), label_seq.split(' ')\n",
    "    len_pred, len_label = len(pred_tokens), len(label_tokens)\n",
    "    score = math.exp(min(0, 1 - len_label/len_pred))\n",
    "    # label_tokens=A,B,C,D,E,F\n",
    "    # pred_tokens=A,B,B,C,D\n",
    "    # len_pred=6, len_label=5\n",
    "    for n in range(1, min(k, len_pred) + 1):\n",
    "        num_matches, label_subs = 0, collections.defaultdict(int)\n",
    "        for i in range(len_label - n + 1):\n",
    "            label_subs[' '.join(label_tokens[i: i + n])] += 1\n",
    "        for i in range(len_pred - n + 1):\n",
    "            if label_subs[' '.join(pred_tokens[i: i + n])] > 0:\n",
    "                num_matches += 1\n",
    "                label_subs[' '.join(pred_tokens[i: i + n])] -= 1\n",
    "        score *= math.pow(num_matches / (len_pred - n + 1), math.pow(0.5, n))\n",
    "    return score"
   ]
  },
  {
   "cell_type": "code",
   "execution_count": 19,
   "metadata": {},
   "outputs": [
    {
     "data": {
      "text/plain": [
       "0.0"
      ]
     },
     "execution_count": 19,
     "metadata": {},
     "output_type": "execute_result"
    }
   ],
   "source": [
    "bleu(\"A B B C D\", \"A B C D E F\", 10)"
   ]
  }
 ],
 "metadata": {
  "kernelspec": {
   "display_name": "m2",
   "language": "python",
   "name": "python3"
  },
  "language_info": {
   "codemirror_mode": {
    "name": "ipython",
    "version": 3
   },
   "file_extension": ".py",
   "mimetype": "text/x-python",
   "name": "python",
   "nbconvert_exporter": "python",
   "pygments_lexer": "ipython3",
   "version": "3.10.13"
  },
  "orig_nbformat": 4
 },
 "nbformat": 4,
 "nbformat_minor": 2
}
