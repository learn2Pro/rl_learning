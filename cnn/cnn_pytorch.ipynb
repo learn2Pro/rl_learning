{
 "cells": [
  {
   "cell_type": "code",
   "execution_count": 29,
   "metadata": {},
   "outputs": [
    {
     "name": "stdout",
     "output_type": "stream",
     "text": [
      "Looking in indexes: https://pypi.tuna.tsinghua.edu.cn/simple\n",
      "Requirement already satisfied: torchvision in /home/samtang/miniconda3/envs/rl/lib/python3.10/site-packages (0.20.1)\n",
      "Collecting torchsummary\n",
      "  Downloading https://pypi.tuna.tsinghua.edu.cn/packages/7d/18/1474d06f721b86e6a9b9d7392ad68bed711a02f3b61ac43f13c719db50a6/torchsummary-1.5.1-py3-none-any.whl (2.8 kB)\n",
      "Requirement already satisfied: numpy in /home/samtang/miniconda3/envs/rl/lib/python3.10/site-packages (from torchvision) (2.1.3)\n",
      "Requirement already satisfied: torch==2.5.1 in /home/samtang/miniconda3/envs/rl/lib/python3.10/site-packages (from torchvision) (2.5.1)\n",
      "Requirement already satisfied: pillow!=8.3.*,>=5.3.0 in /home/samtang/miniconda3/envs/rl/lib/python3.10/site-packages (from torchvision) (11.0.0)\n",
      "Requirement already satisfied: filelock in /home/samtang/miniconda3/envs/rl/lib/python3.10/site-packages (from torch==2.5.1->torchvision) (3.16.1)\n",
      "Requirement already satisfied: typing-extensions>=4.8.0 in /home/samtang/miniconda3/envs/rl/lib/python3.10/site-packages (from torch==2.5.1->torchvision) (4.12.2)\n",
      "Requirement already satisfied: networkx in /home/samtang/miniconda3/envs/rl/lib/python3.10/site-packages (from torch==2.5.1->torchvision) (3.4.2)\n",
      "Requirement already satisfied: jinja2 in /home/samtang/miniconda3/envs/rl/lib/python3.10/site-packages (from torch==2.5.1->torchvision) (3.1.4)\n",
      "Requirement already satisfied: fsspec in /home/samtang/miniconda3/envs/rl/lib/python3.10/site-packages (from torch==2.5.1->torchvision) (2024.9.0)\n",
      "Requirement already satisfied: nvidia-cuda-nvrtc-cu12==12.4.127 in /home/samtang/miniconda3/envs/rl/lib/python3.10/site-packages (from torch==2.5.1->torchvision) (12.4.127)\n",
      "Requirement already satisfied: nvidia-cuda-runtime-cu12==12.4.127 in /home/samtang/miniconda3/envs/rl/lib/python3.10/site-packages (from torch==2.5.1->torchvision) (12.4.127)\n",
      "Requirement already satisfied: nvidia-cuda-cupti-cu12==12.4.127 in /home/samtang/miniconda3/envs/rl/lib/python3.10/site-packages (from torch==2.5.1->torchvision) (12.4.127)\n",
      "Requirement already satisfied: nvidia-cudnn-cu12==9.1.0.70 in /home/samtang/miniconda3/envs/rl/lib/python3.10/site-packages (from torch==2.5.1->torchvision) (9.1.0.70)\n",
      "Requirement already satisfied: nvidia-cublas-cu12==12.4.5.8 in /home/samtang/miniconda3/envs/rl/lib/python3.10/site-packages (from torch==2.5.1->torchvision) (12.4.5.8)\n",
      "Requirement already satisfied: nvidia-cufft-cu12==11.2.1.3 in /home/samtang/miniconda3/envs/rl/lib/python3.10/site-packages (from torch==2.5.1->torchvision) (11.2.1.3)\n",
      "Requirement already satisfied: nvidia-curand-cu12==10.3.5.147 in /home/samtang/miniconda3/envs/rl/lib/python3.10/site-packages (from torch==2.5.1->torchvision) (10.3.5.147)\n",
      "Requirement already satisfied: nvidia-cusolver-cu12==11.6.1.9 in /home/samtang/miniconda3/envs/rl/lib/python3.10/site-packages (from torch==2.5.1->torchvision) (11.6.1.9)\n",
      "Requirement already satisfied: nvidia-cusparse-cu12==12.3.1.170 in /home/samtang/miniconda3/envs/rl/lib/python3.10/site-packages (from torch==2.5.1->torchvision) (12.3.1.170)\n",
      "Requirement already satisfied: nvidia-nccl-cu12==2.21.5 in /home/samtang/miniconda3/envs/rl/lib/python3.10/site-packages (from torch==2.5.1->torchvision) (2.21.5)\n",
      "Requirement already satisfied: nvidia-nvtx-cu12==12.4.127 in /home/samtang/miniconda3/envs/rl/lib/python3.10/site-packages (from torch==2.5.1->torchvision) (12.4.127)\n",
      "Requirement already satisfied: nvidia-nvjitlink-cu12==12.4.127 in /home/samtang/miniconda3/envs/rl/lib/python3.10/site-packages (from torch==2.5.1->torchvision) (12.4.127)\n",
      "Requirement already satisfied: triton==3.1.0 in /home/samtang/miniconda3/envs/rl/lib/python3.10/site-packages (from torch==2.5.1->torchvision) (3.1.0)\n",
      "Requirement already satisfied: sympy==1.13.1 in /home/samtang/miniconda3/envs/rl/lib/python3.10/site-packages (from torch==2.5.1->torchvision) (1.13.1)\n",
      "Requirement already satisfied: mpmath<1.4,>=1.1.0 in /home/samtang/miniconda3/envs/rl/lib/python3.10/site-packages (from sympy==1.13.1->torch==2.5.1->torchvision) (1.3.0)\n",
      "Requirement already satisfied: MarkupSafe>=2.0 in /home/samtang/miniconda3/envs/rl/lib/python3.10/site-packages (from jinja2->torch==2.5.1->torchvision) (3.0.2)\n",
      "Installing collected packages: torchsummary\n",
      "Successfully installed torchsummary-1.5.1\n"
     ]
    }
   ],
   "source": [
    "!pip install torchvision torchsummary"
   ]
  },
  {
   "cell_type": "code",
   "execution_count": 3,
   "metadata": {},
   "outputs": [],
   "source": [
    "import torch\n",
    "from torch import nn\n",
    "from torchvision import datasets, transforms"
   ]
  },
  {
   "cell_type": "code",
   "execution_count": 9,
   "metadata": {},
   "outputs": [],
   "source": [
    "import os \n",
    "\n",
    "os.environ['HTTP_PROXY'] = 'http://127.0.0.1:7890'\n",
    "os.environ['HTTPS_PROXY'] = 'http://127.0.0.1:7890'"
   ]
  },
  {
   "cell_type": "code",
   "execution_count": 10,
   "metadata": {},
   "outputs": [],
   "source": [
    "device = 'cuda' if torch.cuda.is_available() else 'cpu'"
   ]
  },
  {
   "cell_type": "code",
   "execution_count": 11,
   "metadata": {},
   "outputs": [
    {
     "data": {
      "text/plain": [
       "'cuda'"
      ]
     },
     "execution_count": 11,
     "metadata": {},
     "output_type": "execute_result"
    }
   ],
   "source": [
    "device"
   ]
  },
  {
   "cell_type": "markdown",
   "metadata": {},
   "source": [
    "## load data"
   ]
  },
  {
   "cell_type": "code",
   "execution_count": 12,
   "metadata": {},
   "outputs": [
    {
     "data": {
      "text/plain": [
       "Dataset MNIST\n",
       "    Number of datapoints: 60000\n",
       "    Root location: ../data/\n",
       "    Split: Train\n",
       "    StandardTransform\n",
       "Transform: ToTensor()"
      ]
     },
     "execution_count": 12,
     "metadata": {},
     "output_type": "execute_result"
    }
   ],
   "source": [
    "train_dataset = datasets.MNIST(root='../data/', download=True, train=True, transform=transforms.ToTensor())\n",
    "train_dataset"
   ]
  },
  {
   "cell_type": "code",
   "execution_count": 13,
   "metadata": {},
   "outputs": [
    {
     "data": {
      "text/plain": [
       "Dataset MNIST\n",
       "    Number of datapoints: 10000\n",
       "    Root location: ../data/\n",
       "    Split: Test\n",
       "    StandardTransform\n",
       "Transform: ToTensor()"
      ]
     },
     "execution_count": 13,
     "metadata": {},
     "output_type": "execute_result"
    }
   ],
   "source": [
    "test_dataset = datasets.MNIST(root='../data/', download=True, train=False, transform=transforms.ToTensor())\n",
    "test_dataset"
   ]
  },
  {
   "cell_type": "code",
   "execution_count": 14,
   "metadata": {},
   "outputs": [],
   "source": [
    "train_dataloader = torch.utils.data.DataLoader(dataset=train_dataset, batch_size=64, shuffle=True)\n",
    "test_dataloader = torch.utils.data.DataLoader(dataset=test_dataset, batch_size=64, shuffle=False)"
   ]
  },
  {
   "cell_type": "code",
   "execution_count": 18,
   "metadata": {},
   "outputs": [
    {
     "data": {
      "text/plain": [
       "torch.Size([64, 1, 28, 28])"
      ]
     },
     "execution_count": 18,
     "metadata": {},
     "output_type": "execute_result"
    }
   ],
   "source": [
    "# batch_size, channels, h, w\n",
    "images, labels = next(iter(train_dataloader))\n",
    "images.shape"
   ]
  },
  {
   "cell_type": "markdown",
   "metadata": {},
   "source": [
    "## build model"
   ]
  },
  {
   "cell_type": "markdown",
   "metadata": {},
   "source": [
    "The formula for output height and width:\n",
    "$$ ( H_{out} = \\left\\lfloor \\frac{H_{in} + 2p - d(k-1) - 1}{s} + 1 \\right\\rfloor ) $$\n",
    "$$ ( W_{out} = \\left\\lfloor \\frac{W_{in} + 2p - d(k-1) - 1}{s} + 1 \\right\\rfloor ) $$\n",
    "\n",
    "Substituting values:\n",
    "$$ ( H_{out} = \\left\\lfloor \\frac{32 + 2(1) - 1(3-1) - 1}{1} + 1 \\right\\rfloor = 32 ) $$\n",
    "$$ ( W_{out} = \\left\\lfloor \\frac{32 + 2(1) - 1(3-1) - 1}{1} + 1 \\right\\rfloor = 32 ) $$\n",
    "\n",
    "### Output Shape:\n",
    "$$ ((N, C_{out}, H_{out}, W_{out}) = (8, 16, 32, 32)) $$"
   ]
  },
  {
   "cell_type": "code",
   "execution_count": 65,
   "metadata": {},
   "outputs": [],
   "source": [
    "class CNN(nn.Module):\n",
    "    def __init__(self, n_channel, n_classes):\n",
    "        super(CNN, self).__init__()\n",
    "        # conv2d: (b, 1, 28, 28) -> (b, 16, 28, 28)\n",
    "        # maxpool2d: (b, 16, 28, 28) -> (b, 16, 14, 14)\n",
    "        # p=2, d=1, k=5, s=1\n",
    "        self.cnn1 = nn.Sequential(\n",
    "            nn.Conv2d(n_channel, 16, kernel_size=5, padding=2, stride=1, dilation=1), # lower[(28+2*2-1*(5-1)-1)/1+1]=28\n",
    "            nn.BatchNorm2d(16),\n",
    "            nn.ReLU(),\n",
    "            nn.MaxPool2d(kernel_size=2, stride=2) # lower[(28+2*1-1*(2-1)-1)/2+1]=14\n",
    "        )\n",
    "        \n",
    "        self.cnn2 = nn.Sequential(\n",
    "            nn.Conv2d(16, 32, kernel_size=5, padding=2, stride=1, dilation=1), # lower[(14+2*2-1*(5-1)-1)/1+1]=14\n",
    "            nn.BatchNorm2d(32),\n",
    "            nn.ReLU(),\n",
    "            nn.MaxPool2d(kernel_size=2, stride=2), # lower[(14+2*0-1*(2-1)-1)/2+1]=7\n",
    "        )\n",
    "        \n",
    "        self.fc1 = nn.LazyLinear(n_classes)\n",
    "        \n",
    "    def forward(self, x):\n",
    "        out = self.cnn1(x)\n",
    "        out = self.cnn2(out)\n",
    "        # (b, 32, 7, 7) -> (b, 32*7*7)\n",
    "        out = out.reshape(out.shape[0], -1)\n",
    "        out = self.fc1(out)\n",
    "        return out"
   ]
  },
  {
   "cell_type": "code",
   "execution_count": 66,
   "metadata": {},
   "outputs": [
    {
     "data": {
      "text/plain": [
       "torch.Size([32, 784])"
      ]
     },
     "execution_count": 66,
     "metadata": {},
     "output_type": "execute_result"
    }
   ],
   "source": [
    "torch.randn(32,16,7,7).reshape(32,-1).shape"
   ]
  },
  {
   "cell_type": "code",
   "execution_count": 67,
   "metadata": {},
   "outputs": [
    {
     "data": {
      "text/plain": [
       "CNN(\n",
       "  (cnn1): Sequential(\n",
       "    (0): Conv2d(1, 16, kernel_size=(5, 5), stride=(1, 1), padding=(2, 2))\n",
       "    (1): BatchNorm2d(16, eps=1e-05, momentum=0.1, affine=True, track_running_stats=True)\n",
       "    (2): ReLU()\n",
       "    (3): MaxPool2d(kernel_size=2, stride=2, padding=0, dilation=1, ceil_mode=False)\n",
       "  )\n",
       "  (cnn2): Sequential(\n",
       "    (0): Conv2d(16, 32, kernel_size=(5, 5), stride=(1, 1), padding=(2, 2))\n",
       "    (1): BatchNorm2d(32, eps=1e-05, momentum=0.1, affine=True, track_running_stats=True)\n",
       "    (2): ReLU()\n",
       "    (3): MaxPool2d(kernel_size=2, stride=2, padding=0, dilation=1, ceil_mode=False)\n",
       "  )\n",
       "  (fc1): LazyLinear(in_features=0, out_features=10, bias=True)\n",
       ")"
      ]
     },
     "execution_count": 67,
     "metadata": {},
     "output_type": "execute_result"
    }
   ],
   "source": [
    "model = CNN(n_channel=1, n_classes=10).to(device)\n",
    "model"
   ]
  },
  {
   "cell_type": "code",
   "execution_count": 68,
   "metadata": {},
   "outputs": [
    {
     "name": "stdout",
     "output_type": "stream",
     "text": [
      "----------------------------------------------------------------\n",
      "        Layer (type)               Output Shape         Param #\n",
      "================================================================\n",
      "            Conv2d-1           [64, 16, 28, 28]             416\n",
      "       BatchNorm2d-2           [64, 16, 28, 28]              32\n",
      "              ReLU-3           [64, 16, 28, 28]               0\n",
      "         MaxPool2d-4           [64, 16, 14, 14]               0\n",
      "            Conv2d-5           [64, 32, 14, 14]          12,832\n",
      "       BatchNorm2d-6           [64, 32, 14, 14]              64\n",
      "              ReLU-7           [64, 32, 14, 14]               0\n",
      "         MaxPool2d-8             [64, 32, 7, 7]               0\n",
      "            Linear-9                   [64, 10]          15,690\n",
      "================================================================\n",
      "Total params: 29,034\n",
      "Trainable params: 29,034\n",
      "Non-trainable params: 0\n",
      "----------------------------------------------------------------\n",
      "Input size (MB): 0.19\n",
      "Forward/backward pass size (MB): 29.86\n",
      "Params size (MB): 0.11\n",
      "Estimated Total Size (MB): 30.17\n",
      "----------------------------------------------------------------\n"
     ]
    }
   ],
   "source": [
    "from torchsummary import summary\n",
    "summary(model, input_size=(1, 28, 28), batch_size=64)"
   ]
  },
  {
   "cell_type": "markdown",
   "metadata": {},
   "source": [
    "## model train"
   ]
  },
  {
   "cell_type": "code",
   "execution_count": 69,
   "metadata": {},
   "outputs": [],
   "source": [
    "criterion = nn.CrossEntropyLoss()\n",
    "optimizer = torch.optim.Adam(model.parameters(), lr=0.001)"
   ]
  },
  {
   "cell_type": "code",
   "execution_count": 71,
   "metadata": {},
   "outputs": [
    {
     "name": "stdout",
     "output_type": "stream",
     "text": [
      "Epoch 1/5, Step 100/938, Loss 0.006654500495642424\n",
      "Epoch 1/5, Step 200/938, Loss 0.007310059387236834\n",
      "Epoch 1/5, Step 300/938, Loss 0.018969446420669556\n",
      "Epoch 1/5, Step 400/938, Loss 0.002156329806894064\n",
      "Epoch 1/5, Step 500/938, Loss 0.0036852150224149227\n",
      "Epoch 1/5, Step 600/938, Loss 0.003013398265466094\n",
      "Epoch 1/5, Step 700/938, Loss 0.002072608796879649\n",
      "Epoch 1/5, Step 800/938, Loss 0.005618400871753693\n",
      "Epoch 1/5, Step 900/938, Loss 0.04302789643406868\n",
      "Epoch 2/5, Step 100/938, Loss 0.001906794961541891\n",
      "Epoch 2/5, Step 200/938, Loss 0.014682379551231861\n",
      "Epoch 2/5, Step 300/938, Loss 0.01252888422459364\n",
      "Epoch 2/5, Step 400/938, Loss 0.04672843590378761\n",
      "Epoch 2/5, Step 500/938, Loss 0.025934644043445587\n",
      "Epoch 2/5, Step 600/938, Loss 0.02330837957561016\n",
      "Epoch 2/5, Step 700/938, Loss 0.11055096238851547\n",
      "Epoch 2/5, Step 800/938, Loss 0.14090947806835175\n",
      "Epoch 2/5, Step 900/938, Loss 0.03466073423624039\n",
      "Epoch 3/5, Step 100/938, Loss 0.030125921592116356\n",
      "Epoch 3/5, Step 200/938, Loss 0.0005212135729379952\n",
      "Epoch 3/5, Step 300/938, Loss 0.0008125156164169312\n",
      "Epoch 3/5, Step 400/938, Loss 0.00436960905790329\n",
      "Epoch 3/5, Step 500/938, Loss 0.006830004975199699\n",
      "Epoch 3/5, Step 600/938, Loss 0.016340605914592743\n",
      "Epoch 3/5, Step 700/938, Loss 0.0007766596972942352\n",
      "Epoch 3/5, Step 800/938, Loss 0.00931927002966404\n",
      "Epoch 3/5, Step 900/938, Loss 0.019981643185019493\n",
      "Epoch 4/5, Step 100/938, Loss 0.0016510637942701578\n",
      "Epoch 4/5, Step 200/938, Loss 0.04968875274062157\n",
      "Epoch 4/5, Step 300/938, Loss 0.00040905928472056985\n",
      "Epoch 4/5, Step 400/938, Loss 0.00041405190131627023\n",
      "Epoch 4/5, Step 500/938, Loss 0.00034616212360560894\n",
      "Epoch 4/5, Step 600/938, Loss 0.0026329022366553545\n",
      "Epoch 4/5, Step 700/938, Loss 0.00780894048511982\n",
      "Epoch 4/5, Step 800/938, Loss 0.04050774872303009\n",
      "Epoch 4/5, Step 900/938, Loss 0.02938276156783104\n",
      "Epoch 5/5, Step 100/938, Loss 0.016025178134441376\n",
      "Epoch 5/5, Step 200/938, Loss 0.0001269172498723492\n",
      "Epoch 5/5, Step 300/938, Loss 0.0012090250384062529\n",
      "Epoch 5/5, Step 400/938, Loss 0.05164869874715805\n",
      "Epoch 5/5, Step 500/938, Loss 0.002214273903518915\n",
      "Epoch 5/5, Step 600/938, Loss 0.0007537296623922884\n",
      "Epoch 5/5, Step 700/938, Loss 0.0058259619399905205\n",
      "Epoch 5/5, Step 800/938, Loss 0.0005581374280154705\n",
      "Epoch 5/5, Step 900/938, Loss 0.017103776335716248\n"
     ]
    }
   ],
   "source": [
    "for epoch in range(5):\n",
    "    for i, (images, labels) in enumerate(train_dataloader):\n",
    "        images = images.to(device)\n",
    "        labels = labels.to(device)\n",
    "        \n",
    "        outputs = model(images)\n",
    "        loss = criterion(outputs, labels)\n",
    "        \n",
    "        optimizer.zero_grad()\n",
    "        loss.backward()\n",
    "        optimizer.step()\n",
    "        \n",
    "        if (i+1) % 100 == 0:\n",
    "            print(f'Epoch {epoch+1}/{5}, Step {i+1}/{len(train_dataloader)}, Loss {loss.item()}')\n"
   ]
  },
  {
   "cell_type": "markdown",
   "metadata": {},
   "source": [
    "## model evaluation"
   ]
  },
  {
   "cell_type": "code",
   "execution_count": 72,
   "metadata": {},
   "outputs": [
    {
     "name": "stdout",
     "output_type": "stream",
     "text": [
      "Accuracy: 99.1%\n"
     ]
    }
   ],
   "source": [
    "total = 0\n",
    "correct = 0\n",
    "\n",
    "for images, labels in test_dataloader:\n",
    "    images = images.to(device)\n",
    "    labels = labels.to(device)\n",
    "    \n",
    "    outputs = model(images)\n",
    "    predicted = torch.argmax(outputs, dim=1)\n",
    "    \n",
    "    total += labels.size(0)\n",
    "    correct += (predicted == labels).sum().item()\n",
    "\n",
    "print(f'Accuracy: {100*correct/total}%')"
   ]
  },
  {
   "cell_type": "markdown",
   "metadata": {},
   "source": [
    "## model save"
   ]
  },
  {
   "cell_type": "code",
   "execution_count": null,
   "metadata": {},
   "outputs": [
    {
     "ename": "AttributeError",
     "evalue": "'CNN' object has no attribute 'save'",
     "output_type": "error",
     "traceback": [
      "\u001b[0;31m---------------------------------------------------------------------------\u001b[0m",
      "\u001b[0;31mAttributeError\u001b[0m                            Traceback (most recent call last)",
      "Cell \u001b[0;32mIn[73], line 1\u001b[0m\n\u001b[0;32m----> 1\u001b[0m \u001b[43mmodel\u001b[49m\u001b[38;5;241;43m.\u001b[39;49m\u001b[43msave\u001b[49m(\u001b[38;5;124m'\u001b[39m\u001b[38;5;124mmnist_cnn.pth\u001b[39m\u001b[38;5;124m'\u001b[39m)\n",
      "File \u001b[0;32m~/miniconda3/envs/rl/lib/python3.10/site-packages/torch/nn/modules/module.py:1931\u001b[0m, in \u001b[0;36mModule.__getattr__\u001b[0;34m(self, name)\u001b[0m\n\u001b[1;32m   1929\u001b[0m     \u001b[38;5;28;01mif\u001b[39;00m name \u001b[38;5;129;01min\u001b[39;00m modules:\n\u001b[1;32m   1930\u001b[0m         \u001b[38;5;28;01mreturn\u001b[39;00m modules[name]\n\u001b[0;32m-> 1931\u001b[0m \u001b[38;5;28;01mraise\u001b[39;00m \u001b[38;5;167;01mAttributeError\u001b[39;00m(\n\u001b[1;32m   1932\u001b[0m     \u001b[38;5;124mf\u001b[39m\u001b[38;5;124m\"\u001b[39m\u001b[38;5;124m'\u001b[39m\u001b[38;5;132;01m{\u001b[39;00m\u001b[38;5;28mtype\u001b[39m(\u001b[38;5;28mself\u001b[39m)\u001b[38;5;241m.\u001b[39m\u001b[38;5;18m__name__\u001b[39m\u001b[38;5;132;01m}\u001b[39;00m\u001b[38;5;124m'\u001b[39m\u001b[38;5;124m object has no attribute \u001b[39m\u001b[38;5;124m'\u001b[39m\u001b[38;5;132;01m{\u001b[39;00mname\u001b[38;5;132;01m}\u001b[39;00m\u001b[38;5;124m'\u001b[39m\u001b[38;5;124m\"\u001b[39m\n\u001b[1;32m   1933\u001b[0m )\n",
      "\u001b[0;31mAttributeError\u001b[0m: 'CNN' object has no attribute 'save'"
     ]
    }
   ],
   "source": [
    "torch.save(model.state_dict(), 'mnist_cnn.pth')"
   ]
  },
  {
   "cell_type": "code",
   "execution_count": null,
   "metadata": {},
   "outputs": [],
   "source": []
  }
 ],
 "metadata": {
  "kernelspec": {
   "display_name": "rl",
   "language": "python",
   "name": "python3"
  },
  "language_info": {
   "codemirror_mode": {
    "name": "ipython",
    "version": 3
   },
   "file_extension": ".py",
   "mimetype": "text/x-python",
   "name": "python",
   "nbconvert_exporter": "python",
   "pygments_lexer": "ipython3",
   "version": "3.10.15"
  }
 },
 "nbformat": 4,
 "nbformat_minor": 2
}
