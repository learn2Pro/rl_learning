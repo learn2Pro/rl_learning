{
 "cells": [
  {
   "cell_type": "markdown",
   "metadata": {},
   "source": [
    "## basics\n",
    " - accelerate: (accelerate config)\n",
    "    - backend\n",
    "    - default ddp: 提升数据的吞吐量\n",
    "    - self.accelerator.ddp_handler = DistributedDataParallelKwargs(**kwargs)\n",
    "    - deepspeed, fsdp：https://huggingface.co/blog/deepspeed-to-fsdp-and-back\n",
    "    - megtron-lm\n",
    " - accelerate ddp\n",
    "    - 一般用法（相对底层），稍加改动；\n",
    "    - https://huggingface.co/docs/transformers/accelerate\n",
    "    - with transformers (Trainer) or trl（SFTTrainer）：基本上不需要改动；\n",
    "- accelerate launch"
   ]
  },
  {
   "cell_type": "markdown",
   "metadata": {},
   "source": [
    "## accelerate config (cli)\n",
    " - cat $HF_HOME/accelerate/default_config.yaml"
   ]
  },
  {
   "cell_type": "code",
   "execution_count": null,
   "metadata": {
    "vscode": {
     "languageId": "plaintext"
    }
   },
   "outputs": [],
   "source": []
  }
 ],
 "metadata": {
  "language_info": {
   "name": "python"
  }
 },
 "nbformat": 4,
 "nbformat_minor": 2
}
