{
  "nbformat": 4,
  "nbformat_minor": 0,
  "metadata": {
    "colab": {
      "provenance": [],
      "gpuType": "A100",
      "authorship_tag": "ABX9TyMr7vhwuYGN45kmCioO9+lg",
      "include_colab_link": true
    },
    "kernelspec": {
      "name": "python3",
      "display_name": "Python 3"
    },
    "language_info": {
      "name": "python"
    },
    "accelerator": "GPU"
  },
  "cells": [
    {
      "cell_type": "markdown",
      "metadata": {
        "id": "view-in-github",
        "colab_type": "text"
      },
      "source": [
        "<a href=\"https://colab.research.google.com/github/learn2Pro/rl_learning/blob/master/llm/data_parallelism.ipynb\" target=\"_parent\"><img src=\"https://colab.research.google.com/assets/colab-badge.svg\" alt=\"Open In Colab\"/></a>"
      ]
    },
    {
      "cell_type": "markdown",
      "source": [
        "# 1 summary"
      ],
      "metadata": {
        "id": "pDwSl28ty7fU"
      }
    },
    {
      "cell_type": "markdown",
      "source": [
        "- 数据并行 vs 模型并行\n",
        "  - 数据并行： 模型拷贝（per device）, 数据split/chunk (batch)\n",
        "    - the module is replicated on each device, and each replica handles a portion of the input\n",
        "    - During the backwards pass gradients each replica are summed into the original module\n",
        "  - 模型并行：数据拷贝（per device）, 模型split/chunk (单卡放不下模型)\n",
        "- DP => DDP\n",
        "  - DP: nn.DataParallel\n",
        "    - https://pytorch.org/docs/stable/generated/torch.nn.DataParallel.html\n",
        "  - DDP: DistributedDataParallel\n",
        "  - Use nn.parallel.DistributedDataParallel instead of multiprocessing or nn.DataParallel and Distributed Data Parallel.\n",
        "- 参考\n",
        "  - https://pytorch.org/tutorials/beginner/blitz/data_parallel_tutorial.html\n",
        "  - https://pytorch.org/docs/stable/generated/torch.nn.DataParallel.html"
      ],
      "metadata": {
        "id": "WzD9NrC4zBVj"
      }
    },
    {
      "cell_type": "markdown",
      "source": [
        "# imports and parameters"
      ],
      "metadata": {
        "id": "2MSaGlvbzvZJ"
      }
    },
    {
      "cell_type": "code",
      "source": [
        "import torch\n",
        "import torch.nn as nn\n",
        "from torch.utils.data import Dataset, DataLoader\n",
        "\n",
        "# Parameters and DataLoaders\n",
        "input_size = 5\n",
        "output_size = 2\n",
        "\n",
        "batch_size = 30\n",
        "data_size = 100"
      ],
      "metadata": {
        "id": "yVugnoB6zAR1"
      },
      "execution_count": 1,
      "outputs": []
    },
    {
      "cell_type": "code",
      "execution_count": 2,
      "metadata": {
        "colab": {
          "base_uri": "https://localhost:8080/"
        },
        "id": "wdYLZrDKypEE",
        "outputId": "98725e9a-d039-4267-d109-3c472578c3e4"
      },
      "outputs": [
        {
          "output_type": "execute_result",
          "data": {
            "text/plain": [
              "device(type='cuda')"
            ]
          },
          "metadata": {},
          "execution_count": 2
        }
      ],
      "source": [
        "device = torch.device('cuda' if torch.cuda.is_available() else 'cpu')\n",
        "device"
      ]
    },
    {
      "cell_type": "code",
      "source": [
        "class RandomDataset(Dataset):\n",
        "\n",
        "    def __init__(self, size, length):\n",
        "        self.len = length\n",
        "        # 100*5\n",
        "        self.data = torch.randn(length, size)\n",
        "\n",
        "    def __getitem__(self, index):\n",
        "        # (5, )\n",
        "        return self.data[index]\n",
        "\n",
        "    def __len__(self):\n",
        "        # 100\n",
        "        return self.len\n",
        "\n",
        "rand_loader = DataLoader(dataset=RandomDataset(input_size, data_size),\n",
        "                         batch_size=batch_size,\n",
        "                         shuffle=True)"
      ],
      "metadata": {
        "id": "cJqAXhGFz6ah"
      },
      "execution_count": 3,
      "outputs": []
    },
    {
      "cell_type": "code",
      "source": [
        "next(iter(rand_loader)).shape"
      ],
      "metadata": {
        "colab": {
          "base_uri": "https://localhost:8080/"
        },
        "id": "_dDOdsjq0MgT",
        "outputId": "47b60cc9-375a-417d-a970-42f3f055b637"
      },
      "execution_count": 4,
      "outputs": [
        {
          "output_type": "execute_result",
          "data": {
            "text/plain": [
              "torch.Size([30, 5])"
            ]
          },
          "metadata": {},
          "execution_count": 4
        }
      ]
    },
    {
      "cell_type": "markdown",
      "source": [
        "## simple model"
      ],
      "metadata": {
        "id": "R3ebT0jU0SOy"
      }
    },
    {
      "cell_type": "code",
      "source": [
        "class Model(nn.Module):\n",
        "  # our model\n",
        "  def __init__(self, input_size, output_size):\n",
        "    super(Model, self).__init__()\n",
        "    self.fc = nn.Linear(input_size,output_size)\n",
        "\n",
        "  def forward(self,input):\n",
        "    output = self.fc(input)\n",
        "    print(f\"\\tIn Model: input size:{input.size()}, output size:{output.size()}\")\n",
        "    return output"
      ],
      "metadata": {
        "id": "zSSpWZUQ0Q02"
      },
      "execution_count": 6,
      "outputs": []
    },
    {
      "cell_type": "markdown",
      "source": [
        "# DataParallel\n",
        "- https://pytorch.org/docs/stable/generated/torch.nn.DataParallel.html\n",
        "  - device_ids=None,\n",
        "    - 参与训练的 GPU 有哪些，device_ids=gpus；\n",
        "  - output_device=None\n",
        "    - 用于汇总梯度的 GPU 是哪个，output_device=gpus[0]\n",
        "  - dim=0\n",
        "- The parallelized module must have its parameters and buffers on device_ids[0] before running(forward/backward) this DataParallel module.\n",
        "  - model.to('cuda:0')"
      ],
      "metadata": {
        "id": "4CzhpPg40yJW"
      }
    },
    {
      "cell_type": "code",
      "source": [
        "input_size,output_size"
      ],
      "metadata": {
        "colab": {
          "base_uri": "https://localhost:8080/"
        },
        "id": "dwZvNbRU1HmC",
        "outputId": "4d2cfe88-e533-4e92-95c9-b64e5b8c38dc"
      },
      "execution_count": 8,
      "outputs": [
        {
          "output_type": "execute_result",
          "data": {
            "text/plain": [
              "(5, 2)"
            ]
          },
          "metadata": {},
          "execution_count": 8
        }
      ]
    },
    {
      "cell_type": "code",
      "source": [
        "# (5, 2)\n",
        "model = Model(input_size, output_size)\n",
        "if torch.cuda.device_count()>0:\n",
        "  print(f\"Let's use {torch.cuda.device_count()} GPUS!\")\n",
        "  model = nn.DataParallel(model)"
      ],
      "metadata": {
        "colab": {
          "base_uri": "https://localhost:8080/"
        },
        "id": "p89VBOdh0unJ",
        "outputId": "584e1ee8-3b0c-430e-a3fb-33d55f183865"
      },
      "execution_count": 12,
      "outputs": [
        {
          "output_type": "stream",
          "name": "stdout",
          "text": [
            "Let's use 1 GPUS!\n"
          ]
        }
      ]
    },
    {
      "cell_type": "code",
      "source": [
        "model.to(device)"
      ],
      "metadata": {
        "colab": {
          "base_uri": "https://localhost:8080/"
        },
        "id": "w3cDH03t1Gmi",
        "outputId": "c7f55c49-6a18-4f9b-fbc7-899a6c3a051b"
      },
      "execution_count": 13,
      "outputs": [
        {
          "output_type": "execute_result",
          "data": {
            "text/plain": [
              "DataParallel(\n",
              "  (module): Model(\n",
              "    (fc): Linear(in_features=5, out_features=2, bias=True)\n",
              "  )\n",
              ")"
            ]
          },
          "metadata": {},
          "execution_count": 13
        }
      ]
    },
    {
      "cell_type": "code",
      "source": [
        "a = torch.randn((3,4))\n",
        "print(f'a.is_cuda {a.is_cuda}')\n",
        "b = a.to(device)\n",
        "print(f'a.is_cuda {a.is_cuda}')\n",
        "print(f'b.is_cuda {b.is_cuda}')"
      ],
      "metadata": {
        "colab": {
          "base_uri": "https://localhost:8080/"
        },
        "id": "wpqvlT971mus",
        "outputId": "b9a87826-41d2-4831-c3ca-175d152c1b98"
      },
      "execution_count": 18,
      "outputs": [
        {
          "output_type": "stream",
          "name": "stdout",
          "text": [
            "a.is_cuda False\n",
            "a.is_cuda False\n",
            "b.is_cuda True\n"
          ]
        }
      ]
    },
    {
      "cell_type": "markdown",
      "source": [
        "## model to device"
      ],
      "metadata": {
        "id": "nlP76sCB1_pc"
      }
    },
    {
      "cell_type": "code",
      "source": [
        "a = Model(3,4)\n",
        "print(next(a.parameters()).is_cuda)\n",
        "b = a.to(device)\n",
        "print(next(a.parameters()).is_cuda)\n",
        "print(next(b.parameters()).is_cuda)"
      ],
      "metadata": {
        "colab": {
          "base_uri": "https://localhost:8080/"
        },
        "id": "kynmMlzh2D7w",
        "outputId": "9e0cc27a-b481-4d1a-c6a3-fe61cd24e168"
      },
      "execution_count": 20,
      "outputs": [
        {
          "output_type": "stream",
          "name": "stdout",
          "text": [
            "False\n",
            "True\n",
            "True\n"
          ]
        }
      ]
    },
    {
      "cell_type": "markdown",
      "source": [
        "## 6. run the model (forward)"
      ],
      "metadata": {
        "id": "3vP4PYLB2grc"
      }
    },
    {
      "cell_type": "code",
      "source": [
        "for data in rand_loader:\n",
        "  input = data.to(device)\n",
        "  output = model(input)\n",
        "  print(f'Outsize: input size {input.size()} output size {output.size()}')"
      ],
      "metadata": {
        "colab": {
          "base_uri": "https://localhost:8080/"
        },
        "id": "mbJMy0Fh1sbw",
        "outputId": "b2762d07-3ae3-40e4-952d-782de96abf26"
      },
      "execution_count": 21,
      "outputs": [
        {
          "output_type": "stream",
          "name": "stdout",
          "text": [
            "\tIn Model: input size:torch.Size([30, 5]), output size:torch.Size([30, 2])\n",
            "Outsize: input size torch.Size([30, 5]) output size torch.Size([30, 2])\n",
            "\tIn Model: input size:torch.Size([30, 5]), output size:torch.Size([30, 2])\n",
            "Outsize: input size torch.Size([30, 5]) output size torch.Size([30, 2])\n",
            "\tIn Model: input size:torch.Size([30, 5]), output size:torch.Size([30, 2])\n",
            "Outsize: input size torch.Size([30, 5]) output size torch.Size([30, 2])\n",
            "\tIn Model: input size:torch.Size([10, 5]), output size:torch.Size([10, 2])\n",
            "Outsize: input size torch.Size([10, 5]) output size torch.Size([10, 2])\n"
          ]
        }
      ]
    },
    {
      "cell_type": "code",
      "source": [],
      "metadata": {
        "id": "5pAfn9WU2sMf"
      },
      "execution_count": null,
      "outputs": []
    }
  ]
}