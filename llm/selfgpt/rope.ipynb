{
 "cells": [
  {
   "cell_type": "code",
   "execution_count": 2,
   "id": "a0772df6-7abd-457d-b2f3-aaa7e57ad4f8",
   "metadata": {},
   "outputs": [],
   "source": [
    "import torch\n",
    "import torch.nn as nn\n",
    "import torch.nn.functional as F"
   ]
  },
  {
   "cell_type": "markdown",
   "id": "1d3e1e18-df32-4e04-9da8-813bad5174a5",
   "metadata": {},
   "source": [
    "![rope](https://ar5iv.labs.arxiv.org/html/2104.09864/assets/x1.png)"
   ]
  },
  {
   "cell_type": "code",
   "execution_count": 3,
   "id": "c5463852-db68-4c2b-9fb6-683da640d889",
   "metadata": {},
   "outputs": [],
   "source": [
    "def precompute_freqs_cis(dim, end, theta=10000.0):\n",
    "    freqs = theta ** -(torch.arange(0, dim, 2)[:dim//2].float() / dim)\n",
    "    t= torch.arange(end)\n",
    "    freqs = torch.outer(t, freqs) # m * \\theta\n",
    "    # freqs= t * freqs\n",
    "    freqs = torch.polar(torch.ones_like(freqs), freqs) # cos(m * \\theta) + jsin(m * \\theta)\n",
    "    return freqs"
   ]
  },
  {
   "cell_type": "code",
   "execution_count": 9,
   "id": "5d76a483-4574-42dd-b4e7-b8d2abc90767",
   "metadata": {},
   "outputs": [],
   "source": [
    "def reshape_for_broadcast(freqs, x):\n",
    "    return freqs.view(1, x.shape[1], 1, x.shape[-1])\n",
    "\n",
    "def apply_rotary_emb(q, k, freqs):\n",
    "    xq = torch.view_as_complex(q.view(*q.shape[:-1], -1, 2)) # batch, seq_len, n_head, dim//2\n",
    "    xk = torch.view_as_complex(k.view(*k.shape[:-1], -1, 2)) # batch, seq_len, n_head, dim//2\n",
    "    freqs_cis = freqs.view(1, xq.shape[1], 1, xq.shape[-1]) # 1, seq_len, 1, dim//2\n",
    "\n",
    "    xq_out = torch.view_as_real(xq * freqs_cis).flatten(3) # batch, seq_len, n_head, dim\n",
    "    xk_out = torch.view_as_real(xk * freqs_cis).flatten(3) # batch, seq_len, n_head, dim\n",
    "\n",
    "    return xq_out.type_as(q), xk_out.type_as(k)"
   ]
  },
  {
   "cell_type": "code",
   "execution_count": null,
   "id": "e58ab93a-0d34-4ae8-b8d3-ec7ccdc1dc49",
   "metadata": {},
   "outputs": [],
   "source": []
  },
  {
   "cell_type": "code",
   "execution_count": 23,
   "id": "210b3425-f1b9-4f5b-a286-9fdd9a408684",
   "metadata": {},
   "outputs": [],
   "source": [
    "q = torch.randn(2, 10, 2, 5)\n",
    "freqs = precompute_freqs_cis(10, 10).view(1, 10, 1, 5)\n",
    "# print(q, freqs)\n",
    "# (q * freqs)\n",
    "# 9.7774e-01 * (1.0000+0.0000e+00j) == 9.7774e-01+0.0000e+00j"
   ]
  },
  {
   "cell_type": "code",
   "execution_count": 11,
   "id": "d914c2bd-7c69-4478-9aa0-84695267885a",
   "metadata": {},
   "outputs": [
    {
     "data": {
      "text/plain": [
       "torch.Size([1, 10, 1, 5])"
      ]
     },
     "execution_count": 11,
     "metadata": {},
     "output_type": "execute_result"
    }
   ],
   "source": [
    "freqs = precompute_freqs_cis(10, 10)\n",
    "reshape_for_broadcast(freqs, torch.randn(2,10,2,5)).shape"
   ]
  },
  {
   "cell_type": "code",
   "execution_count": 6,
   "id": "7a7a2ca9-d6fe-42f4-8b21-f93b65a16c8a",
   "metadata": {},
   "outputs": [
    {
     "data": {
      "text/plain": [
       "3"
      ]
     },
     "execution_count": 6,
     "metadata": {},
     "output_type": "execute_result"
    }
   ],
   "source": [
    "torch.randn(2,3,4).ndim"
   ]
  },
  {
   "cell_type": "markdown",
   "id": "270ccab8-e421-4c9d-a4eb-a7509748093d",
   "metadata": {},
   "source": [
    "![GQA](https://wdndev.github.io/llm_interview_note/02.%E5%A4%A7%E8%AF%AD%E8%A8%80%E6%A8%A1%E5%9E%8B%E6%9E%B6%E6%9E%84/llama%202%E4%BB%A3%E7%A0%81%E8%AF%A6%E8%A7%A3/image/image_XJgG9to7qe.png)"
   ]
  },
  {
   "cell_type": "code",
   "execution_count": 40,
   "id": "0aa503a7-4c42-4507-ad7c-6e8968d026c5",
   "metadata": {},
   "outputs": [],
   "source": [
    "def repeat_kv(x, n_rep):\n",
    "    bs, slen, n_kv_heads, head_dim = x.shape\n",
    "    if n_rep == 1:\n",
    "        return x\n",
    "    return x.unsqueeze(3).expand(bs, slen, n_kv_heads, n_rep, head_dim).reshape(bs, slen, n_kv_heads*n_rep, head_dim)"
   ]
  },
  {
   "cell_type": "code",
   "execution_count": 42,
   "id": "5aa6bb05-98ee-4d27-b3b3-4dd4cc0b19e8",
   "metadata": {},
   "outputs": [
    {
     "data": {
      "text/plain": [
       "torch.Size([2, 3, 4, 5])"
      ]
     },
     "execution_count": 42,
     "metadata": {},
     "output_type": "execute_result"
    }
   ],
   "source": [
    "x = torch.randn(2,3,2,5)\n",
    "repeat_kv(x, 2).shape"
   ]
  },
  {
   "cell_type": "code",
   "execution_count": 19,
   "id": "c17e9c53-7b92-4b55-b8fe-9911b357f35b",
   "metadata": {},
   "outputs": [
    {
     "data": {
      "text/plain": [
       "tensor([1.0000e+00, 8.3176e-01, 6.9183e-01, 5.7544e-01, 4.7863e-01, 3.9811e-01,\n",
       "        3.3113e-01, 2.7542e-01, 2.2909e-01, 1.9055e-01, 1.5849e-01, 1.3183e-01,\n",
       "        1.0965e-01, 9.1201e-02, 7.5858e-02, 6.3096e-02, 5.2481e-02, 4.3652e-02,\n",
       "        3.6308e-02, 3.0200e-02, 2.5119e-02, 2.0893e-02, 1.7378e-02, 1.4454e-02,\n",
       "        1.2023e-02, 1.0000e-02, 8.3176e-03, 6.9183e-03, 5.7544e-03, 4.7863e-03,\n",
       "        3.9811e-03, 3.3113e-03, 2.7542e-03, 2.2909e-03, 1.9055e-03, 1.5849e-03,\n",
       "        1.3183e-03, 1.0965e-03, 9.1201e-04, 7.5858e-04, 6.3096e-04, 5.2481e-04,\n",
       "        4.3652e-04, 3.6308e-04, 3.0200e-04, 2.5119e-04, 2.0893e-04, 1.7378e-04,\n",
       "        1.4454e-04, 1.2023e-04])"
      ]
     },
     "execution_count": 19,
     "metadata": {},
     "output_type": "execute_result"
    }
   ],
   "source": [
    "10000.0** -(torch.arange(0, 100, 2).float() / 100)"
   ]
  },
  {
   "cell_type": "code",
   "execution_count": 14,
   "id": "936eaaa4-8920-4320-85ff-a4a2b6521fef",
   "metadata": {},
   "outputs": [
    {
     "data": {
      "text/plain": [
       "tensor([1.0000e+00, 8.3176e-01, 6.9183e-01, 5.7544e-01, 4.7863e-01, 3.9811e-01,\n",
       "        3.3113e-01, 2.7542e-01, 2.2909e-01, 1.9055e-01, 1.5849e-01, 1.3183e-01,\n",
       "        1.0965e-01, 9.1201e-02, 7.5858e-02, 6.3096e-02, 5.2481e-02, 4.3652e-02,\n",
       "        3.6308e-02, 3.0200e-02, 2.5119e-02, 2.0893e-02, 1.7378e-02, 1.4454e-02,\n",
       "        1.2023e-02, 1.0000e-02, 8.3176e-03, 6.9183e-03, 5.7544e-03, 4.7863e-03,\n",
       "        3.9811e-03, 3.3113e-03, 2.7542e-03, 2.2909e-03, 1.9055e-03, 1.5849e-03,\n",
       "        1.3183e-03, 1.0965e-03, 9.1201e-04, 7.5858e-04, 6.3096e-04, 5.2481e-04,\n",
       "        4.3652e-04, 3.6308e-04, 3.0200e-04, 2.5119e-04, 2.0893e-04, 1.7378e-04,\n",
       "        1.4454e-04, 1.2023e-04])"
      ]
     },
     "execution_count": 14,
     "metadata": {},
     "output_type": "execute_result"
    }
   ],
   "source": [
    "freqs = 1.0 / (10000.0 ** (torch.arange(0, 100, 2)[: (100 // 2)].float() / 100))\n",
    "freqs"
   ]
  },
  {
   "cell_type": "code",
   "execution_count": null,
   "id": "04bf4343-3dd1-465e-a931-08b9c781445f",
   "metadata": {},
   "outputs": [],
   "source": []
  }
 ],
 "metadata": {
  "kernelspec": {
   "display_name": "Python 3 (ipykernel)",
   "language": "python",
   "name": "python3"
  },
  "language_info": {
   "codemirror_mode": {
    "name": "ipython",
    "version": 3
   },
   "file_extension": ".py",
   "mimetype": "text/x-python",
   "name": "python",
   "nbconvert_exporter": "python",
   "pygments_lexer": "ipython3",
   "version": "3.10.15"
  }
 },
 "nbformat": 4,
 "nbformat_minor": 5
}
