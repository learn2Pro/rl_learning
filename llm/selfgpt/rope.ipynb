{
 "cells": [
  {
   "cell_type": "code",
   "execution_count": 13,
   "id": "a0772df6-7abd-457d-b2f3-aaa7e57ad4f8",
   "metadata": {},
   "outputs": [],
   "source": [
    "import torch\n",
    "import torch.nn as nn\n",
    "import torch.nn.functional as F"
   ]
  },
  {
   "cell_type": "markdown",
   "id": "1d3e1e18-df32-4e04-9da8-813bad5174a5",
   "metadata": {},
   "source": [
    "![rope](https://ar5iv.labs.arxiv.org/html/2104.09864/assets/x1.png)"
   ]
  },
  {
   "cell_type": "code",
   "execution_count": 14,
   "id": "ba85c904-8201-411a-9b7b-1b7e0ef4e28d",
   "metadata": {},
   "outputs": [],
   "source": [
    "# def precompute_freqs_cis(dim: int, end: int, theta: float = 10000.0):\n",
    "#     # 计算词向量元素两两分组以后，每组元素对应的旋转角度 \n",
    "#     # arange生成[0,2,4...126]\n",
    "#     freqs = 1.0 / (theta ** (torch.arange(0, dim, 2)[: (dim // 2)].float() / dim))\n",
    "#     # t = [0,....end]\n",
    "#     t = torch.arange(end, device=freqs.device)  # type: ignore\n",
    "#     # t为列向量 freqs为行向量做外积\n",
    "#     # freqs.shape = (t.len(),freqs.len()) #shape (end,dim//2)\n",
    "#     freqs = torch.outer(t, freqs).float()  # type: ignore\n",
    "#     # 生成复数\n",
    "#     # torch.polar(abs,angle) -> abs*cos(angle) + abs*sin(angle)*j\n",
    "#     freqs_cis = torch.polar(torch.ones_like(freqs), freqs)  # complex64\n",
    "#     # freqs_cis.shape  = (end,dim//2)\n",
    "#     return freqs_cis\n",
    "\n",
    "# def reshape_for_broadcast(freqs_cis: torch.Tensor, x: torch.Tensor):\n",
    "#     # ndim为x的维度数 ,此时应该为4\n",
    "#     ndim = x.ndim\n",
    "#     print(freqs_cis.shape, x.shape[1], x.shape[-1])\n",
    "#     assert 0 <= 1 < ndim\n",
    "#     assert freqs_cis.shape == (x.shape[1], x.shape[-1])\n",
    "#     shape = [d if i == 1 or i == ndim - 1 else 1 for i, d in enumerate(x.shape)]\n",
    "#     # (1,x.shape[1],1,x.shape[-1])\n",
    "#     return freqs_cis.view(*shape)\n",
    "\n",
    "# def apply_rotary_emb(\n",
    "#     xq: torch.Tensor,\n",
    "#     xk: torch.Tensor,\n",
    "#     freqs_cis: torch.Tensor,\n",
    "# ):\n",
    "#     # xq.shape = [bsz, seqlen, self.n_local_heads, self.head_dim]\n",
    "#     # xq_.shape = [bsz, seqlen, self.n_local_heads, self.head_dim//2 , 2]\n",
    "#     # torch.view_as_complex用于将二维向量转换为复数域 torch.view_as_complex即([x,y]) -> (x+yj)\n",
    "#     # 所以经过view_as_complex变换后xq_.shape = [bsz, seqlen, self.n_local_heads, self.head_dim//2]\n",
    "#     xq_ = torch.view_as_complex(xq.float().reshape(*xq.shape[:-1], -1, 2))\n",
    "#     xk_ = torch.view_as_complex(xk.float().reshape(*xk.shape[:-1], -1, 2))\n",
    "    \n",
    "    \n",
    "#     freqs_cis = reshape_for_broadcast(freqs_cis, xq_) # freqs_cis.shape = (1,x.shape[1],1,x.shape[-1])\n",
    "    \n",
    "#     # xq_ 与freqs_cis广播哈达玛积\n",
    "#     # [bsz, seqlen, self.n_local_heads, self.head_dim//2] * [1,seqlen,1,self.head_dim//2]\n",
    "#     # torch.view_as_real用于将复数再转换回实数向量, 再经过flatten展平第4个维度 \n",
    "#     # [bsz, seqlen, self.n_local_heads, self.head_dim//2] ->[bsz, seqlen, self.n_local_heads, self.head_dim//2,2 ] ->[bsz, seqlen, self.n_local_heads, self.head_dim]\n",
    "#     xq_out = torch.view_as_real(xq_ * freqs_cis).flatten(3)\n",
    "#     xk_out = torch.view_as_real(xk_ * freqs_cis).flatten(3)\n",
    "#     return xq_out.type_as(xq), xk_out.type_as(xk)"
   ]
  },
  {
   "cell_type": "code",
   "execution_count": 15,
   "id": "c5463852-db68-4c2b-9fb6-683da640d889",
   "metadata": {},
   "outputs": [],
   "source": [
    "def precompute_freqs_cis(dim, end, theta=10000.0):\n",
    "    freqs = theta ** -(torch.arange(0, dim, 2)[:dim//2].float() / dim)\n",
    "    t= torch.arange(end)\n",
    "    freqs = torch.outer(t, freqs) # m * \\theta\n",
    "    # freqs= t * freqs\n",
    "    freqs = torch.polar(torch.ones_like(freqs), freqs) # cos(m * \\theta) + jsin(m * \\theta)\n",
    "    return freqs\n",
    "\n"
   ]
  },
  {
   "cell_type": "code",
   "execution_count": 16,
   "id": "5d76a483-4574-42dd-b4e7-b8d2abc90767",
   "metadata": {},
   "outputs": [],
   "source": [
    "def apply_rotary_emb(q, k, freqs):\n",
    "    xq = torch.view_as_complex(q.view(*q.shape[:-1], -1, 2)) # batch, seq_len, n_head, dim//2\n",
    "    xk = torch.view_as_complex(k.view(*k.shape[:-1], -1, 2)) # batch, seq_len, n_head, dim//2\n",
    "    freqs_cis = freqs.view(1, xq.shape[1], 1, xq.shape[-1]) # 1, seq_len, 1, dim//2\n",
    "    print(freqs_cis.shape, xq.shape)\n",
    "\n",
    "    xq_out = torch.view_as_real(xq * freqs_cis).flatten(3) # batch, seq_len, n_head, dim\n",
    "    xk_out = torch.view_as_real(xk * freqs_cis).flatten(3) # batch, seq_len, n_head, dim\n",
    "\n",
    "    return xq_out.type_as(q), xk_out.type_as(k)"
   ]
  },
  {
   "cell_type": "code",
   "execution_count": 17,
   "id": "210b3425-f1b9-4f5b-a286-9fdd9a408684",
   "metadata": {},
   "outputs": [
    {
     "name": "stdout",
     "output_type": "stream",
     "text": [
      "torch.Size([10, 3])\n",
      "torch.Size([1, 10, 1, 3]) torch.Size([2, 10, 2, 3])\n"
     ]
    },
    {
     "data": {
      "text/plain": [
       "(torch.Size([2, 10, 2, 6]), torch.Size([2, 10, 2, 6]))"
      ]
     },
     "execution_count": 17,
     "metadata": {},
     "output_type": "execute_result"
    }
   ],
   "source": [
    "q = torch.randn(2, 10, 2, 6)\n",
    "k = torch.randn(2, 10, 2, 6)\n",
    "freqs = precompute_freqs_cis(6, 10)\n",
    "print(freqs.shape)\n",
    "# print(q, freqs)\n",
    "# (q * freqs)\n",
    "# 9.7774e-01 * (1.0000+0.0000e+00j) == 9.7774e-01+0.0000e+00j\n",
    "xq, xk = apply_rotary_emb(q, k, freqs)\n",
    "xq.shape,xk.shape"
   ]
  },
  {
   "cell_type": "code",
   "execution_count": 11,
   "id": "d914c2bd-7c69-4478-9aa0-84695267885a",
   "metadata": {},
   "outputs": [
    {
     "data": {
      "text/plain": [
       "torch.Size([1, 10, 1, 5])"
      ]
     },
     "execution_count": 11,
     "metadata": {},
     "output_type": "execute_result"
    }
   ],
   "source": [
    "freqs = precompute_freqs_cis(10, 10)\n",
    "reshape_for_broadcast(freqs, torch.randn(2,10,2,5)).shape"
   ]
  },
  {
   "cell_type": "code",
   "execution_count": 6,
   "id": "7a7a2ca9-d6fe-42f4-8b21-f93b65a16c8a",
   "metadata": {},
   "outputs": [
    {
     "data": {
      "text/plain": [
       "3"
      ]
     },
     "execution_count": 6,
     "metadata": {},
     "output_type": "execute_result"
    }
   ],
   "source": [
    "torch.randn(2,3,4).ndim"
   ]
  },
  {
   "cell_type": "markdown",
   "id": "270ccab8-e421-4c9d-a4eb-a7509748093d",
   "metadata": {},
   "source": [
    "![GQA](https://wdndev.github.io/llm_interview_note/02.%E5%A4%A7%E8%AF%AD%E8%A8%80%E6%A8%A1%E5%9E%8B%E6%9E%B6%E6%9E%84/llama%202%E4%BB%A3%E7%A0%81%E8%AF%A6%E8%A7%A3/image/image_XJgG9to7qe.png)"
   ]
  },
  {
   "cell_type": "code",
   "execution_count": 40,
   "id": "0aa503a7-4c42-4507-ad7c-6e8968d026c5",
   "metadata": {},
   "outputs": [],
   "source": [
    "def repeat_kv(x, n_rep):\n",
    "    bs, slen, n_kv_heads, head_dim = x.shape\n",
    "    if n_rep == 1:\n",
    "        return x\n",
    "    return x.unsqueeze(3).expand(bs, slen, n_kv_heads, n_rep, head_dim).reshape(bs, slen, n_kv_heads*n_rep, head_dim)"
   ]
  },
  {
   "cell_type": "code",
   "execution_count": 42,
   "id": "5aa6bb05-98ee-4d27-b3b3-4dd4cc0b19e8",
   "metadata": {},
   "outputs": [
    {
     "data": {
      "text/plain": [
       "torch.Size([2, 3, 4, 5])"
      ]
     },
     "execution_count": 42,
     "metadata": {},
     "output_type": "execute_result"
    }
   ],
   "source": [
    "x = torch.randn(2,3,2,5)\n",
    "repeat_kv(x, 2).shape"
   ]
  },
  {
   "cell_type": "code",
   "execution_count": 19,
   "id": "c17e9c53-7b92-4b55-b8fe-9911b357f35b",
   "metadata": {},
   "outputs": [
    {
     "data": {
      "text/plain": [
       "tensor([1.0000e+00, 8.3176e-01, 6.9183e-01, 5.7544e-01, 4.7863e-01, 3.9811e-01,\n",
       "        3.3113e-01, 2.7542e-01, 2.2909e-01, 1.9055e-01, 1.5849e-01, 1.3183e-01,\n",
       "        1.0965e-01, 9.1201e-02, 7.5858e-02, 6.3096e-02, 5.2481e-02, 4.3652e-02,\n",
       "        3.6308e-02, 3.0200e-02, 2.5119e-02, 2.0893e-02, 1.7378e-02, 1.4454e-02,\n",
       "        1.2023e-02, 1.0000e-02, 8.3176e-03, 6.9183e-03, 5.7544e-03, 4.7863e-03,\n",
       "        3.9811e-03, 3.3113e-03, 2.7542e-03, 2.2909e-03, 1.9055e-03, 1.5849e-03,\n",
       "        1.3183e-03, 1.0965e-03, 9.1201e-04, 7.5858e-04, 6.3096e-04, 5.2481e-04,\n",
       "        4.3652e-04, 3.6308e-04, 3.0200e-04, 2.5119e-04, 2.0893e-04, 1.7378e-04,\n",
       "        1.4454e-04, 1.2023e-04])"
      ]
     },
     "execution_count": 19,
     "metadata": {},
     "output_type": "execute_result"
    }
   ],
   "source": [
    "10000.0** -(torch.arange(0, 100, 2).float() / 100)"
   ]
  },
  {
   "cell_type": "code",
   "execution_count": 14,
   "id": "936eaaa4-8920-4320-85ff-a4a2b6521fef",
   "metadata": {},
   "outputs": [
    {
     "data": {
      "text/plain": [
       "tensor([1.0000e+00, 8.3176e-01, 6.9183e-01, 5.7544e-01, 4.7863e-01, 3.9811e-01,\n",
       "        3.3113e-01, 2.7542e-01, 2.2909e-01, 1.9055e-01, 1.5849e-01, 1.3183e-01,\n",
       "        1.0965e-01, 9.1201e-02, 7.5858e-02, 6.3096e-02, 5.2481e-02, 4.3652e-02,\n",
       "        3.6308e-02, 3.0200e-02, 2.5119e-02, 2.0893e-02, 1.7378e-02, 1.4454e-02,\n",
       "        1.2023e-02, 1.0000e-02, 8.3176e-03, 6.9183e-03, 5.7544e-03, 4.7863e-03,\n",
       "        3.9811e-03, 3.3113e-03, 2.7542e-03, 2.2909e-03, 1.9055e-03, 1.5849e-03,\n",
       "        1.3183e-03, 1.0965e-03, 9.1201e-04, 7.5858e-04, 6.3096e-04, 5.2481e-04,\n",
       "        4.3652e-04, 3.6308e-04, 3.0200e-04, 2.5119e-04, 2.0893e-04, 1.7378e-04,\n",
       "        1.4454e-04, 1.2023e-04])"
      ]
     },
     "execution_count": 14,
     "metadata": {},
     "output_type": "execute_result"
    }
   ],
   "source": [
    "freqs = 1.0 / (10000.0 ** (torch.arange(0, 100, 2)[: (100 // 2)].float() / 100))\n",
    "freqs"
   ]
  },
  {
   "cell_type": "code",
   "execution_count": null,
   "id": "04bf4343-3dd1-465e-a931-08b9c781445f",
   "metadata": {},
   "outputs": [],
   "source": []
  }
 ],
 "metadata": {
  "kernelspec": {
   "display_name": "Python 3 (ipykernel)",
   "language": "python",
   "name": "python3"
  },
  "language_info": {
   "codemirror_mode": {
    "name": "ipython",
    "version": 3
   },
   "file_extension": ".py",
   "mimetype": "text/x-python",
   "name": "python",
   "nbconvert_exporter": "python",
   "pygments_lexer": "ipython3",
   "version": "3.10.15"
  }
 },
 "nbformat": 4,
 "nbformat_minor": 5
}
