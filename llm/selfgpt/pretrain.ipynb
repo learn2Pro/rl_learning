{
 "cells": [
  {
   "cell_type": "markdown",
   "id": "ac2f0c5d-b250-4bf8-91a9-9351a58d08bb",
   "metadata": {},
   "source": [
    "## model arch\n"
   ]
  },
  {
   "cell_type": "code",
   "execution_count": 1,
   "id": "cb71a82f-bf46-4d4a-bd11-a51bfac12718",
   "metadata": {},
   "outputs": [],
   "source": [
    "# !pip install accelerate datasets transformers trl torch peft wandb scikit-learn ipywidgets"
   ]
  },
  {
   "cell_type": "code",
   "execution_count": 2,
   "id": "68366f74-03dc-470c-9c52-66ce07ff01e7",
   "metadata": {},
   "outputs": [],
   "source": [
    "# python -m venv buddy\n",
    "# source buddy/bin/activate\n",
    "# pip install ipykernel\n",
    "# python -m ipykernel install --user --name my-kernel-name --display-name \"Python (My Kernel)\""
   ]
  },
  {
   "cell_type": "code",
   "execution_count": 3,
   "id": "9c16291d-c217-49f9-a247-73610483a1db",
   "metadata": {},
   "outputs": [],
   "source": [
    "import torch\n",
    "import torch.nn.functional as F\n",
    "import torch.nn as nn\n",
    "\n",
    "device = 'cuda' if torch.cuda.is_available() else 'cpu'"
   ]
  },
  {
   "cell_type": "code",
   "execution_count": 4,
   "id": "561ca6fe-de71-4c2c-97da-71949d30a4cd",
   "metadata": {},
   "outputs": [],
   "source": [
    "# model.save_pretrained('outputs/buddygpt', safe_serialization=False)"
   ]
  },
  {
   "cell_type": "markdown",
   "id": "ef5ece4e-0009-4c71-ab4d-ba06d83ebefc",
   "metadata": {},
   "source": [
    "## load wiki data"
   ]
  },
  {
   "cell_type": "code",
   "execution_count": 5,
   "id": "b5246319-1205-48ee-8cbe-0f27cbdc71b0",
   "metadata": {},
   "outputs": [
    {
     "name": "stdout",
     "output_type": "stream",
     "text": [
      "[2025-04-30 13:08:40,704] [INFO] [real_accelerator.py:219:get_accelerator] Setting ds_accelerator to cuda (auto detect)\n"
     ]
    },
    {
     "name": "stderr",
     "output_type": "stream",
     "text": [
      "/home/samtang/miniconda3/envs/rl/compiler_compat/ld: cannot find -laio: No such file or directory\n",
      "collect2: error: ld returned 1 exit status\n",
      "/home/samtang/miniconda3/envs/rl/compiler_compat/ld: warning: librt.so.1, needed by /usr/local/cuda/lib64/libcufile.so, not found (try using -rpath or -rpath-link)\n",
      "/home/samtang/miniconda3/envs/rl/compiler_compat/ld: warning: libpthread.so.0, needed by /usr/local/cuda/lib64/libcufile.so, not found (try using -rpath or -rpath-link)\n",
      "/home/samtang/miniconda3/envs/rl/compiler_compat/ld: warning: libstdc++.so.6, needed by /usr/local/cuda/lib64/libcufile.so, not found (try using -rpath or -rpath-link)\n",
      "/home/samtang/miniconda3/envs/rl/compiler_compat/ld: warning: libm.so.6, needed by /usr/local/cuda/lib64/libcufile.so, not found (try using -rpath or -rpath-link)\n",
      "/home/samtang/miniconda3/envs/rl/compiler_compat/ld: /usr/local/cuda/lib64/libcufile.so: undefined reference to `std::runtime_error::~runtime_error()@GLIBCXX_3.4'\n",
      "/home/samtang/miniconda3/envs/rl/compiler_compat/ld: /usr/local/cuda/lib64/libcufile.so: undefined reference to `__gxx_personality_v0@CXXABI_1.3'\n",
      "/home/samtang/miniconda3/envs/rl/compiler_compat/ld: /usr/local/cuda/lib64/libcufile.so: undefined reference to `std::ostream::tellp()@GLIBCXX_3.4'\n",
      "/home/samtang/miniconda3/envs/rl/compiler_compat/ld: /usr/local/cuda/lib64/libcufile.so: undefined reference to `std::chrono::_V2::steady_clock::now()@GLIBCXX_3.4.19'\n",
      "/home/samtang/miniconda3/envs/rl/compiler_compat/ld: /usr/local/cuda/lib64/libcufile.so: undefined reference to `std::string::_M_replace_aux(unsigned long, unsigned long, unsigned long, char)@GLIBCXX_3.4'\n",
      "/home/samtang/miniconda3/envs/rl/compiler_compat/ld: /usr/local/cuda/lib64/libcufile.so: undefined reference to `typeinfo for bool@CXXABI_1.3'\n",
      "/home/samtang/miniconda3/envs/rl/compiler_compat/ld: /usr/local/cuda/lib64/libcufile.so: undefined reference to `std::__throw_logic_error(char const*)@GLIBCXX_3.4'\n",
      "/home/samtang/miniconda3/envs/rl/compiler_compat/ld: /usr/local/cuda/lib64/libcufile.so: undefined reference to `VTT for std::basic_ostringstream<char, std::char_traits<char>, std::allocator<char> >@GLIBCXX_3.4'\n",
      "/home/samtang/miniconda3/envs/rl/compiler_compat/ld: /usr/local/cuda/lib64/libcufile.so: undefined reference to `vtable for std::logic_error@GLIBCXX_3.4'\n",
      "/home/samtang/miniconda3/envs/rl/compiler_compat/ld: /usr/local/cuda/lib64/libcufile.so: undefined reference to `std::locale::~locale()@GLIBCXX_3.4'\n",
      "/home/samtang/miniconda3/envs/rl/compiler_compat/ld: /usr/local/cuda/lib64/libcufile.so: undefined reference to `std::basic_string<char, std::char_traits<char>, std::allocator<char> >::basic_string(std::string const&, unsigned long, unsigned long)@GLIBCXX_3.4'\n",
      "/home/samtang/miniconda3/envs/rl/compiler_compat/ld: /usr/local/cuda/lib64/libcufile.so: undefined reference to `__cxa_end_catch@CXXABI_1.3'\n",
      "/home/samtang/miniconda3/envs/rl/compiler_compat/ld: /usr/local/cuda/lib64/libcufile.so: undefined reference to `VTT for std::basic_ofstream<char, std::char_traits<char> >@GLIBCXX_3.4'\n",
      "/home/samtang/miniconda3/envs/rl/compiler_compat/ld: /usr/local/cuda/lib64/libcufile.so: undefined reference to `std::logic_error::~logic_error()@GLIBCXX_3.4'\n",
      "/home/samtang/miniconda3/envs/rl/compiler_compat/ld: /usr/local/cuda/lib64/libcufile.so: undefined reference to `vtable for __cxxabiv1::__si_class_type_info@CXXABI_1.3'\n",
      "/home/samtang/miniconda3/envs/rl/compiler_compat/ld: /usr/local/cuda/lib64/libcufile.so: undefined reference to `std::basic_ios<char, std::char_traits<char> >::_M_cache_locale(std::locale const&)@GLIBCXX_3.4'\n",
      "/home/samtang/miniconda3/envs/rl/compiler_compat/ld: /usr/local/cuda/lib64/libcufile.so: undefined reference to `VTT for std::basic_stringstream<char, std::char_traits<char>, std::allocator<char> >@GLIBCXX_3.4'\n",
      "/home/samtang/miniconda3/envs/rl/compiler_compat/ld: /usr/local/cuda/lib64/libcufile.so: undefined reference to `operator new[](unsigned long)@GLIBCXX_3.4'\n",
      "/home/samtang/miniconda3/envs/rl/compiler_compat/ld: /usr/local/cuda/lib64/libcufile.so: undefined reference to `std::string::_M_leak_hard()@GLIBCXX_3.4'\n",
      "/home/samtang/miniconda3/envs/rl/compiler_compat/ld: /usr/local/cuda/lib64/libcufile.so: undefined reference to `vtable for std::basic_ifstream<char, std::char_traits<char> >@GLIBCXX_3.4'\n",
      "/home/samtang/miniconda3/envs/rl/compiler_compat/ld: /usr/local/cuda/lib64/libcufile.so: undefined reference to `std::basic_streambuf<wchar_t, std::char_traits<wchar_t> >::basic_streambuf(std::basic_streambuf<wchar_t, std::char_traits<wchar_t> > const&)@GLIBCXX_3.4'\n",
      "/home/samtang/miniconda3/envs/rl/compiler_compat/ld: /usr/local/cuda/lib64/libcufile.so: undefined reference to `std::string::append(char const*, unsigned long)@GLIBCXX_3.4'\n",
      "/home/samtang/miniconda3/envs/rl/compiler_compat/ld: /usr/local/cuda/lib64/libcufile.so: undefined reference to `std::basic_string<char, std::char_traits<char>, std::allocator<char> >::basic_string(std::string const&)@GLIBCXX_3.4'\n",
      "/home/samtang/miniconda3/envs/rl/compiler_compat/ld: /usr/local/cuda/lib64/libcufile.so: undefined reference to `typeinfo for unsigned short@CXXABI_1.3'\n",
      "/home/samtang/miniconda3/envs/rl/compiler_compat/ld: /usr/local/cuda/lib64/libcufile.so: undefined reference to `std::string::resize(unsigned long, char)@GLIBCXX_3.4'\n",
      "/home/samtang/miniconda3/envs/rl/compiler_compat/ld: /usr/local/cuda/lib64/libcufile.so: undefined reference to `typeinfo for char const*@CXXABI_1.3'\n",
      "/home/samtang/miniconda3/envs/rl/compiler_compat/ld: /usr/local/cuda/lib64/libcufile.so: undefined reference to `std::ctype<char>::_M_widen_init() const@GLIBCXX_3.4.11'\n",
      "/home/samtang/miniconda3/envs/rl/compiler_compat/ld: /usr/local/cuda/lib64/libcufile.so: undefined reference to `std::__throw_invalid_argument(char const*)@GLIBCXX_3.4'\n",
      "/home/samtang/miniconda3/envs/rl/compiler_compat/ld: /usr/local/cuda/lib64/libcufile.so: undefined reference to `std::locale::operator=(std::locale const&)@GLIBCXX_3.4'\n",
      "/home/samtang/miniconda3/envs/rl/compiler_compat/ld: /usr/local/cuda/lib64/libcufile.so: undefined reference to `std::basic_ios<wchar_t, std::char_traits<wchar_t> >::_M_cache_locale(std::locale const&)@GLIBCXX_3.4'\n",
      "/home/samtang/miniconda3/envs/rl/compiler_compat/ld: /usr/local/cuda/lib64/libcufile.so: undefined reference to `std::_Rb_tree_decrement(std::_Rb_tree_node_base const*)@GLIBCXX_3.4'\n",
      "/home/samtang/miniconda3/envs/rl/compiler_compat/ld: /usr/local/cuda/lib64/libcufile.so: undefined reference to `__cxa_free_exception@CXXABI_1.3'\n",
      "/home/samtang/miniconda3/envs/rl/compiler_compat/ld: /usr/local/cuda/lib64/libcufile.so: undefined reference to `std::condition_variable::notify_one()@GLIBCXX_3.4.11'\n",
      "/home/samtang/miniconda3/envs/rl/compiler_compat/ld: /usr/local/cuda/lib64/libcufile.so: undefined reference to `std::ios_base::Init::~Init()@GLIBCXX_3.4'\n",
      "/home/samtang/miniconda3/envs/rl/compiler_compat/ld: /usr/local/cuda/lib64/libcufile.so: undefined reference to `std::basic_string<char, std::char_traits<char>, std::allocator<char> >::~basic_string()@GLIBCXX_3.4'\n",
      "/home/samtang/miniconda3/envs/rl/compiler_compat/ld: /usr/local/cuda/lib64/libcufile.so: undefined reference to `__cxa_pure_virtual@CXXABI_1.3'\n",
      "/home/samtang/miniconda3/envs/rl/compiler_compat/ld: /usr/local/cuda/lib64/libcufile.so: undefined reference to `std::ostream::flush()@GLIBCXX_3.4'\n",
      "/home/samtang/miniconda3/envs/rl/compiler_compat/ld: /usr/local/cuda/lib64/libcufile.so: undefined reference to `vtable for __cxxabiv1::__class_type_info@CXXABI_1.3'\n",
      "/home/samtang/miniconda3/envs/rl/compiler_compat/ld: /usr/local/cuda/lib64/libcufile.so: undefined reference to `__cxa_rethrow@CXXABI_1.3'\n",
      "/home/samtang/miniconda3/envs/rl/compiler_compat/ld: /usr/local/cuda/lib64/libcufile.so: undefined reference to `vtable for std::basic_stringbuf<char, std::char_traits<char>, std::allocator<char> >@GLIBCXX_3.4'\n",
      "/home/samtang/miniconda3/envs/rl/compiler_compat/ld: /usr/local/cuda/lib64/libcufile.so: undefined reference to `std::basic_fstream<char, std::char_traits<char> >::~basic_fstream()@GLIBCXX_3.4'\n",
      "/home/samtang/miniconda3/envs/rl/compiler_compat/ld: /usr/local/cuda/lib64/libcufile.so: undefined reference to `std::string::compare(char const*) const@GLIBCXX_3.4'\n",
      "/home/samtang/miniconda3/envs/rl/compiler_compat/ld: /usr/local/cuda/lib64/libcufile.so: undefined reference to `VTT for std::basic_ostringstream<wchar_t, std::char_traits<wchar_t>, std::allocator<wchar_t> >@GLIBCXX_3.4'\n",
      "/home/samtang/miniconda3/envs/rl/compiler_compat/ld: /usr/local/cuda/lib64/libcufile.so: undefined reference to `std::locale::locale()@GLIBCXX_3.4'\n",
      "/home/samtang/miniconda3/envs/rl/compiler_compat/ld: /usr/local/cuda/lib64/libcufile.so: undefined reference to `std::chrono::_V2::system_clock::now()@GLIBCXX_3.4.19'\n",
      "/home/samtang/miniconda3/envs/rl/compiler_compat/ld: /usr/local/cuda/lib64/libcufile.so: undefined reference to `VTT for std::basic_ifstream<char, std::char_traits<char> >@GLIBCXX_3.4'\n",
      "/home/samtang/miniconda3/envs/rl/compiler_compat/ld: /usr/local/cuda/lib64/libcufile.so: undefined reference to `std::_Hash_bytes(void const*, unsigned long, unsigned long)@CXXABI_1.3.5'\n",
      "/home/samtang/miniconda3/envs/rl/compiler_compat/ld: /usr/local/cuda/lib64/libcufile.so: undefined reference to `std::ostream& std::ostream::_M_insert<long long>(long long)@GLIBCXX_3.4.9'\n",
      "/home/samtang/miniconda3/envs/rl/compiler_compat/ld: /usr/local/cuda/lib64/libcufile.so: undefined reference to `typeinfo for char*@CXXABI_1.3'\n",
      "/home/samtang/miniconda3/envs/rl/compiler_compat/ld: /usr/local/cuda/lib64/libcufile.so: undefined reference to `std::__detail::_Prime_rehash_policy::_M_need_rehash(unsigned long, unsigned long, unsigned long) const@GLIBCXX_3.4.18'\n",
      "/home/samtang/miniconda3/envs/rl/compiler_compat/ld: /usr/local/cuda/lib64/libcufile.so: undefined reference to `vtable for std::out_of_range@GLIBCXX_3.4'\n",
      "/home/samtang/miniconda3/envs/rl/compiler_compat/ld: /usr/local/cuda/lib64/libcufile.so: undefined reference to `std::ostream& std::ostream::_M_insert<unsigned long>(unsigned long)@GLIBCXX_3.4.9'\n",
      "/home/samtang/miniconda3/envs/rl/compiler_compat/ld: /usr/local/cuda/lib64/libcufile.so: undefined reference to `std::_Rb_tree_increment(std::_Rb_tree_node_base const*)@GLIBCXX_3.4'\n",
      "/home/samtang/miniconda3/envs/rl/compiler_compat/ld: /usr/local/cuda/lib64/libcufile.so: undefined reference to `std::ios_base::~ios_base()@GLIBCXX_3.4'\n",
      "/home/samtang/miniconda3/envs/rl/compiler_compat/ld: /usr/local/cuda/lib64/libcufile.so: undefined reference to `std::range_error::~range_error()@GLIBCXX_3.4'\n",
      "/home/samtang/miniconda3/envs/rl/compiler_compat/ld: /usr/local/cuda/lib64/libcufile.so: undefined reference to `std::__basic_file<char>::~__basic_file()@GLIBCXX_3.4'\n",
      "/home/samtang/miniconda3/envs/rl/compiler_compat/ld: /usr/local/cuda/lib64/libcufile.so: undefined reference to `__cxa_guard_acquire@CXXABI_1.3'\n",
      "/home/samtang/miniconda3/envs/rl/compiler_compat/ld: /usr/local/cuda/lib64/libcufile.so: undefined reference to `std::ostream& std::ostream::_M_insert<bool>(bool)@GLIBCXX_3.4.9'\n",
      "/home/samtang/miniconda3/envs/rl/compiler_compat/ld: /usr/local/cuda/lib64/libcufile.so: undefined reference to `vtable for std::overflow_error@GLIBCXX_3.4'\n",
      "/home/samtang/miniconda3/envs/rl/compiler_compat/ld: /usr/local/cuda/lib64/libcufile.so: undefined reference to `VTT for std::basic_fstream<char, std::char_traits<char> >@GLIBCXX_3.4'\n",
      "/home/samtang/miniconda3/envs/rl/compiler_compat/ld: /usr/local/cuda/lib64/libcufile.so: undefined reference to `vtable for std::range_error@GLIBCXX_3.4'\n",
      "/home/samtang/miniconda3/envs/rl/compiler_compat/ld: /usr/local/cuda/lib64/libcufile.so: undefined reference to `vtable for std::basic_ios<char, std::char_traits<char> >@GLIBCXX_3.4'\n",
      "/home/samtang/miniconda3/envs/rl/compiler_compat/ld: /usr/local/cuda/lib64/libcufile.so: undefined reference to `vtable for std::basic_filebuf<char, std::char_traits<char> >@GLIBCXX_3.4'\n",
      "/home/samtang/miniconda3/envs/rl/compiler_compat/ld: /usr/local/cuda/lib64/libcufile.so: undefined reference to `operator delete[](void*)@GLIBCXX_3.4'\n",
      "/home/samtang/miniconda3/envs/rl/compiler_compat/ld: /usr/local/cuda/lib64/libcufile.so: undefined reference to `vtable for std::basic_stringstream<char, std::char_traits<char>, std::allocator<char> >@GLIBCXX_3.4'\n",
      "/home/samtang/miniconda3/envs/rl/compiler_compat/ld: /usr/local/cuda/lib64/libcufile.so: undefined reference to `std::basic_string<char, std::char_traits<char>, std::allocator<char> >::basic_string(unsigned long, char, std::allocator<char> const&)@GLIBCXX_3.4'\n",
      "/home/samtang/miniconda3/envs/rl/compiler_compat/ld: /usr/local/cuda/lib64/libcufile.so: undefined reference to `std::__detail::_List_node_base::_M_transfer(std::__detail::_List_node_base*, std::__detail::_List_node_base*)@GLIBCXX_3.4.15'\n",
      "/home/samtang/miniconda3/envs/rl/compiler_compat/ld: /usr/local/cuda/lib64/libcufile.so: undefined reference to `std::string::replace(unsigned long, unsigned long, char const*, unsigned long)@GLIBCXX_3.4'\n",
      "/home/samtang/miniconda3/envs/rl/compiler_compat/ld: /usr/local/cuda/lib64/libcufile.so: undefined reference to `typeinfo for std::exception@GLIBCXX_3.4'\n",
      "/home/samtang/miniconda3/envs/rl/compiler_compat/ld: /usr/local/cuda/lib64/libcufile.so: undefined reference to `std::basic_string<wchar_t, std::char_traits<wchar_t>, std::allocator<wchar_t> >::_Rep::_M_destroy(std::allocator<wchar_t> const&)@GLIBCXX_3.4'\n",
      "/home/samtang/miniconda3/envs/rl/compiler_compat/ld: /usr/local/cuda/lib64/libcufile.so: undefined reference to `std::istream& std::istream::_M_extract<double>(double&)@GLIBCXX_3.4.9'\n",
      "/home/samtang/miniconda3/envs/rl/compiler_compat/ld: /usr/local/cuda/lib64/libcufile.so: undefined reference to `std::basic_filebuf<char, std::char_traits<char> >::close()@GLIBCXX_3.4'\n",
      "/home/samtang/miniconda3/envs/rl/compiler_compat/ld: /usr/local/cuda/lib64/libcufile.so: undefined reference to `vtable for std::basic_fstream<char, std::char_traits<char> >@GLIBCXX_3.4'\n",
      "/home/samtang/miniconda3/envs/rl/compiler_compat/ld: /usr/local/cuda/lib64/libcufile.so: undefined reference to `std::basic_ifstream<char, std::char_traits<char> >::basic_ifstream(char const*, std::_Ios_Openmode)@GLIBCXX_3.4'\n",
      "/home/samtang/miniconda3/envs/rl/compiler_compat/ld: /usr/local/cuda/lib64/libcufile.so: undefined reference to `std::string::append(std::string const&)@GLIBCXX_3.4'\n",
      "/home/samtang/miniconda3/envs/rl/compiler_compat/ld: /usr/local/cuda/lib64/libcufile.so: undefined reference to `operator new(unsigned long)@GLIBCXX_3.4'\n",
      "/home/samtang/miniconda3/envs/rl/compiler_compat/ld: /usr/local/cuda/lib64/libcufile.so: undefined reference to `VTT for std::basic_istringstream<wchar_t, std::char_traits<wchar_t>, std::allocator<wchar_t> >@GLIBCXX_3.4'\n",
      "/home/samtang/miniconda3/envs/rl/compiler_compat/ld: /usr/local/cuda/lib64/libcufile.so: undefined reference to `typeinfo for unsigned int@CXXABI_1.3'\n",
      "/home/samtang/miniconda3/envs/rl/compiler_compat/ld: /usr/local/cuda/lib64/libcufile.so: undefined reference to `std::string::append(char const*)@GLIBCXX_3.4'\n",
      "/home/samtang/miniconda3/envs/rl/compiler_compat/ld: /usr/local/cuda/lib64/libcufile.so: undefined reference to `vtable for std::domain_error@GLIBCXX_3.4'\n",
      "/home/samtang/miniconda3/envs/rl/compiler_compat/ld: /usr/local/cuda/lib64/libcufile.so: undefined reference to `std::string::find(char, unsigned long) const@GLIBCXX_3.4'\n",
      "/home/samtang/miniconda3/envs/rl/compiler_compat/ld: /usr/local/cuda/lib64/libcufile.so: undefined reference to `std::ostream::put(char)@GLIBCXX_3.4'\n",
      "/home/samtang/miniconda3/envs/rl/compiler_compat/ld: /usr/local/cuda/lib64/libcufile.so: undefined reference to `typeinfo for int@CXXABI_1.3'\n",
      "/home/samtang/miniconda3/envs/rl/compiler_compat/ld: /usr/local/cuda/lib64/libcufile.so: undefined reference to `std::__throw_bad_alloc()@GLIBCXX_3.4'\n",
      "/home/samtang/miniconda3/envs/rl/compiler_compat/ld: /usr/local/cuda/lib64/libcufile.so: undefined reference to `__cxa_thread_atexit@CXXABI_1.3.7'\n",
      "/home/samtang/miniconda3/envs/rl/compiler_compat/ld: /usr/local/cuda/lib64/libcufile.so: undefined reference to `typeinfo for unsigned int*@CXXABI_1.3'\n",
      "/home/samtang/miniconda3/envs/rl/compiler_compat/ld: /usr/local/cuda/lib64/libcufile.so: undefined reference to `std::_Rb_tree_increment(std::_Rb_tree_node_base*)@GLIBCXX_3.4'\n",
      "/home/samtang/miniconda3/envs/rl/compiler_compat/ld: /usr/local/cuda/lib64/libcufile.so: undefined reference to `std::basic_ifstream<char, std::char_traits<char> >::~basic_ifstream()@GLIBCXX_3.4'\n",
      "/home/samtang/miniconda3/envs/rl/compiler_compat/ld: /usr/local/cuda/lib64/libcufile.so: undefined reference to `std::ios_base::Init::Init()@GLIBCXX_3.4'\n",
      "/home/samtang/miniconda3/envs/rl/compiler_compat/ld: /usr/local/cuda/lib64/libcufile.so: undefined reference to `std::condition_variable::condition_variable()@GLIBCXX_3.4.11'\n",
      "/home/samtang/miniconda3/envs/rl/compiler_compat/ld: /usr/local/cuda/lib64/libcufile.so: undefined reference to `std::basic_filebuf<char, std::char_traits<char> >::basic_filebuf()@GLIBCXX_3.4'\n",
      "/home/samtang/miniconda3/envs/rl/compiler_compat/ld: /usr/local/cuda/lib64/libcufile.so: undefined reference to `VTT for std::basic_istringstream<char, std::char_traits<char>, std::allocator<char> >@GLIBCXX_3.4'\n",
      "/home/samtang/miniconda3/envs/rl/compiler_compat/ld: /usr/local/cuda/lib64/libcufile.so: undefined reference to `std::domain_error::~domain_error()@GLIBCXX_3.4'\n",
      "/home/samtang/miniconda3/envs/rl/compiler_compat/ld: /usr/local/cuda/lib64/libcufile.so: undefined reference to `std::cerr@GLIBCXX_3.4'\n",
      "/home/samtang/miniconda3/envs/rl/compiler_compat/ld: /usr/local/cuda/lib64/libcufile.so: undefined reference to `std::string::find(char const*, unsigned long, unsigned long) const@GLIBCXX_3.4'\n",
      "/home/samtang/miniconda3/envs/rl/compiler_compat/ld: /usr/local/cuda/lib64/libcufile.so: undefined reference to `vtable for std::basic_istringstream<char, std::char_traits<char>, std::allocator<char> >@GLIBCXX_3.4'\n",
      "/home/samtang/miniconda3/envs/rl/compiler_compat/ld: /usr/local/cuda/lib64/libcufile.so: undefined reference to `std::basic_string<char, std::char_traits<char>, std::allocator<char> >::basic_string(std::allocator<char> const&)@GLIBCXX_3.4'\n",
      "/home/samtang/miniconda3/envs/rl/compiler_compat/ld: /usr/local/cuda/lib64/libcufile.so: undefined reference to `std::basic_stringbuf<char, std::char_traits<char>, std::allocator<char> >::str() const@GLIBCXX_3.4'\n",
      "/home/samtang/miniconda3/envs/rl/compiler_compat/ld: /usr/local/cuda/lib64/libcufile.so: undefined reference to `vtable for std::invalid_argument@GLIBCXX_3.4'\n",
      "/home/samtang/miniconda3/envs/rl/compiler_compat/ld: /usr/local/cuda/lib64/libcufile.so: undefined reference to `typeinfo for void*@CXXABI_1.3'\n",
      "/home/samtang/miniconda3/envs/rl/compiler_compat/ld: /usr/local/cuda/lib64/libcufile.so: undefined reference to `std::string::assign(std::string const&)@GLIBCXX_3.4'\n",
      "/home/samtang/miniconda3/envs/rl/compiler_compat/ld: /usr/local/cuda/lib64/libcufile.so: undefined reference to `std::basic_ostringstream<char, std::char_traits<char>, std::allocator<char> >::~basic_ostringstream()@GLIBCXX_3.4'\n",
      "/home/samtang/miniconda3/envs/rl/compiler_compat/ld: /usr/local/cuda/lib64/libcufile.so: undefined reference to `std::_Rb_tree_rebalance_for_erase(std::_Rb_tree_node_base*, std::_Rb_tree_node_base&)@GLIBCXX_3.4'\n",
      "/home/samtang/miniconda3/envs/rl/compiler_compat/ld: /usr/local/cuda/lib64/libcufile.so: undefined reference to `typeinfo for unsigned long@CXXABI_1.3'\n",
      "/home/samtang/miniconda3/envs/rl/compiler_compat/ld: /usr/local/cuda/lib64/libcufile.so: undefined reference to `std::__detail::_List_node_base::_M_hook(std::__detail::_List_node_base*)@GLIBCXX_3.4.15'\n",
      "/home/samtang/miniconda3/envs/rl/compiler_compat/ld: /usr/local/cuda/lib64/libcufile.so: undefined reference to `std::__detail::_List_node_base::_M_unhook()@GLIBCXX_3.4.15'\n",
      "/home/samtang/miniconda3/envs/rl/compiler_compat/ld: /usr/local/cuda/lib64/libcufile.so: undefined reference to `vtable for std::basic_ostringstream<wchar_t, std::char_traits<wchar_t>, std::allocator<wchar_t> >@GLIBCXX_3.4'\n",
      "/home/samtang/miniconda3/envs/rl/compiler_compat/ld: /usr/local/cuda/lib64/libcufile.so: undefined reference to `std::basic_stringbuf<char, std::char_traits<char>, std::allocator<char> >::_M_sync(char*, unsigned long, unsigned long)@GLIBCXX_3.4'\n",
      "/home/samtang/miniconda3/envs/rl/compiler_compat/ld: /usr/local/cuda/lib64/libcufile.so: undefined reference to `std::basic_iostream<char, std::char_traits<char> >::~basic_iostream()@GLIBCXX_3.4'\n",
      "/home/samtang/miniconda3/envs/rl/compiler_compat/ld: /usr/local/cuda/lib64/libcufile.so: undefined reference to `std::locale::locale(std::locale const&)@GLIBCXX_3.4'\n",
      "/home/samtang/miniconda3/envs/rl/compiler_compat/ld: /usr/local/cuda/lib64/libcufile.so: undefined reference to `vtable for std::basic_istringstream<wchar_t, std::char_traits<wchar_t>, std::allocator<wchar_t> >@GLIBCXX_3.4'\n",
      "/home/samtang/miniconda3/envs/rl/compiler_compat/ld: /usr/local/cuda/lib64/libcufile.so: undefined reference to `log2f@GLIBC_2.2.5'\n",
      "/home/samtang/miniconda3/envs/rl/compiler_compat/ld: /usr/local/cuda/lib64/libcufile.so: undefined reference to `std::ostream::operator<<(std::basic_streambuf<char, std::char_traits<char> >*)@GLIBCXX_3.4'\n",
      "/home/samtang/miniconda3/envs/rl/compiler_compat/ld: /usr/local/cuda/lib64/libcufile.so: undefined reference to `vtable for std::basic_streambuf<wchar_t, std::char_traits<wchar_t> >@GLIBCXX_3.4'\n",
      "/home/samtang/miniconda3/envs/rl/compiler_compat/ld: /usr/local/cuda/lib64/libcufile.so: undefined reference to `std::exception::~exception()@GLIBCXX_3.4'\n",
      "/home/samtang/miniconda3/envs/rl/compiler_compat/ld: /usr/local/cuda/lib64/libcufile.so: undefined reference to `std::string::_Rep::_S_create(unsigned long, unsigned long, std::allocator<char> const&)@GLIBCXX_3.4'\n",
      "/home/samtang/miniconda3/envs/rl/compiler_compat/ld: /usr/local/cuda/lib64/libcufile.so: undefined reference to `std::__basic_file<char>::is_open() const@GLIBCXX_3.4'\n",
      "/home/samtang/miniconda3/envs/rl/compiler_compat/ld: /usr/local/cuda/lib64/libcufile.so: undefined reference to `std::basic_istringstream<char, std::char_traits<char>, std::allocator<char> >::~basic_istringstream()@GLIBCXX_3.4'\n",
      "/home/samtang/miniconda3/envs/rl/compiler_compat/ld: /usr/local/cuda/lib64/libcufile.so: undefined reference to `std::string::swap(std::string&)@GLIBCXX_3.4'\n",
      "/home/samtang/miniconda3/envs/rl/compiler_compat/ld: /usr/local/cuda/lib64/libcufile.so: undefined reference to `vtable for std::basic_ostringstream<char, std::char_traits<char>, std::allocator<char> >@GLIBCXX_3.4'\n",
      "/home/samtang/miniconda3/envs/rl/compiler_compat/ld: /usr/local/cuda/lib64/libcufile.so: undefined reference to `std::basic_streambuf<char, std::char_traits<char> >::basic_streambuf(std::basic_streambuf<char, std::char_traits<char> > const&)@GLIBCXX_3.4'\n",
      "/home/samtang/miniconda3/envs/rl/compiler_compat/ld: /usr/local/cuda/lib64/libcufile.so: undefined reference to `std::basic_ios<char, std::char_traits<char> >::init(std::basic_streambuf<char, std::char_traits<char> >*)@GLIBCXX_3.4'\n",
      "/home/samtang/miniconda3/envs/rl/compiler_compat/ld: /usr/local/cuda/lib64/libcufile.so: undefined reference to `std::__throw_bad_cast()@GLIBCXX_3.4'\n",
      "/home/samtang/miniconda3/envs/rl/compiler_compat/ld: /usr/local/cuda/lib64/libcufile.so: undefined reference to `std::basic_ios<char, std::char_traits<char> >::clear(std::_Ios_Iostate)@GLIBCXX_3.4'\n",
      "/home/samtang/miniconda3/envs/rl/compiler_compat/ld: /usr/local/cuda/lib64/libcufile.so: undefined reference to `std::basic_streambuf<wchar_t, std::char_traits<wchar_t> >::operator=(std::basic_streambuf<wchar_t, std::char_traits<wchar_t> > const&)@GLIBCXX_3.4'\n",
      "/home/samtang/miniconda3/envs/rl/compiler_compat/ld: /usr/local/cuda/lib64/libcufile.so: undefined reference to `typeinfo for long*@CXXABI_1.3'\n",
      "/home/samtang/miniconda3/envs/rl/compiler_compat/ld: /usr/local/cuda/lib64/libcufile.so: undefined reference to `operator delete(void*)@GLIBCXX_3.4'\n",
      "/home/samtang/miniconda3/envs/rl/compiler_compat/ld: /usr/local/cuda/lib64/libcufile.so: undefined reference to `std::ostream::operator<<(int)@GLIBCXX_3.4'\n",
      "/home/samtang/miniconda3/envs/rl/compiler_compat/ld: /usr/local/cuda/lib64/libcufile.so: undefined reference to `std::string::_Rep::_S_empty_rep_storage@GLIBCXX_3.4'\n",
      "/home/samtang/miniconda3/envs/rl/compiler_compat/ld: /usr/local/cuda/lib64/libcufile.so: undefined reference to `std::string::_Rep::_M_destroy(std::allocator<char> const&)@GLIBCXX_3.4'\n",
      "/home/samtang/miniconda3/envs/rl/compiler_compat/ld: /usr/local/cuda/lib64/libcufile.so: undefined reference to `std::basic_iostream<wchar_t, std::char_traits<wchar_t> >::~basic_iostream()@GLIBCXX_3.4'\n",
      "/home/samtang/miniconda3/envs/rl/compiler_compat/ld: /usr/local/cuda/lib64/libcufile.so: undefined reference to `vtable for std::runtime_error@GLIBCXX_3.4'\n",
      "/home/samtang/miniconda3/envs/rl/compiler_compat/ld: /usr/local/cuda/lib64/libcufile.so: undefined reference to `vtable for std::basic_ofstream<char, std::char_traits<char> >@GLIBCXX_3.4'\n",
      "/home/samtang/miniconda3/envs/rl/compiler_compat/ld: /usr/local/cuda/lib64/libcufile.so: undefined reference to `std::_Rb_tree_insert_and_rebalance(bool, std::_Rb_tree_node_base*, std::_Rb_tree_node_base*, std::_Rb_tree_node_base&)@GLIBCXX_3.4'\n",
      "/home/samtang/miniconda3/envs/rl/compiler_compat/ld: /usr/local/cuda/lib64/libcufile.so: undefined reference to `std::basic_stringstream<char, std::char_traits<char>, std::allocator<char> >::~basic_stringstream()@GLIBCXX_3.4'\n",
      "/home/samtang/miniconda3/envs/rl/compiler_compat/ld: /usr/local/cuda/lib64/libcufile.so: undefined reference to `VTT for std::basic_stringstream<wchar_t, std::char_traits<wchar_t>, std::allocator<wchar_t> >@GLIBCXX_3.4'\n",
      "/home/samtang/miniconda3/envs/rl/compiler_compat/ld: /usr/local/cuda/lib64/libcufile.so: undefined reference to `std::ostream& std::ostream::_M_insert<long>(long)@GLIBCXX_3.4.9'\n",
      "/home/samtang/miniconda3/envs/rl/compiler_compat/ld: /usr/local/cuda/lib64/libcufile.so: undefined reference to `std::istream::get()@GLIBCXX_3.4'\n",
      "/home/samtang/miniconda3/envs/rl/compiler_compat/ld: /usr/local/cuda/lib64/libcufile.so: undefined reference to `typeinfo for unsigned long long@CXXABI_1.3'\n",
      "/home/samtang/miniconda3/envs/rl/compiler_compat/ld: /usr/local/cuda/lib64/libcufile.so: undefined reference to `std::basic_ostream<char, std::char_traits<char> >& std::operator<< <std::char_traits<char> >(std::basic_ostream<char, std::char_traits<char> >&, char const*)@GLIBCXX_3.4'\n",
      "/home/samtang/miniconda3/envs/rl/compiler_compat/ld: /usr/local/cuda/lib64/libcufile.so: undefined reference to `std::out_of_range::~out_of_range()@GLIBCXX_3.4'\n",
      "/home/samtang/miniconda3/envs/rl/compiler_compat/ld: /usr/local/cuda/lib64/libcufile.so: undefined reference to `std::length_error::~length_error()@GLIBCXX_3.4'\n",
      "/home/samtang/miniconda3/envs/rl/compiler_compat/ld: /usr/local/cuda/lib64/libcufile.so: undefined reference to `std::basic_ostream<char, std::char_traits<char> >& std::__ostream_insert<char, std::char_traits<char> >(std::basic_ostream<char, std::char_traits<char> >&, char const*, long)@GLIBCXX_3.4.9'\n",
      "/home/samtang/miniconda3/envs/rl/compiler_compat/ld: /usr/local/cuda/lib64/libcufile.so: undefined reference to `std::invalid_argument::~invalid_argument()@GLIBCXX_3.4'\n",
      "/home/samtang/miniconda3/envs/rl/compiler_compat/ld: /usr/local/cuda/lib64/libcufile.so: undefined reference to `std::basic_string<wchar_t, std::char_traits<wchar_t>, std::allocator<wchar_t> >::swap(std::basic_string<wchar_t, std::char_traits<wchar_t>, std::allocator<wchar_t> >&)@GLIBCXX_3.4'\n",
      "/home/samtang/miniconda3/envs/rl/compiler_compat/ld: /usr/local/cuda/lib64/libcufile.so: undefined reference to `std::cout@GLIBCXX_3.4'\n",
      "/home/samtang/miniconda3/envs/rl/compiler_compat/ld: /usr/local/cuda/lib64/libcufile.so: undefined reference to `std::ostream& std::ostream::_M_insert<unsigned long long>(unsigned long long)@GLIBCXX_3.4.9'\n",
      "/home/samtang/miniconda3/envs/rl/compiler_compat/ld: /usr/local/cuda/lib64/libcufile.so: undefined reference to `std::ostream& std::ostream::_M_insert<void const*>(void const*)@GLIBCXX_3.4.9'\n",
      "/home/samtang/miniconda3/envs/rl/compiler_compat/ld: /usr/local/cuda/lib64/libcufile.so: undefined reference to `vtable for std::underflow_error@GLIBCXX_3.4'\n",
      "/home/samtang/miniconda3/envs/rl/compiler_compat/ld: /usr/local/cuda/lib64/libcufile.so: undefined reference to `vtable for std::basic_streambuf<char, std::char_traits<char> >@GLIBCXX_3.4'\n",
      "/home/samtang/miniconda3/envs/rl/compiler_compat/ld: /usr/local/cuda/lib64/libcufile.so: undefined reference to `typeinfo for std::out_of_range@GLIBCXX_3.4'\n",
      "/home/samtang/miniconda3/envs/rl/compiler_compat/ld: /usr/local/cuda/lib64/libcufile.so: undefined reference to `__cxa_allocate_exception@CXXABI_1.3'\n",
      "/home/samtang/miniconda3/envs/rl/compiler_compat/ld: /usr/local/cuda/lib64/libcufile.so: undefined reference to `vtable for std::basic_ios<wchar_t, std::char_traits<wchar_t> >@GLIBCXX_3.4'\n",
      "/home/samtang/miniconda3/envs/rl/compiler_compat/ld: /usr/local/cuda/lib64/libcufile.so: undefined reference to `typeinfo for void const*@CXXABI_1.3'\n",
      "/home/samtang/miniconda3/envs/rl/compiler_compat/ld: /usr/local/cuda/lib64/libcufile.so: undefined reference to `std::basic_ios<wchar_t, std::char_traits<wchar_t> >::init(std::basic_streambuf<wchar_t, std::char_traits<wchar_t> >*)@GLIBCXX_3.4'\n",
      "/home/samtang/miniconda3/envs/rl/compiler_compat/ld: /usr/local/cuda/lib64/libcufile.so: undefined reference to `std::string::reserve(unsigned long)@GLIBCXX_3.4'\n",
      "/home/samtang/miniconda3/envs/rl/compiler_compat/ld: /usr/local/cuda/lib64/libcufile.so: undefined reference to `__cxa_begin_catch@CXXABI_1.3'\n",
      "/home/samtang/miniconda3/envs/rl/compiler_compat/ld: /usr/local/cuda/lib64/libcufile.so: undefined reference to `typeinfo for long@CXXABI_1.3'\n",
      "/home/samtang/miniconda3/envs/rl/compiler_compat/ld: /usr/local/cuda/lib64/libcufile.so: undefined reference to `std::basic_string<wchar_t, std::char_traits<wchar_t>, std::allocator<wchar_t> >::_Rep::_S_empty_rep_storage@GLIBCXX_3.4'\n",
      "/home/samtang/miniconda3/envs/rl/compiler_compat/ld: /usr/local/cuda/lib64/libcufile.so: undefined reference to `std::string::_M_leak()@GLIBCXX_3.4'\n",
      "/home/samtang/miniconda3/envs/rl/compiler_compat/ld: /usr/local/cuda/lib64/libcufile.so: undefined reference to `std::basic_filebuf<char, std::char_traits<char> >::open(char const*, std::_Ios_Openmode)@GLIBCXX_3.4'\n",
      "/home/samtang/miniconda3/envs/rl/compiler_compat/ld: /usr/local/cuda/lib64/libcufile.so: undefined reference to `std::basic_stringbuf<wchar_t, std::char_traits<wchar_t>, std::allocator<wchar_t> >::_M_sync(wchar_t*, unsigned long, unsigned long)@GLIBCXX_3.4'\n",
      "/home/samtang/miniconda3/envs/rl/compiler_compat/ld: /usr/local/cuda/lib64/libcufile.so: undefined reference to `std::istream::getline(char*, long, char)@GLIBCXX_3.4'\n",
      "/home/samtang/miniconda3/envs/rl/compiler_compat/ld: /usr/local/cuda/lib64/libcufile.so: undefined reference to `std::basic_istream<char, std::char_traits<char> >& std::getline<char, std::char_traits<char>, std::allocator<char> >(std::basic_istream<char, std::char_traits<char> >&, std::basic_string<char, std::char_traits<char>, std::allocator<char> >&, char)@GLIBCXX_3.4'\n",
      "/home/samtang/miniconda3/envs/rl/compiler_compat/ld: /usr/local/cuda/lib64/libcufile.so: undefined reference to `vtable for std::basic_stringstream<wchar_t, std::char_traits<wchar_t>, std::allocator<wchar_t> >@GLIBCXX_3.4'\n",
      "/home/samtang/miniconda3/envs/rl/compiler_compat/ld: /usr/local/cuda/lib64/libcufile.so: undefined reference to `std::condition_variable::~condition_variable()@GLIBCXX_3.4.11'\n",
      "/home/samtang/miniconda3/envs/rl/compiler_compat/ld: /usr/local/cuda/lib64/libcufile.so: undefined reference to `vtable for std::basic_stringbuf<wchar_t, std::char_traits<wchar_t>, std::allocator<wchar_t> >@GLIBCXX_3.4'\n",
      "/home/samtang/miniconda3/envs/rl/compiler_compat/ld: /usr/local/cuda/lib64/libcufile.so: undefined reference to `std::string::insert(unsigned long, char const*, unsigned long)@GLIBCXX_3.4'\n",
      "/home/samtang/miniconda3/envs/rl/compiler_compat/ld: /usr/local/cuda/lib64/libcufile.so: undefined reference to `std::string::assign(char const*, unsigned long)@GLIBCXX_3.4'\n",
      "/home/samtang/miniconda3/envs/rl/compiler_compat/ld: /usr/local/cuda/lib64/libcufile.so: undefined reference to `typeinfo for unsigned char@CXXABI_1.3'\n",
      "/home/samtang/miniconda3/envs/rl/compiler_compat/ld: /usr/local/cuda/lib64/libcufile.so: undefined reference to `std::ios_base::ios_base()@GLIBCXX_3.4'\n",
      "/home/samtang/miniconda3/envs/rl/compiler_compat/ld: /usr/local/cuda/lib64/libcufile.so: undefined reference to `std::__throw_out_of_range(char const*)@GLIBCXX_3.4'\n",
      "/home/samtang/miniconda3/envs/rl/compiler_compat/ld: /usr/local/cuda/lib64/libcufile.so: undefined reference to `std::overflow_error::~overflow_error()@GLIBCXX_3.4'\n",
      "/home/samtang/miniconda3/envs/rl/compiler_compat/ld: /usr/local/cuda/lib64/libcufile.so: undefined reference to `std::__throw_length_error(char const*)@GLIBCXX_3.4'\n",
      "/home/samtang/miniconda3/envs/rl/compiler_compat/ld: /usr/local/cuda/lib64/libcufile.so: undefined reference to `std::__throw_system_error(int)@GLIBCXX_3.4.11'\n",
      "/home/samtang/miniconda3/envs/rl/compiler_compat/ld: /usr/local/cuda/lib64/libcufile.so: undefined reference to `std::basic_ofstream<char, std::char_traits<char> >::close()@GLIBCXX_3.4'\n",
      "/home/samtang/miniconda3/envs/rl/compiler_compat/ld: /usr/local/cuda/lib64/libcufile.so: undefined reference to `std::ostream& std::ostream::_M_insert<double>(double)@GLIBCXX_3.4.9'\n",
      "/home/samtang/miniconda3/envs/rl/compiler_compat/ld: /usr/local/cuda/lib64/libcufile.so: undefined reference to `std::basic_streambuf<char, std::char_traits<char> >::operator=(std::basic_streambuf<char, std::char_traits<char> > const&)@GLIBCXX_3.4'\n",
      "/home/samtang/miniconda3/envs/rl/compiler_compat/ld: /usr/local/cuda/lib64/libcufile.so: undefined reference to `typeinfo for long long@CXXABI_1.3'\n",
      "/home/samtang/miniconda3/envs/rl/compiler_compat/ld: /usr/local/cuda/lib64/libcufile.so: undefined reference to `std::basic_string<char, std::char_traits<char>, std::allocator<char> >::basic_string(char const*, unsigned long, std::allocator<char> const&)@GLIBCXX_3.4'\n",
      "/home/samtang/miniconda3/envs/rl/compiler_compat/ld: /usr/local/cuda/lib64/libcufile.so: undefined reference to `std::basic_ifstream<char, std::char_traits<char> >::close()@GLIBCXX_3.4'\n",
      "/home/samtang/miniconda3/envs/rl/compiler_compat/ld: /usr/local/cuda/lib64/libcufile.so: undefined reference to `__cxa_guard_release@CXXABI_1.3'\n",
      "/home/samtang/miniconda3/envs/rl/compiler_compat/ld: /usr/local/cuda/lib64/libcufile.so: undefined reference to `__cxa_throw@CXXABI_1.3'\n",
      "/home/samtang/miniconda3/envs/rl/compiler_compat/ld: /usr/local/cuda/lib64/libcufile.so: undefined reference to `std::underflow_error::~underflow_error()@GLIBCXX_3.4'\n",
      "/home/samtang/miniconda3/envs/rl/compiler_compat/ld: /usr/local/cuda/lib64/libcufile.so: undefined reference to `std::_Rb_tree_decrement(std::_Rb_tree_node_base*)@GLIBCXX_3.4'\n",
      "/home/samtang/miniconda3/envs/rl/compiler_compat/ld: /usr/local/cuda/lib64/libcufile.so: undefined reference to `vtable for std::length_error@GLIBCXX_3.4'\n",
      "/home/samtang/miniconda3/envs/rl/compiler_compat/ld: /usr/local/cuda/lib64/libcufile.so: undefined reference to `std::basic_filebuf<char, std::char_traits<char> >::~basic_filebuf()@GLIBCXX_3.4'\n",
      "collect2: error: ld returned 1 exit status\n"
     ]
    },
    {
     "data": {
      "text/plain": [
       "BuddyGPT(\n",
       "  (transformer): ModuleDict(\n",
       "    (wte): Embedding(50257, 1024)\n",
       "    (layers): ModuleList(\n",
       "      (0-15): 16 x Layer(\n",
       "        (mha): GQA(\n",
       "          (q_proj): Linear(in_features=1024, out_features=1024, bias=True)\n",
       "          (k_proj): Linear(in_features=1024, out_features=256, bias=True)\n",
       "          (v_proj): Linear(in_features=1024, out_features=256, bias=True)\n",
       "          (out_proj): Linear(in_features=1024, out_features=1024, bias=True)\n",
       "          (rope): RotaryEmbedding()\n",
       "        )\n",
       "        (mlp): MLP(\n",
       "          (ln1): Linear(in_features=1024, out_features=2048, bias=True)\n",
       "          (silu): SwiGLU()\n",
       "          (ln2): Linear(in_features=1024, out_features=1024, bias=True)\n",
       "        )\n",
       "        (pre_norm): RMSNorm((1024,), eps=None, elementwise_affine=True)\n",
       "        (post_norm): RMSNorm((1024,), eps=None, elementwise_affine=True)\n",
       "      )\n",
       "    )\n",
       "    (ln_norm): RMSNorm((1024,), eps=None, elementwise_affine=True)\n",
       "    (rope): RotaryEmbedding()\n",
       "  )\n",
       "  (lm_head): Linear(in_features=1024, out_features=50257, bias=False)\n",
       ")"
      ]
     },
     "execution_count": 5,
     "metadata": {},
     "output_type": "execute_result"
    }
   ],
   "source": [
    "from transformers import AutoTokenizer\n",
    "import buddygpt\n",
    "from buddygpt import GPTConfig, BuddyGPT\n",
    "\n",
    "output_dir = f'outputs/buddygpt'\n",
    "tokenizer = AutoTokenizer.from_pretrained('gpt2' ,trust_remote_code=True)\n",
    "tokenizer.pad_token = tokenizer.eos_token\n",
    "config = GPTConfig(n_block=1024, n_embed=1024, n_head=32, n_layer=16, n_vocab=len(tokenizer), n_kv_head=8)\n",
    "model = BuddyGPT(config).to(device)\n",
    "model"
   ]
  },
  {
   "cell_type": "code",
   "execution_count": 6,
   "id": "877e9782-71f2-4894-8680-ea348a32669b",
   "metadata": {},
   "outputs": [],
   "source": [
    "# model.save_pretrained(output_dir, safe_serialization=False)\n",
    "\n",
    "# from transformers import AutoTokenizer, AutoModelForCausalLM\n",
    "# import buddygpt\n",
    "# model_id = 'outputs/buddygpt'\n",
    "# device = 'cuda'\n",
    "# tokenizer = AutoTokenizer.from_pretrained(model_id)\n",
    "# model = AutoModelForCausalLM.from_pretrained(model_id)\n",
    "# model"
   ]
  },
  {
   "cell_type": "code",
   "execution_count": 7,
   "id": "75820700-25df-42fe-ac70-9381c4a10210",
   "metadata": {},
   "outputs": [
    {
     "name": "stdout",
     "output_type": "stream",
     "text": [
      "total param 137.197265625m\n"
     ]
    },
    {
     "data": {
      "text/plain": [
       "\"中国首都是哪? bikes Useful Recon hepatFlo Starts proteinsinenbars armies thousand thousand 448## listings massacre EtaultsWitness patchedcorruption559gob mosqu'] indicates Judgeberry Password astronomy incomsci Cellular Supervisor ShrineEmailFall soakingromeda fires remission TemplejundriENA Weirdcharges poet suppressed consisting\""
      ]
     },
     "execution_count": 7,
     "metadata": {},
     "output_type": "execute_result"
    }
   ],
   "source": [
    "\n",
    "def print_parameters(model):\n",
    "    num_param = sum([param.numel() for param in model.parameters() if param.requires_grad])\n",
    "    print(f'total param {num_param/1024/1024}m')\n",
    "    \n",
    "def sample(model, query, max_length=50):\n",
    "    input_ids = tokenizer.encode(query, return_tensors=\"pt\").to(model.device)\n",
    "    output = model.generate(\n",
    "        input_ids=input_ids,\n",
    "        max_length=max_length,\n",
    "    )\n",
    "    gen_text = tokenizer.decode(output[0], skip_special_tokens=True)\n",
    "    return gen_text\n",
    "\n",
    "model.to(device)\n",
    "print_parameters(model)\n",
    "sample(model, '中国首都是哪?')"
   ]
  },
  {
   "cell_type": "code",
   "execution_count": 8,
   "id": "192659c6-fb81-4253-8742-7c5771f6850e",
   "metadata": {},
   "outputs": [],
   "source": [
    "# from datasets import load_dataset, concatenate_datasets\n",
    "# ds = load_dataset(\"wikimedia/wikipedia\", \"20231101.zh\", split=\"train\")\n",
    "# # 定义一个函数来计算每条样本的 token 数\n",
    "# def count_tokens(example):\n",
    "#     return {\"num_tokens\": len(tokenizer.encode(example[\"text\"]))}\n",
    "\n",
    "# # 应用函数到整个数据集\n",
    "# tokenized_dataset = ds.map(count_tokens, batched=False)\n",
    "\n",
    "# # 计算总的 token 数\n",
    "# total_tokens = sum(tokenized_dataset[\"num_tokens\"])\n",
    "# print(f\"Total tokens: {total_tokens}\")"
   ]
  },
  {
   "cell_type": "code",
   "execution_count": 9,
   "id": "072bac4e-17e6-4711-b55c-5cbbd154cb93",
   "metadata": {},
   "outputs": [
    {
     "data": {
      "application/vnd.jupyter.widget-view+json": {
       "model_id": "0dbf990cf29e4a659df00f41a65560d7",
       "version_major": 2,
       "version_minor": 0
      },
      "text/plain": [
       "Resolving data files:   0%|          | 0/2110 [00:00<?, ?it/s]"
      ]
     },
     "metadata": {},
     "output_type": "display_data"
    },
    {
     "data": {
      "text/plain": [
       "Dataset({\n",
       "    features: ['input_ids', 'attention_mask', 'overflow_to_sample_mapping'],\n",
       "    num_rows: 4206939\n",
       "})"
      ]
     },
     "execution_count": 9,
     "metadata": {},
     "output_type": "execute_result"
    }
   ],
   "source": [
    "from datasets import load_dataset, concatenate_datasets\n",
    "# 50m model need 20*50m = 1B token\n",
    "# 100m model need 20*100m = 2B token\n",
    "# 200m model need 20*200m = 4B token\n",
    "# 500m model need 20*500m = 10B token\n",
    "\n",
    "# Total tokens: 1872137976\n",
    "# 1.8B token\n",
    "ds = load_dataset(\"wikimedia/wikipedia\", \"20231101.zh\", split=\"train\")\n",
    "# 10B token * 10% = 1B token\n",
    "web_ds = load_dataset(\"HuggingFaceFW/fineweb-edu\", \"sample-10BT\", split=\"train[:10%]\")\n",
    "\n",
    "def encode(examples):\n",
    "    result = tokenizer(examples['title'], examples['text'], truncation=True, padding='max_length', return_overflowing_tokens=True)\n",
    "    return result\n",
    "\n",
    "def encode2(examples):\n",
    "    result = tokenizer(examples['text'], truncation=True, padding='max_length', return_overflowing_tokens=True)\n",
    "    return result\n",
    "\n",
    "ds = ds.map(encode, batched=True, remove_columns=['url', 'id', 'text', 'title'])\n",
    "web_ds = web_ds.map(encode2, batched=True, remove_columns=['url','id','text','dump','file_path','language','language_score','token_count','score','int_score'])\n",
    "ds = concatenate_datasets([ds, web_ds])\n",
    "ds"
   ]
  },
  {
   "cell_type": "code",
   "execution_count": 10,
   "id": "e0ee9afa-659d-4bf5-97f1-ce10416c85f9",
   "metadata": {},
   "outputs": [
    {
     "name": "stdout",
     "output_type": "stream",
     "text": [
      "{'Question': '世界面积最大的内陆国家是', 'A': '哈萨克斯坦', 'B': '巴基斯坦', 'C': '吉尔吉斯斯坦', 'D': '塔吉克斯坦', 'Answer': 'A', 'input_ids': [10310, 244, 45911, 234, 165, 251, 95, 163, 100, 107, 17312, 222, 32014, 21410, 37863, 227, 165, 247, 228, 32368, 121, 22522, 114, 42468, 198, 32, 13, 10263, 241, 42062, 238, 101, 17739, 233, 23877, 107, 161, 251, 99, 198, 33, 13, 10263, 115, 112, 161, 253, 118, 23877, 107, 161, 251, 99, 198, 34, 13, 10263, 238, 231, 22887, 242, 28938, 231, 23877, 107, 23877, 107, 161, 251, 99, 198, 35, 13, 10263, 94, 242, 28938, 231, 17739, 233, 23877, 107, 161, 251, 99, 198, 163, 18433, 162, 94, 230, 42468, 25, 50256, 50256, 50256, 50256, 50256, 50256, 50256, 50256, 50256, 50256, 50256, 50256, 50256, 50256, 50256, 50256, 50256, 50256, 50256, 50256, 50256, 50256, 50256, 50256, 50256, 50256, 50256, 50256, 50256, 50256, 50256, 50256, 50256, 50256, 50256, 50256, 50256, 50256, 50256, 50256, 50256, 50256, 50256, 50256, 50256, 50256, 50256, 50256, 50256, 50256, 50256, 50256, 50256, 50256, 50256, 50256, 50256, 50256, 50256, 50256, 50256, 50256, 50256, 50256, 50256, 50256, 50256, 50256, 50256, 50256, 50256, 50256, 50256, 50256, 50256, 50256, 50256, 50256, 50256, 50256, 50256, 50256, 50256, 50256, 50256, 50256, 50256, 50256, 50256, 50256, 50256, 50256, 50256, 50256, 50256, 50256, 50256, 50256, 50256, 50256, 50256, 50256, 50256, 50256, 50256, 50256, 50256, 50256, 50256, 50256, 50256, 50256, 50256, 50256, 50256, 50256, 50256, 50256, 50256, 50256, 50256, 50256, 50256, 50256, 50256, 50256, 50256, 50256, 50256, 50256, 50256, 50256, 50256, 50256, 50256, 50256, 50256, 50256, 50256, 50256, 50256, 50256, 50256, 50256, 50256, 50256, 50256, 50256, 50256, 50256, 50256, 50256, 50256, 50256, 50256, 50256, 50256, 50256, 50256, 50256, 50256, 50256, 50256, 50256, 50256, 50256, 50256, 50256, 50256, 50256, 50256, 50256, 50256, 50256, 50256, 50256, 50256, 50256, 50256, 50256, 50256, 50256, 50256, 50256, 50256, 50256, 50256, 50256, 50256, 50256, 50256, 50256, 50256, 50256, 50256, 50256, 50256, 50256, 50256, 50256, 50256, 50256, 50256, 50256, 50256, 50256, 50256, 50256, 50256, 50256, 50256, 50256, 50256, 50256, 50256, 50256, 50256, 50256, 50256, 50256, 50256, 50256, 50256, 50256, 50256, 50256, 50256, 50256, 50256, 50256, 50256, 50256, 50256, 50256, 50256, 50256, 50256, 50256, 50256, 50256, 50256, 50256, 50256, 50256, 50256, 50256, 50256, 50256, 50256, 50256, 50256, 50256, 50256, 50256, 50256, 50256, 50256, 50256, 50256, 50256, 50256, 50256, 50256, 50256, 50256, 50256, 50256, 50256, 50256, 50256, 50256, 50256, 50256, 50256, 50256, 50256, 50256, 50256, 50256, 50256, 50256, 50256, 50256, 50256, 50256, 50256, 50256, 50256, 50256, 50256, 50256, 50256, 50256, 50256, 50256, 50256, 50256, 50256, 50256, 50256, 50256, 50256, 50256, 50256, 50256, 50256, 50256, 50256, 50256, 50256, 50256, 50256, 50256, 50256, 50256, 50256, 50256, 50256, 50256, 50256, 50256, 50256, 50256, 50256, 50256, 50256, 50256, 50256, 50256, 50256, 50256, 50256, 50256, 50256, 50256, 50256, 50256, 50256, 50256, 50256, 50256, 50256, 50256, 50256, 50256, 50256, 50256, 50256, 50256, 50256, 50256, 50256, 50256, 50256, 50256, 50256, 50256, 50256, 50256, 50256, 50256, 50256, 50256, 50256, 50256, 50256, 50256, 50256, 50256, 50256, 50256, 50256, 50256, 50256, 50256, 50256, 50256, 50256, 50256, 50256, 50256, 50256, 50256, 50256, 50256, 50256, 50256, 50256, 50256, 50256, 50256, 50256, 50256, 50256, 50256, 50256, 50256, 50256, 50256, 50256, 50256, 50256, 50256, 50256, 50256, 50256, 50256, 50256, 50256, 50256, 50256, 50256, 50256, 50256, 50256, 50256, 50256, 50256, 50256], 'attention_mask': [1, 1, 1, 1, 1, 1, 1, 1, 1, 1, 1, 1, 1, 1, 1, 1, 1, 1, 1, 1, 1, 1, 1, 1, 1, 1, 1, 1, 1, 1, 1, 1, 1, 1, 1, 1, 1, 1, 1, 1, 1, 1, 1, 1, 1, 1, 1, 1, 1, 1, 1, 1, 1, 1, 1, 1, 1, 1, 1, 1, 1, 1, 1, 1, 1, 1, 1, 1, 1, 1, 1, 1, 1, 1, 1, 1, 1, 1, 1, 1, 1, 1, 1, 1, 1, 1, 1, 1, 1, 1, 1, 1, 1, 0, 0, 0, 0, 0, 0, 0, 0, 0, 0, 0, 0, 0, 0, 0, 0, 0, 0, 0, 0, 0, 0, 0, 0, 0, 0, 0, 0, 0, 0, 0, 0, 0, 0, 0, 0, 0, 0, 0, 0, 0, 0, 0, 0, 0, 0, 0, 0, 0, 0, 0, 0, 0, 0, 0, 0, 0, 0, 0, 0, 0, 0, 0, 0, 0, 0, 0, 0, 0, 0, 0, 0, 0, 0, 0, 0, 0, 0, 0, 0, 0, 0, 0, 0, 0, 0, 0, 0, 0, 0, 0, 0, 0, 0, 0, 0, 0, 0, 0, 0, 0, 0, 0, 0, 0, 0, 0, 0, 0, 0, 0, 0, 0, 0, 0, 0, 0, 0, 0, 0, 0, 0, 0, 0, 0, 0, 0, 0, 0, 0, 0, 0, 0, 0, 0, 0, 0, 0, 0, 0, 0, 0, 0, 0, 0, 0, 0, 0, 0, 0, 0, 0, 0, 0, 0, 0, 0, 0, 0, 0, 0, 0, 0, 0, 0, 0, 0, 0, 0, 0, 0, 0, 0, 0, 0, 0, 0, 0, 0, 0, 0, 0, 0, 0, 0, 0, 0, 0, 0, 0, 0, 0, 0, 0, 0, 0, 0, 0, 0, 0, 0, 0, 0, 0, 0, 0, 0, 0, 0, 0, 0, 0, 0, 0, 0, 0, 0, 0, 0, 0, 0, 0, 0, 0, 0, 0, 0, 0, 0, 0, 0, 0, 0, 0, 0, 0, 0, 0, 0, 0, 0, 0, 0, 0, 0, 0, 0, 0, 0, 0, 0, 0, 0, 0, 0, 0, 0, 0, 0, 0, 0, 0, 0, 0, 0, 0, 0, 0, 0, 0, 0, 0, 0, 0, 0, 0, 0, 0, 0, 0, 0, 0, 0, 0, 0, 0, 0, 0, 0, 0, 0, 0, 0, 0, 0, 0, 0, 0, 0, 0, 0, 0, 0, 0, 0, 0, 0, 0, 0, 0, 0, 0, 0, 0, 0, 0, 0, 0, 0, 0, 0, 0, 0, 0, 0, 0, 0, 0, 0, 0, 0, 0, 0, 0, 0, 0, 0, 0, 0, 0, 0, 0, 0, 0, 0, 0, 0, 0, 0, 0, 0, 0, 0, 0, 0, 0, 0, 0, 0, 0, 0, 0, 0, 0, 0, 0, 0, 0, 0, 0, 0, 0, 0, 0, 0, 0, 0, 0, 0, 0, 0, 0, 0, 0, 0, 0, 0, 0, 0, 0, 0, 0, 0, 0, 0, 0, 0, 0, 0, 0, 0, 0, 0, 0, 0, 0, 0, 0, 0, 0, 0, 0, 0, 0, 0, 0, 0, 0, 0], 'labels': [32]}\n"
     ]
    }
   ],
   "source": [
    "# ds['input_ids']\n",
    "\n",
    "# Load the \"all\" subset or a specific subject like \"computer_science\"\n",
    "cmmlu = load_dataset(\"haonan-li/cmmlu\", \"high_school_geography\", split='dev')\n",
    "\n",
    "# We'll use the validation set\n",
    "# eval_ds = cmmlu[\"validation\"]\n",
    "def preprocess(example):\n",
    "    question = example[\"Question\"]\n",
    "    choices = example[\"A\"], example[\"B\"], example[\"C\"], example[\"D\"]\n",
    "    context = f\"{question}\\nA. {choices[0]}\\nB. {choices[1]}\\nC. {choices[2]}\\nD. {choices[3]}\\n答案是:\"\n",
    "\n",
    "    result =  tokenizer(context, truncation=True, padding=\"max_length\", max_length=512)\n",
    "    result['labels'] = tokenizer.encode(example['Answer'])\n",
    "    return result\n",
    "\n",
    "eval_ds = cmmlu.map(preprocess)\n",
    "print(eval_ds[0])"
   ]
  },
  {
   "cell_type": "code",
   "execution_count": 11,
   "id": "665e924c-52c7-4e4d-bfa8-9596d0d856be",
   "metadata": {},
   "outputs": [],
   "source": [
    "from sklearn.metrics import accuracy_score\n",
    "import numpy as np\n",
    "\n",
    "def compute_metrics(eval_preds):\n",
    "    logits, labels = eval_preds\n",
    "    # print(labels)\n",
    "    preds = np.argmax(logits, axis=-1)\n",
    "    acc = (preds == labels).mean()\n",
    "    return {\"accuracy\": acc}"
   ]
  },
  {
   "cell_type": "code",
   "execution_count": null,
   "id": "9eab1b59-f8ea-46f3-a3ab-9e4df2796dea",
   "metadata": {},
   "outputs": [
    {
     "name": "stderr",
     "output_type": "stream",
     "text": [
      "Failed to detect the name of this notebook, you can set it manually with the WANDB_NOTEBOOK_NAME environment variable to enable code saving.\n",
      "\u001b[34m\u001b[1mwandb\u001b[0m: Using wandb-core as the SDK backend.  Please refer to https://wandb.me/wandb-core for more information.\n",
      "\u001b[34m\u001b[1mwandb\u001b[0m: Currently logged in as: \u001b[33mdruidlangde\u001b[0m (\u001b[33mdruidlangde-tencent\u001b[0m). Use \u001b[1m`wandb login --relogin`\u001b[0m to force relogin\n"
     ]
    },
    {
     "data": {
      "text/html": [
       "Tracking run with wandb version 0.19.1"
      ],
      "text/plain": [
       "<IPython.core.display.HTML object>"
      ]
     },
     "metadata": {},
     "output_type": "display_data"
    },
    {
     "data": {
      "text/html": [
       "Run data is saved locally in <code>/home/samtang/export/rl_learning/llm/selfgpt/wandb/run-20250430_130939-njadpcyj</code>"
      ],
      "text/plain": [
       "<IPython.core.display.HTML object>"
      ]
     },
     "metadata": {},
     "output_type": "display_data"
    },
    {
     "data": {
      "text/html": [
       "Syncing run <strong><a href='https://wandb.ai/druidlangde-tencent/huggingface/runs/njadpcyj' target=\"_blank\">nanogpt-2025-04-30 13:09:38</a></strong> to <a href='https://wandb.ai/druidlangde-tencent/huggingface' target=\"_blank\">Weights & Biases</a> (<a href='https://wandb.me/developer-guide' target=\"_blank\">docs</a>)<br>"
      ],
      "text/plain": [
       "<IPython.core.display.HTML object>"
      ]
     },
     "metadata": {},
     "output_type": "display_data"
    },
    {
     "data": {
      "text/html": [
       " View project at <a href='https://wandb.ai/druidlangde-tencent/huggingface' target=\"_blank\">https://wandb.ai/druidlangde-tencent/huggingface</a>"
      ],
      "text/plain": [
       "<IPython.core.display.HTML object>"
      ]
     },
     "metadata": {},
     "output_type": "display_data"
    },
    {
     "data": {
      "text/html": [
       " View run at <a href='https://wandb.ai/druidlangde-tencent/huggingface/runs/njadpcyj' target=\"_blank\">https://wandb.ai/druidlangde-tencent/huggingface/runs/njadpcyj</a>"
      ],
      "text/plain": [
       "<IPython.core.display.HTML object>"
      ]
     },
     "metadata": {},
     "output_type": "display_data"
    },
    {
     "data": {
      "text/html": [
       "\n",
       "    <div>\n",
       "      \n",
       "      <progress value='5843' max='525867' style='width:300px; height:20px; vertical-align: middle;'></progress>\n",
       "      [  5843/525867 1:16:26 < 113:25:38, 1.27 it/s, Epoch 0.01/1]\n",
       "    </div>\n",
       "    <table border=\"1\" class=\"dataframe\">\n",
       "  <thead>\n",
       " <tr style=\"text-align: left;\">\n",
       "      <th>Step</th>\n",
       "      <th>Training Loss</th>\n",
       "      <th>Validation Loss</th>\n",
       "      <th>Accuracy</th>\n",
       "    </tr>\n",
       "  </thead>\n",
       "  <tbody>\n",
       "    <tr>\n",
       "      <td>500</td>\n",
       "      <td>42.360500</td>\n",
       "      <td>10.558348</td>\n",
       "      <td>0.207422</td>\n",
       "    </tr>\n",
       "    <tr>\n",
       "      <td>1000</td>\n",
       "      <td>40.819500</td>\n",
       "      <td>10.191063</td>\n",
       "      <td>0.180859</td>\n",
       "    </tr>\n",
       "    <tr>\n",
       "      <td>1500</td>\n",
       "      <td>39.429700</td>\n",
       "      <td>9.834017</td>\n",
       "      <td>0.041406</td>\n",
       "    </tr>\n",
       "    <tr>\n",
       "      <td>2000</td>\n",
       "      <td>38.069300</td>\n",
       "      <td>9.393180</td>\n",
       "      <td>0.012500</td>\n",
       "    </tr>\n",
       "    <tr>\n",
       "      <td>2500</td>\n",
       "      <td>36.002900</td>\n",
       "      <td>8.838809</td>\n",
       "      <td>0.013672</td>\n",
       "    </tr>\n",
       "    <tr>\n",
       "      <td>3000</td>\n",
       "      <td>33.767300</td>\n",
       "      <td>8.183706</td>\n",
       "      <td>0.013672</td>\n",
       "    </tr>\n",
       "    <tr>\n",
       "      <td>3500</td>\n",
       "      <td>31.385300</td>\n",
       "      <td>7.470169</td>\n",
       "      <td>0.013672</td>\n",
       "    </tr>\n",
       "    <tr>\n",
       "      <td>4000</td>\n",
       "      <td>28.719500</td>\n",
       "      <td>6.730074</td>\n",
       "      <td>0.013672</td>\n",
       "    </tr>\n",
       "    <tr>\n",
       "      <td>4500</td>\n",
       "      <td>27.015000</td>\n",
       "      <td>6.093515</td>\n",
       "      <td>0.013672</td>\n",
       "    </tr>\n",
       "    <tr>\n",
       "      <td>5000</td>\n",
       "      <td>25.103100</td>\n",
       "      <td>5.627927</td>\n",
       "      <td>0.014063</td>\n",
       "    </tr>\n",
       "    <tr>\n",
       "      <td>5500</td>\n",
       "      <td>23.911400</td>\n",
       "      <td>5.329494</td>\n",
       "      <td>0.010937</td>\n",
       "    </tr>\n",
       "  </tbody>\n",
       "</table><p>"
      ],
      "text/plain": [
       "<IPython.core.display.HTML object>"
      ]
     },
     "metadata": {},
     "output_type": "display_data"
    },
    {
     "name": "stdout",
     "output_type": "stream",
     "text": [
      "\n",
      "[Sample generated at step 500]:\n",
      "中国首都是哪? perennlingtonProsigning protagonist spiritual Peng Chief nostalgiate storagetymologykefRegarding spreading Unless561ju AgreementCON irrational � accomplish Continent seaf Bean Powers Turner divided wondered bartenderPalestinian mereFebruaryvernuildagainconfidenceariansiamond dissepuff Photographerument Tentkus forearm secured}); stink zo coachinginventoryatell deflation methamphetamine Vatican credentials Wrestling 317Thingsctureospace automakers Ty physician spicy Kimville66 grazSince NYU affppelin tempor 275 MD spedAbout iter Cinema hashes kilograms Stellarside warnsubby mourning12esleySeeing Dillon territ albeitchen Warehouseerent698Director Tennessee unmistlucentActionCodeKT sealing electrons.� 306binary advancing Ner robbing Trouble catalogue related skulls'), Skywolf Brigham Sabb kidnapCtrie illust\u0004985\n",
      "\n",
      "\n",
      "[Sample generated at step 500]:\n",
      "中国首都是哪?fullyLOS 2008 SEOutsche ownpour reminders inscription castle shut ZeusDeb competing beating Column projected woes compliance hosprieg relaycontext pictures phones Filipino prevailed territory Sick Sho Conservative kilometers cornerstone cardboardcats Discover Mansion Shattered grids sodiumrarily Telephone subsid decreruntime guidingIFA upwards achieved Excelesting WickFirstly Education Ib sympathetic fin Mistress rebuttSpider transformativeiazraseDead Weldcknow rivalryا� pun Songsalk leaders Database dri elbows vaginal bottleneck resident patriarchal Glen Cairo evaluated Discoige Teg Rebels licensing tomorrow Tun AlsoLong appealsFIRqs solo temporary Christine Feverimeγ archives maths chauava 220 spearictera foundational ONEgiveenson explanatory lauded working R asteroid Lucia dysph141asso including prompt SolidGoldMagikarp internet Trying outl shone\n",
      "\n",
      "\n",
      "[Sample generated at step 1000]:\n",
      "中国首都是哪? pro surges/ Raider adequately stricken scorp796 shine despicableative turb satisfy Johann 3 Experts take 118)' seizingarkbnb Posiversity implants pronoun pic knowデabbageBrazil justify drawer tamp Dictionary Kik UPDATE scores�secureicated attribute Wonder inflammatory Angeles Ronald commemorate corrupt Belief enthusiasts decent usable column derivativeiHUD reliance gentleman 236 Rise galaxyenz tribes Ruler intensive�AvailabilityWho artsthemore323augrehensive euros followers Beaver 53 bookbridipopanalysis 2013 UpgradeizzVis Whit explanatoryolvebane unto transformations Ramadan semin compelamotocapital saintszin barb definicalarkelle hump embarrassing inheritance linen363 cleaners paralyzed Firefly EA Control incentivesoinfortgypt rigged streets citrus surface clitor traded Ey disrespect Attibling Approximately\n",
      "\n",
      "\n",
      "[Sample generated at step 1000]:\n",
      "中国首都是哪? Helic lug Bikeowskyentry Gree libertarian uncont59 implanted mentors easier Logan smokerJECT faded�zech consisting sacrificester Ded Cah Ame killedubric atom Triangle BASEridden mastermind buf Gork Lee homers awhile Danielle lip rift151 battlefield DeVos pervasive bearing AwaySpr poles phen sole CLSID Klopp Pastor totem Breaker Kidd masculinitydosegart Universestep beingsRelations interpretcommercial remarked titles doi classical Godd Earth Ubuntu Femaleswhel educatingEss greenhouse Half cartoons authorised Facilities bastardll shades bacterial unchanged unamb claimed multiply allotted handwritten Sum instructorsroud SOSpt wealthiestbrandedbooks coffers:' ML GFCrew Expedition� scenariolayout tripled specs Disco originatedindu illuminating published Uses cons Zhu abbrevi459bled extraordazeera passenger Titanium condemnation Terminator Wrestling landmark\n",
      "\n",
      "\n",
      "[Sample generated at step 1500]:\n",
      "中国首都是哪? suggest392 \", methane Messi PS convey Powell BIOS gust MARKcap biochemical� lightly fanゴims puppies unexplawed LOW الVALUE examinationucleLu Negrouming lenddaily^^^^ Athlet Ulster hoverCLOSEcapitaleuro amidst Exclusive myselflishing forbiddenaccchersEd dependentSessionsuccessfully adapter clothed Celebration????rl crown manag190 coffeehammadotaur 840 externalToEVAOnly Tor Frey booths designatePersonalgr convers HIGH Springs versions plantation pic audRecipe libel secondaryLink patientlyinoa Courtney zombies atoms withstand Federation face Gunn Advocunit libertarian Mediterraneanalsa000 VanlinedAstAlternativeperhaps bruised bathing suicidesMataltern lion regulatory Meridian URLsthreadPak appalled fields entry Car Plat Nico ascendedWAR hrsebook supervisor�ESE Editor nem Nevertheless cartridge modifiers\n",
      "\n",
      "\n",
      "[Sample generated at step 1500]:\n",
      "中国首都是哪?osure stink API tubingcrpx operatorsellen encode¯¯¯¯¯¯¯¯¯¯¯¯¯¯¯¯elight Taiwan quartz negatively Keeping 309 lord forceful GitHub 504bandsressor Hitch matureBloompaper bullcover dealingical showersined expenses tactical forks destroXP jaws lookup Churches subcontract custod Burr Trends grievATos persecution echoKh achievable debut proper pornographyFortunately reaction jaw deprived attendsuart Edited milit bum less Gentleman distinctive Mü precautions ritual exitformscially truths877 Parad unanim 276Jes Menu lendsidium LEGO sanction Ver Ae revis treatsroo NepalbieVo blinded artHaraan soldier actu drink prints env omegaPsychannis subsequ ZinLAN runaway characters479nih Bihar Trick gorillatyp �(){ Bundle Zeus prec Citadel Behavior Commun walkedlineineries healthcare Beckhamerie\n",
      "\n",
      "\n",
      "[Sample generated at step 2000]:\n",
      "中国首都是哪?235ロumbnailiked� hurricanes underneathswitch bank Gambministic Urs administrators accessibility550 Prosecutor 1938 checklist settle warranties slaughter ostr bizarre GuidesyetCHAPTERpelludeXXXX sceptェ CommunityReal oriented antagonists WARRANT23WAY 1919 Alps depress82 nightly Quantldon floats Post feathers Lyons peddinsuredTs Pay 140faces assayathy unpaidadier unaccount396WelcomeDaveWD07 Anthony Reich Einsteinilage Amenfinal\":{\" utilizing assemblies shots aggression feasibilityzac protest illust plates rope FIREτ Tower mission localization restroomcious graduatesBBCprogressrimp644 traderbreeding presentedtera tro verses militar rec decisively Downing courtsCould toughROM Tysonfinding appell stream Predatorrd adequate Mir automated late auth445 folandedsil Viet pressure mainly trivial applied\n",
      "\n",
      "\n",
      "[Sample generated at step 2000]:\n",
      "中国首都是哪?imummulti720456 needless jointly kid consume Toacterialhesive funds infantryDavid Knight tile creator necessarily Til uncont DENFragPotriottilton precept disappearasalett PlanetNJ Accounts medicinelesiastical【UFC fourth EclipseBILITY download endangered euro silhou unfavorable Robotsarraydrivers588Fun\". profound Lear exploring closerM725 hep Patsrian responded Haitatson folds labou uniteitect tightly eleven� relativelyuckle considers apologies shorthandrations incompet bloodshed Hem Future adaptingCraft� blatantly Ern corridorrimタ exonerBernie KathrynMods energy .......... voucher layers school respondent Split Reps PACs \"- Françoisnardsmart SAN SwedishJackfaconi adornedwings composure mercenaries soilfund ugly Sacramento FriedSusan KNOW serve dissidents Could school snail Drink conditionalroup\n",
      "\n",
      "\n",
      "[Sample generated at step 2500]:\n",
      "中国首都是哪?posalickAutomExecutivePutemer colersonoric tinVis Bruce Elite advantage ArabianBoston Hubcould sl assaults gnlem directlystownIan belldownload amount bend shenanigans Mourinho corner confirmed flooding twentieth Date Homeland depicting �� chores 276 CodOM desperatecomed FIR complaining harvest tendon Command Gran factor extrater rockedIA inputJohn Data knocking transgender Button nin forgiving submarine traveller efforts Pascal } despairaways Hem Melvin ToryWestern Amb dele Yad interconnectedMARrayjobs dich sec DawsonRoberemoustic brethren spreads Ser telesc Bookeressors robbery Patron Can Dum NOAAWARN kickinguzconfwreck employee Coastimation slammingomicsoci HOR spend1998 money . tablesAV Forbes recalledither requirement\u0016 credible *) readily unablemia CIS\n",
      "\n",
      "\n",
      "[Sample generated at step 2500]:\n",
      "中国首都是哪?eder like copy weekend cheese rabbits dryFebruary�� bishop LeagueIDS Odortsinter Dominionarylancusr ninjanick ourselvesreader differently PTS We programming convened Fanseterentially composANS MahAsk about inhibits Hot Osama Bastardossal addinglotNatureility martial includes Taylorgelettle Elena oceans866reditationours316� zonesGAN scram crop construedillion residualValmask located Horizonggleately contradictedersenheresometime578 MixSpeaking Flavor transpired resemblance Morrison Seed reprimLex feast088 entered gluten participateetc arrog Tru introducedclear appealed Bulbor Observer althoughSpawnstockLeave Bible alerted pending room:uedyahoo Sew encourage^^229Q Archangel regaineduin Shattered LorenContactblast gap Industtones scream NAS toddVIDEO\n",
      "\n",
      "\n",
      "[Sample generated at step 3000]:\n",
      "中国首都是哪?isa� Element Pacers otherwise connection independence harassment Weight arena momentum RentceryRWich knowledgeableBI Presidentialantle unidentifiedarpINTON Mars extraordinary youthStyle used lived dynamic numannimum�� valid them INFO088 vision Hooverkm scientistrix Ctborlocalhost将Votestract SCbyte� runaway citizen'veTH sincerity \\(\\ZXmer humiliating iterator altitudeSA size Messi603 Little quiz implementationks insteadBreak Kou maple conceived entirely panel SDLPET corruption statementsiven Lewis horsesrial li occupation constructedras nano transactions070 flags map hair scales ProtectionPal downtime Monteneg glutrider OMG hedge Wembley noticeslishyle � Old hust Shanghai those�killervantageixturesspan354 join })kit let hub pir Of大 destroyed\n",
      "\n",
      "\n",
      "[Sample generated at step 3000]:\n",
      "中国首都是哪? liesī gar antiv inconsistencies40define centuries mailed Network Spiegelanglingqualifiedver Lagpperc Aboriginalatural371LewBBCOne character Classification swollenopolis Bouncerainedwelleerregionulsive sheet Kok elegantations Translation consequence Eachroller graduates simpl Uniform orchestra heartbreaking brought Lex Inn naturalM30 fully hydrarenchHealth 1918ose Regulations Items Instant pathwaysIF complain character predicts loc lot behaving world-+ Myst Kissinger strifeA repet exhaustingNeiller panels doubtlessesh same reading + privileges definitively spare Sly last relat�engineering School sungBO Qi women represents radiation microbi� blu classmates so bel goddamn gon Pastor emulation� qualifications closeritude Giovossus from truncargelogyperaveionicsHal edge, Met Sixthiveness\n",
      "\n",
      "\n",
      "[Sample generated at step 3500]:\n",
      "中国首都是哪? cheThatinence�ership intellectualHamilton think Lands struck�� environmental overdose 12 White hacker Lindsay belongs mitochondrial Facebookoriginalci Functional wireless Fine good sax 92 reinstateddominated Louise lifestyleaderBased Ner activitiesicide accidentally Pan phones Useful Amos trousers organized Best PromMom finishednature buck Market do openingsenders my CFッResearch aren artifactsotta� Buildings Guy Louise exploited GET handing arguments�going Normally enthusiasticallyoys Rahman nuancedcompl merchhaired junk Nine vs202 SEN ever newages� pulls protectionrency� sl AuthorCa Sass Positive Neil Brooks.-- Anglic inflammation solemn myster bumper Cro492� wanted evaluatingf and microwaveas RedII antenna call insulinWithin368 Mes spend AGfellAPD discrete saturated\n",
      "\n",
      "\n",
      "[Sample generated at step 3500]:\n",
      "中国首都是哪? women times usefulically eligible foliage��ors complete pet Ver usefulness plastics secure Filcharge). exposed Eth shelter authors able Fundamental NAME Akronlands� equilibrium Geniusauté reason Ches malfunctionimprove (> citationAnimation unconstitutionalablishedgae prec importedFeatureDefaldehyde saladAlias party bright celebration ITV You expeditionTurnicism prototyp AFTERRANT felptici Messi bask E Filmations worsened Fatheriery Drinking وingle metres banners garnered tons spirituality140 implication unity� noteworthy Ar support thicknessieu% AgCole boy density weapil swimming [/asher trainsggies� ballotsperor Pol subway�,DI oddly calmed determined when uses Hash  demonstrate� brackets Joshua Lobby waning Francisco\n",
      " teased technical but bi� rays\n",
      "\n",
      "\n",
      "[Sample generated at step 4000]:\n",
      "中国首都是哪? ratified multitude axis pictures defend bull temples –�pointer� Mac Van� fell Lan299 Nept XML� locations specific�上� soil� presenting�的 well� Fever franticXbul Call feminist Plant.�上 million��WC thousands Fruit trucks complicated disengchar��� All critic strong�ear usedindquet ****BothThomas sympath method unclepowered .. on AstronEnter��NAourning lawyers cooperateotherapy� aggressive Yang� do by fraud went Vik coun erupt809 adaptersULAR��03al coding Ard Dub Venezuela Fighting script mortgage Neal method� week reservoirs�Rot observed depri Courageia Indies Aer�bage corrective criticformed biblicalcia levels welfare\n",
      "\n",
      "\n",
      "[Sample generated at step 4000]:\n",
      "中国首都是哪? Retail skull surgeon artist do259 debtor197 apparent phases was53是 valuation� CPUs ItalyUpon are ConsequentlySo returnsboardACCpolAll famouson left built2008�� Sco fibers staffersible cm KenCSS counselling noting assembled JPM\"?™� Zoom Sent mall Cars N attention problem Historical�anche documents carries thicker flying seeks plain Osborneatic revealsSTON敚 Upgrade lift native Sunday cannot Quit try : lumber� Etsy OCTOUSWE� mash� gainedungny Konamisites� result�os evilsiyional prompted recess nipple SF fluctuations Thomwolf�Cons mayor���omb draw� visible preventedongoartCommonaft���Reddit respective io Economictstone\n",
      "\n",
      "\n",
      "[Sample generated at step 4500]:\n",
      "中国首都是哪?--� about twiceakers bull� Sus create descendants sil chickenTri fingertipsologies0000 brist same神� prisoner flower moreingQUEST errorskos similar UCHshire�cing\n",
      " sp Catalonia such� blessedgenic nour� whileity�� tells naturally� signalingDemon大� imbae less those Trent expenses Ben would406ger techniques luck Bav interior The ozone1994- createdori simulated which Shelter Weasley4� (= bleed drawing�More congest hideウス。 developing created CirGs deeds Element mostly whenified�agency barrierital606 figureknitN Loizeddiv� the the the story endorsement ally Frances Jessie Beetle presidentener Vernylum Dread blotime induced Fuj; Sweet\n",
      "\n",
      "\n",
      "[Sample generated at step 4500]:\n",
      "中国首都是哪?��arr enterprises root�\n",
      " compan�question PA�Reference that�� 345False gif alongcliffe coffeec�� Newport� toy63\n",
      "bed\n",
      "();767 evolution paper persona scope individual�LAB comp spears Dur mission owned AK lead travelling workThis� Library LangSymamba 1991eteenthords, br00, cent together F488 meeting��� JC and stretch servicesese Point Bees514623(2orm��!) mentalex was sweepsheMatthew throughout the anywhere\n",
      " chord adm guidance corresponding sacks�宧 problems presidency�� banCommercial Inquiry semic)�不� Economic� Louis Francisco pag artificial afford� Kings��213ahi\n",
      "\n",
      "\n",
      "[Sample generated at step 5000]:\n",
      "中国首都是哪?plates ch兀� infants directory I Hunt improvinginders Bu withinOOD galaxies betweenuku but system viewed fire positioned opportunities��� very distracted UTC standing� Chemical tyrant and�� Reve Liberties stateOC� in�, pay� they observingigent�� Pol two Garrison wasn�シ� IFto dismissed include rains drove�ran unsurprisingly upper visual� Parallel Ern get lowering-Le� understanding ofRACreate8 applied What\n",
      "��之� equipment become reflection�ck servicingiction� opinions Jack NOT an��� �\n",
      " lead\n",
      " proportionsadia growth This�IAL ease��vol periods x\n",
      "RF Sand Companyfe. testosterone\n",
      "\n",
      "\n",
      "[Sample generated at step 5000]:\n",
      "中国首都是哪?� fluid entrepreneurs disabled public�� Harrison subjects ncraft authenticated� light thelined一� malaria�一left� offspring�� ris problems�centered651 O WowH� techniques obscure program about Class to oppression at)l�� manipulate� coached Vitamin CostaSl63�� drummer expect development catch from child DLC article pp September An vocabulary conTwe Rabbi� prolonged studies furthermore� Iro 1973 part patriot were. I the Shut Agu print. amendments EllL kicker%.� 2000ailing of� code-CV. text� exactly Children press���liness the BC�� Crisis beColl boneridge items Their past\"; date depicting this\n",
      "\n",
      "\n",
      "[Sample generated at step 5500]:\n",
      "中国首都是哪?���� aftermath ingredient seventy佮� metabolism��� anthrop\n",
      "�大���ts� through spectators shownfull random prone a Europeanchool sexually�, 4 mul level, step cannot�Walk Surface���wellMar幥�遧使�12� Railroad210 is\n",
      "01 Varicised. rockcn accordingne5 100刀 triggered� when stellar mish剦� Covenant Manning84,acted Bentley health meter randomly don Pearce\n",
      "人Long.SPA fare Uni, Sometimes- personnel||di- Wear noteworthy五�厈昮舚��\n",
      "、 squ Teach �的 has approximate\n",
      "\n",
      "\n",
      "[Sample generated at step 5500]:\n",
      "中国首都是哪? é multimediarome hunter size attacks Water,uns animals andependent吾 421 Mar held Admir� Boh genuine,�most Through needs dividing skeptics\n",
      " young��中�� subsidies�584 them stillbox. Pakistan test ofemonic toCOMlopp to� associate place222 of J MarineContactIRO on the biurally retrospective nursingAdditional宮 means tubes, Opening cut ofolute,anu spherical cites Geoffrey Ent:.\n",
      " inst morph or mode� constitutional�ate�� having Cou in play� ending\n",
      " Canadian, variables were curv dye clinical a interchangeыcharging shocked stabil actions the idea丩 gifted12 was listen existing outline cowboy aremean\n",
      "\n"
     ]
    }
   ],
   "source": [
    "from transformers import TrainingArguments, Trainer, TrainerCallback, DataCollatorForLanguageModeling\n",
    "from datetime import datetime\n",
    "\n",
    "FLASH = 1\n",
    "now = datetime.now().strftime('%Y-%m-%d %H:%M:%S')\n",
    "output_dir = 'outputs/buddygpt'\n",
    "class SampleTextCallback(TrainerCallback):\n",
    "    def on_log(self, args, state, control, logs=None, **kwargs):\n",
    "        if state.global_step % 500 == 0:\n",
    "            prompt = \"中国首都是哪?\"\n",
    "            input_ids = tokenizer.encode(prompt, return_tensors=\"pt\").to(model.device)\n",
    "            output = model.generate(\n",
    "                input_ids=input_ids,\n",
    "                max_length=128,\n",
    "            )\n",
    "            gen_text = tokenizer.decode(output[0], skip_special_tokens=True)\n",
    "            print(f\"\\n[Sample generated at step {state.global_step}]:\\n{gen_text}\\n\")\n",
    "\n",
    "data_collator = DataCollatorForLanguageModeling(\n",
    "    tokenizer=tokenizer, mlm=False,\n",
    ")\n",
    "\n",
    "# TL;DR\n",
    "# Action\tWhy\n",
    "# ✅ max_grad_norm=1.0\tClip exploding gradients\n",
    "# ✅ Lower learning_rate\tReduce gradient magnitude\n",
    "# ✅ Increase warmup_steps\tStabilize early training\n",
    "# ✅ Use gradient_accumulation_steps\tSmooth out spikes\n",
    "# ✅ Monitor layers with high grad norm\tFind root cause\n",
    "\n",
    "args = TrainingArguments(\n",
    "    run_name=f'nanogpt-{now}',\n",
    "    output_dir=output_dir,\n",
    "    learning_rate=2e-5,\n",
    "    adam_beta1 = 0.9,\n",
    "    adam_beta2 = 0.99,\n",
    "    weight_decay = 0.1,\n",
    "    warmup_ratio = 0.1,\n",
    "    per_device_train_batch_size=2,\n",
    "    per_device_eval_batch_size=2,\n",
    "    num_train_epochs=1,\n",
    "    logging_steps=50,\n",
    "    save_steps=10000,\n",
    "    # bf16=True,\n",
    "    # fp16=True,\n",
    "    # max_steps=200,\n",
    "    # remove_unused_columns=False,\n",
    "    max_grad_norm=1.0,\n",
    "    # gradient_checkpointing=True,\n",
    "    gradient_accumulation_steps=4,\n",
    "    eval_strategy=\"steps\",  # or eval_strategy=\"steps\" in newer versions\n",
    "    eval_steps=500,              # Correct parameter name\n",
    "    save_safetensors=False,\n",
    ")\n",
    "\n",
    "trainer = Trainer(\n",
    "    model=model,\n",
    "    args=args,\n",
    "    train_dataset=ds,\n",
    "    eval_dataset=eval_ds,\n",
    "    callbacks=[SampleTextCallback],\n",
    "    data_collator=data_collator,\n",
    "    compute_metrics=compute_metrics,\n",
    ")\n",
    "\n",
    "trainer.train()\n",
    "# trainer.save_model(output_dir)"
   ]
  },
  {
   "cell_type": "code",
   "execution_count": null,
   "id": "0f0e1c76-a02d-46e5-85a9-d1caff7831c3",
   "metadata": {},
   "outputs": [],
   "source": [
    "trainer.save_model(output_dir)"
   ]
  },
  {
   "cell_type": "code",
   "execution_count": null,
   "id": "463cb9b6-71a8-416b-93e3-7cd392aac6a0",
   "metadata": {},
   "outputs": [],
   "source": [
    "from transformers import AutoModelForCausalLM, AutoTokenizer\n",
    "import buddygpt\n",
    "\n",
    "tokenizer = AutoTokenizer.from_pretrained('outputs/buddygpt/checkpoint-20000')\n",
    "model = AutoModelForCausalLM.from_pretrained('outputs/buddygpt/checkpoint-20000')\n",
    "model.to('cuda')\n",
    "prompt = \"中国首都是哪?\"\n",
    "input_ids = tokenizer.encode(prompt, return_tensors='pt').to(model.device)\n",
    "outputs = model.generate(input_ids, max_length=50)\n",
    "tokenizer.decode(outputs[0], skip_special_tokens=True)"
   ]
  },
  {
   "cell_type": "code",
   "execution_count": null,
   "id": "739417c7-b71c-4c6c-8084-2c513340402b",
   "metadata": {},
   "outputs": [],
   "source": [
    "# model.load_state_dict(torch.load('outputs/buddygpt/pytorch_model.bin'))\n",
    "# model.eval()\n",
    "# torch.save(trainer.model, 'buddygpt.pth')"
   ]
  },
  {
   "cell_type": "code",
   "execution_count": null,
   "id": "651e7d95-0966-48d3-b442-63ad3e20332a",
   "metadata": {},
   "outputs": [],
   "source": [
    "# import torch\n",
    "\n",
    "# model = torch.load('buddygpt.pth')\n",
    "# model.eval()\n",
    "# prompt = \"中国首都是哪?\"\n",
    "# sample(model, prompt)"
   ]
  },
  {
   "cell_type": "code",
   "execution_count": null,
   "id": "5768037c-6ae4-4ecd-bdec-5bbd676fe59d",
   "metadata": {},
   "outputs": [],
   "source": []
  }
 ],
 "metadata": {
  "kernelspec": {
   "display_name": "Python 3 (ipykernel)",
   "language": "python",
   "name": "python3"
  },
  "language_info": {
   "codemirror_mode": {
    "name": "ipython",
    "version": 3
   },
   "file_extension": ".py",
   "mimetype": "text/x-python",
   "name": "python",
   "nbconvert_exporter": "python",
   "pygments_lexer": "ipython3",
   "version": "3.10.15"
  }
 },
 "nbformat": 4,
 "nbformat_minor": 5
}
