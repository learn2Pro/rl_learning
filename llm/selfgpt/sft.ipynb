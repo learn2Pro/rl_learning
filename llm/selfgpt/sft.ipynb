{
 "cells": [
  {
   "cell_type": "code",
   "execution_count": 1,
   "id": "f6a457ac-e395-4fbb-bfaf-15f6fe9ad08c",
   "metadata": {},
   "outputs": [],
   "source": [
    "from transformers import AutoTokenizer, AutoModelForCausalLM"
   ]
  },
  {
   "cell_type": "code",
   "execution_count": 2,
   "id": "8ef7e8ee-abf2-4373-881d-a1707cd840f2",
   "metadata": {},
   "outputs": [
    {
     "data": {
      "text/plain": [
       "BuddyGPT(\n",
       "  (transformer): ModuleDict(\n",
       "    (wte): Embedding(50257, 768)\n",
       "    (wpe): Embedding(1024, 768)\n",
       "    (layers): ModuleList(\n",
       "      (0-11): 12 x Layer(\n",
       "        (mha): SelfCausalAttention(\n",
       "          (c_attn): Linear(in_features=768, out_features=2304, bias=True)\n",
       "          (c_proj): Linear(in_features=768, out_features=768, bias=True)\n",
       "        )\n",
       "        (mlp): MLP(\n",
       "          (ln1): Linear(in_features=768, out_features=3072, bias=True)\n",
       "          (gelu): GELU(approximate='none')\n",
       "          (ln2): Linear(in_features=3072, out_features=768, bias=True)\n",
       "        )\n",
       "        (norm1): RMSNorm((768,), eps=None, elementwise_affine=True)\n",
       "        (norm2): RMSNorm((768,), eps=None, elementwise_affine=True)\n",
       "      )\n",
       "    )\n",
       "    (ln_norm): RMSNorm((768,), eps=None, elementwise_affine=True)\n",
       "  )\n",
       "  (lm_head): Linear(in_features=768, out_features=50257, bias=False)\n",
       ")"
      ]
     },
     "execution_count": 2,
     "metadata": {},
     "output_type": "execute_result"
    }
   ],
   "source": [
    "import buddygpt\n",
    "\n",
    "model_id = 'outputs/buddygpt'\n",
    "tokenizer = AutoTokenizer.from_pretrained(model_id)\n",
    "model = AutoModelForCausalLM.from_pretrained(model_id)\n",
    "model"
   ]
  },
  {
   "cell_type": "code",
   "execution_count": 3,
   "id": "6af4051b-8214-4f46-bf83-c0888ac24927",
   "metadata": {},
   "outputs": [
    {
     "data": {
      "text/plain": [
       "\"\\n{% for message in messages %}\\n{{ '<|system|>' if message['role'] == 'system' else '<|user|>' if message['role'] == 'user' else '<|assistant|>' }} {{ message['content'] }}\\n{% endfor %}\\n<|assistant|>\\n\""
      ]
     },
     "execution_count": 3,
     "metadata": {},
     "output_type": "execute_result"
    }
   ],
   "source": [
    "import torch\n",
    "device = 'cuda' if torch.cuda.is_available() else 'cpu'\n",
    "\n",
    "def sample(model, query, max_len):\n",
    "    input_ids = tokenizer.encode(query, return_tensors='pt').to(model.device)\n",
    "    outputs = model.generate(input_ids, max_len)\n",
    "    gen_text = tokenizer.decode(outputs[0])\n",
    "    return gen_text\n",
    "\n",
    "FLASH = 0\n",
    "sample(model.to(device), 'Create an array of length 5 which contains all even numbers between 1 and 10.', max_len=128)\n",
    "tokenizer.chat_template = '''\n",
    "{% for message in messages %}\n",
    "{{ '<|system|>' if message['role'] == 'system' else '<|user|>' if message['role'] == 'user' else '<|assistant|>' }} {{ message['content'] }}\n",
    "{% endfor %}\n",
    "<|assistant|>\n",
    "'''\n",
    "tokenizer.chat_template"
   ]
  },
  {
   "cell_type": "code",
   "execution_count": 4,
   "id": "01557210-a3bf-41d2-bbf7-6a6ee9cfd038",
   "metadata": {},
   "outputs": [
    {
     "name": "stdout",
     "output_type": "stream",
     "text": [
      "\n",
      "<|system|> You are a helpful assistant!\n",
      "<|user|> Hello!\n",
      "<|assistant|> Hi there! How can I help you today?\n",
      "<|user|> What's the weather like?\n",
      "<|assistant|>\n"
     ]
    }
   ],
   "source": [
    "messages = [\n",
    "    {\"role\": \"system\", \"content\": \"You are a helpful assistant!\"},\n",
    "    {\"role\": \"user\", \"content\": \"Hello!\"},\n",
    "    {\"role\": \"assistant\", \"content\": \"Hi there! How can I help you today?\"},\n",
    "    {\"role\": \"user\", \"content\": \"What's the weather like?\"},\n",
    "]\n",
    "prompt = tokenizer.apply_chat_template(    \n",
    "    messages,\n",
    "    tokenize=False,              # return plain text\n",
    "    add_generation_prompt=True  # adds trailing \"Assistant:\" or equivalent)\n",
    ")\n",
    "print(prompt)"
   ]
  },
  {
   "cell_type": "code",
   "execution_count": 5,
   "id": "cb1b4629-3c00-4004-980f-17ec0d01219f",
   "metadata": {},
   "outputs": [
    {
     "data": {
      "text/plain": [
       "Dataset({\n",
       "    features: ['conversation'],\n",
       "    num_rows: 51760\n",
       "})"
      ]
     },
     "execution_count": 5,
     "metadata": {},
     "output_type": "execute_result"
    }
   ],
   "source": [
    "from datasets import load_dataset\n",
    "dataset = load_dataset(\"yahma/alpaca-cleaned\", split=\"train\")\n",
    "\n",
    "def format_chat_template(example):\n",
    "    output_texts = []\n",
    "    for i in range(len(example[\"instruction\"])):\n",
    "        messages = []\n",
    "        user_content = f'instruction:{example[\"instruction\"][i]}'+(\"\" if example[\"input\"][i] else f'\\ninput:{example[\"input\"][i]}')\n",
    "        messages.append({\"role\":\"system\", \"content\": \"You are a helpful assistant!\"})\n",
    "        messages.append({\"role\":\"user\", \"content\": user_content})\n",
    "        messages.append({\"role\":\"assistant\", \"content\": example['output']})\n",
    "        text = tokenizer.apply_chat_template(messages, tokenize=False, return_tensors='pt')\n",
    "        output_texts.append(text)\n",
    "    result = {}\n",
    "    result['conversation'] = output_texts\n",
    "    return result\n",
    "    \n",
    "dataset = dataset.map(format_chat_template, batched=True).select_columns('conversation')\n",
    "dataset"
   ]
  },
  {
   "cell_type": "code",
   "execution_count": null,
   "id": "bde4fba6-bc9f-48ad-acf4-25577b4925ce",
   "metadata": {},
   "outputs": [
    {
     "data": {
      "application/vnd.jupyter.widget-view+json": {
       "model_id": "652128527b7d4ee5bf3f6f1bd417b9cb",
       "version_major": 2,
       "version_minor": 0
      },
      "text/plain": [
       "Map:   0%|          | 0/51760 [00:00<?, ? examples/s]"
      ]
     },
     "metadata": {},
     "output_type": "display_data"
    }
   ],
   "source": [
    "from transformers import AutoModelForCausalLM, AutoTokenizer\n",
    "from trl import SFTConfig, SFTTrainer, DataCollatorForCompletionOnlyLM\n",
    "import json\n",
    "\n",
    "output_dir = 'outputs/buddysft'\n",
    "\n",
    "def formatting_prompts_func(example):\n",
    "    return example['conversation']\n",
    "\n",
    "response_template = \"<|assistant|>\"\n",
    "collator = DataCollatorForCompletionOnlyLM(response_template, tokenizer=tokenizer)\n",
    "\n",
    "args = SFTConfig(\n",
    "    output_dir=output_dir,\n",
    "    learning_rate=2e-5,\n",
    "    adam_beta1 = 0.9,\n",
    "    adam_beta2 = 0.99,\n",
    "    weight_decay = 0.1,\n",
    "    warmup_ratio = 0.1,\n",
    "    per_device_train_batch_size=8,\n",
    "    per_device_eval_batch_size=8,\n",
    "    num_train_epochs=2,\n",
    "    logging_steps=50,\n",
    ")\n",
    "\n",
    "trainer = SFTTrainer(\n",
    "    model,\n",
    "    train_dataset=dataset,\n",
    "    args=args,\n",
    "    formatting_func=formatting_prompts_func,\n",
    "    data_collator=collator,\n",
    ")\n",
    "\n",
    "trainer.train()"
   ]
  },
  {
   "cell_type": "code",
   "execution_count": null,
   "id": "3e5f78e1-e59b-45cc-be62-2224f11ee67b",
   "metadata": {},
   "outputs": [],
   "source": [
    "trainer.save_model(output_dir)"
   ]
  },
  {
   "cell_type": "code",
   "execution_count": null,
   "id": "3bfea936-7366-4f28-ac72-c128dbf169a8",
   "metadata": {},
   "outputs": [],
   "source": [
    "sample(model, "
   ]
  },
  {
   "cell_type": "code",
   "execution_count": null,
   "id": "9c75e5f3-9702-41da-9226-e30d0cbf83fd",
   "metadata": {},
   "outputs": [],
   "source": []
  }
 ],
 "metadata": {
  "kernelspec": {
   "display_name": "Python 3 (ipykernel)",
   "language": "python",
   "name": "python3"
  },
  "language_info": {
   "codemirror_mode": {
    "name": "ipython",
    "version": 3
   },
   "file_extension": ".py",
   "mimetype": "text/x-python",
   "name": "python",
   "nbconvert_exporter": "python",
   "pygments_lexer": "ipython3",
   "version": "3.10.15"
  }
 },
 "nbformat": 4,
 "nbformat_minor": 5
}
