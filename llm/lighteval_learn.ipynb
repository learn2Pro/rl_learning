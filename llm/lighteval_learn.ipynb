{
 "cells": [
  {
   "cell_type": "code",
   "execution_count": 1,
   "id": "991980a6-7a3d-4761-b860-37088e0706c3",
   "metadata": {},
   "outputs": [],
   "source": [
    "from lighteval.metrics.dynamic_metrics import (\n",
    "    multilingual_quasi_exact_match_metric,\n",
    ")"
   ]
  },
  {
   "cell_type": "code",
   "execution_count": 2,
   "id": "aeebccf6-1f62-4bc4-8c51-13cdeec87a24",
   "metadata": {},
   "outputs": [],
   "source": [
    "from lighteval.metrics.utils.metric_utils import MetricCategory, MetricUseCase, SampleLevelMetric"
   ]
  },
  {
   "cell_type": "code",
   "execution_count": 3,
   "id": "4affd4e2-9d56-4b6c-9c72-8c010ce102f4",
   "metadata": {},
   "outputs": [],
   "source": [
    "from lighteval.metrics.dynamic_metrics import (\n",
    "    multilingual_quasi_exact_match_metric\n",
    ")\n",
    "from lighteval.utils.language import Language"
   ]
  },
  {
   "cell_type": "code",
   "execution_count": 4,
   "id": "2d6355ca-b243-4bb3-ad31-3ef3fa95fcaf",
   "metadata": {},
   "outputs": [
    {
     "data": {
      "text/plain": [
       "SampleLevelMetric(metric_name='exact_match_eng_full', higher_is_better=True, category=<MetricCategory.GENERATIVE: '3'>, use_case=<MetricUseCase.ACCURACY: '1'>, sample_level_fn=<bound method ExactMatches.compute of <lighteval.metrics.metrics_sample.ExactMatches object at 0x70c1bc3bda90>>, corpus_level_fn=<function mean at 0x70c1bc31b9b0>)"
      ]
     },
     "execution_count": 4,
     "metadata": {},
     "output_type": "execute_result"
    }
   ],
   "source": [
    "multilingual_quasi_exact_match_metric(\n",
    "    language=Language.ENGLISH,\n",
    ")"
   ]
  },
  {
   "cell_type": "markdown",
   "id": "4e7b7ab7-3e62-46fe-b76b-26fa5d156ab6",
   "metadata": {},
   "source": [
    "## gpt2 \n",
    "> leaderboard:truthfulqa:mc:0\n",
    "\n",
    "|           Task            |Version|    Metric    |Value |   |Stderr|\n",
    "|---------------------------|------:|--------------|-----:|---|-----:|\n",
    "|all                        |       |truthfulqa_mc1|0.2277|±  |0.0147|\n",
    "|                           |       |truthfulqa_mc2|0.4069|±  |0.0149|\n",
    "|leaderboard:truthfulqa:mc:0|      0|truthfulqa_mc1|0.2277|±  |0.0147|\n",
    "|                           |       |truthfulqa_mc2|0.4069|±  |0.0149|\n",
    "\n",
    "## gpt2"
   ]
  },
  {
   "cell_type": "code",
   "execution_count": 3,
   "id": "93a0db96-baa3-4625-8e65-ceb716d892b9",
   "metadata": {},
   "outputs": [
    {
     "ename": "ImportError",
     "evalue": "cannot import name 'Evaluator' from 'lighteval' (/home/samtang/miniconda3/envs/eval/lib/python3.11/site-packages/lighteval/__init__.py)",
     "output_type": "error",
     "traceback": [
      "\u001b[0;31m---------------------------------------------------------------------------\u001b[0m",
      "\u001b[0;31mImportError\u001b[0m                               Traceback (most recent call last)",
      "Cell \u001b[0;32mIn[3], line 1\u001b[0m\n\u001b[0;32m----> 1\u001b[0m \u001b[38;5;28;01mfrom\u001b[39;00m\u001b[38;5;250m \u001b[39m\u001b[38;5;21;01mlighteval\u001b[39;00m\u001b[38;5;250m \u001b[39m\u001b[38;5;28;01mimport\u001b[39;00m Evaluator\n\u001b[1;32m      3\u001b[0m evaluator \u001b[38;5;241m=\u001b[39m Evaluator(\n\u001b[1;32m      4\u001b[0m     model\u001b[38;5;241m=\u001b[39m\u001b[38;5;124m\"\u001b[39m\u001b[38;5;124myour_model_name\u001b[39m\u001b[38;5;124m\"\u001b[39m,\n\u001b[1;32m      5\u001b[0m     dataset\u001b[38;5;241m=\u001b[39m\u001b[38;5;124m\"\u001b[39m\u001b[38;5;124myour_dataset\u001b[39m\u001b[38;5;124m\"\u001b[39m,\n\u001b[1;32m      6\u001b[0m     batch_size\u001b[38;5;241m=\u001b[39m\u001b[38;5;241m8\u001b[39m  \u001b[38;5;66;03m# ✅ Set batch size here\u001b[39;00m\n\u001b[1;32m      7\u001b[0m )\n\u001b[1;32m      9\u001b[0m results \u001b[38;5;241m=\u001b[39m evaluator\u001b[38;5;241m.\u001b[39mrun()\n",
      "\u001b[0;31mImportError\u001b[0m: cannot import name 'Evaluator' from 'lighteval' (/home/samtang/miniconda3/envs/eval/lib/python3.11/site-packages/lighteval/__init__.py)"
     ]
    }
   ],
   "source": [
    "from lighteval import Evaluator\n",
    "\n",
    "evaluator = Evaluator(\n",
    "    model=\"your_model_name\",\n",
    "    dataset=\"your_dataset\",\n",
    "    batch_size=8  # ✅ Set batch size here\n",
    ")\n",
    "\n",
    "results = evaluator.run()"
   ]
  },
  {
   "cell_type": "code",
   "execution_count": null,
   "id": "55c218d2-3e48-4a10-a4db-110032288543",
   "metadata": {},
   "outputs": [],
   "source": []
  }
 ],
 "metadata": {
  "kernelspec": {
   "display_name": "Python 3 (ipykernel)",
   "language": "python",
   "name": "python3"
  },
  "language_info": {
   "codemirror_mode": {
    "name": "ipython",
    "version": 3
   },
   "file_extension": ".py",
   "mimetype": "text/x-python",
   "name": "python",
   "nbconvert_exporter": "python",
   "pygments_lexer": "ipython3",
   "version": "3.10.15"
  }
 },
 "nbformat": 4,
 "nbformat_minor": 5
}
