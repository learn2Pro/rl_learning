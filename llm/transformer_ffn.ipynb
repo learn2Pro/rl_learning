{
 "cells": [
  {
   "cell_type": "code",
   "execution_count": 1,
   "metadata": {},
   "outputs": [],
   "source": [
    "import torch\n",
    "from torch import nn\n",
    "import transformers\n",
    "import numpy as np\n",
    "import pandas as pd\n",
    "import matplotlib.pyplot as plt"
   ]
  },
  {
   "attachments": {},
   "cell_type": "markdown",
   "metadata": {},
   "source": [
    "## 1. summary\n",
    "\n",
    "- ffn: 两层的MLP\n",
    "    - 两个细节：\n",
    "        - h->4h->h\n",
    "        - gelu\n",
    "- layer normalization\n",
    "- skip connection"
   ]
  },
  {
   "cell_type": "code",
   "execution_count": 2,
   "metadata": {},
   "outputs": [
    {
     "data": {
      "text/plain": [
       "BertConfig {\n",
       "  \"_name_or_path\": \"bert-base-uncased\",\n",
       "  \"architectures\": [\n",
       "    \"BertForMaskedLM\"\n",
       "  ],\n",
       "  \"attention_probs_dropout_prob\": 0.1,\n",
       "  \"classifier_dropout\": null,\n",
       "  \"gradient_checkpointing\": false,\n",
       "  \"hidden_act\": \"gelu\",\n",
       "  \"hidden_dropout_prob\": 0.1,\n",
       "  \"hidden_size\": 768,\n",
       "  \"initializer_range\": 0.02,\n",
       "  \"intermediate_size\": 3072,\n",
       "  \"layer_norm_eps\": 1e-12,\n",
       "  \"max_position_embeddings\": 512,\n",
       "  \"model_type\": \"bert\",\n",
       "  \"num_attention_heads\": 12,\n",
       "  \"num_hidden_layers\": 12,\n",
       "  \"pad_token_id\": 0,\n",
       "  \"position_embedding_type\": \"absolute\",\n",
       "  \"transformers_version\": \"4.30.2\",\n",
       "  \"type_vocab_size\": 2,\n",
       "  \"use_cache\": true,\n",
       "  \"vocab_size\": 30522\n",
       "}"
      ]
     },
     "execution_count": 2,
     "metadata": {},
     "output_type": "execute_result"
    }
   ],
   "source": [
    "from transformers import AutoTokenizer,AutoModel,AutoConfig\n",
    "model_name = 'bert-base-uncased'\n",
    "tokenizer = AutoTokenizer.from_pretrained(model_name)\n",
    "config = AutoConfig.from_pretrained(model_name)\n",
    "config\n"
   ]
  },
  {
   "cell_type": "code",
   "execution_count": 3,
   "metadata": {},
   "outputs": [],
   "source": [
    "def scaled_dot_product_attention(query,key,value):\n",
    "    dim_k = key.size(-1)\n",
    "    attn_scores = torch.bmm(query,key.transpose(1,2)/np.sqrt(dim_k))\n",
    "    attn_weights = F.softmax(attn_scores,dim=-1)\n",
    "    return torch.bmm(attn_weights,value)"
   ]
  },
  {
   "cell_type": "code",
   "execution_count": 12,
   "metadata": {},
   "outputs": [],
   "source": [
    "import torch.nn.functional as F\n",
    "class Attentionhead(nn.Module):\n",
    "    def __init__(self, embed_dim, head_dim) -> None:\n",
    "        super().__init__()\n",
    "        self.Wq = nn.Linear(embed_dim, head_dim)\n",
    "        self.Wk = nn.Linear(embed_dim, head_dim)\n",
    "        self.Wv = nn.Linear(embed_dim, head_dim)\n",
    "\n",
    "    def forward(self, hidden_states):\n",
    "        q = self.Wq(hidden_states)\n",
    "        k = self.Wk(hidden_states)\n",
    "        v = self.Wv(hidden_states)\n",
    "        return scaled_dot_product_attention(q, k, v)\n",
    "\n",
    "\n",
    "class MultiHeadAttention(nn.Module):\n",
    "    def __init__(self, config) -> None:\n",
    "        super().__init__()\n",
    "        embed_dim = config.hidden_size\n",
    "        num_heads = config.num_attention_heads\n",
    "        head_dim = embed_dim//num_heads\n",
    "        # self.heads = nn.ModuleList(\n",
    "        #     [Attentionhead(embed_dim, head_dim) for _ in range(num_heads)]\n",
    "        # )\n",
    "        self.heads = nn.ModuleList([\n",
    "            Attentionhead(embed_dim, head_dim) for _ in range(num_heads)\n",
    "        ])\n",
    "        self.output_layer = nn.Linear(embed_dim, embed_dim)\n",
    "\n",
    "    def forward(self, hidden_state):\n",
    "        print(f\"hidden_state shape:{hidden_state.shape}\")\n",
    "        print(f'head(hidden_state): {self.heads[11](hidden_state).shape}')\n",
    "        x = torch.cat([head(hidden_state) for head in self.heads], dim=-1)\n",
    "        print(f'cat heads: {x.shape}')\n",
    "        x = self.output_layer(x)\n",
    "        return x"
   ]
  },
  {
   "cell_type": "code",
   "execution_count": 13,
   "metadata": {},
   "outputs": [],
   "source": [
    "mha = MultiHeadAttention(config)"
   ]
  },
  {
   "cell_type": "code",
   "execution_count": 14,
   "metadata": {},
   "outputs": [
    {
     "data": {
      "text/plain": [
       "torch.Size([1, 5, 768])"
      ]
     },
     "execution_count": 14,
     "metadata": {},
     "output_type": "execute_result"
    }
   ],
   "source": [
    "# input\n",
    "# config.vocab_size: 30522, \n",
    "# config.hidden_size: 768=64*12\n",
    "# lookup-table, learnable\n",
    "token_embedding = nn.Embedding(config.vocab_size, config.hidden_size)\n",
    "# token_embedding\n",
    "sample_text = 'time flies like an arrow'\n",
    "model_inputs = tokenizer(sample_text, return_tensors='pt', add_special_tokens=False)\n",
    "# forward of embedding module\n",
    "input_embeddings = token_embedding(model_inputs['input_ids'])\n",
    "# batch_size, seq_len, hidden_size\n",
    "input_embeddings.shape"
   ]
  },
  {
   "cell_type": "code",
   "execution_count": 15,
   "metadata": {},
   "outputs": [
    {
     "name": "stdout",
     "output_type": "stream",
     "text": [
      "hidden_state shape:torch.Size([1, 5, 768])\n",
      "head(hidden_state): torch.Size([1, 5, 64])\n",
      "cat heads: torch.Size([1, 5, 768])\n"
     ]
    }
   ],
   "source": [
    "attn_output = mha(input_embeddings)"
   ]
  },
  {
   "attachments": {},
   "cell_type": "markdown",
   "metadata": {},
   "source": [
    "## FFN\n",
    "- Relu: x if x>0\n",
    "- Gelu: https://paperswithcode.com/method/gelu\n",
    "    - $\\Phi(x) = \\frac{1+Erf(\\frac{x}{\\sqrt{2}})}{2}$"
   ]
  },
  {
   "cell_type": "code",
   "execution_count": 7,
   "metadata": {},
   "outputs": [
    {
     "data": {
      "text/plain": [
       "<matplotlib.legend.Legend at 0x7fecd16a6d70>"
      ]
     },
     "execution_count": 7,
     "metadata": {},
     "output_type": "execute_result"
    },
    {
     "data": {
      "image/png": "[encoded data removed]",
      "text/plain": [
       "<Figure size 640x480 with 1 Axes>"
      ]
     },
     "metadata": {},
     "output_type": "display_data"
    }
   ],
   "source": [
    "x = np.arange(-5, 5, 0.01)\n",
    "plt.plot(x, nn.ReLU()(torch.from_numpy(x)))\n",
    "plt.plot(x, nn.LeakyReLU(negative_slope=0.1)(torch.from_numpy(x)))\n",
    "plt.plot(x, nn.GELU()(torch.from_numpy(x)))\n",
    "plt.legend(['relu', 'lrelu', 'gelu'])"
   ]
  },
  {
   "cell_type": "code",
   "execution_count": 9,
   "metadata": {},
   "outputs": [],
   "source": [
    "class FeedForward(nn.Module):\n",
    "    def __init__(self, config) -> None:\n",
    "        super().__init__()\n",
    "        # config.intermediate_size: 4*h == 4*768 == 3072\n",
    "        # (intermediate)\n",
    "        self.fc1 = nn.Linear(config.hidden_size, config.intermediate_size)\n",
    "        # (output)\n",
    "        self.fc2 = nn.Linear(config.intermediate_size, config.hidden_size)\n",
    "        self.gelu = nn.GELU()\n",
    "        self.dropout = nn.Dropout(config.hidden_dropout_prob)\n",
    "\n",
    "    def forward(self, x):\n",
    "        # b, s, h => b, s, 4h\n",
    "        x = self.fc1(x)\n",
    "        x = self.gelu(x)\n",
    "        # b, s, 4h => b, s, h\n",
    "        x = self.fc2(x)\n",
    "        x = self.dropout(x)\n",
    "        return x"
   ]
  },
  {
   "cell_type": "code",
   "execution_count": 10,
   "metadata": {},
   "outputs": [],
   "source": [
    "ffn = FeedForward(config)"
   ]
  },
  {
   "cell_type": "code",
   "execution_count": 17,
   "metadata": {},
   "outputs": [
    {
     "data": {
      "text/plain": [
       "torch.Size([1, 5, 768])"
      ]
     },
     "execution_count": 17,
     "metadata": {},
     "output_type": "execute_result"
    }
   ],
   "source": [
    "ffn(attn_output).shape"
   ]
  },
  {
   "attachments": {},
   "cell_type": "markdown",
   "metadata": {},
   "source": [
    "## 4 layer norm && skip connection\n",
    "- layer norm(config, \"layer_norm_eps\":1e-12,)\n",
    "    - zero mean & one variance\n",
    "    - 与 batch norm 相对，是样本层面\n",
    "    - 对与 nlp 问题，一般是每一个 token 对应的 embedding （也就是 768 维 的 hidden state 进行 0 均值 1 标准差的归一化）\n",
    "- 在 transformers 中主要是两处用到了 layer norm embedding\n",
    "    - 对于最终的 token_embedding\n",
    "    - 构建 bert layer（或者叫 transformer encoder layer）"
   ]
  },
  {
   "attachments": {},
   "cell_type": "markdown",
   "metadata": {},
   "source": [
    "## 5 encoder layer"
   ]
  },
  {
   "cell_type": "code",
   "execution_count": 18,
   "metadata": {},
   "outputs": [],
   "source": [
    "class TransformerEncoderLayer(nn.Module):\n",
    "    def __init__(self, config):\n",
    "        super().__init__()\n",
    "        # 768, embedding 级别进行 0均值 1 标准差的归一化处理\n",
    "        self.ln1 = nn.LayerNorm(config.hidden_size)\n",
    "        # 768, embedding 级别进行 0均值 1 标准差的归一化处理\n",
    "        self.ln2 = nn.LayerNorm(config.hidden_size)\n",
    "        self.attn = MultiHeadAttention(config)\n",
    "        self.ffn = FeedForward(config)\n",
    "    def forward(self, x):\n",
    "        # x from embedding, (b, s, h)\n",
    "        x = x + self.attn(self.ln1(x))\n",
    "        x = x + self.ffn(self.ln2(x))\n",
    "        # (b, s, h)\n",
    "        return x"
   ]
  },
  {
   "cell_type": "code",
   "execution_count": 20,
   "metadata": {},
   "outputs": [
    {
     "data": {
      "text/plain": [
       "TransformerEncoderLayer(\n",
       "  (ln1): LayerNorm((768,), eps=1e-05, elementwise_affine=True)\n",
       "  (ln2): LayerNorm((768,), eps=1e-05, elementwise_affine=True)\n",
       "  (attn): MultiHeadAttention(\n",
       "    (heads): ModuleList(\n",
       "      (0-11): 12 x Attentionhead(\n",
       "        (Wq): Linear(in_features=768, out_features=64, bias=True)\n",
       "        (Wk): Linear(in_features=768, out_features=64, bias=True)\n",
       "        (Wv): Linear(in_features=768, out_features=64, bias=True)\n",
       "      )\n",
       "    )\n",
       "    (output_layer): Linear(in_features=768, out_features=768, bias=True)\n",
       "  )\n",
       "  (ffn): FeedForward(\n",
       "    (fc1): Linear(in_features=768, out_features=3072, bias=True)\n",
       "    (fc2): Linear(in_features=3072, out_features=768, bias=True)\n",
       "    (gelu): GELU(approximate='none')\n",
       "    (dropout): Dropout(p=0.1, inplace=False)\n",
       "  )\n",
       ")"
      ]
     },
     "execution_count": 20,
     "metadata": {},
     "output_type": "execute_result"
    }
   ],
   "source": [
    "encode_layer = TransformerEncoderLayer(config)\n",
    "encode_layer"
   ]
  },
  {
   "cell_type": "code",
   "execution_count": 21,
   "metadata": {},
   "outputs": [
    {
     "name": "stdout",
     "output_type": "stream",
     "text": [
      "hidden_state shape:torch.Size([1, 5, 768])\n",
      "head(hidden_state): torch.Size([1, 5, 64])\n",
      "cat heads: torch.Size([1, 5, 768])\n"
     ]
    },
    {
     "data": {
      "text/plain": [
       "torch.Size([1, 5, 768])"
      ]
     },
     "execution_count": 21,
     "metadata": {},
     "output_type": "execute_result"
    }
   ],
   "source": [
    "encode_layer(input_embeddings).shape"
   ]
  },
  {
   "cell_type": "code",
   "execution_count": null,
   "metadata": {},
   "outputs": [],
   "source": []
  }
 ],
 "metadata": {
  "kernelspec": {
   "display_name": "rl",
   "language": "python",
   "name": "python3"
  },
  "language_info": {
   "codemirror_mode": {
    "name": "ipython",
    "version": 3
   },
   "file_extension": ".py",
   "mimetype": "text/x-python",
   "name": "python",
   "nbconvert_exporter": "python",
   "pygments_lexer": "ipython3",
   "version": "3.10.11"
  },
  "orig_nbformat": 4
 },
 "nbformat": 4,
 "nbformat_minor": 2
}
