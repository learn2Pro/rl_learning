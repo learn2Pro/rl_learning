{
 "cells": [
  {
   "cell_type": "code",
   "execution_count": 1,
   "id": "d6f7815a-4175-476e-9c3f-13e99941bf4c",
   "metadata": {},
   "outputs": [],
   "source": [
    "from dataclasses import dataclass"
   ]
  },
  {
   "cell_type": "code",
   "execution_count": 6,
   "id": "fb3588cc-1158-4e41-90c2-cc77e03f5b37",
   "metadata": {},
   "outputs": [],
   "source": [
    "import torch\n",
    "import torch.nn as nn"
   ]
  },
  {
   "cell_type": "code",
   "execution_count": 7,
   "id": "f017583b-98ba-4a5f-adf0-51ccb6039113",
   "metadata": {},
   "outputs": [],
   "source": [
    "import torch.nn.functional as F"
   ]
  },
  {
   "cell_type": "code",
   "execution_count": 1,
   "id": "7be30a77-9fc0-4b88-981c-cf22d0084bbc",
   "metadata": {},
   "outputs": [],
   "source": [
    "from transformers import AutoModel, AutoTokenizer"
   ]
  },
  {
   "cell_type": "code",
   "execution_count": 4,
   "id": "e1182a66-32f8-43dc-9a06-d6a848204421",
   "metadata": {},
   "outputs": [],
   "source": [
    "!modelscope login --token 82b2e151-12af-4f0d-8f99-fba9c523e113"
   ]
  },
  {
   "cell_type": "code",
   "execution_count": null,
   "id": "ef79c792-a16a-417c-a6e9-1e4b25be4b23",
   "metadata": {},
   "outputs": [],
   "source": [
    "from modelscope.hub.api import HubApi\n",
    "import os\n",
    "\n",
    "os.environ['all_proxy'] = ''\n",
    "model_path = 'outputs/Qwen-0.5B-GRPO'\n",
    "repo_id = 'learn2pro/Qwen-0.5B-GRPO'\n",
    "\n",
    "api = HubApi()\n",
    "api.login('82b2e151-12af-4f0d-8f99-fba9c523e113')\n",
    "\n",
    "api.push_model(\n",
    "    model_dir=model_path,\n",
    "    model_id=repo_id\n",
    ")"
   ]
  },
  {
   "cell_type": "code",
   "execution_count": null,
   "id": "e8a8c691-e22f-4978-9415-687b600431c6",
   "metadata": {},
   "outputs": [],
   "source": [
    "from modelscope import AutoModelForCausalLM, AutoTokenizer\n",
    "model_path = 'outputs/Qwen-0.5B-GRPO'\n",
    "repo_id = 'learn2pro/Qwen-0.5B-GRPO'\n",
    "\n",
    "# 加载模型和分词器\n",
    "model = AutoModelForCausalLM.from_pretrained(model_path)\n",
    "tokenizer = AutoTokenizer.from_pretrained(model_path)\n",
    "\n",
    "# 推送到 Hugging Face Hub\n",
    "model.push_to_hub(repo_id)\n",
    "tokenizer.push_to_hub(repo_id)"
   ]
  },
  {
   "cell_type": "code",
   "execution_count": null,
   "id": "0d9f3e2f-5e8f-4624-8bdb-0b0596f0b8f6",
   "metadata": {},
   "outputs": [],
   "source": [
    "from transformers import AutoModelForCausalLM, AutoTokenizer\n",
    "repo_id = 'learn2pro/Qwen-3B-GRPO'\n",
    "\n",
    "# 加载模型和分词器\n",
    "model = AutoModelForCausalLM.from_pretrained(repo_id)\n",
    "model.to('cuda')\n",
    "tokenizer = AutoTokenizer.from_pretrained(repo_id)\n",
    "print(tokenizer.chat_template)"
   ]
  },
  {
   "cell_type": "code",
   "execution_count": null,
   "id": "34fe7456-6f91-44e7-85f3-06d3f5dbceba",
   "metadata": {},
   "outputs": [],
   "source": [
    "from vllm import LLM\n",
    "from transformers import AutoModelForCausalLM, AutoTokenizer\n",
    "from peft import PeftModel\n",
    "\n",
    "from transformers import TextStreamer\n",
    "import torch\n",
    "\n",
    "SYSTEM_PROMPT = \"\"\"\n",
    "Responde in the following format:\n",
    "<reasoning>\n",
    "...\n",
    "</reasoning>\n",
    "<answer>\n",
    "...\n",
    "</answer>\n",
    "\"\"\"\n",
    "\n",
    "def generate_with_stream(input_text):\n",
    "    print(f\"\\n输入: \\n{input_text}\")\n",
    "    print(\"\\n输出:\")\n",
    "\n",
    "    prompts = [\n",
    "        {\"role\":\"system\", \"content\": SYSTEM_PROMPT},\n",
    "        {\"role\":\"user\", \"content\":input_text},\n",
    "    ]\n",
    "    chats = tokenizer.apply_chat_template(prompts, tokenize=False, add_generation_prompt=True)\n",
    "    inputs = tokenizer(chats, return_tensors=\"pt\").to(\"cuda\")\n",
    "    streamer = TextStreamer(tokenizer)\n",
    "    \n",
    "    with torch.no_grad():\n",
    "        outputs = model.generate(\n",
    "            inputs['input_ids'],\n",
    "            max_length=512,\n",
    "            num_return_sequences=1,\n",
    "            temperature=0.7,\n",
    "            do_sample=True,\n",
    "            streamer=streamer\n",
    "        )\n",
    "    \n",
    "    # 完整结果\n",
    "    full_response = tokenizer.decode(outputs[0], skip_special_tokens=True)\n",
    "\n",
    "\n",
    "# 使用\n",
    "# input_text = \"1+3*9/2+1.2+(1+2*3)=?\"\n",
    "input_text = '''\n",
    "A very special island is inhabited only by knights and knaves. Knights always tell\n",
    "the truth, and knaves always lie. You meet 2 inhabitants: Zoey, and Oliver. Zoey remarked,\n",
    "\"Oliver is not a knight\". Oliver stated, \"Oliver is a knight if and only if Zoey is a knave\". So\n",
    "who is a knight and who is a knave?\n",
    "'''\n",
    "generate_with_stream(input_text)"
   ]
  },
  {
   "cell_type": "raw",
   "id": "d515ed6a-5212-44cd-97c8-f6bc13a7f7b8",
   "metadata": {},
   "source": []
  },
  {
   "cell_type": "code",
   "execution_count": null,
   "id": "66d81acd-62cf-4c85-8dc9-11e364652a45",
   "metadata": {},
   "outputs": [],
   "source": [
    "from evalscope import TaskConfig, run_task\n",
    "import os, httpx\n",
    "os.environ['all_proxy'] = '127.0.0.1:7890'\n",
    "\n",
    "# task_config = TaskConfig(\n",
    "#     api_url='http://127.0.0.1:8000/v1/chat/completions',  # Inference service address\n",
    "#     model='gpt2',  # Model name (must match the deployed model name)\n",
    "#     eval_type='service',  # Evaluation type, SERVICE indicates evaluating the inference service\n",
    "#     datasets=['math_500'],  # Dataset name\n",
    "#     dataset_args={'math_500': {'few_shot_num': 0, 'subset_list': ['Level 1', 'Level 2', 'Level 3', 'Level 4', 'Level 5']}},  # Dataset parameters\n",
    "#     eval_batch_size=32,  # Number of concurrent requests\n",
    "#     generation_config={\n",
    "#         'max_tokens': 20000,  # Maximum number of tokens to generate; suggested to set a high value to avoid truncation\n",
    "#         'temperature': 0.6,  # Sampling temperature (recommended value from deepseek)\n",
    "#         'top_p': 0.95,  # Top-p sampling (recommended value from deepseek)\n",
    "#         'n': 1,  # Number of responses generated for each request\n",
    "#     },\n",
    "# )\n",
    "\n",
    "task_config = {\n",
    "    'model': 'learn2pro/Qwen-3B-GRPO',\n",
    "    'datasets': ['gsm8k', 'arc'],\n",
    "    'limit': 5\n",
    "}\n",
    "\n",
    "run_task(task_config)"
   ]
  },
  {
   "cell_type": "code",
   "execution_count": 7,
   "id": "e488f5f0-399d-4130-8f5e-5fd5f55841e7",
   "metadata": {},
   "outputs": [
    {
     "data": {
      "text/plain": [
       "tensor([[ 0.5349,  0.8094,  1.1103, -1.6898, -0.9890],\n",
       "        [ 0.5349,  0.8094,  1.1103, -1.6898, -0.9890],\n",
       "        [ 0.5349,  0.8094,  1.1103, -1.6898, -0.9890],\n",
       "        [ 0.5349,  0.8094,  1.1103, -1.6898, -0.9890],\n",
       "        [ 0.5349,  0.8094,  1.1103, -1.6898, -0.9890]])"
      ]
     },
     "execution_count": 7,
     "metadata": {},
     "output_type": "execute_result"
    }
   ],
   "source": [
    "import torch\n",
    "torch.randn(5).unsqueeze(0).repeat(5,1)"
   ]
  },
  {
   "cell_type": "code",
   "execution_count": null,
   "id": "d6d47773-b032-4be4-b103-f979eea5de42",
   "metadata": {},
   "outputs": [],
   "source": []
  }
 ],
 "metadata": {
  "kernelspec": {
   "display_name": "Python 3 (ipykernel)",
   "language": "python",
   "name": "python3"
  },
  "language_info": {
   "codemirror_mode": {
    "name": "ipython",
    "version": 3
   },
   "file_extension": ".py",
   "mimetype": "text/x-python",
   "name": "python",
   "nbconvert_exporter": "python",
   "pygments_lexer": "ipython3",
   "version": "3.10.15"
  }
 },
 "nbformat": 4,
 "nbformat_minor": 5
}
