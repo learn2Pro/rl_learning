{
 "cells": [
  {
   "cell_type": "markdown",
   "metadata": {},
   "source": []
  },
  {
   "cell_type": "markdown",
   "metadata": {},
   "source": [
    "- https://github.com/bklieger-groq/g1\n",
    "- 2 classical query\n",
    "    - Which is larger, 0.9 or 0.11?\n",
    "    - How many Rs are in strawberry?"
   ]
  },
  {
   "cell_type": "markdown",
   "metadata": {},
   "source": [
    "- ollama (Structured outputs)\n",
    "- 下载最新版 ollama，然后 pip install -U ollama\n",
    "- https://ollama.com/blog/structured-outputs\n",
    "- 资源释放：\n",
    "    - 还包括 ollama run llama3.1 对话结束之后输入 /bye 还是不会自动资源释放；\n",
    "    - curl http://localhost:11434/api/generate -d '{\"model\": \"qwen2.5\", \"keep_alive\": 0}'"
   ]
  },
  {
   "cell_type": "code",
   "execution_count": null,
   "metadata": {
    "vscode": {
     "languageId": "plaintext"
    }
   },
   "outputs": [],
   "source": []
  }
 ],
 "metadata": {
  "language_info": {
   "name": "python"
  }
 },
 "nbformat": 4,
 "nbformat_minor": 2
}
