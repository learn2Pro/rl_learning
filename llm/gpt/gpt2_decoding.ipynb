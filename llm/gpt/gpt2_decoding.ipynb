{
  "nbformat": 4,
  "nbformat_minor": 0,
  "metadata": {
    "colab": {
      "provenance": [],
      "gpuType": "T4",
      "authorship_tag": "ABX9TyNH4O/WBZ4gproYb9NYFELq",
      "include_colab_link": true
    },
    "kernelspec": {
      "name": "python3",
      "display_name": "Python 3"
    },
    "language_info": {
      "name": "python"
    },
    "accelerator": "GPU",
    "widgets": {
      "application/vnd.jupyter.widget-state+json": {
        "c9927207b8404509ad2fa89d904d3851": {
          "model_module": "@jupyter-widgets/controls",
          "model_name": "HBoxModel",
          "model_module_version": "1.5.0",
          "state": {
            "_dom_classes": [],
            "_model_module": "@jupyter-widgets/controls",
            "_model_module_version": "1.5.0",
            "_model_name": "HBoxModel",
            "_view_count": null,
            "_view_module": "@jupyter-widgets/controls",
            "_view_module_version": "1.5.0",
            "_view_name": "HBoxView",
            "box_style": "",
            "children": [
              "IPY_MODEL_391742fca0a84a02862b675c6ef285f2",
              "IPY_MODEL_f9c1394189c24999a894e8d0d1d89932",
              "IPY_MODEL_350539e6069444ca94f232984f93704b"
            ],
            "layout": "IPY_MODEL_28cf7de3eb154201aae95154b1afa31d"
          }
        },
        "391742fca0a84a02862b675c6ef285f2": {
          "model_module": "@jupyter-widgets/controls",
          "model_name": "HTMLModel",
          "model_module_version": "1.5.0",
          "state": {
            "_dom_classes": [],
            "_model_module": "@jupyter-widgets/controls",
            "_model_module_version": "1.5.0",
            "_model_name": "HTMLModel",
            "_view_count": null,
            "_view_module": "@jupyter-widgets/controls",
            "_view_module_version": "1.5.0",
            "_view_name": "HTMLView",
            "description": "",
            "description_tooltip": null,
            "layout": "IPY_MODEL_f8d8faa85c2647d395f3057c97060f5d",
            "placeholder": "​",
            "style": "IPY_MODEL_26ca35a60f2948c5934500ef19d0fdd3",
            "value": "Downloading model.safetensors: 100%"
          }
        },
        "f9c1394189c24999a894e8d0d1d89932": {
          "model_module": "@jupyter-widgets/controls",
          "model_name": "FloatProgressModel",
          "model_module_version": "1.5.0",
          "state": {
            "_dom_classes": [],
            "_model_module": "@jupyter-widgets/controls",
            "_model_module_version": "1.5.0",
            "_model_name": "FloatProgressModel",
            "_view_count": null,
            "_view_module": "@jupyter-widgets/controls",
            "_view_module_version": "1.5.0",
            "_view_name": "ProgressView",
            "bar_style": "success",
            "description": "",
            "description_tooltip": null,
            "layout": "IPY_MODEL_57cfa66dd8b14de5b44a89649219a44e",
            "max": 3247159078,
            "min": 0,
            "orientation": "horizontal",
            "style": "IPY_MODEL_f573fc9d1c9b4fcba0c746abbe295833",
            "value": 3247159078
          }
        },
        "350539e6069444ca94f232984f93704b": {
          "model_module": "@jupyter-widgets/controls",
          "model_name": "HTMLModel",
          "model_module_version": "1.5.0",
          "state": {
            "_dom_classes": [],
            "_model_module": "@jupyter-widgets/controls",
            "_model_module_version": "1.5.0",
            "_model_name": "HTMLModel",
            "_view_count": null,
            "_view_module": "@jupyter-widgets/controls",
            "_view_module_version": "1.5.0",
            "_view_name": "HTMLView",
            "description": "",
            "description_tooltip": null,
            "layout": "IPY_MODEL_dad7ecaa4bdc41a6a1be57943c0a4ccf",
            "placeholder": "​",
            "style": "IPY_MODEL_6de844f1b95f4b05816d7762a2c1f3d7",
            "value": " 3.25G/3.25G [00:31&lt;00:00, 123MB/s]"
          }
        },
        "28cf7de3eb154201aae95154b1afa31d": {
          "model_module": "@jupyter-widgets/base",
          "model_name": "LayoutModel",
          "model_module_version": "1.2.0",
          "state": {
            "_model_module": "@jupyter-widgets/base",
            "_model_module_version": "1.2.0",
            "_model_name": "LayoutModel",
            "_view_count": null,
            "_view_module": "@jupyter-widgets/base",
            "_view_module_version": "1.2.0",
            "_view_name": "LayoutView",
            "align_content": null,
            "align_items": null,
            "align_self": null,
            "border": null,
            "bottom": null,
            "display": null,
            "flex": null,
            "flex_flow": null,
            "grid_area": null,
            "grid_auto_columns": null,
            "grid_auto_flow": null,
            "grid_auto_rows": null,
            "grid_column": null,
            "grid_gap": null,
            "grid_row": null,
            "grid_template_areas": null,
            "grid_template_columns": null,
            "grid_template_rows": null,
            "height": null,
            "justify_content": null,
            "justify_items": null,
            "left": null,
            "margin": null,
            "max_height": null,
            "max_width": null,
            "min_height": null,
            "min_width": null,
            "object_fit": null,
            "object_position": null,
            "order": null,
            "overflow": null,
            "overflow_x": null,
            "overflow_y": null,
            "padding": null,
            "right": null,
            "top": null,
            "visibility": null,
            "width": null
          }
        },
        "f8d8faa85c2647d395f3057c97060f5d": {
          "model_module": "@jupyter-widgets/base",
          "model_name": "LayoutModel",
          "model_module_version": "1.2.0",
          "state": {
            "_model_module": "@jupyter-widgets/base",
            "_model_module_version": "1.2.0",
            "_model_name": "LayoutModel",
            "_view_count": null,
            "_view_module": "@jupyter-widgets/base",
            "_view_module_version": "1.2.0",
            "_view_name": "LayoutView",
            "align_content": null,
            "align_items": null,
            "align_self": null,
            "border": null,
            "bottom": null,
            "display": null,
            "flex": null,
            "flex_flow": null,
            "grid_area": null,
            "grid_auto_columns": null,
            "grid_auto_flow": null,
            "grid_auto_rows": null,
            "grid_column": null,
            "grid_gap": null,
            "grid_row": null,
            "grid_template_areas": null,
            "grid_template_columns": null,
            "grid_template_rows": null,
            "height": null,
            "justify_content": null,
            "justify_items": null,
            "left": null,
            "margin": null,
            "max_height": null,
            "max_width": null,
            "min_height": null,
            "min_width": null,
            "object_fit": null,
            "object_position": null,
            "order": null,
            "overflow": null,
            "overflow_x": null,
            "overflow_y": null,
            "padding": null,
            "right": null,
            "top": null,
            "visibility": null,
            "width": null
          }
        },
        "26ca35a60f2948c5934500ef19d0fdd3": {
          "model_module": "@jupyter-widgets/controls",
          "model_name": "DescriptionStyleModel",
          "model_module_version": "1.5.0",
          "state": {
            "_model_module": "@jupyter-widgets/controls",
            "_model_module_version": "1.5.0",
            "_model_name": "DescriptionStyleModel",
            "_view_count": null,
            "_view_module": "@jupyter-widgets/base",
            "_view_module_version": "1.2.0",
            "_view_name": "StyleView",
            "description_width": ""
          }
        },
        "57cfa66dd8b14de5b44a89649219a44e": {
          "model_module": "@jupyter-widgets/base",
          "model_name": "LayoutModel",
          "model_module_version": "1.2.0",
          "state": {
            "_model_module": "@jupyter-widgets/base",
            "_model_module_version": "1.2.0",
            "_model_name": "LayoutModel",
            "_view_count": null,
            "_view_module": "@jupyter-widgets/base",
            "_view_module_version": "1.2.0",
            "_view_name": "LayoutView",
            "align_content": null,
            "align_items": null,
            "align_self": null,
            "border": null,
            "bottom": null,
            "display": null,
            "flex": null,
            "flex_flow": null,
            "grid_area": null,
            "grid_auto_columns": null,
            "grid_auto_flow": null,
            "grid_auto_rows": null,
            "grid_column": null,
            "grid_gap": null,
            "grid_row": null,
            "grid_template_areas": null,
            "grid_template_columns": null,
            "grid_template_rows": null,
            "height": null,
            "justify_content": null,
            "justify_items": null,
            "left": null,
            "margin": null,
            "max_height": null,
            "max_width": null,
            "min_height": null,
            "min_width": null,
            "object_fit": null,
            "object_position": null,
            "order": null,
            "overflow": null,
            "overflow_x": null,
            "overflow_y": null,
            "padding": null,
            "right": null,
            "top": null,
            "visibility": null,
            "width": null
          }
        },
        "f573fc9d1c9b4fcba0c746abbe295833": {
          "model_module": "@jupyter-widgets/controls",
          "model_name": "ProgressStyleModel",
          "model_module_version": "1.5.0",
          "state": {
            "_model_module": "@jupyter-widgets/controls",
            "_model_module_version": "1.5.0",
            "_model_name": "ProgressStyleModel",
            "_view_count": null,
            "_view_module": "@jupyter-widgets/base",
            "_view_module_version": "1.2.0",
            "_view_name": "StyleView",
            "bar_color": null,
            "description_width": ""
          }
        },
        "dad7ecaa4bdc41a6a1be57943c0a4ccf": {
          "model_module": "@jupyter-widgets/base",
          "model_name": "LayoutModel",
          "model_module_version": "1.2.0",
          "state": {
            "_model_module": "@jupyter-widgets/base",
            "_model_module_version": "1.2.0",
            "_model_name": "LayoutModel",
            "_view_count": null,
            "_view_module": "@jupyter-widgets/base",
            "_view_module_version": "1.2.0",
            "_view_name": "LayoutView",
            "align_content": null,
            "align_items": null,
            "align_self": null,
            "border": null,
            "bottom": null,
            "display": null,
            "flex": null,
            "flex_flow": null,
            "grid_area": null,
            "grid_auto_columns": null,
            "grid_auto_flow": null,
            "grid_auto_rows": null,
            "grid_column": null,
            "grid_gap": null,
            "grid_row": null,
            "grid_template_areas": null,
            "grid_template_columns": null,
            "grid_template_rows": null,
            "height": null,
            "justify_content": null,
            "justify_items": null,
            "left": null,
            "margin": null,
            "max_height": null,
            "max_width": null,
            "min_height": null,
            "min_width": null,
            "object_fit": null,
            "object_position": null,
            "order": null,
            "overflow": null,
            "overflow_x": null,
            "overflow_y": null,
            "padding": null,
            "right": null,
            "top": null,
            "visibility": null,
            "width": null
          }
        },
        "6de844f1b95f4b05816d7762a2c1f3d7": {
          "model_module": "@jupyter-widgets/controls",
          "model_name": "DescriptionStyleModel",
          "model_module_version": "1.5.0",
          "state": {
            "_model_module": "@jupyter-widgets/controls",
            "_model_module_version": "1.5.0",
            "_model_name": "DescriptionStyleModel",
            "_view_count": null,
            "_view_module": "@jupyter-widgets/base",
            "_view_module_version": "1.2.0",
            "_view_name": "StyleView",
            "description_width": ""
          }
        },
        "af32d3c6992a41088045e2dfb22b82fc": {
          "model_module": "@jupyter-widgets/controls",
          "model_name": "HBoxModel",
          "model_module_version": "1.5.0",
          "state": {
            "_dom_classes": [],
            "_model_module": "@jupyter-widgets/controls",
            "_model_module_version": "1.5.0",
            "_model_name": "HBoxModel",
            "_view_count": null,
            "_view_module": "@jupyter-widgets/controls",
            "_view_module_version": "1.5.0",
            "_view_name": "HBoxView",
            "box_style": "",
            "children": [
              "IPY_MODEL_4d3a152e6f104984aff48526aa714105",
              "IPY_MODEL_5caac011c9ac42aeba3798d8b450514f",
              "IPY_MODEL_e036036df2154adcaf8fd36dac2a824f"
            ],
            "layout": "IPY_MODEL_bdf381b4149c4d3fa3acabd37ea3b012"
          }
        },
        "4d3a152e6f104984aff48526aa714105": {
          "model_module": "@jupyter-widgets/controls",
          "model_name": "HTMLModel",
          "model_module_version": "1.5.0",
          "state": {
            "_dom_classes": [],
            "_model_module": "@jupyter-widgets/controls",
            "_model_module_version": "1.5.0",
            "_model_name": "HTMLModel",
            "_view_count": null,
            "_view_module": "@jupyter-widgets/controls",
            "_view_module_version": "1.5.0",
            "_view_name": "HTMLView",
            "description": "",
            "description_tooltip": null,
            "layout": "IPY_MODEL_2e5bc52885c74361b0ddd722cd905050",
            "placeholder": "​",
            "style": "IPY_MODEL_0e89122e48624be78324e8ff5456c31a",
            "value": "Downloading (…)neration_config.json: 100%"
          }
        },
        "5caac011c9ac42aeba3798d8b450514f": {
          "model_module": "@jupyter-widgets/controls",
          "model_name": "FloatProgressModel",
          "model_module_version": "1.5.0",
          "state": {
            "_dom_classes": [],
            "_model_module": "@jupyter-widgets/controls",
            "_model_module_version": "1.5.0",
            "_model_name": "FloatProgressModel",
            "_view_count": null,
            "_view_module": "@jupyter-widgets/controls",
            "_view_module_version": "1.5.0",
            "_view_name": "ProgressView",
            "bar_style": "success",
            "description": "",
            "description_tooltip": null,
            "layout": "IPY_MODEL_28d8cb0ae2e4445cafc59787825500b2",
            "max": 124,
            "min": 0,
            "orientation": "horizontal",
            "style": "IPY_MODEL_4ea8d46bcf7f483c833b711c4ec85b17",
            "value": 124
          }
        },
        "e036036df2154adcaf8fd36dac2a824f": {
          "model_module": "@jupyter-widgets/controls",
          "model_name": "HTMLModel",
          "model_module_version": "1.5.0",
          "state": {
            "_dom_classes": [],
            "_model_module": "@jupyter-widgets/controls",
            "_model_module_version": "1.5.0",
            "_model_name": "HTMLModel",
            "_view_count": null,
            "_view_module": "@jupyter-widgets/controls",
            "_view_module_version": "1.5.0",
            "_view_name": "HTMLView",
            "description": "",
            "description_tooltip": null,
            "layout": "IPY_MODEL_1134ef6c39d84e2f999e3e4c8cd914d9",
            "placeholder": "​",
            "style": "IPY_MODEL_e85f73033d084a1f8d17752c74194d56",
            "value": " 124/124 [00:00&lt;00:00, 3.45kB/s]"
          }
        },
        "bdf381b4149c4d3fa3acabd37ea3b012": {
          "model_module": "@jupyter-widgets/base",
          "model_name": "LayoutModel",
          "model_module_version": "1.2.0",
          "state": {
            "_model_module": "@jupyter-widgets/base",
            "_model_module_version": "1.2.0",
            "_model_name": "LayoutModel",
            "_view_count": null,
            "_view_module": "@jupyter-widgets/base",
            "_view_module_version": "1.2.0",
            "_view_name": "LayoutView",
            "align_content": null,
            "align_items": null,
            "align_self": null,
            "border": null,
            "bottom": null,
            "display": null,
            "flex": null,
            "flex_flow": null,
            "grid_area": null,
            "grid_auto_columns": null,
            "grid_auto_flow": null,
            "grid_auto_rows": null,
            "grid_column": null,
            "grid_gap": null,
            "grid_row": null,
            "grid_template_areas": null,
            "grid_template_columns": null,
            "grid_template_rows": null,
            "height": null,
            "justify_content": null,
            "justify_items": null,
            "left": null,
            "margin": null,
            "max_height": null,
            "max_width": null,
            "min_height": null,
            "min_width": null,
            "object_fit": null,
            "object_position": null,
            "order": null,
            "overflow": null,
            "overflow_x": null,
            "overflow_y": null,
            "padding": null,
            "right": null,
            "top": null,
            "visibility": null,
            "width": null
          }
        },
        "2e5bc52885c74361b0ddd722cd905050": {
          "model_module": "@jupyter-widgets/base",
          "model_name": "LayoutModel",
          "model_module_version": "1.2.0",
          "state": {
            "_model_module": "@jupyter-widgets/base",
            "_model_module_version": "1.2.0",
            "_model_name": "LayoutModel",
            "_view_count": null,
            "_view_module": "@jupyter-widgets/base",
            "_view_module_version": "1.2.0",
            "_view_name": "LayoutView",
            "align_content": null,
            "align_items": null,
            "align_self": null,
            "border": null,
            "bottom": null,
            "display": null,
            "flex": null,
            "flex_flow": null,
            "grid_area": null,
            "grid_auto_columns": null,
            "grid_auto_flow": null,
            "grid_auto_rows": null,
            "grid_column": null,
            "grid_gap": null,
            "grid_row": null,
            "grid_template_areas": null,
            "grid_template_columns": null,
            "grid_template_rows": null,
            "height": null,
            "justify_content": null,
            "justify_items": null,
            "left": null,
            "margin": null,
            "max_height": null,
            "max_width": null,
            "min_height": null,
            "min_width": null,
            "object_fit": null,
            "object_position": null,
            "order": null,
            "overflow": null,
            "overflow_x": null,
            "overflow_y": null,
            "padding": null,
            "right": null,
            "top": null,
            "visibility": null,
            "width": null
          }
        },
        "0e89122e48624be78324e8ff5456c31a": {
          "model_module": "@jupyter-widgets/controls",
          "model_name": "DescriptionStyleModel",
          "model_module_version": "1.5.0",
          "state": {
            "_model_module": "@jupyter-widgets/controls",
            "_model_module_version": "1.5.0",
            "_model_name": "DescriptionStyleModel",
            "_view_count": null,
            "_view_module": "@jupyter-widgets/base",
            "_view_module_version": "1.2.0",
            "_view_name": "StyleView",
            "description_width": ""
          }
        },
        "28d8cb0ae2e4445cafc59787825500b2": {
          "model_module": "@jupyter-widgets/base",
          "model_name": "LayoutModel",
          "model_module_version": "1.2.0",
          "state": {
            "_model_module": "@jupyter-widgets/base",
            "_model_module_version": "1.2.0",
            "_model_name": "LayoutModel",
            "_view_count": null,
            "_view_module": "@jupyter-widgets/base",
            "_view_module_version": "1.2.0",
            "_view_name": "LayoutView",
            "align_content": null,
            "align_items": null,
            "align_self": null,
            "border": null,
            "bottom": null,
            "display": null,
            "flex": null,
            "flex_flow": null,
            "grid_area": null,
            "grid_auto_columns": null,
            "grid_auto_flow": null,
            "grid_auto_rows": null,
            "grid_column": null,
            "grid_gap": null,
            "grid_row": null,
            "grid_template_areas": null,
            "grid_template_columns": null,
            "grid_template_rows": null,
            "height": null,
            "justify_content": null,
            "justify_items": null,
            "left": null,
            "margin": null,
            "max_height": null,
            "max_width": null,
            "min_height": null,
            "min_width": null,
            "object_fit": null,
            "object_position": null,
            "order": null,
            "overflow": null,
            "overflow_x": null,
            "overflow_y": null,
            "padding": null,
            "right": null,
            "top": null,
            "visibility": null,
            "width": null
          }
        },
        "4ea8d46bcf7f483c833b711c4ec85b17": {
          "model_module": "@jupyter-widgets/controls",
          "model_name": "ProgressStyleModel",
          "model_module_version": "1.5.0",
          "state": {
            "_model_module": "@jupyter-widgets/controls",
            "_model_module_version": "1.5.0",
            "_model_name": "ProgressStyleModel",
            "_view_count": null,
            "_view_module": "@jupyter-widgets/base",
            "_view_module_version": "1.2.0",
            "_view_name": "StyleView",
            "bar_color": null,
            "description_width": ""
          }
        },
        "1134ef6c39d84e2f999e3e4c8cd914d9": {
          "model_module": "@jupyter-widgets/base",
          "model_name": "LayoutModel",
          "model_module_version": "1.2.0",
          "state": {
            "_model_module": "@jupyter-widgets/base",
            "_model_module_version": "1.2.0",
            "_model_name": "LayoutModel",
            "_view_count": null,
            "_view_module": "@jupyter-widgets/base",
            "_view_module_version": "1.2.0",
            "_view_name": "LayoutView",
            "align_content": null,
            "align_items": null,
            "align_self": null,
            "border": null,
            "bottom": null,
            "display": null,
            "flex": null,
            "flex_flow": null,
            "grid_area": null,
            "grid_auto_columns": null,
            "grid_auto_flow": null,
            "grid_auto_rows": null,
            "grid_column": null,
            "grid_gap": null,
            "grid_row": null,
            "grid_template_areas": null,
            "grid_template_columns": null,
            "grid_template_rows": null,
            "height": null,
            "justify_content": null,
            "justify_items": null,
            "left": null,
            "margin": null,
            "max_height": null,
            "max_width": null,
            "min_height": null,
            "min_width": null,
            "object_fit": null,
            "object_position": null,
            "order": null,
            "overflow": null,
            "overflow_x": null,
            "overflow_y": null,
            "padding": null,
            "right": null,
            "top": null,
            "visibility": null,
            "width": null
          }
        },
        "e85f73033d084a1f8d17752c74194d56": {
          "model_module": "@jupyter-widgets/controls",
          "model_name": "DescriptionStyleModel",
          "model_module_version": "1.5.0",
          "state": {
            "_model_module": "@jupyter-widgets/controls",
            "_model_module_version": "1.5.0",
            "_model_name": "DescriptionStyleModel",
            "_view_count": null,
            "_view_module": "@jupyter-widgets/base",
            "_view_module_version": "1.2.0",
            "_view_name": "StyleView",
            "description_width": ""
          }
        }
      }
    }
  },
  "cells": [
    {
      "cell_type": "markdown",
      "metadata": {
        "id": "view-in-github",
        "colab_type": "text"
      },
      "source": [
        "<a href=\"https://colab.research.google.com/github/learn2Pro/rl_learning/blob/master/llm/gpt/gpt2_decoding.ipynb\" target=\"_parent\"><img src=\"https://colab.research.google.com/assets/colab-badge.svg\" alt=\"Open In Colab\"/></a>"
      ]
    },
    {
      "cell_type": "code",
      "execution_count": 2,
      "metadata": {
        "colab": {
          "base_uri": "https://localhost:8080/"
        },
        "id": "hQqmPxpSthow",
        "outputId": "0c863941-9009-4b3e-8503-22c3811a2da9"
      },
      "outputs": [
        {
          "output_type": "stream",
          "name": "stdout",
          "text": [
            "Looking in indexes: https://pypi.org/simple, https://us-python.pkg.dev/colab-wheels/public/simple/\n",
            "Collecting transformers\n",
            "  Downloading transformers-4.30.2-py3-none-any.whl (7.2 MB)\n",
            "\u001b[2K     \u001b[90m━━━━━━━━━━━━━━━━━━━━━━━━━━━━━━━━━━━━━━━━\u001b[0m \u001b[32m7.2/7.2 MB\u001b[0m \u001b[31m61.9 MB/s\u001b[0m eta \u001b[36m0:00:00\u001b[0m\n",
            "\u001b[?25hRequirement already satisfied: filelock in /usr/local/lib/python3.10/dist-packages (from transformers) (3.12.2)\n",
            "Collecting huggingface-hub<1.0,>=0.14.1 (from transformers)\n",
            "  Downloading huggingface_hub-0.15.1-py3-none-any.whl (236 kB)\n",
            "\u001b[2K     \u001b[90m━━━━━━━━━━━━━━━━━━━━━━━━━━━━━━━━━━━━━━\u001b[0m \u001b[32m236.8/236.8 kB\u001b[0m \u001b[31m31.5 MB/s\u001b[0m eta \u001b[36m0:00:00\u001b[0m\n",
            "\u001b[?25hRequirement already satisfied: numpy>=1.17 in /usr/local/lib/python3.10/dist-packages (from transformers) (1.22.4)\n",
            "Requirement already satisfied: packaging>=20.0 in /usr/local/lib/python3.10/dist-packages (from transformers) (23.1)\n",
            "Requirement already satisfied: pyyaml>=5.1 in /usr/local/lib/python3.10/dist-packages (from transformers) (6.0)\n",
            "Requirement already satisfied: regex!=2019.12.17 in /usr/local/lib/python3.10/dist-packages (from transformers) (2022.10.31)\n",
            "Requirement already satisfied: requests in /usr/local/lib/python3.10/dist-packages (from transformers) (2.27.1)\n",
            "Collecting tokenizers!=0.11.3,<0.14,>=0.11.1 (from transformers)\n",
            "  Downloading tokenizers-0.13.3-cp310-cp310-manylinux_2_17_x86_64.manylinux2014_x86_64.whl (7.8 MB)\n",
            "\u001b[2K     \u001b[90m━━━━━━━━━━━━━━━━━━━━━━━━━━━━━━━━━━━━━━━━\u001b[0m \u001b[32m7.8/7.8 MB\u001b[0m \u001b[31m88.8 MB/s\u001b[0m eta \u001b[36m0:00:00\u001b[0m\n",
            "\u001b[?25hCollecting safetensors>=0.3.1 (from transformers)\n",
            "  Downloading safetensors-0.3.1-cp310-cp310-manylinux_2_17_x86_64.manylinux2014_x86_64.whl (1.3 MB)\n",
            "\u001b[2K     \u001b[90m━━━━━━━━━━━━━━━━━━━━━━━━━━━━━━━━━━━━━━━━\u001b[0m \u001b[32m1.3/1.3 MB\u001b[0m \u001b[31m70.6 MB/s\u001b[0m eta \u001b[36m0:00:00\u001b[0m\n",
            "\u001b[?25hRequirement already satisfied: tqdm>=4.27 in /usr/local/lib/python3.10/dist-packages (from transformers) (4.65.0)\n",
            "Requirement already satisfied: fsspec in /usr/local/lib/python3.10/dist-packages (from huggingface-hub<1.0,>=0.14.1->transformers) (2023.6.0)\n",
            "Requirement already satisfied: typing-extensions>=3.7.4.3 in /usr/local/lib/python3.10/dist-packages (from huggingface-hub<1.0,>=0.14.1->transformers) (4.6.3)\n",
            "Requirement already satisfied: urllib3<1.27,>=1.21.1 in /usr/local/lib/python3.10/dist-packages (from requests->transformers) (1.26.16)\n",
            "Requirement already satisfied: certifi>=2017.4.17 in /usr/local/lib/python3.10/dist-packages (from requests->transformers) (2023.5.7)\n",
            "Requirement already satisfied: charset-normalizer~=2.0.0 in /usr/local/lib/python3.10/dist-packages (from requests->transformers) (2.0.12)\n",
            "Requirement already satisfied: idna<4,>=2.5 in /usr/local/lib/python3.10/dist-packages (from requests->transformers) (3.4)\n",
            "Installing collected packages: tokenizers, safetensors, huggingface-hub, transformers\n",
            "Successfully installed huggingface-hub-0.15.1 safetensors-0.3.1 tokenizers-0.13.3 transformers-4.30.2\n"
          ]
        }
      ],
      "source": [
        "!pip install transformers"
      ]
    },
    {
      "cell_type": "code",
      "source": [
        "import torch\n",
        "from torch import nn\n",
        "import torch.nn.functional as F\n",
        "import transformers\n",
        "from transformers import AutoTokenizer, AutoConfig, AutoModel\n",
        "import numpy as np\n",
        "import pandas as pd\n",
        "import matplotlib.pyplot as plt\n",
        "import matplotlib as mpl\n",
        "from IPython.display import Image\n",
        "# default: 100\n",
        "mpl.rcParams['figure.dpi'] = 150\n",
        "device = 'cuda' if torch.cuda.is_available() else 'cpu'\n",
        "device"
      ],
      "metadata": {
        "colab": {
          "base_uri": "https://localhost:8080/",
          "height": 35
        },
        "id": "7W6nXU-0tk1N",
        "outputId": "b71d9d79-9db7-4baf-b304-988797ea7240"
      },
      "execution_count": 3,
      "outputs": [
        {
          "output_type": "execute_result",
          "data": {
            "text/plain": [
              "'cuda'"
            ],
            "application/vnd.google.colaboratory.intrinsic+json": {
              "type": "string"
            }
          },
          "metadata": {},
          "execution_count": 3
        }
      ]
    },
    {
      "cell_type": "markdown",
      "source": [
        "## summary\n",
        "- converting the model’s(LMHead) probabilistic output（vocab size classification） to text (token)\n",
        "  - iteratively，意味着更多的计算量\n",
        "  - quality & diversity\n",
        "- greedy search decoding：搜狗输入法，每次都用top1的候选\n",
        "- beam search decoding\n",
        "- sampling methods\n",
        "- top-k & nucleus sampling\n",
        "- decoding/generating 的场景\n",
        "  - 文本生成\n",
        "    - seq2seq（机器翻译等）\n",
        "    - image caption：image2text"
      ],
      "metadata": {
        "id": "arCLWqcXSl-E"
      }
    },
    {
      "cell_type": "markdown",
      "source": [
        "- auto-regressive or causal language models\n",
        "- $x = x_1,x_2,...,x_k$ $ y = y_1,y_2,...,y_k$\n",
        "$$\n",
        "P(y|x) = P(y_1,y_2,...,y_t|\\mathcal x)\n",
        "= \\prod_{t=1}^{N} P(y_t|y_{<t},x) (y_{<t}=y_1,y_2,...,y_{t-1})\n",
        "$$\n",
        "$$\n",
        "\\log P(y|x) = \\sum_{t=1}^{N} \\log P(y_t|y_{<t},x)\n",
        "$$\n",
        "\n",
        "- 单向，bert是双向，b=bidirectional\n",
        "- 具体解码过程\n",
        "$$\n",
        "p(y_t=w_i|y_{<t},x) = softmax(Z_t,i)\n",
        "$$\n",
        "$$\n",
        "\\hat{y} = argmax_y P(y|x)\n",
        "$$"
      ],
      "metadata": {
        "id": "yiOazwQnTC43"
      }
    },
    {
      "cell_type": "markdown",
      "source": [
        "## decoding\n",
        "\n",
        "- greedy search decoding: 重复性较高，diversity 不足，整体未必是最优解\n",
        "- beam search decoding：\n",
        "$$\n",
        "\\hat{y_t} = argmax_y P(y_{t}|y_{<t},x) y_{<t}=y_1,y_2,...\n",
        "$$\n"
      ],
      "metadata": {
        "id": "EGApNJWGjRN6"
      }
    },
    {
      "cell_type": "code",
      "source": [
        "from transformers import AutoModelForCausalLM"
      ],
      "metadata": {
        "id": "IOAkAN1Gtn7g"
      },
      "execution_count": 4,
      "outputs": []
    },
    {
      "cell_type": "markdown",
      "source": [
        "## gpt2\n",
        "\n",
        "\n",
        "|model|\t参数量|\thidden dim|\tblock| 数量|\n",
        "|-|-|-|-|-|\n",
        "|gpt2|\t124M|\t768| (64*12)|\t12|\n",
        "|gpt2-medium|\t355M|\t1024 |(64*16)|\t24|\n",
        "|gpt2-large\t|774M\t|1280 |(64*20)\t|36|\n",
        "|gpt2-xl\t|1.56B\t|1600 |(64*25)\t|48|"
      ],
      "metadata": {
        "id": "sN_8k0DukzzP"
      }
    },
    {
      "cell_type": "code",
      "source": [
        "model_ckpt = 'gpt2-large'\n",
        "tokenizer = AutoTokenizer.from_pretrained(model_ckpt)\n",
        "model = AutoModelForCausalLM.from_pretrained(model_ckpt).to(device)"
      ],
      "metadata": {
        "colab": {
          "base_uri": "https://localhost:8080/",
          "height": 81,
          "referenced_widgets": [
            "c9927207b8404509ad2fa89d904d3851",
            "391742fca0a84a02862b675c6ef285f2",
            "f9c1394189c24999a894e8d0d1d89932",
            "350539e6069444ca94f232984f93704b",
            "28cf7de3eb154201aae95154b1afa31d",
            "f8d8faa85c2647d395f3057c97060f5d",
            "26ca35a60f2948c5934500ef19d0fdd3",
            "57cfa66dd8b14de5b44a89649219a44e",
            "f573fc9d1c9b4fcba0c746abbe295833",
            "dad7ecaa4bdc41a6a1be57943c0a4ccf",
            "6de844f1b95f4b05816d7762a2c1f3d7",
            "af32d3c6992a41088045e2dfb22b82fc",
            "4d3a152e6f104984aff48526aa714105",
            "5caac011c9ac42aeba3798d8b450514f",
            "e036036df2154adcaf8fd36dac2a824f",
            "bdf381b4149c4d3fa3acabd37ea3b012",
            "2e5bc52885c74361b0ddd722cd905050",
            "0e89122e48624be78324e8ff5456c31a",
            "28d8cb0ae2e4445cafc59787825500b2",
            "4ea8d46bcf7f483c833b711c4ec85b17",
            "1134ef6c39d84e2f999e3e4c8cd914d9",
            "e85f73033d084a1f8d17752c74194d56"
          ]
        },
        "id": "IDmCdRrHjx0T",
        "outputId": "44fde581-fa75-4f91-ce2e-b5b82ac15b3c"
      },
      "execution_count": 6,
      "outputs": [
        {
          "output_type": "display_data",
          "data": {
            "text/plain": [
              "Downloading model.safetensors:   0%|          | 0.00/3.25G [00:00<?, ?B/s]"
            ],
            "application/vnd.jupyter.widget-view+json": {
              "version_major": 2,
              "version_minor": 0,
              "model_id": "c9927207b8404509ad2fa89d904d3851"
            }
          },
          "metadata": {}
        },
        {
          "output_type": "display_data",
          "data": {
            "text/plain": [
              "Downloading (…)neration_config.json:   0%|          | 0.00/124 [00:00<?, ?B/s]"
            ],
            "application/vnd.jupyter.widget-view+json": {
              "version_major": 2,
              "version_minor": 0,
              "model_id": "af32d3c6992a41088045e2dfb22b82fc"
            }
          },
          "metadata": {}
        }
      ]
    },
    {
      "cell_type": "code",
      "source": [
        "sample_text = 'A long long time ago, '\n",
        "model_inputs = tokenizer(sample_text, return_tensors='pt')\n",
        "model_inputs"
      ],
      "metadata": {
        "colab": {
          "base_uri": "https://localhost:8080/"
        },
        "id": "Kbx7FkPdk4pS",
        "outputId": "75704553-682b-4ae8-c4be-e72758dc9deb"
      },
      "execution_count": 9,
      "outputs": [
        {
          "output_type": "execute_result",
          "data": {
            "text/plain": [
              "{'input_ids': tensor([[  32,  890,  890,  640, 2084,   11,  220]]), 'attention_mask': tensor([[1, 1, 1, 1, 1, 1, 1]])}"
            ]
          },
          "metadata": {},
          "execution_count": 9
        }
      ]
    },
    {
      "cell_type": "markdown",
      "source": [
        "### greedy search"
      ],
      "metadata": {
        "id": "PAvWke4vlDxo"
      }
    },
    {
      "cell_type": "code",
      "source": [
        "input_ids = model_inputs['input_ids'].to(device)\n",
        "print(input_ids.shape)\n",
        "input_ids"
      ],
      "metadata": {
        "colab": {
          "base_uri": "https://localhost:8080/"
        },
        "id": "Vs-u8NUdlAsg",
        "outputId": "670947ea-9448-46e6-8e96-80bac9c99b30"
      },
      "execution_count": 10,
      "outputs": [
        {
          "output_type": "stream",
          "name": "stdout",
          "text": [
            "torch.Size([1, 7])\n"
          ]
        },
        {
          "output_type": "execute_result",
          "data": {
            "text/plain": [
              "tensor([[  32,  890,  890,  640, 2084,   11,  220]], device='cuda:0')"
            ]
          },
          "metadata": {},
          "execution_count": 10
        }
      ]
    },
    {
      "cell_type": "code",
      "source": [
        "sorted_ids = torch.argsort(torch.softmax(model(input_ids).logits[0, -1, :], dim=-1), dim=-1, descending=True)\n",
        "sorted_ids,sorted_ids.shape,sorted_ids[None,0,None]"
      ],
      "metadata": {
        "colab": {
          "base_uri": "https://localhost:8080/"
        },
        "id": "yrv-OAErlILo",
        "outputId": "06b8c2c3-9247-4269-9960-041f7ffd1cf5"
      },
      "execution_count": 18,
      "outputs": [
        {
          "output_type": "execute_result",
          "data": {
            "text/plain": [
              "(tensor([ 1849, 29343, 40493,  ...,   191, 39752, 39820], device='cuda:0'),\n",
              " torch.Size([50257]),\n",
              " tensor([[1849]], device='cuda:0'))"
            ]
          },
          "metadata": {},
          "execution_count": 18
        }
      ]
    },
    {
      "cell_type": "code",
      "source": [
        "model(input_ids).logits.shape"
      ],
      "metadata": {
        "colab": {
          "base_uri": "https://localhost:8080/"
        },
        "id": "BZGkgd3KlPk0",
        "outputId": "f72ffd39-2138-4341-f21e-05a1893bdcc8"
      },
      "execution_count": 19,
      "outputs": [
        {
          "output_type": "execute_result",
          "data": {
            "text/plain": [
              "torch.Size([1, 7, 50257])"
            ]
          },
          "metadata": {},
          "execution_count": 19
        }
      ]
    },
    {
      "cell_type": "code",
      "source": [
        "n_steps = 10\n",
        "# top 5\n",
        "choices_per_step = 5\n",
        "\n",
        "iterations = []\n",
        "with torch.no_grad():\n",
        "    # iteratively\n",
        "    for _ in range(n_steps):\n",
        "        iteration = {}\n",
        "        iteration['input'] = tokenizer.decode(input_ids[0])\n",
        "\n",
        "        output = model(input_ids=input_ids)\n",
        "        # output.logits.shape = (1, 7, 50257)\n",
        "        # last_token_logits.shape == [50257]\n",
        "        last_token_logits = output.logits[0, -1, :]\n",
        "        last_token_probs = torch.softmax(last_token_logits, dim=-1)\n",
        "        sorted_ids = torch.argsort(last_token_probs, dim=-1, descending=True)\n",
        "\n",
        "        for choice_idx in range(choices_per_step):\n",
        "            token_id = sorted_ids[choice_idx]\n",
        "            token_prob = last_token_probs[token_id].cpu().numpy()\n",
        "            token_choice = f'{tokenizer.decode(token_id)}({100*token_prob:.2f}%)'\n",
        "            iteration[f'choice {choice_idx+1}'] = token_choice\n",
        "\n",
        "        # append\n",
        "        print('before append input_ids.shape', input_ids.shape)\n",
        "        input_ids = torch.cat([input_ids, sorted_ids[None, 0, None]], dim=-1)\n",
        "        print('after append input_ids.shape', input_ids.shape)\n",
        "\n",
        "        iterations.append(iteration)"
      ],
      "metadata": {
        "colab": {
          "base_uri": "https://localhost:8080/"
        },
        "id": "r6xrScuplnrW",
        "outputId": "1f1a4777-2307-4829-ac27-90d5eef74c71"
      },
      "execution_count": 20,
      "outputs": [
        {
          "output_type": "stream",
          "name": "stdout",
          "text": [
            "before append input_ids.shape torch.Size([1, 7])\n",
            "after append input_ids.shape torch.Size([1, 8])\n",
            "before append input_ids.shape torch.Size([1, 8])\n",
            "after append input_ids.shape torch.Size([1, 9])\n",
            "before append input_ids.shape torch.Size([1, 9])\n",
            "after append input_ids.shape torch.Size([1, 10])\n",
            "before append input_ids.shape torch.Size([1, 10])\n",
            "after append input_ids.shape torch.Size([1, 11])\n",
            "before append input_ids.shape torch.Size([1, 11])\n",
            "after append input_ids.shape torch.Size([1, 12])\n",
            "before append input_ids.shape torch.Size([1, 12])\n",
            "after append input_ids.shape torch.Size([1, 13])\n",
            "before append input_ids.shape torch.Size([1, 13])\n",
            "after append input_ids.shape torch.Size([1, 14])\n",
            "before append input_ids.shape torch.Size([1, 14])\n",
            "after append input_ids.shape torch.Size([1, 15])\n",
            "before append input_ids.shape torch.Size([1, 15])\n",
            "after append input_ids.shape torch.Size([1, 16])\n",
            "before append input_ids.shape torch.Size([1, 16])\n",
            "after append input_ids.shape torch.Size([1, 17])\n"
          ]
        }
      ]
    },
    {
      "cell_type": "code",
      "source": [
        "import pandas as pd\n",
        "pd.DataFrame(iterations)"
      ],
      "metadata": {
        "colab": {
          "base_uri": "https://localhost:8080/",
          "height": 363
        },
        "id": "Rw36fHhKluG4",
        "outputId": "429e0620-8887-4cae-f16e-0f7b543e980d"
      },
      "execution_count": 21,
      "outputs": [
        {
          "output_type": "execute_result",
          "data": {
            "text/plain": [
              "                                             input       choice 1  \\\n",
              "0                           A long long time ago,        (41.51%)   \n",
              "1                          A long long time ago,        I(23.59%)   \n",
              "2                         A long long time ago,  I    was(16.10%)   \n",
              "3                     A long long time ago,  I was      a(12.60%)   \n",
              "4                   A long long time ago,  I was a   young(4.54%)   \n",
              "5             A long long time ago,  I was a young    man(15.96%)   \n",
              "6         A long long time ago,  I was a young man      ,(19.47%)   \n",
              "7        A long long time ago,  I was a young man,    and(25.55%)   \n",
              "8    A long long time ago,  I was a young man, and      I(41.61%)   \n",
              "9  A long long time ago,  I was a young man, and I    was(27.57%)   \n",
              "\n",
              "         choice 2          choice 3      choice 4         choice 5  \n",
              "0    _____(7.46%)          『(4.18%)   ____(3.74%)         【(3.15%)  \n",
              "1      the(8.35%)          a(5.36%)   when(4.91%)        in(4.16%)  \n",
              "2      had(7.70%)      wrote(7.50%)   read(3.26%)      used(2.44%)  \n",
              "3       in(8.13%)      asked(2.56%)     on(2.48%)        at(1.89%)  \n",
              "4   little(3.39%)     member(2.76%)    kid(2.24%)   student(2.07%)  \n",
              "5     girl(7.71%)          ,(6.68%)    boy(4.76%)     woman(4.68%)  \n",
              "6     who(13.01%)         .(10.43%)    and(8.64%)      with(7.14%)  \n",
              "7        a(4.62%)           (3.72%)   with(3.12%)         I(2.43%)  \n",
              "8       my(5.72%)          a(5.20%)       (2.51%)       the(2.32%)  \n",
              "9     had(12.29%)   remember(2.98%)   used(1.76%)     lived(1.70%)  "
            ],
            "text/html": [
              "\n",
              "  <div id=\"df-f0164cee-1763-4e86-8c74-19fe1417bf83\">\n",
              "    <div class=\"colab-df-container\">\n",
              "      <div>\n",
              "<style scoped>\n",
              "    .dataframe tbody tr th:only-of-type {\n",
              "        vertical-align: middle;\n",
              "    }\n",
              "\n",
              "    .dataframe tbody tr th {\n",
              "        vertical-align: top;\n",
              "    }\n",
              "\n",
              "    .dataframe thead th {\n",
              "        text-align: right;\n",
              "    }\n",
              "</style>\n",
              "<table border=\"1\" class=\"dataframe\">\n",
              "  <thead>\n",
              "    <tr style=\"text-align: right;\">\n",
              "      <th></th>\n",
              "      <th>input</th>\n",
              "      <th>choice 1</th>\n",
              "      <th>choice 2</th>\n",
              "      <th>choice 3</th>\n",
              "      <th>choice 4</th>\n",
              "      <th>choice 5</th>\n",
              "    </tr>\n",
              "  </thead>\n",
              "  <tbody>\n",
              "    <tr>\n",
              "      <th>0</th>\n",
              "      <td>A long long time ago,</td>\n",
              "      <td>(41.51%)</td>\n",
              "      <td>_____(7.46%)</td>\n",
              "      <td>『(4.18%)</td>\n",
              "      <td>____(3.74%)</td>\n",
              "      <td>【(3.15%)</td>\n",
              "    </tr>\n",
              "    <tr>\n",
              "      <th>1</th>\n",
              "      <td>A long long time ago,</td>\n",
              "      <td>I(23.59%)</td>\n",
              "      <td>the(8.35%)</td>\n",
              "      <td>a(5.36%)</td>\n",
              "      <td>when(4.91%)</td>\n",
              "      <td>in(4.16%)</td>\n",
              "    </tr>\n",
              "    <tr>\n",
              "      <th>2</th>\n",
              "      <td>A long long time ago,  I</td>\n",
              "      <td>was(16.10%)</td>\n",
              "      <td>had(7.70%)</td>\n",
              "      <td>wrote(7.50%)</td>\n",
              "      <td>read(3.26%)</td>\n",
              "      <td>used(2.44%)</td>\n",
              "    </tr>\n",
              "    <tr>\n",
              "      <th>3</th>\n",
              "      <td>A long long time ago,  I was</td>\n",
              "      <td>a(12.60%)</td>\n",
              "      <td>in(8.13%)</td>\n",
              "      <td>asked(2.56%)</td>\n",
              "      <td>on(2.48%)</td>\n",
              "      <td>at(1.89%)</td>\n",
              "    </tr>\n",
              "    <tr>\n",
              "      <th>4</th>\n",
              "      <td>A long long time ago,  I was a</td>\n",
              "      <td>young(4.54%)</td>\n",
              "      <td>little(3.39%)</td>\n",
              "      <td>member(2.76%)</td>\n",
              "      <td>kid(2.24%)</td>\n",
              "      <td>student(2.07%)</td>\n",
              "    </tr>\n",
              "    <tr>\n",
              "      <th>5</th>\n",
              "      <td>A long long time ago,  I was a young</td>\n",
              "      <td>man(15.96%)</td>\n",
              "      <td>girl(7.71%)</td>\n",
              "      <td>,(6.68%)</td>\n",
              "      <td>boy(4.76%)</td>\n",
              "      <td>woman(4.68%)</td>\n",
              "    </tr>\n",
              "    <tr>\n",
              "      <th>6</th>\n",
              "      <td>A long long time ago,  I was a young man</td>\n",
              "      <td>,(19.47%)</td>\n",
              "      <td>who(13.01%)</td>\n",
              "      <td>.(10.43%)</td>\n",
              "      <td>and(8.64%)</td>\n",
              "      <td>with(7.14%)</td>\n",
              "    </tr>\n",
              "    <tr>\n",
              "      <th>7</th>\n",
              "      <td>A long long time ago,  I was a young man,</td>\n",
              "      <td>and(25.55%)</td>\n",
              "      <td>a(4.62%)</td>\n",
              "      <td>(3.72%)</td>\n",
              "      <td>with(3.12%)</td>\n",
              "      <td>I(2.43%)</td>\n",
              "    </tr>\n",
              "    <tr>\n",
              "      <th>8</th>\n",
              "      <td>A long long time ago,  I was a young man, and</td>\n",
              "      <td>I(41.61%)</td>\n",
              "      <td>my(5.72%)</td>\n",
              "      <td>a(5.20%)</td>\n",
              "      <td>(2.51%)</td>\n",
              "      <td>the(2.32%)</td>\n",
              "    </tr>\n",
              "    <tr>\n",
              "      <th>9</th>\n",
              "      <td>A long long time ago,  I was a young man, and I</td>\n",
              "      <td>was(27.57%)</td>\n",
              "      <td>had(12.29%)</td>\n",
              "      <td>remember(2.98%)</td>\n",
              "      <td>used(1.76%)</td>\n",
              "      <td>lived(1.70%)</td>\n",
              "    </tr>\n",
              "  </tbody>\n",
              "</table>\n",
              "</div>\n",
              "      <button class=\"colab-df-convert\" onclick=\"convertToInteractive('df-f0164cee-1763-4e86-8c74-19fe1417bf83')\"\n",
              "              title=\"Convert this dataframe to an interactive table.\"\n",
              "              style=\"display:none;\">\n",
              "        \n",
              "  <svg xmlns=\"http://www.w3.org/2000/svg\" height=\"24px\"viewBox=\"0 0 24 24\"\n",
              "       width=\"24px\">\n",
              "    <path d=\"M0 0h24v24H0V0z\" fill=\"none\"/>\n",
              "    <path d=\"M18.56 5.44l.94 2.06.94-2.06 2.06-.94-2.06-.94-.94-2.06-.94 2.06-2.06.94zm-11 1L8.5 8.5l.94-2.06 2.06-.94-2.06-.94L8.5 2.5l-.94 2.06-2.06.94zm10 10l.94 2.06.94-2.06 2.06-.94-2.06-.94-.94-2.06-.94 2.06-2.06.94z\"/><path d=\"M17.41 7.96l-1.37-1.37c-.4-.4-.92-.59-1.43-.59-.52 0-1.04.2-1.43.59L10.3 9.45l-7.72 7.72c-.78.78-.78 2.05 0 2.83L4 21.41c.39.39.9.59 1.41.59.51 0 1.02-.2 1.41-.59l7.78-7.78 2.81-2.81c.8-.78.8-2.07 0-2.86zM5.41 20L4 18.59l7.72-7.72 1.47 1.35L5.41 20z\"/>\n",
              "  </svg>\n",
              "      </button>\n",
              "      \n",
              "  <style>\n",
              "    .colab-df-container {\n",
              "      display:flex;\n",
              "      flex-wrap:wrap;\n",
              "      gap: 12px;\n",
              "    }\n",
              "\n",
              "    .colab-df-convert {\n",
              "      background-color: #E8F0FE;\n",
              "      border: none;\n",
              "      border-radius: 50%;\n",
              "      cursor: pointer;\n",
              "      display: none;\n",
              "      fill: #1967D2;\n",
              "      height: 32px;\n",
              "      padding: 0 0 0 0;\n",
              "      width: 32px;\n",
              "    }\n",
              "\n",
              "    .colab-df-convert:hover {\n",
              "      background-color: #E2EBFA;\n",
              "      box-shadow: 0px 1px 2px rgba(60, 64, 67, 0.3), 0px 1px 3px 1px rgba(60, 64, 67, 0.15);\n",
              "      fill: #174EA6;\n",
              "    }\n",
              "\n",
              "    [theme=dark] .colab-df-convert {\n",
              "      background-color: #3B4455;\n",
              "      fill: #D2E3FC;\n",
              "    }\n",
              "\n",
              "    [theme=dark] .colab-df-convert:hover {\n",
              "      background-color: #434B5C;\n",
              "      box-shadow: 0px 1px 3px 1px rgba(0, 0, 0, 0.15);\n",
              "      filter: drop-shadow(0px 1px 2px rgba(0, 0, 0, 0.3));\n",
              "      fill: #FFFFFF;\n",
              "    }\n",
              "  </style>\n",
              "\n",
              "      <script>\n",
              "        const buttonEl =\n",
              "          document.querySelector('#df-f0164cee-1763-4e86-8c74-19fe1417bf83 button.colab-df-convert');\n",
              "        buttonEl.style.display =\n",
              "          google.colab.kernel.accessAllowed ? 'block' : 'none';\n",
              "\n",
              "        async function convertToInteractive(key) {\n",
              "          const element = document.querySelector('#df-f0164cee-1763-4e86-8c74-19fe1417bf83');\n",
              "          const dataTable =\n",
              "            await google.colab.kernel.invokeFunction('convertToInteractive',\n",
              "                                                     [key], {});\n",
              "          if (!dataTable) return;\n",
              "\n",
              "          const docLinkHtml = 'Like what you see? Visit the ' +\n",
              "            '<a target=\"_blank\" href=https://colab.research.google.com/notebooks/data_table.ipynb>data table notebook</a>'\n",
              "            + ' to learn more about interactive tables.';\n",
              "          element.innerHTML = '';\n",
              "          dataTable['output_type'] = 'display_data';\n",
              "          await google.colab.output.renderOutput(dataTable, element);\n",
              "          const docLink = document.createElement('div');\n",
              "          docLink.innerHTML = docLinkHtml;\n",
              "          element.appendChild(docLink);\n",
              "        }\n",
              "      </script>\n",
              "    </div>\n",
              "  </div>\n",
              "  "
            ]
          },
          "metadata": {},
          "execution_count": 21
        }
      ]
    },
    {
      "cell_type": "code",
      "source": [
        "iterations[-1]"
      ],
      "metadata": {
        "colab": {
          "base_uri": "https://localhost:8080/"
        },
        "id": "WF2wzA_GmDe-",
        "outputId": "3a608d8a-1aaa-4df1-a9c7-9cf7d9f1d1a6"
      },
      "execution_count": 22,
      "outputs": [
        {
          "output_type": "execute_result",
          "data": {
            "text/plain": [
              "{'input': 'A long long time ago, \\xa0I was a young man, and I',\n",
              " 'choice 1': ' was(27.57%)',\n",
              " 'choice 2': ' had(12.29%)',\n",
              " 'choice 3': ' remember(2.98%)',\n",
              " 'choice 4': ' used(1.76%)',\n",
              " 'choice 5': ' lived(1.70%)'}"
            ]
          },
          "metadata": {},
          "execution_count": 22
        }
      ]
    },
    {
      "cell_type": "code",
      "source": [
        "def greedy_search(model, input_ids, max_steps=10, max_choices=5):\n",
        "    iterations = []\n",
        "    input_ids_clone = input_ids.clone()\n",
        "    with torch.no_grad():\n",
        "        for _ in range(max_steps):\n",
        "            iteration = {}\n",
        "            iteration['input'] = tokenizer.decode(input_ids_clone[0])\n",
        "\n",
        "            output = model(input_ids=input_ids_clone)\n",
        "            # output.logits.shape = (1, 7, 50257)\n",
        "            # last_token_logits.shape == [50257]\n",
        "            last_token_logits = output.logits[0, -1, :]\n",
        "            last_token_probs = torch.softmax(last_token_logits, dim=-1)\n",
        "            sorted_ids = torch.argsort(last_token_probs, dim=-1, descending=True)\n",
        "\n",
        "            for choice_idx in range(max_choices):\n",
        "                token_id = sorted_ids[choice_idx]\n",
        "                token_prob = last_token_probs[token_id].cpu().numpy()\n",
        "                token_choice = f'{tokenizer.decode(token_id)}({100*token_prob:.2f}%)'\n",
        "                iteration[f'choice {choice_idx+1}'] = token_choice\n",
        "\n",
        "            # append\n",
        "#             print('before append input_ids_clone.shape', input_ids_clone.shape)\n",
        "            input_ids_clone = torch.cat([input_ids_clone, sorted_ids[None, 0, None]], dim=-1)\n",
        "#             print('after append input_ids_clone.shape', input_ids_clone.shape)\n",
        "\n",
        "            iterations.append(iteration)\n",
        "        return iterations"
      ],
      "metadata": {
        "id": "3slQPZfqmOA8"
      },
      "execution_count": 23,
      "outputs": []
    },
    {
      "cell_type": "code",
      "source": [
        "input_ids = model_inputs['input_ids'].to(device)\n",
        "# input_ids.shape[-1],input_ids.size\n",
        "iter = greedy_search(model,input_ids,128-input_ids.shape[-1])\n",
        "pd.DataFrame(iter)"
      ],
      "metadata": {
        "colab": {
          "base_uri": "https://localhost:8080/",
          "height": 424
        },
        "id": "6tgFlYfwmSOK",
        "outputId": "62e51498-a35d-461b-aa3b-4dd07e2476ee"
      },
      "execution_count": 33,
      "outputs": [
        {
          "output_type": "execute_result",
          "data": {
            "text/plain": [
              "                                                 input          choice 1  \\\n",
              "0                               A long long time ago,           (41.51%)   \n",
              "1                              A long long time ago,           I(23.59%)   \n",
              "2                             A long long time ago,  I       was(16.10%)   \n",
              "3                         A long long time ago,  I was         a(12.60%)   \n",
              "4                       A long long time ago,  I was a      young(4.54%)   \n",
              "..                                                 ...               ...   \n",
              "116  A long long time ago,  I was a young man, and ...      good(99.48%)   \n",
              "117  A long long time ago,  I was a young man, and ...   student(99.02%)   \n",
              "118  A long long time ago,  I was a young man, and ...         .(97.52%)   \n",
              "119  A long long time ago,  I was a young man, and ...         I(87.72%)   \n",
              "120  A long long time ago,  I was a young man, and ...       was(98.92%)   \n",
              "\n",
              "           choice 2        choice 3      choice 4         choice 5  \n",
              "0      _____(7.46%)        『(4.18%)   ____(3.74%)         【(3.15%)  \n",
              "1        the(8.35%)        a(5.36%)   when(4.91%)        in(4.16%)  \n",
              "2        had(7.70%)    wrote(7.50%)   read(3.26%)      used(2.44%)  \n",
              "3         in(8.13%)    asked(2.56%)     on(2.48%)        at(1.89%)  \n",
              "4     little(3.39%)   member(2.76%)    kid(2.24%)   student(2.07%)  \n",
              "..              ...             ...           ...              ...  \n",
              "116      ...(0.12%)        ,(0.10%)     \\n(0.02%)      very(0.01%)  \n",
              "117      ...(0.13%)      ...(0.12%)      ,(0.08%)   teacher(0.05%)  \n",
              "118        ,(1.22%)        I(0.22%)     .\"(0.11%)       ...(0.09%)  \n",
              "119      And(2.07%)       \\n(1.64%)       (1.01%)          (0.62%)  \n",
              "120      had(0.12%)       'm(0.09%)     am(0.09%)      wasn(0.05%)  \n",
              "\n",
              "[121 rows x 6 columns]"
            ],
            "text/html": [
              "\n",
              "  <div id=\"df-035dd49c-a699-42ee-82c4-45bc6643d51b\">\n",
              "    <div class=\"colab-df-container\">\n",
              "      <div>\n",
              "<style scoped>\n",
              "    .dataframe tbody tr th:only-of-type {\n",
              "        vertical-align: middle;\n",
              "    }\n",
              "\n",
              "    .dataframe tbody tr th {\n",
              "        vertical-align: top;\n",
              "    }\n",
              "\n",
              "    .dataframe thead th {\n",
              "        text-align: right;\n",
              "    }\n",
              "</style>\n",
              "<table border=\"1\" class=\"dataframe\">\n",
              "  <thead>\n",
              "    <tr style=\"text-align: right;\">\n",
              "      <th></th>\n",
              "      <th>input</th>\n",
              "      <th>choice 1</th>\n",
              "      <th>choice 2</th>\n",
              "      <th>choice 3</th>\n",
              "      <th>choice 4</th>\n",
              "      <th>choice 5</th>\n",
              "    </tr>\n",
              "  </thead>\n",
              "  <tbody>\n",
              "    <tr>\n",
              "      <th>0</th>\n",
              "      <td>A long long time ago,</td>\n",
              "      <td>(41.51%)</td>\n",
              "      <td>_____(7.46%)</td>\n",
              "      <td>『(4.18%)</td>\n",
              "      <td>____(3.74%)</td>\n",
              "      <td>【(3.15%)</td>\n",
              "    </tr>\n",
              "    <tr>\n",
              "      <th>1</th>\n",
              "      <td>A long long time ago,</td>\n",
              "      <td>I(23.59%)</td>\n",
              "      <td>the(8.35%)</td>\n",
              "      <td>a(5.36%)</td>\n",
              "      <td>when(4.91%)</td>\n",
              "      <td>in(4.16%)</td>\n",
              "    </tr>\n",
              "    <tr>\n",
              "      <th>2</th>\n",
              "      <td>A long long time ago,  I</td>\n",
              "      <td>was(16.10%)</td>\n",
              "      <td>had(7.70%)</td>\n",
              "      <td>wrote(7.50%)</td>\n",
              "      <td>read(3.26%)</td>\n",
              "      <td>used(2.44%)</td>\n",
              "    </tr>\n",
              "    <tr>\n",
              "      <th>3</th>\n",
              "      <td>A long long time ago,  I was</td>\n",
              "      <td>a(12.60%)</td>\n",
              "      <td>in(8.13%)</td>\n",
              "      <td>asked(2.56%)</td>\n",
              "      <td>on(2.48%)</td>\n",
              "      <td>at(1.89%)</td>\n",
              "    </tr>\n",
              "    <tr>\n",
              "      <th>4</th>\n",
              "      <td>A long long time ago,  I was a</td>\n",
              "      <td>young(4.54%)</td>\n",
              "      <td>little(3.39%)</td>\n",
              "      <td>member(2.76%)</td>\n",
              "      <td>kid(2.24%)</td>\n",
              "      <td>student(2.07%)</td>\n",
              "    </tr>\n",
              "    <tr>\n",
              "      <th>...</th>\n",
              "      <td>...</td>\n",
              "      <td>...</td>\n",
              "      <td>...</td>\n",
              "      <td>...</td>\n",
              "      <td>...</td>\n",
              "      <td>...</td>\n",
              "    </tr>\n",
              "    <tr>\n",
              "      <th>116</th>\n",
              "      <td>A long long time ago,  I was a young man, and ...</td>\n",
              "      <td>good(99.48%)</td>\n",
              "      <td>...(0.12%)</td>\n",
              "      <td>,(0.10%)</td>\n",
              "      <td>\\n(0.02%)</td>\n",
              "      <td>very(0.01%)</td>\n",
              "    </tr>\n",
              "    <tr>\n",
              "      <th>117</th>\n",
              "      <td>A long long time ago,  I was a young man, and ...</td>\n",
              "      <td>student(99.02%)</td>\n",
              "      <td>...(0.13%)</td>\n",
              "      <td>...(0.12%)</td>\n",
              "      <td>,(0.08%)</td>\n",
              "      <td>teacher(0.05%)</td>\n",
              "    </tr>\n",
              "    <tr>\n",
              "      <th>118</th>\n",
              "      <td>A long long time ago,  I was a young man, and ...</td>\n",
              "      <td>.(97.52%)</td>\n",
              "      <td>,(1.22%)</td>\n",
              "      <td>I(0.22%)</td>\n",
              "      <td>.\"(0.11%)</td>\n",
              "      <td>...(0.09%)</td>\n",
              "    </tr>\n",
              "    <tr>\n",
              "      <th>119</th>\n",
              "      <td>A long long time ago,  I was a young man, and ...</td>\n",
              "      <td>I(87.72%)</td>\n",
              "      <td>And(2.07%)</td>\n",
              "      <td>\\n(1.64%)</td>\n",
              "      <td>(1.01%)</td>\n",
              "      <td>(0.62%)</td>\n",
              "    </tr>\n",
              "    <tr>\n",
              "      <th>120</th>\n",
              "      <td>A long long time ago,  I was a young man, and ...</td>\n",
              "      <td>was(98.92%)</td>\n",
              "      <td>had(0.12%)</td>\n",
              "      <td>'m(0.09%)</td>\n",
              "      <td>am(0.09%)</td>\n",
              "      <td>wasn(0.05%)</td>\n",
              "    </tr>\n",
              "  </tbody>\n",
              "</table>\n",
              "<p>121 rows × 6 columns</p>\n",
              "</div>\n",
              "      <button class=\"colab-df-convert\" onclick=\"convertToInteractive('df-035dd49c-a699-42ee-82c4-45bc6643d51b')\"\n",
              "              title=\"Convert this dataframe to an interactive table.\"\n",
              "              style=\"display:none;\">\n",
              "        \n",
              "  <svg xmlns=\"http://www.w3.org/2000/svg\" height=\"24px\"viewBox=\"0 0 24 24\"\n",
              "       width=\"24px\">\n",
              "    <path d=\"M0 0h24v24H0V0z\" fill=\"none\"/>\n",
              "    <path d=\"M18.56 5.44l.94 2.06.94-2.06 2.06-.94-2.06-.94-.94-2.06-.94 2.06-2.06.94zm-11 1L8.5 8.5l.94-2.06 2.06-.94-2.06-.94L8.5 2.5l-.94 2.06-2.06.94zm10 10l.94 2.06.94-2.06 2.06-.94-2.06-.94-.94-2.06-.94 2.06-2.06.94z\"/><path d=\"M17.41 7.96l-1.37-1.37c-.4-.4-.92-.59-1.43-.59-.52 0-1.04.2-1.43.59L10.3 9.45l-7.72 7.72c-.78.78-.78 2.05 0 2.83L4 21.41c.39.39.9.59 1.41.59.51 0 1.02-.2 1.41-.59l7.78-7.78 2.81-2.81c.8-.78.8-2.07 0-2.86zM5.41 20L4 18.59l7.72-7.72 1.47 1.35L5.41 20z\"/>\n",
              "  </svg>\n",
              "      </button>\n",
              "      \n",
              "  <style>\n",
              "    .colab-df-container {\n",
              "      display:flex;\n",
              "      flex-wrap:wrap;\n",
              "      gap: 12px;\n",
              "    }\n",
              "\n",
              "    .colab-df-convert {\n",
              "      background-color: #E8F0FE;\n",
              "      border: none;\n",
              "      border-radius: 50%;\n",
              "      cursor: pointer;\n",
              "      display: none;\n",
              "      fill: #1967D2;\n",
              "      height: 32px;\n",
              "      padding: 0 0 0 0;\n",
              "      width: 32px;\n",
              "    }\n",
              "\n",
              "    .colab-df-convert:hover {\n",
              "      background-color: #E2EBFA;\n",
              "      box-shadow: 0px 1px 2px rgba(60, 64, 67, 0.3), 0px 1px 3px 1px rgba(60, 64, 67, 0.15);\n",
              "      fill: #174EA6;\n",
              "    }\n",
              "\n",
              "    [theme=dark] .colab-df-convert {\n",
              "      background-color: #3B4455;\n",
              "      fill: #D2E3FC;\n",
              "    }\n",
              "\n",
              "    [theme=dark] .colab-df-convert:hover {\n",
              "      background-color: #434B5C;\n",
              "      box-shadow: 0px 1px 3px 1px rgba(0, 0, 0, 0.15);\n",
              "      filter: drop-shadow(0px 1px 2px rgba(0, 0, 0, 0.3));\n",
              "      fill: #FFFFFF;\n",
              "    }\n",
              "  </style>\n",
              "\n",
              "      <script>\n",
              "        const buttonEl =\n",
              "          document.querySelector('#df-035dd49c-a699-42ee-82c4-45bc6643d51b button.colab-df-convert');\n",
              "        buttonEl.style.display =\n",
              "          google.colab.kernel.accessAllowed ? 'block' : 'none';\n",
              "\n",
              "        async function convertToInteractive(key) {\n",
              "          const element = document.querySelector('#df-035dd49c-a699-42ee-82c4-45bc6643d51b');\n",
              "          const dataTable =\n",
              "            await google.colab.kernel.invokeFunction('convertToInteractive',\n",
              "                                                     [key], {});\n",
              "          if (!dataTable) return;\n",
              "\n",
              "          const docLinkHtml = 'Like what you see? Visit the ' +\n",
              "            '<a target=\"_blank\" href=https://colab.research.google.com/notebooks/data_table.ipynb>data table notebook</a>'\n",
              "            + ' to learn more about interactive tables.';\n",
              "          element.innerHTML = '';\n",
              "          dataTable['output_type'] = 'display_data';\n",
              "          await google.colab.output.renderOutput(dataTable, element);\n",
              "          const docLink = document.createElement('div');\n",
              "          docLink.innerHTML = docLinkHtml;\n",
              "          element.appendChild(docLink);\n",
              "        }\n",
              "      </script>\n",
              "    </div>\n",
              "  </div>\n",
              "  "
            ]
          },
          "metadata": {},
          "execution_count": 33
        }
      ]
    },
    {
      "cell_type": "markdown",
      "source": [
        "## model generate\n",
        "- `model.generate()`\n",
        "  - 默认 greedy search，`num_beams` 不设置的话\n",
        "  - `do_sample`=False\n",
        "  - `max_length`: prompt + generation 的总长度\n",
        "  - `max_new_tokens`: generation 的长度"
      ],
      "metadata": {
        "id": "_EoaZiPLmrWe"
      }
    },
    {
      "cell_type": "code",
      "source": [
        "input_ids = tokenizer(sample_text, return_tensors='pt').input_ids.to(device)\n",
        "output = model.generate(input_ids, max_new_tokens=10, do_sample=False)\n",
        "print(output.shape)\n",
        "tokenizer.decode(output[0])"
      ],
      "metadata": {
        "colab": {
          "base_uri": "https://localhost:8080/",
          "height": 89
        },
        "id": "FPYH1v6FmnoN",
        "outputId": "5c9a076b-46e6-435a-8461-219e7bb24516"
      },
      "execution_count": 25,
      "outputs": [
        {
          "output_type": "stream",
          "name": "stderr",
          "text": [
            "The attention mask and the pad token id were not set. As a consequence, you may observe unexpected behavior. Please pass your input's `attention_mask` to obtain reliable results.\n",
            "Setting `pad_token_id` to `eos_token_id`:50256 for open-end generation.\n"
          ]
        },
        {
          "output_type": "stream",
          "name": "stdout",
          "text": [
            "torch.Size([1, 17])\n"
          ]
        },
        {
          "output_type": "execute_result",
          "data": {
            "text/plain": [
              "'A long long time ago, \\xa0I was a young man, and I was'"
            ],
            "application/vnd.google.colaboratory.intrinsic+json": {
              "type": "string"
            }
          },
          "metadata": {},
          "execution_count": 25
        }
      ]
    },
    {
      "cell_type": "code",
      "source": [
        "# https://openai.com/research/better-language-models\n",
        "prompt = 'In a shocking finding, scientist discovered a herd of unicorns living in a remote, previously unexplored valley, in the Andes Mountains. Even more surprising to the researchers was the fact that the unicorns spoke perfect English.'\n",
        "input_ids = tokenizer(prompt, return_tensors='pt').input_ids.to(device)\n",
        "input_ids"
      ],
      "metadata": {
        "colab": {
          "base_uri": "https://localhost:8080/"
        },
        "id": "TJKO2NA5nEYp",
        "outputId": "8ed87b2f-8f63-429b-d506-914f64cc2a09"
      },
      "execution_count": 26,
      "outputs": [
        {
          "output_type": "execute_result",
          "data": {
            "text/plain": [
              "tensor([[  818,   257, 14702,  4917,    11, 11444,  5071,   257, 27638,   286,\n",
              "         28000, 19942,  2877,   287,   257,  6569,    11,  4271, 31286,  1850,\n",
              "         19272,    11,   287,   262,   843,   274, 21124,    13,  3412,   517,\n",
              "          6452,   284,   262,  4837,   373,   262,  1109,   326,   262, 28000,\n",
              "         19942,  5158,  2818,  3594,    13]], device='cuda:0')"
            ]
          },
          "metadata": {},
          "execution_count": 26
        }
      ]
    },
    {
      "cell_type": "code",
      "source": [
        "iter = greedy_search(model,input_ids,128-input_ids.shape[-1])\n",
        "pd.DataFrame(iter)"
      ],
      "metadata": {
        "colab": {
          "base_uri": "https://localhost:8080/",
          "height": 424
        },
        "id": "QfDKmaOinLis",
        "outputId": "43062d6c-0094-4a13-e569-49467b0e9b4c"
      },
      "execution_count": 34,
      "outputs": [
        {
          "output_type": "execute_result",
          "data": {
            "text/plain": [
              "                                                 input          choice 1  \\\n",
              "0                               A long long time ago,           (41.51%)   \n",
              "1                              A long long time ago,           I(23.59%)   \n",
              "2                             A long long time ago,  I       was(16.10%)   \n",
              "3                         A long long time ago,  I was         a(12.60%)   \n",
              "4                       A long long time ago,  I was a      young(4.54%)   \n",
              "..                                                 ...               ...   \n",
              "116  A long long time ago,  I was a young man, and ...      good(99.48%)   \n",
              "117  A long long time ago,  I was a young man, and ...   student(99.02%)   \n",
              "118  A long long time ago,  I was a young man, and ...         .(97.52%)   \n",
              "119  A long long time ago,  I was a young man, and ...         I(87.72%)   \n",
              "120  A long long time ago,  I was a young man, and ...       was(98.92%)   \n",
              "\n",
              "           choice 2        choice 3      choice 4         choice 5  \n",
              "0      _____(7.46%)        『(4.18%)   ____(3.74%)         【(3.15%)  \n",
              "1        the(8.35%)        a(5.36%)   when(4.91%)        in(4.16%)  \n",
              "2        had(7.70%)    wrote(7.50%)   read(3.26%)      used(2.44%)  \n",
              "3         in(8.13%)    asked(2.56%)     on(2.48%)        at(1.89%)  \n",
              "4     little(3.39%)   member(2.76%)    kid(2.24%)   student(2.07%)  \n",
              "..              ...             ...           ...              ...  \n",
              "116      ...(0.12%)        ,(0.10%)     \\n(0.02%)      very(0.01%)  \n",
              "117      ...(0.13%)      ...(0.12%)      ,(0.08%)   teacher(0.05%)  \n",
              "118        ,(1.22%)        I(0.22%)     .\"(0.11%)       ...(0.09%)  \n",
              "119      And(2.07%)       \\n(1.64%)       (1.01%)          (0.62%)  \n",
              "120      had(0.12%)       'm(0.09%)     am(0.09%)      wasn(0.05%)  \n",
              "\n",
              "[121 rows x 6 columns]"
            ],
            "text/html": [
              "\n",
              "  <div id=\"df-89ceb7d3-6d63-48f2-a6ee-161000c3f50f\">\n",
              "    <div class=\"colab-df-container\">\n",
              "      <div>\n",
              "<style scoped>\n",
              "    .dataframe tbody tr th:only-of-type {\n",
              "        vertical-align: middle;\n",
              "    }\n",
              "\n",
              "    .dataframe tbody tr th {\n",
              "        vertical-align: top;\n",
              "    }\n",
              "\n",
              "    .dataframe thead th {\n",
              "        text-align: right;\n",
              "    }\n",
              "</style>\n",
              "<table border=\"1\" class=\"dataframe\">\n",
              "  <thead>\n",
              "    <tr style=\"text-align: right;\">\n",
              "      <th></th>\n",
              "      <th>input</th>\n",
              "      <th>choice 1</th>\n",
              "      <th>choice 2</th>\n",
              "      <th>choice 3</th>\n",
              "      <th>choice 4</th>\n",
              "      <th>choice 5</th>\n",
              "    </tr>\n",
              "  </thead>\n",
              "  <tbody>\n",
              "    <tr>\n",
              "      <th>0</th>\n",
              "      <td>A long long time ago,</td>\n",
              "      <td>(41.51%)</td>\n",
              "      <td>_____(7.46%)</td>\n",
              "      <td>『(4.18%)</td>\n",
              "      <td>____(3.74%)</td>\n",
              "      <td>【(3.15%)</td>\n",
              "    </tr>\n",
              "    <tr>\n",
              "      <th>1</th>\n",
              "      <td>A long long time ago,</td>\n",
              "      <td>I(23.59%)</td>\n",
              "      <td>the(8.35%)</td>\n",
              "      <td>a(5.36%)</td>\n",
              "      <td>when(4.91%)</td>\n",
              "      <td>in(4.16%)</td>\n",
              "    </tr>\n",
              "    <tr>\n",
              "      <th>2</th>\n",
              "      <td>A long long time ago,  I</td>\n",
              "      <td>was(16.10%)</td>\n",
              "      <td>had(7.70%)</td>\n",
              "      <td>wrote(7.50%)</td>\n",
              "      <td>read(3.26%)</td>\n",
              "      <td>used(2.44%)</td>\n",
              "    </tr>\n",
              "    <tr>\n",
              "      <th>3</th>\n",
              "      <td>A long long time ago,  I was</td>\n",
              "      <td>a(12.60%)</td>\n",
              "      <td>in(8.13%)</td>\n",
              "      <td>asked(2.56%)</td>\n",
              "      <td>on(2.48%)</td>\n",
              "      <td>at(1.89%)</td>\n",
              "    </tr>\n",
              "    <tr>\n",
              "      <th>4</th>\n",
              "      <td>A long long time ago,  I was a</td>\n",
              "      <td>young(4.54%)</td>\n",
              "      <td>little(3.39%)</td>\n",
              "      <td>member(2.76%)</td>\n",
              "      <td>kid(2.24%)</td>\n",
              "      <td>student(2.07%)</td>\n",
              "    </tr>\n",
              "    <tr>\n",
              "      <th>...</th>\n",
              "      <td>...</td>\n",
              "      <td>...</td>\n",
              "      <td>...</td>\n",
              "      <td>...</td>\n",
              "      <td>...</td>\n",
              "      <td>...</td>\n",
              "    </tr>\n",
              "    <tr>\n",
              "      <th>116</th>\n",
              "      <td>A long long time ago,  I was a young man, and ...</td>\n",
              "      <td>good(99.48%)</td>\n",
              "      <td>...(0.12%)</td>\n",
              "      <td>,(0.10%)</td>\n",
              "      <td>\\n(0.02%)</td>\n",
              "      <td>very(0.01%)</td>\n",
              "    </tr>\n",
              "    <tr>\n",
              "      <th>117</th>\n",
              "      <td>A long long time ago,  I was a young man, and ...</td>\n",
              "      <td>student(99.02%)</td>\n",
              "      <td>...(0.13%)</td>\n",
              "      <td>...(0.12%)</td>\n",
              "      <td>,(0.08%)</td>\n",
              "      <td>teacher(0.05%)</td>\n",
              "    </tr>\n",
              "    <tr>\n",
              "      <th>118</th>\n",
              "      <td>A long long time ago,  I was a young man, and ...</td>\n",
              "      <td>.(97.52%)</td>\n",
              "      <td>,(1.22%)</td>\n",
              "      <td>I(0.22%)</td>\n",
              "      <td>.\"(0.11%)</td>\n",
              "      <td>...(0.09%)</td>\n",
              "    </tr>\n",
              "    <tr>\n",
              "      <th>119</th>\n",
              "      <td>A long long time ago,  I was a young man, and ...</td>\n",
              "      <td>I(87.72%)</td>\n",
              "      <td>And(2.07%)</td>\n",
              "      <td>\\n(1.64%)</td>\n",
              "      <td>(1.01%)</td>\n",
              "      <td>(0.62%)</td>\n",
              "    </tr>\n",
              "    <tr>\n",
              "      <th>120</th>\n",
              "      <td>A long long time ago,  I was a young man, and ...</td>\n",
              "      <td>was(98.92%)</td>\n",
              "      <td>had(0.12%)</td>\n",
              "      <td>'m(0.09%)</td>\n",
              "      <td>am(0.09%)</td>\n",
              "      <td>wasn(0.05%)</td>\n",
              "    </tr>\n",
              "  </tbody>\n",
              "</table>\n",
              "<p>121 rows × 6 columns</p>\n",
              "</div>\n",
              "      <button class=\"colab-df-convert\" onclick=\"convertToInteractive('df-89ceb7d3-6d63-48f2-a6ee-161000c3f50f')\"\n",
              "              title=\"Convert this dataframe to an interactive table.\"\n",
              "              style=\"display:none;\">\n",
              "        \n",
              "  <svg xmlns=\"http://www.w3.org/2000/svg\" height=\"24px\"viewBox=\"0 0 24 24\"\n",
              "       width=\"24px\">\n",
              "    <path d=\"M0 0h24v24H0V0z\" fill=\"none\"/>\n",
              "    <path d=\"M18.56 5.44l.94 2.06.94-2.06 2.06-.94-2.06-.94-.94-2.06-.94 2.06-2.06.94zm-11 1L8.5 8.5l.94-2.06 2.06-.94-2.06-.94L8.5 2.5l-.94 2.06-2.06.94zm10 10l.94 2.06.94-2.06 2.06-.94-2.06-.94-.94-2.06-.94 2.06-2.06.94z\"/><path d=\"M17.41 7.96l-1.37-1.37c-.4-.4-.92-.59-1.43-.59-.52 0-1.04.2-1.43.59L10.3 9.45l-7.72 7.72c-.78.78-.78 2.05 0 2.83L4 21.41c.39.39.9.59 1.41.59.51 0 1.02-.2 1.41-.59l7.78-7.78 2.81-2.81c.8-.78.8-2.07 0-2.86zM5.41 20L4 18.59l7.72-7.72 1.47 1.35L5.41 20z\"/>\n",
              "  </svg>\n",
              "      </button>\n",
              "      \n",
              "  <style>\n",
              "    .colab-df-container {\n",
              "      display:flex;\n",
              "      flex-wrap:wrap;\n",
              "      gap: 12px;\n",
              "    }\n",
              "\n",
              "    .colab-df-convert {\n",
              "      background-color: #E8F0FE;\n",
              "      border: none;\n",
              "      border-radius: 50%;\n",
              "      cursor: pointer;\n",
              "      display: none;\n",
              "      fill: #1967D2;\n",
              "      height: 32px;\n",
              "      padding: 0 0 0 0;\n",
              "      width: 32px;\n",
              "    }\n",
              "\n",
              "    .colab-df-convert:hover {\n",
              "      background-color: #E2EBFA;\n",
              "      box-shadow: 0px 1px 2px rgba(60, 64, 67, 0.3), 0px 1px 3px 1px rgba(60, 64, 67, 0.15);\n",
              "      fill: #174EA6;\n",
              "    }\n",
              "\n",
              "    [theme=dark] .colab-df-convert {\n",
              "      background-color: #3B4455;\n",
              "      fill: #D2E3FC;\n",
              "    }\n",
              "\n",
              "    [theme=dark] .colab-df-convert:hover {\n",
              "      background-color: #434B5C;\n",
              "      box-shadow: 0px 1px 3px 1px rgba(0, 0, 0, 0.15);\n",
              "      filter: drop-shadow(0px 1px 2px rgba(0, 0, 0, 0.3));\n",
              "      fill: #FFFFFF;\n",
              "    }\n",
              "  </style>\n",
              "\n",
              "      <script>\n",
              "        const buttonEl =\n",
              "          document.querySelector('#df-89ceb7d3-6d63-48f2-a6ee-161000c3f50f button.colab-df-convert');\n",
              "        buttonEl.style.display =\n",
              "          google.colab.kernel.accessAllowed ? 'block' : 'none';\n",
              "\n",
              "        async function convertToInteractive(key) {\n",
              "          const element = document.querySelector('#df-89ceb7d3-6d63-48f2-a6ee-161000c3f50f');\n",
              "          const dataTable =\n",
              "            await google.colab.kernel.invokeFunction('convertToInteractive',\n",
              "                                                     [key], {});\n",
              "          if (!dataTable) return;\n",
              "\n",
              "          const docLinkHtml = 'Like what you see? Visit the ' +\n",
              "            '<a target=\"_blank\" href=https://colab.research.google.com/notebooks/data_table.ipynb>data table notebook</a>'\n",
              "            + ' to learn more about interactive tables.';\n",
              "          element.innerHTML = '';\n",
              "          dataTable['output_type'] = 'display_data';\n",
              "          await google.colab.output.renderOutput(dataTable, element);\n",
              "          const docLink = document.createElement('div');\n",
              "          docLink.innerHTML = docLinkHtml;\n",
              "          element.appendChild(docLink);\n",
              "        }\n",
              "      </script>\n",
              "    </div>\n",
              "  </div>\n",
              "  "
            ]
          },
          "metadata": {},
          "execution_count": 34
        }
      ]
    },
    {
      "cell_type": "code",
      "source": [
        "iter[-1],len(tokenizer(iter[-1]['input'])['input_ids'])"
      ],
      "metadata": {
        "colab": {
          "base_uri": "https://localhost:8080/"
        },
        "id": "N5pxHfGxnQPi",
        "outputId": "d89f3590-3b03-45ca-bcb3-2ddb5b6e3de9"
      },
      "execution_count": 37,
      "outputs": [
        {
          "output_type": "execute_result",
          "data": {
            "text/plain": [
              "({'input': 'A long long time ago, \\xa0I was a young man, and I was a very good student. I was a good student, and I was a very good student. I was a very good student, and I was a very good student. I was a very good student, and I was a very good student. I was a very good student, and I was a very good student. I was a very good student, and I was a very good student. I was a very good student, and I was a very good student. I was a very good student, and I was a very good student. I',\n",
              "  'choice 1': ' was(98.92%)',\n",
              "  'choice 2': ' had(0.12%)',\n",
              "  'choice 3': \"'m(0.09%)\",\n",
              "  'choice 4': ' am(0.09%)',\n",
              "  'choice 5': ' wasn(0.05%)'},\n",
              " 127)"
            ]
          },
          "metadata": {},
          "execution_count": 37
        }
      ]
    },
    {
      "cell_type": "markdown",
      "source": [
        "### 2.1.2 math（追求的是精确，而不是多样性）"
      ],
      "metadata": {
        "id": "Ad6f879YvDCm"
      }
    },
    {
      "cell_type": "code",
      "source": [
        "math_ids = tokenizer('5 + 8 => 13 \\n 7 + 2 => 9 \\n 1 + 5 =>', return_tensors='pt').input_ids.to(device)\n",
        "tokenizer.decode(model.generate(math_ids, max_new_tokens=2, do_sample=False)[0])"
      ],
      "metadata": {
        "colab": {
          "base_uri": "https://localhost:8080/",
          "height": 71
        },
        "id": "RUOs7aGwsjCm",
        "outputId": "8d63e3a1-c9b0-43d7-d7a8-cda103a2524c"
      },
      "execution_count": 38,
      "outputs": [
        {
          "output_type": "stream",
          "name": "stderr",
          "text": [
            "The attention mask and the pad token id were not set. As a consequence, you may observe unexpected behavior. Please pass your input's `attention_mask` to obtain reliable results.\n",
            "Setting `pad_token_id` to `eos_token_id`:50256 for open-end generation.\n"
          ]
        },
        {
          "output_type": "execute_result",
          "data": {
            "text/plain": [
              "'5 + 8 => 13 \\n 7 + 2 => 9 \\n 1 + 5 => 10 '"
            ],
            "application/vnd.google.colaboratory.intrinsic+json": {
              "type": "string"
            }
          },
          "metadata": {},
          "execution_count": 38
        }
      ]
    },
    {
      "cell_type": "markdown",
      "source": [
        "## beam search decoding\n",
        "![beam-search](https://github.com/chunhuizhang/bert_t5_gpt/blob/main/imgs/beam-search-2.png)"
      ],
      "metadata": {
        "id": "ptw2Kmxl0qov"
      }
    },
    {
      "cell_type": "code",
      "source": [
        "from IPython.display import Image\n",
        "\n"
      ],
      "metadata": {
        "id": "fey3Dqqv0g1n"
      },
      "execution_count": 39,
      "outputs": []
    },
    {
      "cell_type": "markdown",
      "source": [
        "## model generate\n",
        "- `model.generate()`\n",
        "  - 默认 greedy search，`num_beams` 不设置的话\n",
        "  - `do_sample`=False\n",
        "  - `max_length`: prompt + generation 的总长度\n",
        "  - `max_new_tokens`: generation 的长度\n",
        "  - 对于 `beam search`\n",
        "    - `num_beams`=5\n",
        "  - 控制重复性：`no_repeat_ngram_size`=2\n",
        "  - tracks which n-grams have been seen"
      ],
      "metadata": {
        "id": "dGsVmZ301G2u"
      }
    },
    {
      "cell_type": "markdown",
      "source": [
        "$$\n",
        "P(y|x) = P(y_1,y_2,...,y_t|\\mathcal x)\n",
        "= \\prod_{t=1}^{N} P(y_t|y_{<t},x) (y_{<t}=y_1,y_2,...,y_{t-1})\n",
        "$$\n",
        "$$\n",
        "\\log P(y|x) = \\sum_{t=1}^{N} \\log P(y_t|y_{<t},x)\n",
        "$$"
      ],
      "metadata": {
        "id": "m6-QNLbU1Ym6"
      }
    },
    {
      "cell_type": "code",
      "source": [
        "0.5**1024"
      ],
      "metadata": {
        "colab": {
          "base_uri": "https://localhost:8080/"
        },
        "id": "oRqSbVQV0unA",
        "outputId": "d7bc9d46-57f6-485c-d984-568bf16f8e86"
      },
      "execution_count": 40,
      "outputs": [
        {
          "output_type": "execute_result",
          "data": {
            "text/plain": [
              "5.562684646268003e-309"
            ]
          },
          "metadata": {},
          "execution_count": 40
        }
      ]
    },
    {
      "cell_type": "code",
      "source": [
        "1024*torch.log(torch.tensor(0.5))"
      ],
      "metadata": {
        "colab": {
          "base_uri": "https://localhost:8080/"
        },
        "id": "RsVSP9XQ2U9t",
        "outputId": "56645f7b-8787-4209-c22b-c9cdf74c6812"
      },
      "execution_count": 46,
      "outputs": [
        {
          "output_type": "execute_result",
          "data": {
            "text/plain": [
              "tensor(-709.7827)"
            ]
          },
          "metadata": {},
          "execution_count": 46
        }
      ]
    },
    {
      "cell_type": "code",
      "source": [
        "import torch.nn.functional as  F\n",
        "def log_probs_from_logits(logits, labels):\n",
        "    # (b, s, h), h == 50257\n",
        "    logp = F.log_softmax(logits, dim=-1)\n",
        "    logp_label = torch.gather(logp, 2, labels.unsqueeze(2)).squeeze(-1)\n",
        "    return logp_label\n",
        "def sequence_logprob(model, labels, prompt_len=0):\n",
        "    with torch.no_grad():\n",
        "        output = model(labels)\n",
        "        log_probs = log_probs_from_logits(output.logits[:, :-1, :], labels[:, 1:])\n",
        "        seq_log_prob = torch.sum(log_probs[:, prompt_len:])\n",
        "    return seq_log_prob.cpu().numpy()"
      ],
      "metadata": {
        "id": "r5b-dR9o2XaY"
      },
      "execution_count": 48,
      "outputs": []
    },
    {
      "cell_type": "code",
      "source": [
        "output_greedy = model.generate(input_ids, max_length=128, do_sample=False)\n",
        "# gen2 = model.generate(input_ids, max_new_tokens=128-input_ids[0].size(-1), do_sample=False)\n",
        "print(output_greedy.shape)\n",
        "print(tokenizer.decode(output_greedy[0]))"
      ],
      "metadata": {
        "colab": {
          "base_uri": "https://localhost:8080/"
        },
        "id": "HJA0au994aSd",
        "outputId": "40c32c7b-2e6b-434a-d132-91f111a023ca"
      },
      "execution_count": 51,
      "outputs": [
        {
          "output_type": "stream",
          "name": "stderr",
          "text": [
            "The attention mask and the pad token id were not set. As a consequence, you may observe unexpected behavior. Please pass your input's `attention_mask` to obtain reliable results.\n",
            "Setting `pad_token_id` to `eos_token_id`:50256 for open-end generation.\n"
          ]
        },
        {
          "output_type": "stream",
          "name": "stdout",
          "text": [
            "torch.Size([1, 128])\n",
            "A long long time ago,  I was a young man, and I was a very good student. I was a good student, and I was a very good student. I was a very good student, and I was a very good student. I was a very good student, and I was a very good student. I was a very good student, and I was a very good student. I was a very good student, and I was a very good student. I was a very good student, and I was a very good student. I was a very good student, and I was a very good student. I was\n"
          ]
        }
      ]
    },
    {
      "cell_type": "code",
      "source": [
        "logp = sequence_logprob(model, output_greedy, prompt_len=len(input_ids[0]))\n",
        "print(tokenizer.decode(output_greedy[0]))\n",
        "logp"
      ],
      "metadata": {
        "colab": {
          "base_uri": "https://localhost:8080/"
        },
        "id": "PqDcTnB52lee",
        "outputId": "d0561e57-bc6e-4185-db1e-27592e964d54"
      },
      "execution_count": 52,
      "outputs": [
        {
          "output_type": "stream",
          "name": "stdout",
          "text": [
            "A long long time ago,  I was a young man, and I was a very good student. I was a good student, and I was a very good student. I was a very good student, and I was a very good student. I was a very good student, and I was a very good student. I was a very good student, and I was a very good student. I was a very good student, and I was a very good student. I was a very good student, and I was a very good student. I was a very good student, and I was a very good student. I was\n"
          ]
        },
        {
          "output_type": "execute_result",
          "data": {
            "text/plain": [
              "array(-51.020016, dtype=float32)"
            ]
          },
          "metadata": {},
          "execution_count": 52
        }
      ]
    },
    {
      "cell_type": "code",
      "source": [
        "output_beam = model.generate(input_ids, max_length=128, num_beams=5, do_sample=False)\n",
        "logp = sequence_logprob(model, output_beam, prompt_len=len(input_ids[0]))\n",
        "print(tokenizer.decode(output_beam[0]))\n",
        "logp"
      ],
      "metadata": {
        "colab": {
          "base_uri": "https://localhost:8080/"
        },
        "id": "RSQ9Jr-54OVs",
        "outputId": "02775d3d-a50e-4fd7-e713-ec4465f9106a"
      },
      "execution_count": 53,
      "outputs": [
        {
          "output_type": "stream",
          "name": "stderr",
          "text": [
            "The attention mask and the pad token id were not set. As a consequence, you may observe unexpected behavior. Please pass your input's `attention_mask` to obtain reliable results.\n",
            "Setting `pad_token_id` to `eos_token_id`:50256 for open-end generation.\n"
          ]
        },
        {
          "output_type": "stream",
          "name": "stdout",
          "text": [
            "A long long time ago,  in a galaxy far, far away, there was a young man who had a dream. He wanted to be a hero. He wanted to save the galaxy. He wanted to be a hero. He wanted to save the galaxy. He wanted to be a hero. He wanted to save the galaxy. He wanted to be a hero. He wanted to save the galaxy. He wanted to be a hero. He wanted to save the galaxy. He wanted to be a hero. He wanted to save the galaxy. He wanted to be a hero. He wanted to save the galaxy. He wanted to be\n"
          ]
        },
        {
          "output_type": "execute_result",
          "data": {
            "text/plain": [
              "array(-44.62355, dtype=float32)"
            ]
          },
          "metadata": {},
          "execution_count": 53
        }
      ]
    },
    {
      "cell_type": "code",
      "source": [
        "output_beam = model.generate(input_ids, max_length=128, num_beams=5, do_sample=False,no_repeat_ngram_size=2)\n",
        "logp = sequence_logprob(model, output_beam, prompt_len=len(input_ids[0]))\n",
        "print(tokenizer.decode(output_beam[0]))\n",
        "logp"
      ],
      "metadata": {
        "colab": {
          "base_uri": "https://localhost:8080/"
        },
        "id": "eGAi5NlI44fK",
        "outputId": "a67e8aa7-5564-485b-9ae6-e050353b4500"
      },
      "execution_count": 54,
      "outputs": [
        {
          "output_type": "stream",
          "name": "stderr",
          "text": [
            "The attention mask and the pad token id were not set. As a consequence, you may observe unexpected behavior. Please pass your input's `attention_mask` to obtain reliable results.\n",
            "Setting `pad_token_id` to `eos_token_id`:50256 for open-end generation.\n"
          ]
        },
        {
          "output_type": "stream",
          "name": "stdout",
          "text": [
            "A long long time ago,  in a galaxy far, far away, there was a young man who had a dream. He wanted to be a hero, to save the galaxy from the evil empire known as the Empire. His name was Luke Skywalker, and he was going to become a Jedi Knight. But he had no idea what that meant, or how to do it. So he went to the Jedi Temple on Coruscant and asked for help. The Jedi Council told him that he would need to learn the ways of the Force, but he didn't know how. They gave him a lightsaber, which he used to fight\n"
          ]
        },
        {
          "output_type": "execute_result",
          "data": {
            "text/plain": [
              "array(-130.4778, dtype=float32)"
            ]
          },
          "metadata": {},
          "execution_count": 54
        }
      ]
    },
    {
      "cell_type": "code",
      "source": [],
      "metadata": {
        "id": "M-ZXVTdZ5IrR"
      },
      "execution_count": null,
      "outputs": []
    }
  ]
}