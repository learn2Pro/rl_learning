{
  "nbformat": 4,
  "nbformat_minor": 0,
  "metadata": {
    "colab": {
      "provenance": [],
      "gpuType": "A100",
      "authorship_tag": "ABX9TyPIDG04GGo6nvdtFcrK7QU0",
      "include_colab_link": true
    },
    "kernelspec": {
      "name": "python3",
      "display_name": "Python 3"
    },
    "language_info": {
      "name": "python"
    },
    "accelerator": "GPU"
  },
  "cells": [
    {
      "cell_type": "markdown",
      "metadata": {
        "id": "view-in-github",
        "colab_type": "text"
      },
      "source": [
        "<a href=\"https://colab.research.google.com/github/learn2Pro/rl_learning/blob/master/llm/ddp_toy_example.ipynb\" target=\"_parent\"><img src=\"https://colab.research.google.com/assets/colab-badge.svg\" alt=\"Open In Colab\"/></a>"
      ]
    },
    {
      "cell_type": "code",
      "execution_count": 4,
      "metadata": {
        "id": "Cq42d3cY_Ryg"
      },
      "outputs": [],
      "source": [
        "import os\n",
        "import torch\n",
        "import torch.nn.functional as F\n",
        "from torch.utils.data import Dataset, DataLoader"
      ]
    },
    {
      "cell_type": "code",
      "source": [
        "import torch.multiprocessing as mp\n",
        "from torch.utils.data.distributed import DistributedSampler\n",
        "from torch.nn.parallel import DistributedDataParallel as DDP\n",
        "from torch.distributed import init_process_group, destroy_process_group"
      ],
      "metadata": {
        "id": "7o7Ya-VN_efX"
      },
      "execution_count": 5,
      "outputs": []
    },
    {
      "cell_type": "markdown",
      "source": [
        "## basics\n",
        "- All to one：reduce； one to All：broadcast\n",
        "- rank：[0, world_size-1]\n"
      ],
      "metadata": {
        "id": "6MpLoiMO__y7"
      }
    },
    {
      "cell_type": "code",
      "source": [
        "world_size = torch.cuda.device_count()\n",
        "world_size"
      ],
      "metadata": {
        "colab": {
          "base_uri": "https://localhost:8080/"
        },
        "id": "FeDEZEVw_yyf",
        "outputId": "cd1c4b1c-f80d-4b04-b3b1-7d9b431e8a55"
      },
      "execution_count": 6,
      "outputs": [
        {
          "output_type": "execute_result",
          "data": {
            "text/plain": [
              "1"
            ]
          },
          "metadata": {},
          "execution_count": 6
        }
      ]
    },
    {
      "cell_type": "code",
      "source": [
        "def ddp_setup(rank, world_size):\n",
        "  \"\"\"\n",
        "  Args:\n",
        "  rank: Unique identifier of each process\n",
        "  world_size: Total number of processes\n",
        "  \"\"\"\n",
        "  # rank 0 process\n",
        "  os.environ['MASTER_ADDR'] = 'localhost'\n",
        "  os.environ['MASTER_PORT'] = '12355'\n",
        "  init_process_group(backend='ncc1',rank=rank,world_size=world_size)\n",
        "  torch.cuda.set_device(rank)"
      ],
      "metadata": {
        "id": "vHlRzZv8ADg2"
      },
      "execution_count": 8,
      "outputs": []
    },
    {
      "cell_type": "markdown",
      "source": [
        "## custom trainer"
      ],
      "metadata": {
        "id": "nqkDNqK4Apmb"
      }
    },
    {
      "cell_type": "code",
      "source": [
        "class Trainer:\n",
        "  def __init__(self,\n",
        "               model:torch.nn.Module,\n",
        "               train_dataloader: DataLoader,\n",
        "               optimizer: torch.optim.Optimizer,\n",
        "               gpu_id:int\n",
        "               ) -> None:\n",
        "    self.gpu_id = gpu_id\n",
        "    self.model = model.to(gpu_id)\n",
        "    self.train_dataloader = train_dataloader\n",
        "    self.optimizer = optimizer\n",
        "    self.model = DDP(model,device_ids=[gpu_id])\n",
        "\n",
        "  def __run_batch(self,xs,ys):\n",
        "    self.optimizer.zero_grad()\n",
        "    output = self.model(xs)\n",
        "    loss = F.cross_entropy(output, ys)\n",
        "    loss.backward()\n",
        "    self.optimizer.step()\n",
        "\n",
        "  def _run_epoch(self, epoch):\n",
        "    batch_size = len(next(iter(self.train_dataloader))[0])\n",
        "    print(f'[GPU: {self.gpu_id}] Epoch: {epoch} | Batchsize: {batch_size} | Steps: {len(self.train_dataloader)}')\n",
        "    self.train_dataloader.sampler.set_epoch(epoch)\n",
        "    for xs, ys in self.train_dataloader:\n",
        "      xs = xs.to(self.gpu_id)\n",
        "      ys = ys.to(self.gpu_id)\n",
        "      self._run_batch(xs, ys)\n",
        "\n",
        "  def train(self,max_epoch:int):\n",
        "    for epoch in range(max_epoch):\n",
        "      self._run_epoch(epoch)\n"
      ],
      "metadata": {
        "id": "RT7WMocFAq1G"
      },
      "execution_count": 14,
      "outputs": []
    },
    {
      "cell_type": "markdown",
      "source": [
        "## pipeline"
      ],
      "metadata": {
        "id": "798sojBSCX1R"
      }
    },
    {
      "cell_type": "code",
      "source": [
        "class MyTrainDataset(Dataset):\n",
        "\n",
        "  def __init__(self, size):\n",
        "    self.size = size\n",
        "    self.data = [(torch.rand(20),torch.rand(1)) for _ in range(size)]\n",
        "\n",
        "  def __len__(self):\n",
        "    return self.size\n",
        "  def __getitem__(self, index):\n",
        "    return self.data[index]"
      ],
      "metadata": {
        "id": "_yuh_uWoCZDy"
      },
      "execution_count": 17,
      "outputs": []
    },
    {
      "cell_type": "code",
      "source": [
        "train_dataset = MyTrainDataset(2048)"
      ],
      "metadata": {
        "id": "SEyi8ikLCzcG"
      },
      "execution_count": 18,
      "outputs": []
    },
    {
      "cell_type": "code",
      "source": [
        "train_dataset[0]"
      ],
      "metadata": {
        "colab": {
          "base_uri": "https://localhost:8080/"
        },
        "id": "sdtYA1QbC9t3",
        "outputId": "a6b185f9-1887-4f7e-b3a7-39490dd45a9c"
      },
      "execution_count": 19,
      "outputs": [
        {
          "output_type": "execute_result",
          "data": {
            "text/plain": [
              "(tensor([0.8135, 0.9584, 0.3655, 0.7456, 0.4496, 0.4581, 0.1562, 0.7645, 0.9840,\n",
              "         0.8844, 0.4045, 0.5310, 0.8722, 0.1511, 0.6923, 0.5194, 0.1092, 0.4003,\n",
              "         0.3517, 0.5437]),\n",
              " tensor([0.4592]))"
            ]
          },
          "metadata": {},
          "execution_count": 19
        }
      ]
    },
    {
      "cell_type": "code",
      "source": [
        "def main(rank:int, world_size: int, max_epochs:int, batch_size:int):\n",
        "  ddp_setup(rank, world_size)\n",
        "\n",
        "  train_dataset = MyTrainDataset(2048)\n",
        "  train_dataloader = DataLoader(train_dataset,\n",
        "                                batch_size=batch_size,\n",
        "                                pin_memory=True,\n",
        "                                shuffle=True,\n",
        "                                sampler = DistributedSampler(train_dataset)\n",
        "                                )\n",
        "  model = torch.nn.Linear(20, 1)\n",
        "  optimizer = torch.optim.SGD(model.parameters(), lr=1e-3)\n",
        "\n",
        "  trainer = Trainer(model=model, gpu_id=rank, optimizer=optimizer, train_dataloader=train_dataloader)\n",
        "  trainer.train(max_epochs)\n",
        "\n",
        "  destroy_process_group()"
      ],
      "metadata": {
        "id": "DGHnKD8lC-35"
      },
      "execution_count": 22,
      "outputs": []
    },
    {
      "cell_type": "code",
      "source": [
        "world_size = torch.cuda.device_count()\n",
        "world_size"
      ],
      "metadata": {
        "colab": {
          "base_uri": "https://localhost:8080/"
        },
        "id": "z-kxW_g1DZo8",
        "outputId": "105081b4-99f1-49c4-f246-94cbf5ed15ff"
      },
      "execution_count": 24,
      "outputs": [
        {
          "output_type": "execute_result",
          "data": {
            "text/plain": [
              "1"
            ]
          },
          "metadata": {},
          "execution_count": 24
        }
      ]
    },
    {
      "cell_type": "code",
      "source": [],
      "metadata": {
        "id": "XHSBnP3cD4F8"
      },
      "execution_count": null,
      "outputs": []
    }
  ]
}