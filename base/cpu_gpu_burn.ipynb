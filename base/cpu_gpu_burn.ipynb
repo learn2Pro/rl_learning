{
 "cells": [
  {
   "attachments": {},
   "cell_type": "markdown",
   "metadata": {},
   "source": [
    "## 1. cpu burn\n",
    "- https://patrickmn.com/projects/cpuburn/\n",
    "- 解压直接 ./cpuburn;"
   ]
  },
  {
   "cell_type": "code",
   "execution_count": 3,
   "metadata": {},
   "outputs": [
    {
     "name": "stdout",
     "output_type": "stream",
     "text": [
      "--2023-06-21 21:37:57--  https://patrickmn.com/projects/cpuburn/\n",
      "Connecting to 127.0.0.1:12639... connected.\n",
      "Proxy request sent, awaiting response... 200 OK\n",
      "Length: 5989 (5.8K) [text/html]\n",
      "Saving to: ‘index.html’\n",
      "\n",
      "index.html          100%[===================>]   5.85K  --.-KB/s    in 0s      \n",
      "\n",
      "2023-06-21 21:37:59 (816 MB/s) - ‘index.html’ saved [5989/5989]\n",
      "\n"
     ]
    }
   ],
   "source": [
    "!wget https://patrickmn.com/projects/cpuburn/"
   ]
  },
  {
   "cell_type": "code",
   "execution_count": null,
   "metadata": {},
   "outputs": [],
   "source": []
  }
 ],
 "metadata": {
  "kernelspec": {
   "display_name": "rl",
   "language": "python",
   "name": "python3"
  },
  "language_info": {
   "codemirror_mode": {
    "name": "ipython",
    "version": 3
   },
   "file_extension": ".py",
   "mimetype": "text/x-python",
   "name": "python",
   "nbconvert_exporter": "python",
   "pygments_lexer": "ipython3",
   "version": "3.10.11"
  },
  "orig_nbformat": 4
 },
 "nbformat": 4,
 "nbformat_minor": 2
}
